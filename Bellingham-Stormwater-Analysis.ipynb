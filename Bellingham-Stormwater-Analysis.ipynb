{
 "cells": [
  {
   "cell_type": "markdown",
   "id": "d35e6a9f-a291-4224-9688-447615600b70",
   "metadata": {},
   "source": [
    "# Bellingham Stormwater Monitoring Analysis"
   ]
  },
  {
   "cell_type": "code",
   "execution_count": null,
   "id": "2efaacb7-e7f5-416b-aba4-21472e9e4c4e",
   "metadata": {},
   "outputs": [],
   "source": [
    "import pandas as pd\n",
    "import numpy as np\n",
    "import matplotlib.pyplot as plt"
   ]
  },
  {
   "cell_type": "code",
   "execution_count": null,
   "id": "7c8ad8ce-233c-4526-80cc-e025ec0ae17d",
   "metadata": {},
   "outputs": [],
   "source": [
    "from IPython.display import display, HTML\n",
    "\n",
    "# Define the CSS to set the height of the output container\n",
    "css_style = \"\"\"\n",
    "<style>\n",
    "    div.output_area {\n",
    "        height: 800px; /* Adjust this value based on your needs */\n",
    "        overflow-y: auto; /* Vertical scroll */\n",
    "        overflow-x: auto; /* Horizontal scroll */\n",
    "    }\n",
    "</style>\n",
    "\"\"\"\n",
    "# Apply the CSS style to the notebook\n",
    "display(HTML(css_style))\n",
    "\n",
    "pd.set_option('display.max_rows', 1000) \n",
    "pd.set_option('display.max_columns', 1000) "
   ]
  },
  {
   "cell_type": "markdown",
   "id": "db7fe5d7-3847-4156-9d9f-2003faa72280",
   "metadata": {},
   "source": [
    "## TODO\n",
    "1. Review the other site data as well as Bellingham\n",
    "2. Determine treatment of duplicates\n",
    "3. Add F chart to show variability.  Review F-Chart calcs from stats book.  Not std\n",
    "4. Research how e.coli data is collected\n",
    "5. What is variability with time and incubation?\n",
    "6. Verify that all these tests were taken with similar methods (R-Card, lab, ...).  Comments refer to counts on some measurements which allude to R-Card"
   ]
  },
  {
   "cell_type": "markdown",
   "id": "70262b0e-7722-4cc6-8405-5c8ab594e330",
   "metadata": {},
   "source": [
    "\n",
    "![Bacteria](e.coli-sampling-protocol.png) "
   ]
  },
  {
   "cell_type": "code",
   "execution_count": null,
   "id": "d3ab0f05-6247-4f52-bd14-998e42696618",
   "metadata": {},
   "outputs": [],
   "source": [
    "data = pd.read_csv('Salish Sea Stormwater Monitoring Database-20240528.csv')"
   ]
  },
  {
   "cell_type": "markdown",
   "id": "e629947f-f280-4f33-9175-68f02bdce306",
   "metadata": {},
   "source": [
    "print(data.columns)"
   ]
  },
  {
   "cell_type": "markdown",
   "id": "6a2c7660-d0fc-44fb-9391-5a99ce929ffb",
   "metadata": {},
   "source": [
    "## Clean"
   ]
  },
  {
   "cell_type": "code",
   "execution_count": null,
   "id": "df07599c-304a-4410-8578-4ebc9518cde8",
   "metadata": {},
   "outputs": [],
   "source": [
    "# Remove 'Unnamed' columns\n",
    "data = data.loc[:, ~data.columns.str.contains('^Unnamed')].dropna(how='all')\n",
    "data"
   ]
  },
  {
   "cell_type": "code",
   "execution_count": null,
   "id": "ced47e32-5dc8-46ef-84ba-98044e1d52aa",
   "metadata": {},
   "outputs": [],
   "source": [
    "# Identify duplicates\n",
    "duplicates = data[data.duplicated(keep=False)]\n",
    "data['is_duplicate'] = cleaned_data.duplicated(subset=['Site ID', 'Sample Date'], keep=False)\n",
    "\n",
    "#display(data[data['is_duplicate'] == True])\n",
    "data[data['is_duplicate'] == True]"
   ]
  },
  {
   "cell_type": "code",
   "execution_count": null,
   "id": "29e659d6-7ad3-4ccc-8859-e03b7628eb93",
   "metadata": {},
   "outputs": [],
   "source": [
    "data.columns"
   ]
  },
  {
   "cell_type": "code",
   "execution_count": null,
   "id": "398ccda6-c3fb-4a95-b99e-df7a06e02f90",
   "metadata": {},
   "outputs": [],
   "source": [
    "# Process dates and relevant columns for E. coli and Enterococcus\n",
    "data['Sample Date'] = pd.to_datetime(data['Sample Date'], errors='coerce', format='%m-%d-%y')\n",
    "\n",
    "ecoli = data[['Sample Date', 'Site ID', 'E. Coli', 'Comments', 'is_duplicate']]\n",
    "\n",
    "# Extract the month for aggregation in ecoli\n",
    "ecoli['Month'] = ecoli['Sample Date'].dt.to_period('M')  # Convert date to month period for grouping\n",
    "\n",
    "enterococcus = data[['Sample Date', 'Site ID', 'Enterococcus', 'Comments', 'is_duplicate']]\n",
    "# Extract the month for aggregation in ecoli\n",
    "enterococcus['Month'] = enterococcus['Sample Date'].dt.to_period('M')  # Convert date to month period for grouping\n",
    "\n",
    "# Sort data by date\n",
    "ecoli = ecoli.sort_values('Sample Date')\n",
    "enterococcus = enterococcus.sort_values('Sample Date')"
   ]
  },
  {
   "cell_type": "code",
   "execution_count": null,
   "id": "21dcad2e-202c-4e85-8f08-1ffc8c01b7a4",
   "metadata": {},
   "outputs": [],
   "source": [
    "ecoli.site_id = 'Bennett Ave'"
   ]
  },
  {
   "cell_type": "code",
   "execution_count": null,
   "id": "aac48eb1-2e4e-46c8-99d7-362731492962",
   "metadata": {},
   "outputs": [],
   "source": [
    "enterococcus"
   ]
  },
  {
   "cell_type": "code",
   "execution_count": null,
   "id": "e6c8661c-591d-4744-a300-afdfabc20245",
   "metadata": {},
   "outputs": [],
   "source": [
    "fig, ax = plt.subplots(figsize=(16, 8))\n",
    "for site_id, group in ecoli.groupby('Site ID'):\n",
    "    ax.plot(group['Sample Date'], group['E. Coli'], marker='o', linestyle='-', label=f'Site {site_id}')\n",
    "\n",
    "ax.set_title('Raw E. coli Readings by Site Over Time')\n",
    "ax.set_xlabel('Sample Date')\n",
    "ax.set_ylabel('E. Coli (cfu/100ml)')\n",
    "ax.axhline(y=310, color='red', linestyle='--', label='Threshold (310 cfu/100ml)')\n",
    "ax.legend(title='Site ID')\n",
    "plt.xticks(rotation=45)  # Rotate x-axis labels for better visibility\n",
    "plt.tight_layout()\n",
    "plt.show()\n",
    "\n"
   ]
  },
  {
   "cell_type": "markdown",
   "id": "12409363-89f8-49bc-ba41-136231417d98",
   "metadata": {},
   "source": [
    "Bennett Ave Data has mnay outliers "
   ]
  },
  {
   "cell_type": "code",
   "execution_count": null,
   "id": "37ca19c0-9082-4a87-8c40-bc5dfa65aebe",
   "metadata": {},
   "outputs": [],
   "source": [
    "# Create a figure with two subplots (ax for raw readings and ax2 for variability F-chart)\n",
    "fig, (ax, ax2) = plt.subplots(nrows=2, ncols=1, figsize=(16, 16), sharex=True)\n",
    "\n",
    "# Plotting E. Coli readings by Site\n",
    "for site_id, group in ecoli.groupby('Site ID'):\n",
    "    ax.plot(group['Sample Date'], group['E. Coli'], marker='o', linestyle='-', label=f'Site {site_id}')\n",
    "\n",
    "ax.set_title('Raw E. coli Readings by Site Over Time')\n",
    "ax.set_ylabel('E. Coli (cfu/100ml)')\n",
    "ax.axhline(y=310, color='red', linestyle='--', label='Threshold (310 cfu/100ml)')\n",
    "ax.legend(title='Site ID')\n",
    "plt.xticks(rotation=45)  # Rotate x-axis labels for better visibility\n",
    "\n",
    "# Plotting F-chart of variability (Standard Deviation over time)\n",
    "# Calculating standard deviation for each date\n",
    "std_dev_by_date = ecoli.groupby('Sample Date')['E. Coli'].std()\n",
    "ax2.plot(std_dev_by_date.index, std_dev_by_date, marker='o', linestyle='-', color='green')\n",
    "\n",
    "# Plotting F-chart of variability (Standard Deviation over time) by Site ID\n",
    "\n",
    "#for site_id, group in ecoli.groupby('Site ID'):\n",
    "#    std_dev = group.groupby('Sample Date')['E. Coli'].std()\n",
    "#    ax2.plot(std_dev.index, std_dev, marker='o', linestyle='-', label=f'Site {site_id}')\n",
    "\n",
    "ax2.set_title('Standard Deviation of E. Coli Readings by Site Over Time')\n",
    "ax2.set_xlabel('Sample Date')\n",
    "ax2.set_ylabel('Standard Deviation (cfu/100ml)')\n",
    "ax2.legend(title='Site ID')\n",
    "\n",
    "plt.tight_layout()\n",
    "plt.show()"
   ]
  },
  {
   "cell_type": "code",
   "execution_count": null,
   "id": "0bc55e4d-7a92-41db-b781-379aedcb29c6",
   "metadata": {},
   "outputs": [],
   "source": [
    "ecoli[ecoli['Site ID'] == 'Bennett Ave']"
   ]
  },
  {
   "cell_type": "code",
   "execution_count": null,
   "id": "2243ea39-740d-496c-acb3-a3238bcf5efd",
   "metadata": {},
   "outputs": [],
   "source": [
    "# Aggregate data for plotting\n",
    "ecoli_aggregated_mean = ecoli.groupby(['Month', 'Site ID'])['E. Coli'].mean().unstack()\n",
    "ecoli_aggregated_std = ecoli.groupby(['Month', 'Site ID'])['E. Coli'].std().unstack()\n",
    "enterococcus_aggregated = enterococcus.groupby(['Month', 'Site ID'])['Enterococcus'].mean().unstack()"
   ]
  },
  {
   "cell_type": "code",
   "execution_count": null,
   "id": "d9faa762-146f-491b-9cb4-0713cad8446a",
   "metadata": {},
   "outputs": [],
   "source": [
    "ecoli_aggregated_mean\n",
    "#ecoli_aggregated[ecoli_aggregated['Site ID'] == 'Bennett Ave']"
   ]
  },
  {
   "cell_type": "code",
   "execution_count": null,
   "id": "3efb6d45-5ac6-4d6e-867c-38d39ea49952",
   "metadata": {},
   "outputs": [],
   "source": [
    "ecoli_threshold = 310\n",
    "enterococcus_threshold = 500"
   ]
  },
  {
   "cell_type": "code",
   "execution_count": null,
   "id": "c693d489-ccb4-4120-83f0-a55b2dcee23f",
   "metadata": {},
   "outputs": [],
   "source": [
    "fig, ax = plt.subplots(2, 1, figsize=(16, 12), sharex=True)\n",
    "ecoli_aggregated_mean.clip(upper=5000).plot(ax=ax[0], marker='o', linestyle='-', title='E. Coli Readings by Site Over Time with Clamped Values')\n",
    "ax[0].set_ylabel('E. Coli (cfu/100ml)')\n",
    "ax[0].axhline(y=ecoli_threshold, color='red', linestyle='--', label='E. Coli Threshold (cfu/100ml)')\n",
    "ecoli_aggregated_std.plot(ax=ax[1], marker='o', linestyle='-', title='Std Dev of E. Coli Readings')"
   ]
  },
  {
   "cell_type": "code",
   "execution_count": null,
   "id": "61b60216-ea7f-442c-98e8-60ad61c93c2f",
   "metadata": {},
   "outputs": [],
   "source": [
    "# Plotting the control charts\n",
    "fig, ax = plt.subplots(2, 1, figsize=(16, 12), sharex=True)\n",
    "ecoli_aggregated_mean.clip(upper=5000).plot(ax=ax[0], marker='o', linestyle='-', title='E. Coli Readings by Site Over Time with Clamped Values')\n",
    "ax[0].set_ylabel('E. Coli (cfu/100ml)')\n",
    "ax[0].axhline(y=ecoli_threshold, color='red', linestyle='--', label='E. Coli Threshold (cfu/100ml)')\n",
    "enterococcus_aggregated.plot(ax=ax[1], marker='o', linestyle='-', title='Enterococcus Readings by Site Over Time')\n",
    "ax[1].set_ylabel('Enterococcus (cfu/100ml)')\n",
    "ax[1].axhline(y=enterococcus_threshold, color='red', linestyle='--', label='Enterococcus Threshold (cfu/100ml)')\n",
    "plt.tight_layout()\n",
    "plt.show()"
   ]
  },
  {
   "cell_type": "code",
   "execution_count": null,
   "id": "e1cc6407-2b32-4d50-98f7-5b0c758e563e",
   "metadata": {},
   "outputs": [],
   "source": []
  },
  {
   "cell_type": "code",
   "execution_count": null,
   "id": "6a1d7536-8fc6-4f3e-ba08-b7a89f5da376",
   "metadata": {},
   "outputs": [],
   "source": [
    "ecoli_aggregated_mean = ecoli_aggregated[ecoli_aggregated.index >= '2023-01']\n",
    "enterococcus_aggregated_mean = enterococcus_aggregated[enterococcus_aggregated.index >= '2023-01']\n",
    "\n",
    "fig, ax = plt.subplots(2, 1, figsize=(16, 12), sharex=True)\n",
    "ecoli_aggregated_mean.clip(upper=5000).plot(ax=ax[0], marker='o', linestyle='-', title='E. Coli Readings by Site Over Time')\n",
    "ax[0].set_ylabel('E. Coli (cfu/100ml)')\n",
    "ax[0].axhline(y=ecoli_threshold, color='red', linestyle='--', label='E. Coli Threshold (cfu/100ml)')\n",
    "enterococcus_aggregated.plot(ax=ax[1], marker='o', linestyle='-', title='Enterococcus Readings by Site Over Time')\n",
    "ax[1].set_ylabel('Enterococcus (cfu/100ml)')\n",
    "ax[1].axhline(y=enterococcus_threshold, color='red', linestyle='--', label='Enterococcus Threshold (cfu/100ml)')\n",
    "\n",
    "plt.tight_layout()\n",
    "plt.show()"
   ]
  },
  {
   "cell_type": "code",
   "execution_count": null,
   "id": "96dacf1d-82b9-40ec-be7d-0e0004bfd82e",
   "metadata": {},
   "outputs": [],
   "source": []
  },
  {
   "cell_type": "code",
   "execution_count": null,
   "id": "a4f78aec-64b0-4ca8-8123-a849d028b572",
   "metadata": {},
   "outputs": [],
   "source": [
    "# Generate histograms\n",
    "fig, ax = plt.subplots(figsize=(12, 8))\n",
    "colors = plt.cm.viridis(np.linspace(0, 1, len(ecoli_aggregated.columns)))\n",
    "\n",
    "for (site, values), color in zip(ecoli_aggregated.items(), colors):\n",
    "    ax.hist(values.dropna(), bins=20, color=color, alpha=0.6, edgecolor='black', label=site)\n",
    "\n",
    "ax.axvline(x=ecoli_threshold, color='red', linestyle='--', label='Threshold (310 cfu/100ml)')\n",
    "ax.set_title('E. Coli Distribution Across Sites')\n",
    "ax.set_xlabel('E. Coli (cfu/100ml)')\n",
    "ax.set_ylabel('Frequency')\n",
    "ax.legend(title='Site ID')\n",
    "plt.show()"
   ]
  },
  {
   "cell_type": "code",
   "execution_count": null,
   "id": "affb6044-b044-4378-a956-151f61271684",
   "metadata": {},
   "outputs": [],
   "source": [
    "# Calculate exceedances for E. coli\n",
    "ecoli_exceedances = ecoli[ecoli['E. Coli'] > ecoli_threshold]\n",
    "ecoli_exceedances['Year'] = ecoli_exceedances['Sample Date'].dt.year\n",
    "exceedance_counts = ecoli_exceedances.groupby(['Year', 'Site ID']).size().reset_index(name='Exceedance Count')\n",
    "total_counts = ecoli.groupby([ecoli['Sample Date'].dt.year, 'Site ID']).size().reset_index(name='Total Readings')\n",
    "total_counts.rename(columns={'Sample Date': 'Year'}, inplace=True)\n",
    "exceedance_data = pd.merge(total_counts, exceedance_counts, on=['Year', 'Site ID'], how='left').fillna(0)\n",
    "exceedance_data['Exceedance Percentage'] = (exceedance_data['Exceedance Count'] / exceedance_data['Total Readings']) * 100\n",
    "\n",
    "print(exceedance_data)"
   ]
  },
  {
   "cell_type": "code",
   "execution_count": null,
   "id": "16f670d0-db9d-4677-9467-e1e1d25c45af",
   "metadata": {},
   "outputs": [],
   "source": []
  }
 ],
 "metadata": {
  "kernelspec": {
   "display_name": "Python 3 (ipykernel)",
   "language": "python",
   "name": "python3"
  },
  "language_info": {
   "codemirror_mode": {
    "name": "ipython",
    "version": 3
   },
   "file_extension": ".py",
   "mimetype": "text/x-python",
   "name": "python",
   "nbconvert_exporter": "python",
   "pygments_lexer": "ipython3",
   "version": "3.12.0"
  }
 },
 "nbformat": 4,
 "nbformat_minor": 5
}
