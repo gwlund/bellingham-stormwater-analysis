{
 "cells": [
  {
   "cell_type": "markdown",
   "id": "d35e6a9f-a291-4224-9688-447615600b70",
   "metadata": {},
   "source": [
    "# Bellingham Stormwater Monitoring Analysis"
   ]
  },
  {
   "cell_type": "code",
   "execution_count": 384,
   "id": "2efaacb7-e7f5-416b-aba4-21472e9e4c4e",
   "metadata": {},
   "outputs": [],
   "source": [
    "import pandas as pd\n",
    "import numpy as np\n",
    "import matplotlib.pyplot as plt"
   ]
  },
  {
   "cell_type": "markdown",
   "id": "49a0980b",
   "metadata": {},
   "source": [
    "## Virtual Env Setup\n",
    "\n",
    "To activate the virtual environment and resolve the modules\n",
    "1. Create virtual env (done)\n",
    "2. Open terminal tab\n",
    "3. source venv/bin/activate\n",
    "4. Verify that (venv) prefix in terminal window\n",
    "5. pip install jupyter\n",
    "6. pip install <modules>\n",
    "7. pip list | grep <module> to check they are installed\n",
    "8. Add the virtual env as a juptyer kernel 'python -m ipykernel install --user --name=venv --display-name \"Python (venv)\"'\n",
    "9. Restart VS Code and Select the correct Jupyter kernel\n",
    "10. Click the kernel selector (top right)\n",
    "11. Select an other kernel and select Python Environments\n",
    "12. Select 'venv (Python 3.13.2)' kernel"
   ]
  },
  {
   "cell_type": "code",
   "execution_count": null,
   "id": "7c8ad8ce-233c-4526-80cc-e025ec0ae17d",
   "metadata": {},
   "outputs": [],
   "source": [
    "from IPython.display import display, HTML\n",
    "\n",
    "# Define the CSS to set the height of the output container\n",
    "css_style = \"\"\"\n",
    "<style>\n",
    "    div.output_area {\n",
    "        height: 800px; /* Adjust this value based on your needs */\n",
    "        overflow-y: auto; /* Vertical scroll */\n",
    "        overflow-x: auto; /* Horizontal scroll */\n",
    "    }\n",
    "</style>\n",
    "\"\"\"\n",
    "# Apply the CSS style to the notebook\n",
    "display(HTML(css_style))\n",
    "\n",
    "pd.set_option('display.max_rows', 1000) \n",
    "pd.set_option('display.max_columns', 1000) "
   ]
  },
  {
   "cell_type": "markdown",
   "id": "db7fe5d7-3847-4156-9d9f-2003faa72280",
   "metadata": {},
   "source": [
    "## TODO\n",
    "1. Review the other site data as well as Bellingham\n",
    "2. Determine treatment of duplicates (DONE)\n",
    "3. Add F chart to show variability.  Review F-Chart calcs from stats book.  Not std\n",
    "4. Try altair plots (DONE)\n",
    "5. Research how e.coli data is collected\n",
    "6. What is variability with time and incubation?\n",
    "7. Verify that all these tests were taken with similar methods (R-Card, lab, ...).  Comments refer to counts on some measurements which allude to R-Card\n",
    "8. Convert to plots using Tidy dataset frame and not stack (plotly, or Altair) (DONE)\n",
    "9. Add column called is_exceedence and calculate counts (see below)\n",
    "10. Look into stormwater bacteria level modelling\n",
    "11. Investigate log-normal distribution for defects\n"
   ]
  },
  {
   "cell_type": "markdown",
   "id": "70262b0e-7722-4cc6-8405-5c8ab594e330",
   "metadata": {},
   "source": [
    "\n",
    "![Bacteria](e.coli-sampling-protocol.png) "
   ]
  },
  {
   "cell_type": "code",
   "execution_count": 386,
   "id": "d3ab0f05-6247-4f52-bd14-998e42696618",
   "metadata": {},
   "outputs": [],
   "source": [
    "#Original dataset provided by Kirsten McDade on May 28th 2024\n",
    "dataset1 = 'monitor_data/Salish Sea Stormwater Monitoring Database-20240528.csv'\n",
    "is_dataset1 = False\n",
    "\n",
    "#Updated dataset provided by Kirsten McDade on Oct 8th 2024\n",
    "dataset2 = 'monitor_data/Bellingham SW Data_ALL_20241008.csv'\n",
    "is_dataset2 = False\n",
    "\n",
    "#Updated dataset provided by Kirsten McDade on Feb 12th 2025\n",
    "dataset3 = 'monitor_data/Bellingham Stormwater Monitoring Data 20250412.csv'\n",
    "is_dataset3 = True\n",
    "\n",
    "data = pd.read_csv(dataset3)"
   ]
  },
  {
   "cell_type": "markdown",
   "id": "6a2c7660-d0fc-44fb-9391-5a99ce929ffb",
   "metadata": {},
   "source": [
    "## Clean raw data"
   ]
  },
  {
   "cell_type": "markdown",
   "id": "1eced75c",
   "metadata": {},
   "source": [
    "### Clean Dataset1 specific"
   ]
  },
  {
   "cell_type": "markdown",
   "id": "df07599c-304a-4410-8578-4ebc9518cde8",
   "metadata": {},
   "source": [
    "# Remove 'Unnamed' columns\n",
    "data = data.loc[:, ~data.columns.str.contains('^Unnamed')].dropna(how='all')\n",
    "\n",
    "# Remove rows with Nan in 'Sample Date' column\n",
    "data = data.dropna(subset=['Sample Date'])\n",
    "data = data.rename(columns={'E. Coli': 'E-Coli'}) #This column name causes data plotting weirdness\n",
    "\n",
    "data.head()"
   ]
  },
  {
   "cell_type": "markdown",
   "id": "096aae39",
   "metadata": {},
   "source": [
    "## Clean Dataset2 Specific"
   ]
  },
  {
   "cell_type": "code",
   "execution_count": null,
   "id": "b2e83720",
   "metadata": {},
   "outputs": [],
   "source": [
    "data = data.rename(columns={'Survey::Survey_Date': 'Sample Date'})\n",
    "data = data.rename(columns={'Survey::City': 'City'})\n",
    "data = data.rename(columns={'Outfall_ID': 'Site ID'})\n",
    "data = data.rename(columns={'E. coli at 100ml': 'E-Coli'})\n",
    "data = data.rename(columns={'Enterococcus at 100ml': 'Enterococcus'})\n",
    "\n",
    "#Dataset3 specific columns\n",
    "data = data.rename(columns={'Outfall List::latitude': 'Latitude'})\n",
    "data = data.rename(columns={'Outfall List::longitude': 'Longitude'})\n",
    "\n",
    "# Convert Sample Date to datetime\n",
    "data['Sample Date'] = pd.to_datetime(data['Sample Date'])\n",
    "#data['Sample Date'] = pd.to_datetime(data['Sample Date'], errors='coerce', format='%m-%d-%y')\n",
    "\n",
    "#Remove rows with NaN E-Coli values\n",
    "data = data.dropna(subset=['E-Coli'])\n",
    "\n",
    "data.dtypes\n",
    "data.describe()\n",
    "\n",
    "#data"
   ]
  },
  {
   "cell_type": "code",
   "execution_count": null,
   "id": "c3e63553",
   "metadata": {},
   "outputs": [],
   "source": [
    "#show unique site ids\n",
    "site_ids = data['Site ID'].unique()\n",
    "site_ids"
   ]
  },
  {
   "cell_type": "code",
   "execution_count": 389,
   "id": "65e714f9",
   "metadata": {},
   "outputs": [],
   "source": [
    "# Rename Site Id 'Cedar' to 'Cedar St'\n",
    "data['Site ID'] = data['Site ID'].replace('Cedar', 'Cedar St')"
   ]
  },
  {
   "cell_type": "code",
   "execution_count": null,
   "id": "ced47e32-5dc8-46ef-84ba-98044e1d52aa",
   "metadata": {},
   "outputs": [],
   "source": [
    "# Identify duplicates\n",
    "duplicates = data[data.duplicated(keep=False)]\n",
    "\n",
    "data['is_duplicate'] = data.duplicated(subset=['Site ID', 'Sample Date'], keep=False)\n",
    "\n",
    "# Remove rows with Nan in 'Sample Date' column\n",
    "#data = data.dropna(subset=['Sample Date'])\n",
    "\n",
    "data[data['is_duplicate'] == True].describe()\n",
    "#data[data['is_duplicate'] == True]\n",
    "#data"
   ]
  },
  {
   "cell_type": "code",
   "execution_count": 391,
   "id": "a09a1adb",
   "metadata": {},
   "outputs": [],
   "source": [
    "# Add a column called is_execeedence to identify if the E-Coli or Enterococcus values exceed the threshold\n",
    "bacteria_threshold = 310\n",
    "data['bacteria_threshold'] = bacteria_threshold\n",
    "\n",
    "data['is_exceedence'] = False\n",
    "data.loc[data['E-Coli'] > bacteria_threshold, 'is_exceedence'] = True\n",
    "\n",
    "if 'Enterococcus' in data.columns:\n",
    "    data.loc[data['Enterococcus'] > bacteria_threshold, 'is_exceedence'] = True"
   ]
  },
  {
   "cell_type": "code",
   "execution_count": null,
   "id": "29e659d6-7ad3-4ccc-8859-e03b7628eb93",
   "metadata": {},
   "outputs": [],
   "source": [
    "data.columns\n"
   ]
  },
  {
   "cell_type": "code",
   "execution_count": 393,
   "id": "398ccda6-c3fb-4a95-b99e-df7a06e02f90",
   "metadata": {},
   "outputs": [],
   "source": [
    "\n",
    "# dataset1 specific\n",
    "#ecoli = data[['Sample Date', 'Site ID', 'E-Coli', 'Comments', 'is_duplicate', 'is_exceedence', 'bacteria_threshold']].copy()\n",
    "\n",
    "# dataset2 dataset3 specific\n",
    "ecoli = data[['Sample Date', 'Site ID', 'E-Coli', 'is_duplicate', 'is_exceedence', 'bacteria_threshold', 'Latitude', 'Longitude']].copy()\n",
    "\n",
    "# Extract the month for aggregation in ecoli\n",
    "ecoli['Month'] = ecoli['Sample Date'].dt.to_period('M')  # Convert date to month period for grouping\n",
    "\n",
    "# Re-format the 'Month' column to a proper datetime format\n",
    "#ecoli['Month'] = pd.to_timestamp(ecoli['Month'])\n",
    "\n",
    "#dataset 1 specific\n",
    "#enterococcus = data[['Sample Date', 'Site ID', 'Enterococcus', 'Comments', 'is_duplicate', 'is_exceedence', 'bacteria_threshold']].copy()\n",
    "#dataset2 specific\n",
    "\n",
    "if 'Enterococcus' in data.columns:\n",
    "    enterococcus = data[['Sample Date', 'Site ID', 'Enterococcus', 'is_duplicate', 'is_exceedence', 'bacteria_threshold']].copy()\n",
    "\n",
    "    # Extract the month for aggregation in ecoli\n",
    "    enterococcus['Month'] = enterococcus['Sample Date'].dt.to_period('M')  # Convert date to month period for grouping\n",
    "    enterococcus = enterococcus.sort_values(['Sample Date', 'Site ID'])\n",
    "\n",
    "# Sort data by date\n",
    "ecoli = ecoli.sort_values(['Sample Date', 'Site ID'])\n",
    "\n",
    "#ecoli.dtypes\n",
    "#ecoli[ecoli['is_duplicate'] == True]\n",
    "#ecoli"
   ]
  },
  {
   "cell_type": "markdown",
   "id": "b053c894",
   "metadata": {},
   "source": []
  },
  {
   "cell_type": "markdown",
   "id": "35627f2c-8d80-454f-8f83-3961f75a34b4",
   "metadata": {},
   "source": [
    "Save Dataframe for use in GPT optimization"
   ]
  },
  {
   "cell_type": "code",
   "execution_count": 394,
   "id": "5d3c40d3-0aad-49d8-a0bf-28e97021be1a",
   "metadata": {},
   "outputs": [],
   "source": [
    "ecoli.to_csv(\"ecoli.csv\")"
   ]
  },
  {
   "cell_type": "code",
   "execution_count": 395,
   "id": "21dcad2e-202c-4e85-8f08-1ffc8c01b7a4",
   "metadata": {},
   "outputs": [],
   "source": [
    "ecoli.site_id = 'Bennett Ave'"
   ]
  },
  {
   "cell_type": "markdown",
   "id": "7fd5550f",
   "metadata": {},
   "source": [
    "## Clean Data"
   ]
  },
  {
   "cell_type": "code",
   "execution_count": 396,
   "id": "1bbc9d61-b8cc-4e64-832d-c4f44d3c3a0c",
   "metadata": {},
   "outputs": [],
   "source": [
    "\n",
    "ecoli_data_clean = ecoli.dropna(subset=['E-Coli']).copy()\n",
    "\n",
    "# Re-format the 'Month' column to a proper datetime format and then to string\n",
    "ecoli_data_clean['Month'] = ecoli_data_clean['Month'].dt.to_timestamp()\n",
    "\n",
    "ecoli_data_clean = ecoli_data_clean.sort_values(['Site ID',  'Sample Date'])\n",
    "\n",
    "# Remove rows where Site ID is 'G05-1002', 'G06-1001', or 'G11-1001'\n",
    "ecoli_data_clean = ecoli_data_clean[~ecoli_data_clean['Site ID'].isin(['G05-1002', 'G06-1001', 'G11-1001'])]\n",
    "\n",
    "#ecoli_data_clean[ecoli_data_clean['Month'] == '2021-09-01']\n",
    "#ecoli_data_clean"
   ]
  },
  {
   "cell_type": "code",
   "execution_count": null,
   "id": "ac608acd",
   "metadata": {},
   "outputs": [],
   "source": [
    "# Calculate exceedances for E. coli\n",
    "ecoli_exceedances = ecoli_data_clean[ecoli_data_clean['E-Coli'] > bacteria_threshold]\n",
    "ecoli_exceedances['Year'] = ecoli_exceedances['Month'].dt.year\n",
    "exceedance_counts = ecoli_exceedances.groupby(['Year', 'Site ID']).size().reset_index(name='Exceedance Count')\n",
    "\n",
    "total_counts = ecoli_data_clean.groupby([ecoli['Month'].dt.year, 'Site ID']).size().reset_index(name='Total Readings')\n",
    "total_counts.rename(columns={'Month': 'Year'}, inplace=True)\n",
    "exceedance_data = pd.merge(total_counts, exceedance_counts, on=['Year', 'Site ID'], how='left').fillna(0)\n",
    "exceedance_data['Exceedance Percentage'] = (exceedance_data['Exceedance Count'] / exceedance_data['Total Readings']) * 100\n",
    "\n",
    "exceedance_data"
   ]
  },
  {
   "cell_type": "code",
   "execution_count": null,
   "id": "3422fa00",
   "metadata": {},
   "outputs": [],
   "source": [
    "import scipy.stats as stats\n",
    "from matplotlib.ticker import MultipleLocator\n",
    "\n",
    "# Calculate statistics\n",
    "ecoli_stats = ecoli_data_clean['E-Coli'].dropna().describe(percentiles=[.25, .5, .75])\n",
    "median = ecoli_stats['50%']\n",
    "q1 = ecoli_stats['25%']\n",
    "q3 = ecoli_stats['75%']\n",
    "iqr = q3 - q1\n",
    "\n",
    "\n",
    "\n",
    "plt.show()\n",
    "\n",
    "#plot a box and whisker plot of the e-coli collumn of the ecoli_data_clean dataframe\n",
    "plt.figure(figsize=(10, 6))\n",
    "plt.boxplot(ecoli_data_clean['E-Coli'].dropna(), vert=True, patch_artist=True)\n",
    "plt.title('Box and Whisker Plot of E-Coli Levels')\n",
    "plt.xlabel('E-Coli')\n",
    "plt.ylabel('cfu/100ml')\n",
    "plt.ylim(0, 1000)  # Set y-axis limit\n",
    "plt.grid(True)\n",
    "\n",
    "# Annotate the plot with median, Q1, Q3, and IQR\n",
    "arrowprops = dict(facecolor='black', shrink=0.05, width=0.5, headwidth=4)\n",
    "plt.annotate(f'Median: {median:.2f}', xy=(1, median), xytext=(1.1, median),\n",
    "             arrowprops=arrowprops)\n",
    "plt.annotate(f'Q1: {q1:.2f}', xy=(1, q1), xytext=(1.1, q1),\n",
    "             arrowprops=arrowprops)\n",
    "plt.annotate(f'Q3: {q3:.2f}', xy=(1, q3), xytext=(1.1, q3),\n",
    "             arrowprops=arrowprops)\n",
    "plt.annotate(f'IQR: {iqr:.2f}', xy=(1, q3), xytext=(1.1, q3 + 50),\n",
    "             arrowprops=arrowprops)\n",
    "\n",
    "plt.show()\n",
    "\n",
    "#plot a box and whisker plot of the e-coli collumn of the ecoli_data_clean dataframe\n",
    "plt.figure(figsize=(10, 6))\n",
    "plt.boxplot(ecoli_data_clean['E-Coli'][ecoli_data_clean['E-Coli'] < 1000].dropna(), vert=True, patch_artist=True)\n",
    "plt.title('Box and Whisker Plot of E-Coli Levels')\n",
    "plt.xlabel('E-Coli')\n",
    "plt.ylabel('cfu/100ml')\n",
    "plt.grid(True)\n",
    "plt.show()\n",
    "\n",
    "# Plot a cumulative probability plot of the 'E-Coli' column\n",
    "plt.figure(figsize=(10, 6))\n",
    "stats.probplot(ecoli_data_clean['E-Coli'].dropna(), dist=\"norm\", plot=plt)\n",
    "plt.title('Cumulative Probability Plot of E-Coli Levels')\n",
    "plt.xlabel('Theoretical Quantiles')\n",
    "plt.ylabel('Ordered Values')\n",
    "plt.grid(True)\n",
    "plt.show()\n",
    "\n",
    "# Plot a cumulative probability plot of the filtered 'E-Coli' column\n",
    "plt.figure(figsize=(10, 6))\n",
    "stats.probplot(ecoli_data_clean['E-Coli'][ecoli_data_clean['E-Coli'] < 1000].dropna(), dist=\"norm\", plot=plt)\n",
    "plt.title('Cumulative Probability Plot of E-Coli Levels (Values > 1000)')\n",
    "plt.xlabel('Theoretical Quantiles')\n",
    "plt.ylabel('Ordered Values')\n",
    "plt.grid(True)\n",
    "plt.gca().yaxis.set_major_locator(MultipleLocator(500))  # Set y-axis grid interval to 100\n",
    "plt.show()\n",
    "\n",
    "# Plot a cumulative probability plot for log-normal distribution of the 'E-Coli' column\n",
    "plt.figure(figsize=(10, 6))\n",
    "stats.probplot(ecoli_data_clean['E-Coli'][ecoli_data_clean['E-Coli'] < 1000].dropna(), dist=\"lognorm\", sparams=(1,), plot=plt)\n",
    "plt.title('Log-Normal Probability Plot of E-Coli Levels')\n",
    "plt.xlabel('Theoretical Quantiles')\n",
    "plt.ylabel('Ordered Values')\n",
    "plt.grid(True)\n",
    "plt.show()"
   ]
  },
  {
   "cell_type": "code",
   "execution_count": null,
   "id": "678aca26",
   "metadata": {},
   "outputs": [],
   "source": [
    "print(ecoli_data_clean.describe())\n",
    "print(ecoli_data_clean['E-Coli'][ecoli_data_clean['E-Coli'] < 1000].dropna().describe())"
   ]
  },
  {
   "cell_type": "markdown",
   "id": "32cc2888",
   "metadata": {},
   "source": [
    "## Filter and Aggregate Data\n",
    "Concerntrate on recent data > 2021\n",
    "\n",
    "Remove outliers which skew the baseline"
   ]
  },
  {
   "cell_type": "markdown",
   "id": "4d267aeb",
   "metadata": {},
   "source": [
    "Aggregate data for the same month using geometric mean"
   ]
  },
  {
   "cell_type": "code",
   "execution_count": 400,
   "id": "192f333b",
   "metadata": {},
   "outputs": [],
   "source": [
    "#ecoli_data_clean"
   ]
  },
  {
   "cell_type": "code",
   "execution_count": 401,
   "id": "f139e662",
   "metadata": {},
   "outputs": [],
   "source": [
    "from scipy.stats import gmean\n",
    "\n",
    "#Aggregate data for the same month using geometric mean\n",
    "# Group by 'Site ID' and 'Month' and calculate geometric mean\n",
    "grouped_data = ecoli_data_clean.groupby(['Site ID', 'Month']).agg({\n",
    "    'E-Coli': lambda x: gmean(x[x > 0]) if (x > 0).any() else 0  # Geometric mean, ignoring non-positive values\n",
    "}).reset_index()\n",
    "\n",
    "#grouped_data[grouped_data['Month'] == '2021-09-01']\n",
    "#grouped_data.duplicated(subset=['Site ID', 'Month'])\n",
    "#grouped_data"
   ]
  },
  {
   "cell_type": "markdown",
   "id": "ea740bd4",
   "metadata": {},
   "source": [
    "Determine the appropriate range for CFU/ml.  Counts above 250 are considered Too Numerous To Count (TNTC) because it is impossible to tell whether colonies are separated (https://wic.oregonstate.edu/microbiology-writing-guide-presenting-data)"
   ]
  },
  {
   "cell_type": "code",
   "execution_count": null,
   "id": "fc42c0ec",
   "metadata": {},
   "outputs": [],
   "source": [
    "start_date = pd.Timestamp('2021-01-01')\n",
    "#filtered_data = ecoli_data_clean[ecoli_data_clean['Month'] >= start_date]\n",
    "filtered_data = grouped_data\n",
    "\n",
    "#Filter for site id = Bennett Ave  \n",
    "#filtered_data = filtered_data[filtered_data['Site ID'] == 'Bennett Ave']\n",
    "\n",
    "#Filter e-coli values greater than 5000\n",
    "#filtered_data = filtered_data[filtered_data['E-Coli'] <= 5000]\n",
    "\n",
    "\n",
    "#show unique site ids\n",
    "site_ids = filtered_data['Site ID'].unique()\n",
    "site_ids\n",
    "\n",
    "#filtered_data\n"
   ]
  },
  {
   "cell_type": "markdown",
   "id": "d19133e7",
   "metadata": {},
   "source": [
    "What's up with G06-1001, G05-1002, and G11-1011 site ids?"
   ]
  },
  {
   "cell_type": "code",
   "execution_count": null,
   "id": "fa435aca",
   "metadata": {},
   "outputs": [],
   "source": [
    "filtered_data.dtypes\n",
    "numeric_columns = filtered_data.select_dtypes(include=[np.number]).columns #Only group numeric columns or error\n",
    "median_per_month = filtered_data.groupby(pd.Grouper(key='Month', freq='MS'))[numeric_columns].median().reset_index() #'MS' = Month Start \n",
    "#average_per_month = average_per_month.sort_values(['Site ID', 'Site ID'])\n",
    "\n",
    "median_per_month"
   ]
  },
  {
   "cell_type": "markdown",
   "id": "473e014a",
   "metadata": {},
   "source": [
    "## Visualize"
   ]
  },
  {
   "cell_type": "code",
   "execution_count": null,
   "id": "81d45f35-6a17-40a9-9cdd-d785d5ef1456",
   "metadata": {},
   "outputs": [],
   "source": [
    "import altair as alt\n",
    "\n",
    "# Create a selection for the dropdown\n",
    "#site_id_dropdown = alt.binding_select(options=filtered_data['Site ID'].unique(), name='Site ID')\n",
    "#site_id_select = alt.selection_point(fields=['Site ID'], bind=site_id_dropdown, value={'Site ID': filtered_data['Site ID'].unique()[0]})\n",
    "\n",
    "# Ensure the data is specified at the top level\n",
    "plot_data = median_per_month\n",
    "\n",
    "# Base chart\n",
    "chart = alt.Chart(plot_data).mark_line(point=True).encode(\n",
    "    x=alt.X('Month:T', timeUnit='yearmonth', axis=alt.Axis(format='%m-%Y', title='Sample Date', labelAngle=90)),\n",
    "    y=alt.Y('E-Coli:Q', scale=alt.Scale(domain=[0, 2000])),  # Set y-axis limit\n",
    "    #color='Site ID:N',\n",
    "    tooltip=['Month:T', 'E-Coli:Q']\n",
    ").properties(\n",
    "    title='Median E. Coli Measurements by Month',\n",
    "    width=800,\n",
    "    height=400\n",
    "#).add_selection(\n",
    "#    site_id_select\n",
    "#).transform_filter(\n",
    "#    site_id_select\n",
    ").interactive()\n",
    "\n",
    "# Horizontal line at y=320\n",
    "horizontal_line = alt.Chart(pd.DataFrame({'y': [320]})).mark_rule(\n",
    "    color='red',\n",
    "    strokeDash=[5, 5]\n",
    ").encode(\n",
    "    y='y:Q'\n",
    ")\n",
    "\n",
    "line_chart = chart + horizontal_line\n",
    "\n",
    "# Histogram of E-Coli\n",
    "histogram = alt.Chart(filtered_data).mark_bar().encode(\n",
    "    x=alt.X('E-Coli:Q', bin=alt.Bin(step=50), scale=alt.Scale(domain=[0, 3000])),\n",
    "    y='count()',\n",
    "    #color='Site ID:N'\n",
    ").properties(\n",
    "    title='Histogram of E. Coli Measurements',\n",
    "    width=800,\n",
    "    height=200\n",
    ")\n",
    "\n",
    "# Combine the line chart and histogram\n",
    "final_chart = alt.vconcat(line_chart, histogram)\n",
    "\n",
    "final_chart.show()\n",
    "\n"
   ]
  },
  {
   "cell_type": "code",
   "execution_count": null,
   "id": "ecff2e67",
   "metadata": {},
   "outputs": [],
   "source": [
    "# Ensure the data is specified at the top level\n",
    "plot_data = filtered_data\n",
    "# Filter data to include only the specified site IDs\n",
    "#plot_data = plot_data[plot_data['Site ID'].isin(['Bennett Ave', 'Broadway St', 'C St'])]\n",
    "#plot_data = plot_data[plot_data['Site ID'].isin(['Cedar St', 'Little Squalicum Creek', 'Olive St'])]\n",
    "#plot_data = plot_data[plot_data['Site ID'].isin(['Padden Creek', 'Squalicum Creek', 'Whatcom Creek', 'Willow St'])]\n",
    "\n",
    "# Base chart\n",
    "base_chart = alt.Chart().mark_line(point=True).encode(\n",
    "    x=alt.X('Month:T', timeUnit='yearmonth', axis=alt.Axis(format='%m-%Y', title='Sample Date', labelAngle=90)),\n",
    "    y=alt.Y('E-Coli:Q', scale=alt.Scale(domain=[0, 5000])),  # Set y-axis limit\n",
    "    color='Site ID:N',\n",
    "    tooltip=['Month:T', 'Site ID:N', 'E-Coli:Q']\n",
    ").properties(\n",
    "    width=400,\n",
    "    height=200\n",
    ")\n",
    "\n",
    "# Horizontal line at y=320\n",
    "horizontal_line = alt.Chart(pd.DataFrame({'y': [bacteria_threshold]})).mark_rule(\n",
    "    color='red',\n",
    "    strokeDash=[5, 5]\n",
    ").encode(\n",
    "    y='y:Q'\n",
    ")\n",
    "\n",
    "# Layer the base chart and the horizontal line\n",
    "layered_chart = alt.layer(base_chart, horizontal_line, data=plot_data)\n",
    "\n",
    "# Apply faceting after layering with max columns\n",
    "faceted_chart = layered_chart.facet(\n",
    "    column='Site ID:N'\n",
    ").properties(\n",
    "    title='E. Coli Measurements by Month for Each Site ID'\n",
    ").interactive()\n",
    "\n",
    "faceted_chart.show()"
   ]
  },
  {
   "cell_type": "code",
   "execution_count": null,
   "id": "7012de0a",
   "metadata": {},
   "outputs": [],
   "source": []
  },
  {
   "cell_type": "code",
   "execution_count": null,
   "id": "dfb85dcd",
   "metadata": {},
   "outputs": [],
   "source": []
  },
  {
   "cell_type": "code",
   "execution_count": null,
   "id": "18a6f0fd",
   "metadata": {},
   "outputs": [],
   "source": [
    "# Ensure the data is specified at the top level\n",
    "plot_data = filtered_data\n",
    "# Filter data to include only the specified site IDs\n",
    "#plot_data = plot_data[plot_data['Site ID'].isin(['Bennett Ave', 'Broadway St', 'C St'])]\n",
    "#plot_data = plot_data[plot_data['Site ID'].isin(['Cedar St', 'Little Squalicum Creek', 'Olive St'])]\n",
    "#plot_data = plot_data[plot_data['Site ID'].isin(['Padden Creek', 'Squalicum Creek', 'Whatcom Creek', 'Willow St'])]\n",
    "\n",
    "# Base chart\n",
    "base_chart = alt.Chart(plot_data).mark_line(point=True).encode(\n",
    "    x=alt.X('Month:T', timeUnit='yearmonth', axis=alt.Axis(format='%m-%Y', title='Sample Date', labelAngle=90)),\n",
    "    y=alt.Y('E-Coli:Q', scale=alt.Scale(domain=[0, 1000], clamp=True), axis=alt.Axis(tickCount=10)),  # Set y-axis limit\n",
    "    color='Site ID:N',\n",
    "    tooltip=['Month:T', 'Site ID:N', 'E-Coli:Q'],\n",
    "    facet = alt.Facet('Site ID:N', columns=4)\n",
    ").properties(\n",
    "    width=400,\n",
    "    height=200\n",
    ")\n",
    "\n",
    "base_chart"
   ]
  },
  {
   "cell_type": "code",
   "execution_count": null,
   "id": "cad3b3af",
   "metadata": {},
   "outputs": [],
   "source": [
    "# Ensure the data is specified at the top level\n",
    "plot_data = filtered_data\n",
    "# Filter data to include only the specified site IDs\n",
    "#plot_data = plot_data[plot_data['Site ID'].isin(['Bennett Ave', 'Broadway St', 'C St'])]\n",
    "#plot_data = plot_data[plot_data['Site ID'].isin(['Cedar St', 'Little Squalicum Creek', 'Olive St'])]\n",
    "#plot_data = plot_data[plot_data['Site ID'].isin(['Padden Creek', 'Squalicum Creek', 'Whatcom Creek', 'Willow St'])]\n",
    "\n",
    "# Base chart\n",
    "base_chart = alt.Chart(plot_data).mark_line(point=True).encode(\n",
    "    x=alt.X('Month:T', timeUnit='yearmonth', axis=alt.Axis(format='%m-%Y', title='Sample Date', labelAngle=90)),\n",
    "    y=alt.Y('E-Coli:Q', scale=alt.Scale(type='log', domain=[1, 30000], clamp=True), axis=alt.Axis(tickCount=10)),  # Set y-axis to log scale\n",
    "    color='Site ID:N',\n",
    "    tooltip=['Month:T', 'Site ID:N', 'E-Coli:Q'],\n",
    "    facet = alt.Facet('Site ID:N', columns=4)\n",
    ").properties(\n",
    "    width=400,\n",
    "    height=200\n",
    ")\n",
    "\n",
    "base_chart"
   ]
  },
  {
   "cell_type": "code",
   "execution_count": null,
   "id": "b732a996",
   "metadata": {},
   "outputs": [],
   "source": [
    "#https://www.geeksforgeeks.org/understanding-facet-wrap-in-altair/ \n",
    "\n",
    "#Second Filter e-coli values greater than 1000\n",
    "filtered_data2 = filtered_data[filtered_data['E-Coli'] <= 1000]\n",
    "\n",
    "# Histogram of E-Coli with bin size 50, faceted by Site ID\n",
    "histogram = alt.Chart(filtered_data2).mark_bar().encode(\n",
    "    x=alt.X('E-Coli:Q', bin=alt.Bin(step=50)),\n",
    "    y='count()',\n",
    "    color='Site ID:N',\n",
    "    facet=alt.Facet('Site ID:N', columns=4)\n",
    ").properties(\n",
    "    title='E. Coli Histogram',\n",
    "    width=200,\n",
    "    height=200\n",
    ")\n",
    "\n",
    "#.facet(\n",
    "#    column='Site ID:N',\n",
    "#)\n",
    "\n",
    "histogram.show()"
   ]
  },
  {
   "cell_type": "markdown",
   "id": "2afa1255",
   "metadata": {},
   "source": [
    "## Modeling Typical Stormwater Bacteria Levels"
   ]
  },
  {
   "cell_type": "code",
   "execution_count": null,
   "id": "e456c7af",
   "metadata": {},
   "outputs": [],
   "source": [
    "import pandas as pd\n",
    "import numpy as np\n",
    "\n",
    "# Set random seed for reproducibility\n",
    "np.random.seed(42)\n",
    "\n",
    "# Parameters for dataset\n",
    "num_samples = 500  # Total data points across all outfalls\n",
    "outfall_ids = [\"Outfall_1\", \"Outfall_2\", \"Outfall_3\"]  # Outfall locations\n",
    "\n",
    "# Calculate samples per outfall to ensure uniform distribution\n",
    "samples_per_outfall = num_samples // len(outfall_ids)  \n",
    "total_samples = samples_per_outfall * len(outfall_ids)  # Adjust to align\n",
    "\n",
    "# Generate timestamps for each sample, spaced by the hour\n",
    "times = pd.date_range(\"2024-01-01\", periods=samples_per_outfall, freq=\"H\")\n",
    "\n",
    "# Generate bacteria levels using a log-normal distribution\n",
    "bacteria_levels = np.random.lognormal(mean=3.5, sigma=1.0, size=total_samples)\n",
    "\n",
    "# Repeat outfall IDs and tile timestamps to align with the samples\n",
    "outfalls = np.repeat(outfall_ids, samples_per_outfall)\n",
    "timestamps = np.tile(times, len(outfall_ids))\n",
    "\n",
    "# Create the DataFrame\n",
    "data = pd.DataFrame({\n",
    "    \"Timestamp\": timestamps,\n",
    "    \"Outfall\": outfalls,\n",
    "    \"Bacteria_CFU_100mL\": bacteria_levels\n",
    "})\n",
    "\n",
    "# Display the dataset (only needed for your reference)\n",
    "print(data.head())\n",
    "\n"
   ]
  },
  {
   "cell_type": "code",
   "execution_count": null,
   "id": "13590552",
   "metadata": {},
   "outputs": [],
   "source": [
    "import matplotlib.pyplot as plt\n",
    "\n",
    "# Filter the data for Outfall_1\n",
    "outfall_to_plot = \"Outfall_1\"\n",
    "subset = data[data[\"Outfall\"] == outfall_to_plot]\n",
    "\n",
    "# Plot the histogram of bacteria levels\n",
    "plt.figure(figsize=(10, 6))\n",
    "plt.hist(subset[\"Bacteria_CFU_100mL\"], bins=30, edgecolor='black', color='orange')\n",
    "plt.title(f\"Histogram of Bacteria Levels at {outfall_to_plot}\")\n",
    "plt.xlabel(\"Bacteria Levels (CFU/100mL)\")\n",
    "plt.ylabel(\"Frequency\")\n",
    "plt.show()"
   ]
  },
  {
   "cell_type": "markdown",
   "id": "d43fdc06",
   "metadata": {},
   "source": [
    "### Matplotlib Visulazation"
   ]
  },
  {
   "cell_type": "code",
   "execution_count": null,
   "id": "e6c8661c-591d-4744-a300-afdfabc20245",
   "metadata": {},
   "outputs": [],
   "source": [
    "import matplotlib.dates as mdates\n",
    "\n",
    "site_data = filtered_data[filtered_data['Site ID'] == 'Bennett Ave']\n",
    "\n",
    "# Calculate the moving average (window size of 5 for example)\n",
    "site_data['E-Coli Moving Average'] = site_data['E-Coli'].rolling(window=4).mean()\n",
    "\n",
    "fig, ax = plt.subplots(figsize=(16, 8))\n",
    "for site_id, group in site_data.groupby('Site ID'):\n",
    "    ax.plot(group['Month'], group['E-Coli'], marker='o', linestyle='-', label=f'Site {site_id}')\n",
    "    ax.plot(group['Month'], group['E-Coli Moving Average'], marker='', linestyle='-', linewidth=3, color='orange', label=f'Moving Average {site_id}')\n",
    "\n",
    "# Set the major locator and formatter for the x-axis to show every month\n",
    "ax.xaxis.set_major_locator(mdates.MonthLocator())\n",
    "ax.xaxis.set_major_formatter(mdates.DateFormatter('%b %Y'))\n",
    "\n",
    "# Add vertical grid lines for each month\n",
    "ax.grid(which='major', axis='x', linestyle='--', linewidth=0.5)\n",
    "\n",
    "ax.set_title('Raw E. coli Readings by Site Over Time - Bennett Ave')\n",
    "ax.set_xlabel('Month')\n",
    "ax.set_ylabel('E. Coli (cfu/100ml)')\n",
    "ax.axhline(y=bacteria_threshold, color='red', linewidth=2, linestyle='--', label='Threshold (310 cfu/100ml)')\n",
    "ax.legend(title='Site ID')\n",
    "plt.xticks(rotation=45)  # Rotate x-axis labels for better visibility\n",
    "plt.tight_layout()\n",
    "plt.show()\n",
    "\n",
    "#site_data"
   ]
  },
  {
   "cell_type": "markdown",
   "id": "12409363-89f8-49bc-ba41-136231417d98",
   "metadata": {},
   "source": [
    "Bennett Ave Data has mnay outliers "
   ]
  },
  {
   "cell_type": "code",
   "execution_count": null,
   "id": "37ca19c0-9082-4a87-8c40-bc5dfa65aebe",
   "metadata": {},
   "outputs": [],
   "source": [
    "# Create a figure with two subplots (ax for raw readings and ax2 for variability F-chart)\n",
    "fig, (ax, ax2) = plt.subplots(nrows=2, ncols=1, figsize=(16, 16), sharex=True)\n",
    "\n",
    "# Plotting E. Coli readings by Site\n",
    "for site_id, group in ecoli.groupby('Site ID'):\n",
    "    ax.plot(group['Sample Date'], group['E-Coli'], marker='o', linestyle='-', label=f'Site {site_id}')\n",
    "\n",
    "ax.set_title('Raw E. coli Readings by Site Over Time')\n",
    "ax.set_ylabel('E. Coli (cfu/100ml)')\n",
    "ax.axhline(y=310, color='red', linestyle='--', label='Threshold (310 cfu/100ml)')\n",
    "ax.legend(title='Site ID')\n",
    "plt.xticks(rotation=45)  # Rotate x-axis labels for better visibility\n",
    "\n",
    "# Plotting F-chart of variability (Standard Deviation over time)\n",
    "# Calculating standard deviation for each date\n",
    "std_dev_by_date = ecoli.groupby('Sample Date')['E-Coli'].std()\n",
    "ax2.plot(std_dev_by_date.index, std_dev_by_date, marker='o', linestyle='-', color='green')\n",
    "\n",
    "# Plotting F-chart of variability (Standard Deviation over time) by Site ID\n",
    "\n",
    "#for site_id, group in ecoli.groupby('Site ID'):\n",
    "#    std_dev = group.groupby('Sample Date')['E. Coli'].std()\n",
    "#    ax2.plot(std_dev.index, std_dev, marker='o', linestyle='-', label=f'Site {site_id}')\n",
    "\n",
    "ax2.set_title('Standard Deviation of E. Coli Readings by Site Over Time')\n",
    "ax2.set_xlabel('Sample Date')\n",
    "ax2.set_ylabel('Standard Deviation (cfu/100ml)')\n",
    "ax2.legend(title='Site ID')\n",
    "\n",
    "plt.tight_layout()\n",
    "plt.show()"
   ]
  },
  {
   "cell_type": "code",
   "execution_count": null,
   "id": "0bc55e4d-7a92-41db-b781-379aedcb29c6",
   "metadata": {},
   "outputs": [],
   "source": [
    "ecoli[ecoli['Site ID'] == 'Bennett Ave']"
   ]
  },
  {
   "cell_type": "code",
   "execution_count": 414,
   "id": "2243ea39-740d-496c-acb3-a3238bcf5efd",
   "metadata": {},
   "outputs": [],
   "source": [
    "# Aggregate data for plotting\n",
    "ecoli_aggregated_mean = ecoli.groupby(['Month', 'Site ID'])['E-Coli'].mean().unstack()\n",
    "ecoli_aggregated_std = ecoli.groupby(['Month', 'Site ID'])['E-Coli'].std().unstack()\n",
    "\n",
    "if 'Enterococcus' in data.columns:\n",
    "    enterococcus_aggregated = enterococcus.groupby(['Month', 'Site ID'])['Enterococcus'].mean().unstack()"
   ]
  },
  {
   "cell_type": "code",
   "execution_count": null,
   "id": "d9faa762-146f-491b-9cb4-0713cad8446a",
   "metadata": {},
   "outputs": [],
   "source": [
    "ecoli_aggregated_mean\n",
    "#ecoli_aggregated[ecoli_aggregated['Site ID'] == 'Bennett Ave']"
   ]
  },
  {
   "cell_type": "code",
   "execution_count": 416,
   "id": "3efb6d45-5ac6-4d6e-867c-38d39ea49952",
   "metadata": {},
   "outputs": [],
   "source": [
    "ecoli_threshold = 310\n",
    "enterococcus_threshold = 500"
   ]
  },
  {
   "cell_type": "code",
   "execution_count": null,
   "id": "c693d489-ccb4-4120-83f0-a55b2dcee23f",
   "metadata": {},
   "outputs": [],
   "source": [
    "fig, ax = plt.subplots(2, 1, figsize=(16, 12), sharex=True)\n",
    "ecoli_aggregated_mean.clip(upper=5000).plot(ax=ax[0], marker='o', linestyle='-', title='E. Coli Readings by Site Over Time with Clamped Values')\n",
    "ax[0].set_ylabel('E. Coli (cfu/100ml)')\n",
    "ax[0].axhline(y=ecoli_threshold, color='red', linestyle='--', label='E. Coli Threshold (cfu/100ml)')\n",
    "ecoli_aggregated_std.plot(ax=ax[1], marker='o', linestyle='-', title='Std Dev of E. Coli Readings')"
   ]
  },
  {
   "cell_type": "code",
   "execution_count": null,
   "id": "61b60216-ea7f-442c-98e8-60ad61c93c2f",
   "metadata": {},
   "outputs": [],
   "source": [
    "# Plotting the control charts\n",
    "fig, ax = plt.subplots(2, 1, figsize=(16, 12), sharex=True)\n",
    "ecoli_aggregated_mean.clip(upper=5000).plot(ax=ax[0], marker='o', linestyle='-', title='E. Coli Readings by Site Over Time with Clamped Values')\n",
    "ax[0].set_ylabel('E. Coli (cfu/100ml)')\n",
    "ax[0].axhline(y=ecoli_threshold, color='red', linestyle='--', label='E. Coli Threshold (cfu/100ml)')\n",
    "enterococcus_aggregated.plot(ax=ax[1], marker='o', linestyle='-', title='Enterococcus Readings by Site Over Time')\n",
    "ax[1].set_ylabel('Enterococcus (cfu/100ml)')\n",
    "ax[1].axhline(y=enterococcus_threshold, color='red', linestyle='--', label='Enterococcus Threshold (cfu/100ml)')\n",
    "plt.tight_layout()\n",
    "plt.show()"
   ]
  },
  {
   "cell_type": "code",
   "execution_count": null,
   "id": "e1cc6407-2b32-4d50-98f7-5b0c758e563e",
   "metadata": {},
   "outputs": [],
   "source": []
  },
  {
   "cell_type": "code",
   "execution_count": null,
   "id": "6a1d7536-8fc6-4f3e-ba08-b7a89f5da376",
   "metadata": {},
   "outputs": [],
   "source": [
    "ecoli_aggregated_mean = ecoli_aggregated_mean[ecoli_aggregated_mean.index >= '2023-01']\n",
    "\n",
    "if 'Enterococcus' in data.columns:\n",
    "    enterococcus_aggregated_mean = enterococcus_aggregated[enterococcus_aggregated.index >= '2023-01']\n",
    "\n",
    "fig, ax = plt.subplots(2, 1, figsize=(16, 12), sharex=True)\n",
    "ecoli_aggregated_mean.clip(upper=5000).plot(ax=ax[0], marker='o', linestyle='-', title='E. Coli Readings by Site Over Time')\n",
    "ax[0].set_ylabel('E. Coli (cfu/100ml)')\n",
    "ax[0].axhline(y=ecoli_threshold, color='red', linestyle='--', label='E. Coli Threshold (cfu/100ml)')\n",
    "enterococcus_aggregated.plot(ax=ax[1], marker='o', linestyle='-', title='Enterococcus Readings by Site Over Time')\n",
    "ax[1].set_ylabel('Enterococcus (cfu/100ml)')\n",
    "ax[1].axhline(y=enterococcus_threshold, color='red', linestyle='--', label='Enterococcus Threshold (cfu/100ml)')\n",
    "\n",
    "plt.tight_layout()\n",
    "plt.show()"
   ]
  },
  {
   "cell_type": "code",
   "execution_count": null,
   "id": "96dacf1d-82b9-40ec-be7d-0e0004bfd82e",
   "metadata": {},
   "outputs": [],
   "source": []
  },
  {
   "cell_type": "code",
   "execution_count": null,
   "id": "a4f78aec-64b0-4ca8-8123-a849d028b572",
   "metadata": {},
   "outputs": [],
   "source": [
    "# Generate histograms\n",
    "fig, ax = plt.subplots(figsize=(12, 8))\n",
    "colors = plt.cm.viridis(np.linspace(0, 1, len(ecoli_aggregated_mean.columns)))\n",
    "\n",
    "for (site, values), color in zip(ecoli_aggregated_mean.items(), colors):\n",
    "    ax.hist(values.dropna(), bins=20, color=color, alpha=0.6, edgecolor='black', label=site)\n",
    "\n",
    "ax.axvline(x=ecoli_threshold, color='red', linestyle='--', label='Threshold (310 cfu/100ml)')\n",
    "ax.set_title('E. Coli Distribution Across Sites')\n",
    "ax.set_xlabel('E. Coli (cfu/100ml)')\n",
    "ax.set_ylabel('Frequency')\n",
    "ax.legend(title='Site ID')\n",
    "plt.show()"
   ]
  },
  {
   "cell_type": "code",
   "execution_count": null,
   "id": "affb6044-b044-4378-a956-151f61271684",
   "metadata": {},
   "outputs": [],
   "source": [
    "# Calculate exceedances for E. coli\n",
    "ecoli_exceedances = filtered_data[filtered_data['E-Coli'] > ecoli_threshold]\n",
    "ecoli_exceedances['Year'] = ecoli_exceedances['Month'].dt.year\n",
    "exceedance_counts = ecoli_exceedances.groupby(['Year', 'Site ID']).size().reset_index(name='Exceedance Count')\n",
    "total_counts = filtered_data.groupby([ecoli['Month'].dt.year, 'Site ID']).size().reset_index(name='Total Readings')\n",
    "total_counts.rename(columns={'Month': 'Year'}, inplace=True)\n",
    "exceedance_data = pd.merge(total_counts, exceedance_counts, on=['Year', 'Site ID'], how='left').fillna(0)\n",
    "exceedance_data['Exceedance Percentage'] = (exceedance_data['Exceedance Count'] / exceedance_data['Total Readings']) * 100\n",
    "\n",
    "exceedance_data"
   ]
  },
  {
   "cell_type": "markdown",
   "id": "6bb82854",
   "metadata": {},
   "source": [
    "## Visualize the Storm Water Data Using geopandas"
   ]
  },
  {
   "cell_type": "markdown",
   "id": "bcd43076",
   "metadata": {},
   "source": [
    "First prove that the geopandas dataset is working\n",
    "\n",
    "Checkout the definations of the datasets here https://geodatasets.readthedocs.io/en/latest/introduction.html\n",
    "\n",
    "'naturalearth.land' Land polygons including major islands in a 1:110m resolution\n",
    "\n",
    "Geo datasets for Bellingham\n",
    "https://cob.org/services/maps/gis\n",
    "\n",
    "See Stormwater utility shp file\n",
    "\n"
   ]
  },
  {
   "cell_type": "markdown",
   "id": "d6bbdc7f",
   "metadata": {},
   "source": [
    "## Create a sample dataset for testing only"
   ]
  },
  {
   "cell_type": "code",
   "execution_count": 422,
   "id": "e4276d3c",
   "metadata": {},
   "outputs": [],
   "source": [
    "import random\n",
    "import pandas as pd\n",
    "\n",
    "# Approximate latitude and longitude for stormwater outfalls and creeks in Bellingham\n",
    "locations = {\n",
    "    \"Little Squalicum Creek\": (48.7655, -122.5163),\n",
    "    \"Squalicum Creek\": (48.7593, -122.5022),\n",
    "    \"Whatcom Creek\": (48.7550, -122.4872),\n",
    "    \"Padden Creek\": (48.7252, -122.5031),\n",
    "    \"Broadway Outfall\": (48.7575, -122.5001),\n",
    "    \"C St. Outfall\": (48.7540, -122.4983),\n",
    "    \"Cornwall Outfall\": (48.7505, -122.4948),\n",
    "    \"Cedar Outfall\": (48.7480, -122.4903),\n",
    "    \"Bennett Outfall\": (48.7305, -122.5147),\n",
    "    \"Olive Outfall\": (48.7340, -122.5002)\n",
    "}\n",
    "\n",
    "# Example bacteria levels (colony-forming units per 100 mL)\n",
    "bacteria_levels = {location: random.randint(50, 500) for location in locations.keys()}\n",
    "\n",
    "# Create a pandas DataFrame from the dictionary of location name, bacteria level, and coordinates\n",
    "data_demo = pd.DataFrame({\n",
    "    \"location\": list(locations.keys()),\n",
    "    \"bacteria level\": list(bacteria_levels.values()),\n",
    "    \"latitude\": [lat for lat, lon in locations.values()],\n",
    "    \"longitude\": [lon for lat, lon in locations.values()]\n",
    "})\n",
    "\n",
    "data_demo[\"Threshold Exceeded\"] = data_demo[\"bacteria level\"].apply(lambda x: \"Fail\" if x > 300 else \"Pass\")"
   ]
  },
  {
   "cell_type": "code",
   "execution_count": null,
   "id": "499bef4a",
   "metadata": {},
   "outputs": [],
   "source": [
    "import plotly.express as px\n",
    "import pandas as pd\n",
    "\n",
    "# Create DataFrame\n",
    "#df = pd.DataFrame(data_demo)\n",
    "df = pd.DataFrame(ecoli_data_clean)\n",
    "\n",
    "# Create scatter geo plot\n",
    "fig = px.scatter_geo(\n",
    "    df,\n",
    "    lat=\"Latitude\",\n",
    "    lon=\"Longitude\",\n",
    "    #text=\"Sample ID\",\n",
    "    size=\"E-Coli\",\n",
    "    title=\"Stormwater Bacteria Levels at Outfalls and Creeks in Bellingham\",\n",
    "    projection=\"albers usa\"\n",
    ")\n",
    "\n",
    "# Update layout to zoom into Bellingham\n",
    "fig.update_geos(\n",
    "    center={\"lat\": 48.75, \"lon\": -122.47},  # Centering on Bellingham\n",
    "    lataxis_range=[48.74, 48.77],  # Latitude zoom range\n",
    "    lonaxis_range=[-122.49, -122.45]  # Longitude zoom range\n",
    ")\n",
    "\n",
    "# Show the figure\n",
    "fig.show()\n"
   ]
  },
  {
   "cell_type": "code",
   "execution_count": null,
   "id": "dbea44e4",
   "metadata": {},
   "outputs": [],
   "source": [
    "# Create a street-level map centered on Bellingham, WA\n",
    "fig = px.scatter_mapbox(\n",
    "    lat=[48.75],\n",
    "    lon=[-122.47],\n",
    "    zoom=12,\n",
    "    mapbox_style=\"open-street-map\",\n",
    "    title=\"Street-Level Map of Bellingham, WA\"\n",
    ")\n",
    "\n",
    "# Update layout to use Mapbox\n",
    "#fig.update_layout(\n",
    "#    mapbox=dict(center=dict(lat=48.75, lon=-122.47), zoom=12),\n",
    "#    mapbox_accesstoken=\"your_mapbox_access_token_here\"  # If using a custom Mapbox style\n",
    "#)\n",
    "\n",
    "# Show the figure\n",
    "fig.show()"
   ]
  },
  {
   "cell_type": "code",
   "execution_count": 439,
   "id": "eaf93cdb",
   "metadata": {},
   "outputs": [
    {
     "name": "stderr",
     "output_type": "stream",
     "text": [
      "/var/folders/_s/jtjh9qbn6m7c74p0ybbm9jbh0000gn/T/ipykernel_70420/2423786376.py:18: DeprecationWarning:\n",
      "\n",
      "*scatter_mapbox* is deprecated! Use *scatter_map* instead. Learn more at: https://plotly.com/python/mapbox-to-maplibre/\n",
      "\n"
     ]
    },
    {
     "data": {
      "application/vnd.plotly.v1+json": {
       "config": {
        "plotlyServerURL": "https://plot.ly"
       },
       "data": [
        {
         "hovertemplate": "is_exceedence=True<br>Month=2021-02<br>scale=%{marker.size}<br>Site ID=%{text}<br>Latitude=%{lat}<br>Longitude=%{lon}<extra></extra>",
         "lat": {
          "bdata": "PujZrPpcSEA9LNSa5l1IQA==",
          "dtype": "f8"
         },
         "legendgroup": "True",
         "lon": {
          "bdata": "Dk+vlGWgXsCHFtnO959ewA==",
          "dtype": "f8"
         },
         "marker": {
          "color": "red",
          "size": {
           "bdata": "AAAAAABA9D8AAAAAAMD7Pw==",
           "dtype": "f8"
          },
          "sizemode": "area",
          "sizeref": 0.0425
         },
         "mode": "markers+text",
         "name": "True",
         "showlegend": true,
         "subplot": "mapbox",
         "text": [
          "Bennett Ave",
          "Olive St"
         ],
         "type": "scattermapbox"
        },
        {
         "hovertemplate": "is_exceedence=False<br>Month=2021-02<br>scale=%{marker.size}<br>Site ID=%{text}<br>Latitude=%{lat}<br>Longitude=%{lon}<extra></extra>",
         "lat": {
          "bdata": "KcsQx7pgSEApyxDHumBIQI51cRsNYEhAV1uxv+xeSEDJdr6fGl9IQCh+jLlrYUhA48eYu5ZgSEA=",
          "dtype": "f8"
         },
         "legendgroup": "False",
         "lon": {
          "bdata": "iPTb14GfXsCI9NvXgZ9ewN6Th4Van17ArK3YX3afXsAdOGdEaZ9ewAaBlUOLoF7ACYofY+6eXsA=",
          "dtype": "f8"
         },
         "marker": {
          "color": "green",
          "size": {
           "bdata": "AAAAAABA8z8AAAAAAMDzPwAAAAAAAPE/AAAAAABA8D8AAAAAAEDwPwAAAAAAQPA/AAAAAABA8D8=",
           "dtype": "f8"
          },
          "sizemode": "area",
          "sizeref": 0.0425
         },
         "mode": "markers+text",
         "name": "False",
         "showlegend": true,
         "subplot": "mapbox",
         "text": [
          "Broadway St",
          "Broadway St",
          "C St",
          "Cedar St",
          "Cornwall St",
          "Squalicum Creek",
          "Whatcom Creek"
         ],
         "type": "scattermapbox"
        }
       ],
       "frames": [
        {
         "data": [
          {
           "hovertemplate": "is_exceedence=True<br>Month=2021-02<br>scale=%{marker.size}<br>Site ID=%{text}<br>Latitude=%{lat}<br>Longitude=%{lon}<extra></extra>",
           "lat": {
            "bdata": "PujZrPpcSEA9LNSa5l1IQA==",
            "dtype": "f8"
           },
           "legendgroup": "True",
           "lon": {
            "bdata": "Dk+vlGWgXsCHFtnO959ewA==",
            "dtype": "f8"
           },
           "marker": {
            "color": "red",
            "size": {
             "bdata": "AAAAAABA9D8AAAAAAMD7Pw==",
             "dtype": "f8"
            },
            "sizemode": "area",
            "sizeref": 0.0425
           },
           "mode": "markers+text",
           "name": "True",
           "showlegend": true,
           "subplot": "mapbox",
           "text": [
            "Bennett Ave",
            "Olive St"
           ],
           "type": "scattermapbox"
          },
          {
           "hovertemplate": "is_exceedence=False<br>Month=2021-02<br>scale=%{marker.size}<br>Site ID=%{text}<br>Latitude=%{lat}<br>Longitude=%{lon}<extra></extra>",
           "lat": {
            "bdata": "KcsQx7pgSEApyxDHumBIQI51cRsNYEhAV1uxv+xeSEDJdr6fGl9IQCh+jLlrYUhA48eYu5ZgSEA=",
            "dtype": "f8"
           },
           "legendgroup": "False",
           "lon": {
            "bdata": "iPTb14GfXsCI9NvXgZ9ewN6Th4Van17ArK3YX3afXsAdOGdEaZ9ewAaBlUOLoF7ACYofY+6eXsA=",
            "dtype": "f8"
           },
           "marker": {
            "color": "green",
            "size": {
             "bdata": "AAAAAABA8z8AAAAAAMDzPwAAAAAAAPE/AAAAAABA8D8AAAAAAEDwPwAAAAAAQPA/AAAAAABA8D8=",
             "dtype": "f8"
            },
            "sizemode": "area",
            "sizeref": 0.0425
           },
           "mode": "markers+text",
           "name": "False",
           "showlegend": true,
           "subplot": "mapbox",
           "text": [
            "Broadway St",
            "Broadway St",
            "C St",
            "Cedar St",
            "Cornwall St",
            "Squalicum Creek",
            "Whatcom Creek"
           ],
           "type": "scattermapbox"
          }
         ],
         "name": "2021-02"
        },
        {
         "data": [
          {
           "hovertemplate": "is_exceedence=True<br>Month=2021-03<br>scale=%{marker.size}<br>Site ID=%{text}<br>Latitude=%{lat}<br>Longitude=%{lon}<extra></extra>",
           "lat": {
            "bdata": "PujZrPpcSEA9LNSa5l1IQD0s1JrmXUhA",
            "dtype": "f8"
           },
           "legendgroup": "True",
           "lon": {
            "bdata": "Dk+vlGWgXsCHFtnO959ewIcW2c73n17A",
            "dtype": "f8"
           },
           "marker": {
            "color": "red",
            "size": {
             "bdata": "AAAAAAAAGkAAAAAAAMD1PwAAAAAAQPQ/",
             "dtype": "f8"
            },
            "sizemode": "area",
            "sizeref": 0.0425
           },
           "mode": "markers+text",
           "name": "True",
           "showlegend": true,
           "subplot": "mapbox",
           "text": [
            "Bennett Ave",
            "Olive St",
            "Olive St"
           ],
           "type": "scattermapbox"
          },
          {
           "hovertemplate": "is_exceedence=False<br>Month=2021-03<br>scale=%{marker.size}<br>Site ID=%{text}<br>Latitude=%{lat}<br>Longitude=%{lon}<extra></extra>",
           "lat": {
            "bdata": "KcsQx7pgSECOdXEbDWBIQFdbsb/sXkhAyXa+nxpfSEAofoy5a2FIQOPHmLuWYEhA",
            "dtype": "f8"
           },
           "legendgroup": "False",
           "lon": {
            "bdata": "iPTb14GfXsDek4eFWp9ewKyt2F92n17AHThnRGmfXsAGgZVDi6BewAmKH2Punl7A",
            "dtype": "f8"
           },
           "marker": {
            "color": "green",
            "size": {
             "bdata": "AAAAAADA8D8AAAAAAEDxPwAAAAAAQPA/AAAAAABA8D8AAAAAAEDwPwAAAAAAQPA/",
             "dtype": "f8"
            },
            "sizemode": "area",
            "sizeref": 0.0425
           },
           "mode": "markers+text",
           "name": "False",
           "showlegend": true,
           "subplot": "mapbox",
           "text": [
            "Broadway St",
            "C St",
            "Cedar St",
            "Cornwall St",
            "Squalicum Creek",
            "Whatcom Creek"
           ],
           "type": "scattermapbox"
          }
         ],
         "name": "2021-03"
        },
        {
         "data": [
          {
           "hovertemplate": "is_exceedence=True<br>Month=2021-04<br>scale=%{marker.size}<br>Site ID=%{text}<br>Latitude=%{lat}<br>Longitude=%{lon}<extra></extra>",
           "lat": {
            "bdata": "PujZrPpcSEA9LNSa5l1IQA==",
            "dtype": "f8"
           },
           "legendgroup": "True",
           "lon": {
            "bdata": "Dk+vlGWgXsCHFtnO959ewA==",
            "dtype": "f8"
           },
           "marker": {
            "color": "red",
            "size": {
             "bdata": "AAAAAACA+T8AAAAAAIAEQA==",
             "dtype": "f8"
            },
            "sizemode": "area",
            "sizeref": 0.0425
           },
           "mode": "markers+text",
           "name": "True",
           "showlegend": true,
           "subplot": "mapbox",
           "text": [
            "Bennett Ave",
            "Olive St"
           ],
           "type": "scattermapbox"
          },
          {
           "hovertemplate": "is_exceedence=False<br>Month=2021-04<br>scale=%{marker.size}<br>Site ID=%{text}<br>Latitude=%{lat}<br>Longitude=%{lon}<extra></extra>",
           "lat": {
            "bdata": "KcsQx7pgSEApyxDHumBIQI51cRsNYEhAV1uxv+xeSEDJdr6fGl9IQCh+jLlrYUhA48eYu5ZgSEA=",
            "dtype": "f8"
           },
           "legendgroup": "False",
           "lon": {
            "bdata": "iPTb14GfXsCI9NvXgZ9ewN6Th4Van17ArK3YX3afXsAdOGdEaZ9ewAaBlUOLoF7ACYofY+6eXsA=",
            "dtype": "f8"
           },
           "marker": {
            "color": "green",
            "size": {
             "bdata": "AAAAAABA8D8AAAAAAEDwPwAAAAAAwPA/AAAAAACA8T8AAAAAAEDwPwAAAAAAQPA/AAAAAABA8D8=",
             "dtype": "f8"
            },
            "sizemode": "area",
            "sizeref": 0.0425
           },
           "mode": "markers+text",
           "name": "False",
           "showlegend": true,
           "subplot": "mapbox",
           "text": [
            "Broadway St",
            "Broadway St",
            "C St",
            "Cedar St",
            "Cornwall St",
            "Squalicum Creek",
            "Whatcom Creek"
           ],
           "type": "scattermapbox"
          }
         ],
         "name": "2021-04"
        },
        {
         "data": [
          {
           "hovertemplate": "is_exceedence=True<br>Month=2021-05<br>scale=%{marker.size}<br>Site ID=%{text}<br>Latitude=%{lat}<br>Longitude=%{lon}<extra></extra>",
           "lat": {
            "bdata": "PujZrPpcSEA=",
            "dtype": "f8"
           },
           "legendgroup": "True",
           "lon": {
            "bdata": "Dk+vlGWgXsA=",
            "dtype": "f8"
           },
           "marker": {
            "color": "red",
            "size": {
             "bdata": "AAAAAADA9T8=",
             "dtype": "f8"
            },
            "sizemode": "area",
            "sizeref": 0.0425
           },
           "mode": "markers+text",
           "name": "True",
           "showlegend": true,
           "subplot": "mapbox",
           "text": [
            "Bennett Ave"
           ],
           "type": "scattermapbox"
          },
          {
           "hovertemplate": "is_exceedence=False<br>Month=2021-05<br>scale=%{marker.size}<br>Site ID=%{text}<br>Latitude=%{lat}<br>Longitude=%{lon}<extra></extra>",
           "lat": {
            "bdata": "KcsQx7pgSECOdXEbDWBIQI51cRsNYEhAV1uxv+xeSEDJdr6fGl9IQD0s1JrmXUhAKH6MuWthSEDjx5i7lmBIQA==",
            "dtype": "f8"
           },
           "legendgroup": "False",
           "lon": {
            "bdata": "iPTb14GfXsDek4eFWp9ewN6Th4Van17ArK3YX3afXsAdOGdEaZ9ewIcW2c73n17ABoGVQ4ugXsAJih9j7p5ewA==",
            "dtype": "f8"
           },
           "marker": {
            "color": "green",
            "size": {
             "bdata": "AAAAAACA8D8AAAAAAIDxPwAAAAAAgPA/AAAAAABA8D8AAAAAAEDwPwAAAAAAgPE/AAAAAABA8D8AAAAAAEDwPw==",
             "dtype": "f8"
            },
            "sizemode": "area",
            "sizeref": 0.0425
           },
           "mode": "markers+text",
           "name": "False",
           "showlegend": true,
           "subplot": "mapbox",
           "text": [
            "Broadway St",
            "C St",
            "C St",
            "Cedar St",
            "Cornwall St",
            "Olive St",
            "Squalicum Creek",
            "Whatcom Creek"
           ],
           "type": "scattermapbox"
          }
         ],
         "name": "2021-05"
        },
        {
         "data": [
          {
           "hovertemplate": "is_exceedence=False<br>Month=2021-06<br>scale=%{marker.size}<br>Site ID=%{text}<br>Latitude=%{lat}<br>Longitude=%{lon}<extra></extra>",
           "lat": {
            "bdata": "PujZrPpcSEApyxDHumBIQI51cRsNYEhAjnVxGw1gSEBXW7G/7F5IQMl2vp8aX0hAPSzUmuZdSEAofoy5a2FIQOPHmLuWYEhA",
            "dtype": "f8"
           },
           "legendgroup": "False",
           "lon": {
            "bdata": "Dk+vlGWgXsCI9NvXgZ9ewN6Th4Van17A3pOHhVqfXsCsrdhfdp9ewB04Z0Rpn17AhxbZzvefXsAGgZVDi6BewAmKH2Punl7A",
            "dtype": "f8"
           },
           "marker": {
            "color": "green",
            "size": {
             "bdata": "AAAAAACA8z8AAAAAAMDwPwAAAAAAgPA/AAAAAACA8D8AAAAAAEDwPwAAAAAAQPA/AAAAAADA8D8AAAAAAIDzPwAAAAAAgPA/",
             "dtype": "f8"
            },
            "sizemode": "area",
            "sizeref": 0.0425
           },
           "mode": "markers+text",
           "name": "False",
           "showlegend": true,
           "subplot": "mapbox",
           "text": [
            "Bennett Ave",
            "Broadway St",
            "C St",
            "C St",
            "Cedar St",
            "Cornwall St",
            "Olive St",
            "Squalicum Creek",
            "Whatcom Creek"
           ],
           "type": "scattermapbox"
          }
         ],
         "name": "2021-06"
        },
        {
         "data": [
          {
           "hovertemplate": "is_exceedence=True<br>Month=2021-07<br>scale=%{marker.size}<br>Site ID=%{text}<br>Latitude=%{lat}<br>Longitude=%{lon}<extra></extra>",
           "lat": {
            "bdata": "PujZrPpcSEA=",
            "dtype": "f8"
           },
           "legendgroup": "True",
           "lon": {
            "bdata": "Dk+vlGWgXsA=",
            "dtype": "f8"
           },
           "marker": {
            "color": "red",
            "size": {
             "bdata": "AAAAAACgAUA=",
             "dtype": "f8"
            },
            "sizemode": "area",
            "sizeref": 0.0425
           },
           "mode": "markers+text",
           "name": "True",
           "showlegend": true,
           "subplot": "mapbox",
           "text": [
            "Bennett Ave"
           ],
           "type": "scattermapbox"
          },
          {
           "hovertemplate": "is_exceedence=False<br>Month=2021-07<br>scale=%{marker.size}<br>Site ID=%{text}<br>Latitude=%{lat}<br>Longitude=%{lon}<extra></extra>",
           "lat": {
            "bdata": "KcsQx7pgSECOdXEbDWBIQFdbsb/sXkhAyXa+nxpfSEA9LNSa5l1IQCh+jLlrYUhA48eYu5ZgSEDjx5i7lmBIQA==",
            "dtype": "f8"
           },
           "legendgroup": "False",
           "lon": {
            "bdata": "iPTb14GfXsDek4eFWp9ewKyt2F92n17AHThnRGmfXsCHFtnO959ewAaBlUOLoF7ACYofY+6eXsAJih9j7p5ewA==",
            "dtype": "f8"
           },
           "marker": {
            "color": "green",
            "size": {
             "bdata": "AAAAAACA8D8AAAAAAADzPwAAAAAAQPA/AAAAAABA8D8AAAAAAEDwPwAAAAAAgPM/AAAAAACA8j8AAAAAAMDxPw==",
             "dtype": "f8"
            },
            "sizemode": "area",
            "sizeref": 0.0425
           },
           "mode": "markers+text",
           "name": "False",
           "showlegend": true,
           "subplot": "mapbox",
           "text": [
            "Broadway St",
            "C St",
            "Cedar St",
            "Cornwall St",
            "Olive St",
            "Squalicum Creek",
            "Whatcom Creek",
            "Whatcom Creek"
           ],
           "type": "scattermapbox"
          }
         ],
         "name": "2021-07"
        },
        {
         "data": [
          {
           "hovertemplate": "is_exceedence=True<br>Month=2021-08<br>scale=%{marker.size}<br>Site ID=%{text}<br>Latitude=%{lat}<br>Longitude=%{lon}<extra></extra>",
           "lat": {
            "bdata": "PujZrPpcSEDjx5i7lmBIQA==",
            "dtype": "f8"
           },
           "legendgroup": "True",
           "lon": {
            "bdata": "Dk+vlGWgXsAJih9j7p5ewA==",
            "dtype": "f8"
           },
           "marker": {
            "color": "red",
            "size": {
             "bdata": "AAAAAAAACEAAAAAAAID2Pw==",
             "dtype": "f8"
            },
            "sizemode": "area",
            "sizeref": 0.0425
           },
           "mode": "markers+text",
           "name": "True",
           "showlegend": true,
           "subplot": "mapbox",
           "text": [
            "Bennett Ave",
            "Whatcom Creek"
           ],
           "type": "scattermapbox"
          },
          {
           "hovertemplate": "is_exceedence=False<br>Month=2021-08<br>scale=%{marker.size}<br>Site ID=%{text}<br>Latitude=%{lat}<br>Longitude=%{lon}<extra></extra>",
           "lat": {
            "bdata": "KcsQx7pgSECOdXEbDWBIQFdbsb/sXkhAyXa+nxpfSEDJdr6fGl9IQD0s1JrmXUhAKH6MuWthSEA=",
            "dtype": "f8"
           },
           "legendgroup": "False",
           "lon": {
            "bdata": "iPTb14GfXsDek4eFWp9ewKyt2F92n17AHThnRGmfXsAdOGdEaZ9ewIcW2c73n17ABoGVQ4ugXsA=",
            "dtype": "f8"
           },
           "marker": {
            "color": "green",
            "size": {
             "bdata": "AAAAAABA8D8AAAAAAEDzPwAAAAAAgPA/AAAAAABA8T8AAAAAAIDwPwAAAAAAQPE/AAAAAAAA8j8=",
             "dtype": "f8"
            },
            "sizemode": "area",
            "sizeref": 0.0425
           },
           "mode": "markers+text",
           "name": "False",
           "showlegend": true,
           "subplot": "mapbox",
           "text": [
            "Broadway St",
            "C St",
            "Cedar St",
            "Cornwall St",
            "Cornwall St",
            "Olive St",
            "Squalicum Creek"
           ],
           "type": "scattermapbox"
          }
         ],
         "name": "2021-08"
        },
        {
         "data": [
          {
           "hovertemplate": "is_exceedence=True<br>Month=2021-09<br>scale=%{marker.size}<br>Site ID=%{text}<br>Latitude=%{lat}<br>Longitude=%{lon}<extra></extra>",
           "lat": {
            "bdata": "48eYu5ZgSEA=",
            "dtype": "f8"
           },
           "legendgroup": "True",
           "lon": {
            "bdata": "CYofY+6eXsA=",
            "dtype": "f8"
           },
           "marker": {
            "color": "red",
            "size": {
             "bdata": "AAAAAACAD0A=",
             "dtype": "f8"
            },
            "sizemode": "area",
            "sizeref": 0.0425
           },
           "mode": "markers+text",
           "name": "True",
           "showlegend": true,
           "subplot": "mapbox",
           "text": [
            "Whatcom Creek"
           ],
           "type": "scattermapbox"
          },
          {
           "hovertemplate": "is_exceedence=False<br>Month=2021-09<br>scale=%{marker.size}<br>Site ID=%{text}<br>Latitude=%{lat}<br>Longitude=%{lon}<extra></extra>",
           "lat": {
            "bdata": "PujZrPpcSEApyxDHumBIQI51cRsNYEhAjnVxGw1gSEBXW7G/7F5IQMl2vp8aX0hAPSzUmuZdSEAofoy5a2FIQA==",
            "dtype": "f8"
           },
           "legendgroup": "False",
           "lon": {
            "bdata": "Dk+vlGWgXsCI9NvXgZ9ewN6Th4Van17A3pOHhVqfXsCsrdhfdp9ewB04Z0Rpn17AhxbZzvefXsAGgZVDi6BewA==",
            "dtype": "f8"
           },
           "marker": {
            "color": "green",
            "size": {
             "bdata": "AAAAAABA8j8AAAAAAMDwPwAAAAAAAPI/AAAAAABA8j8AAAAAAMDwPwAAAAAAAPI/AAAAAAAA8z8AAAAAAEDyPw==",
             "dtype": "f8"
            },
            "sizemode": "area",
            "sizeref": 0.0425
           },
           "mode": "markers+text",
           "name": "False",
           "showlegend": true,
           "subplot": "mapbox",
           "text": [
            "Bennett Ave",
            "Broadway St",
            "C St",
            "C St",
            "Cedar St",
            "Cornwall St",
            "Olive St",
            "Squalicum Creek"
           ],
           "type": "scattermapbox"
          }
         ],
         "name": "2021-09"
        },
        {
         "data": [
          {
           "hovertemplate": "is_exceedence=True<br>Month=2021-10<br>scale=%{marker.size}<br>Site ID=%{text}<br>Latitude=%{lat}<br>Longitude=%{lon}<extra></extra>",
           "lat": {
            "bdata": "PujZrPpcSEA=",
            "dtype": "f8"
           },
           "legendgroup": "True",
           "lon": {
            "bdata": "Dk+vlGWgXsA=",
            "dtype": "f8"
           },
           "marker": {
            "color": "red",
            "size": {
             "bdata": "AAAAAADA9j8=",
             "dtype": "f8"
            },
            "sizemode": "area",
            "sizeref": 0.0425
           },
           "mode": "markers+text",
           "name": "True",
           "showlegend": true,
           "subplot": "mapbox",
           "text": [
            "Bennett Ave"
           ],
           "type": "scattermapbox"
          },
          {
           "hovertemplate": "is_exceedence=False<br>Month=2021-10<br>scale=%{marker.size}<br>Site ID=%{text}<br>Latitude=%{lat}<br>Longitude=%{lon}<extra></extra>",
           "lat": {
            "bdata": "KcsQx7pgSEApyxDHumBIQI51cRsNYEhAV1uxv+xeSEDJdr6fGl9IQD0s1JrmXUhAKH6MuWthSEDjx5i7lmBIQA==",
            "dtype": "f8"
           },
           "legendgroup": "False",
           "lon": {
            "bdata": "iPTb14GfXsCI9NvXgZ9ewN6Th4Van17ArK3YX3afXsAdOGdEaZ9ewIcW2c73n17ABoGVQ4ugXsAJih9j7p5ewA==",
            "dtype": "f8"
           },
           "marker": {
            "color": "green",
            "size": {
             "bdata": "AAAAAABA8D8AAAAAAEDwPwAAAAAAwPM/AAAAAAAA8j8AAAAAAEDwPwAAAAAAwPM/AAAAAACA8D8AAAAAAEDzPw==",
             "dtype": "f8"
            },
            "sizemode": "area",
            "sizeref": 0.0425
           },
           "mode": "markers+text",
           "name": "False",
           "showlegend": true,
           "subplot": "mapbox",
           "text": [
            "Broadway St",
            "Broadway St",
            "C St",
            "Cedar St",
            "Cornwall St",
            "Olive St",
            "Squalicum Creek",
            "Whatcom Creek"
           ],
           "type": "scattermapbox"
          }
         ],
         "name": "2021-10"
        },
        {
         "data": [
          {
           "hovertemplate": "is_exceedence=True<br>Month=2021-11<br>scale=%{marker.size}<br>Site ID=%{text}<br>Latitude=%{lat}<br>Longitude=%{lon}<extra></extra>",
           "lat": {
            "bdata": "PujZrPpcSEA=",
            "dtype": "f8"
           },
           "legendgroup": "True",
           "lon": {
            "bdata": "Dk+vlGWgXsA=",
            "dtype": "f8"
           },
           "marker": {
            "color": "red",
            "size": {
             "bdata": "AAAAAABA9T8=",
             "dtype": "f8"
            },
            "sizemode": "area",
            "sizeref": 0.0425
           },
           "mode": "markers+text",
           "name": "True",
           "showlegend": true,
           "subplot": "mapbox",
           "text": [
            "Bennett Ave"
           ],
           "type": "scattermapbox"
          },
          {
           "hovertemplate": "is_exceedence=False<br>Month=2021-11<br>scale=%{marker.size}<br>Site ID=%{text}<br>Latitude=%{lat}<br>Longitude=%{lon}<extra></extra>",
           "lat": {
            "bdata": "KcsQx7pgSECOdXEbDWBIQFdbsb/sXkhAV1uxv+xeSEDJdr6fGl9IQD0s1JrmXUhAKH6MuWthSEDjx5i7lmBIQA==",
            "dtype": "f8"
           },
           "legendgroup": "False",
           "lon": {
            "bdata": "iPTb14GfXsDek4eFWp9ewKyt2F92n17ArK3YX3afXsAdOGdEaZ9ewIcW2c73n17ABoGVQ4ugXsAJih9j7p5ewA==",
            "dtype": "f8"
           },
           "marker": {
            "color": "green",
            "size": {
             "bdata": "AAAAAACA8T8AAAAAAMDxPwAAAAAAQPA/AAAAAADA8D8AAAAAAMDwPwAAAAAAgPE/AAAAAADA8z8AAAAAAEDyPw==",
             "dtype": "f8"
            },
            "sizemode": "area",
            "sizeref": 0.0425
           },
           "mode": "markers+text",
           "name": "False",
           "showlegend": true,
           "subplot": "mapbox",
           "text": [
            "Broadway St",
            "C St",
            "Cedar St",
            "Cedar St",
            "Cornwall St",
            "Olive St",
            "Squalicum Creek",
            "Whatcom Creek"
           ],
           "type": "scattermapbox"
          }
         ],
         "name": "2021-11"
        },
        {
         "data": [
          {
           "hovertemplate": "is_exceedence=True<br>Month=2021-12<br>scale=%{marker.size}<br>Site ID=%{text}<br>Latitude=%{lat}<br>Longitude=%{lon}<extra></extra>",
           "lat": {
            "bdata": "KcsQx7pgSECOdXEbDWBIQFdbsb/sXkhAyXa+nxpfSEA9LNSa5l1IQCh+jLlrYUhA48eYu5ZgSEA=",
            "dtype": "f8"
           },
           "legendgroup": "True",
           "lon": {
            "bdata": "iPTb14GfXsDek4eFWp9ewKyt2F92n17AHThnRGmfXsCHFtnO959ewAaBlUOLoF7ACYofY+6eXsA=",
            "dtype": "f8"
           },
           "marker": {
            "color": "red",
            "size": {
             "bdata": "AAAAAACA9z8AAAAAAOADQAAAAAAAgPU/AAAAAABA+D8AAAAAAAD6PwAAAAAAgPw/AAAAAABA9D8=",
             "dtype": "f8"
            },
            "sizemode": "area",
            "sizeref": 0.0425
           },
           "mode": "markers+text",
           "name": "True",
           "showlegend": true,
           "subplot": "mapbox",
           "text": [
            "Broadway St",
            "C St",
            "Cedar St",
            "Cornwall St",
            "Olive St",
            "Squalicum Creek",
            "Whatcom Creek"
           ],
           "type": "scattermapbox"
          },
          {
           "hovertemplate": "is_exceedence=False<br>Month=2021-12<br>scale=%{marker.size}<br>Site ID=%{text}<br>Latitude=%{lat}<br>Longitude=%{lon}<extra></extra>",
           "lat": {
            "bdata": "PujZrPpcSEApyxDHumBIQA==",
            "dtype": "f8"
           },
           "legendgroup": "False",
           "lon": {
            "bdata": "Dk+vlGWgXsCI9NvXgZ9ewA==",
            "dtype": "f8"
           },
           "marker": {
            "color": "green",
            "size": {
             "bdata": "AAAAAABA8z8AAAAAAIDzPw==",
             "dtype": "f8"
            },
            "sizemode": "area",
            "sizeref": 0.0425
           },
           "mode": "markers+text",
           "name": "False",
           "showlegend": true,
           "subplot": "mapbox",
           "text": [
            "Bennett Ave",
            "Broadway St"
           ],
           "type": "scattermapbox"
          }
         ],
         "name": "2021-12"
        },
        {
         "data": [
          {
           "hovertemplate": "is_exceedence=True<br>Month=2022-01<br>scale=%{marker.size}<br>Site ID=%{text}<br>Latitude=%{lat}<br>Longitude=%{lon}<extra></extra>",
           "lat": {
            "bdata": "PujZrPpcSEA+6Nms+lxIQI51cRsNYEhAV1uxv+xeSEA=",
            "dtype": "f8"
           },
           "legendgroup": "True",
           "lon": {
            "bdata": "Dk+vlGWgXsAOT6+UZaBewN6Th4Van17ArK3YX3afXsA=",
            "dtype": "f8"
           },
           "marker": {
            "color": "red",
            "size": {
             "bdata": "AAAAAACA/D8AAAAAAAAAQAAAAAAAAPc/AAAAAAAA9T8=",
             "dtype": "f8"
            },
            "sizemode": "area",
            "sizeref": 0.0425
           },
           "mode": "markers+text",
           "name": "True",
           "showlegend": true,
           "subplot": "mapbox",
           "text": [
            "Bennett Ave",
            "Bennett Ave",
            "C St",
            "Cedar St"
           ],
           "type": "scattermapbox"
          },
          {
           "hovertemplate": "is_exceedence=False<br>Month=2022-01<br>scale=%{marker.size}<br>Site ID=%{text}<br>Latitude=%{lat}<br>Longitude=%{lon}<extra></extra>",
           "lat": {
            "bdata": "KcsQx7pgSEDJdr6fGl9IQD0s1JrmXUhAKH6MuWthSEDjx5i7lmBIQA==",
            "dtype": "f8"
           },
           "legendgroup": "False",
           "lon": {
            "bdata": "iPTb14GfXsAdOGdEaZ9ewIcW2c73n17ABoGVQ4ugXsAJih9j7p5ewA==",
            "dtype": "f8"
           },
           "marker": {
            "color": "green",
            "size": {
             "bdata": "AAAAAACA8z8AAAAAAIDyPwAAAAAAAPE/AAAAAADA8j8AAAAAAIDxPw==",
             "dtype": "f8"
            },
            "sizemode": "area",
            "sizeref": 0.0425
           },
           "mode": "markers+text",
           "name": "False",
           "showlegend": true,
           "subplot": "mapbox",
           "text": [
            "Broadway St",
            "Cornwall St",
            "Olive St",
            "Squalicum Creek",
            "Whatcom Creek"
           ],
           "type": "scattermapbox"
          }
         ],
         "name": "2022-01"
        },
        {
         "data": [
          {
           "hovertemplate": "is_exceedence=True<br>Month=2022-02<br>scale=%{marker.size}<br>Site ID=%{text}<br>Latitude=%{lat}<br>Longitude=%{lon}<extra></extra>",
           "lat": {
            "bdata": "PujZrPpcSEA+6Nms+lxIQI51cRsNYEhAyXa+nxpfSEA=",
            "dtype": "f8"
           },
           "legendgroup": "True",
           "lon": {
            "bdata": "Dk+vlGWgXsAOT6+UZaBewN6Th4Van17AHThnRGmfXsA=",
            "dtype": "f8"
           },
           "marker": {
            "color": "red",
            "size": {
             "bdata": "AAAAAABA9T8AAAAAAID0PwAAAAAAAAZAAAAAAACA+D8=",
             "dtype": "f8"
            },
            "sizemode": "area",
            "sizeref": 0.0425
           },
           "mode": "markers+text",
           "name": "True",
           "showlegend": true,
           "subplot": "mapbox",
           "text": [
            "Bennett Ave",
            "Bennett Ave",
            "C St",
            "Cornwall St"
           ],
           "type": "scattermapbox"
          },
          {
           "hovertemplate": "is_exceedence=False<br>Month=2022-02<br>scale=%{marker.size}<br>Site ID=%{text}<br>Latitude=%{lat}<br>Longitude=%{lon}<extra></extra>",
           "lat": {
            "bdata": "KcsQx7pgSEBXW7G/7F5IQD0s1JrmXUhAKH6MuWthSEDjx5i7lmBIQA==",
            "dtype": "f8"
           },
           "legendgroup": "False",
           "lon": {
            "bdata": "iPTb14GfXsCsrdhfdp9ewIcW2c73n17ABoGVQ4ugXsAJih9j7p5ewA==",
            "dtype": "f8"
           },
           "marker": {
            "color": "green",
            "size": {
             "bdata": "AAAAAACA8D8AAAAAAEDzPwAAAAAAQPI/AAAAAABA8D8AAAAAAADzPw==",
             "dtype": "f8"
            },
            "sizemode": "area",
            "sizeref": 0.0425
           },
           "mode": "markers+text",
           "name": "False",
           "showlegend": true,
           "subplot": "mapbox",
           "text": [
            "Broadway St",
            "Cedar St",
            "Olive St",
            "Squalicum Creek",
            "Whatcom Creek"
           ],
           "type": "scattermapbox"
          }
         ],
         "name": "2022-02"
        },
        {
         "data": [
          {
           "hovertemplate": "is_exceedence=True<br>Month=2022-03<br>scale=%{marker.size}<br>Site ID=%{text}<br>Latitude=%{lat}<br>Longitude=%{lon}<extra></extra>",
           "lat": {
            "bdata": "PujZrPpcSEA=",
            "dtype": "f8"
           },
           "legendgroup": "True",
           "lon": {
            "bdata": "Dk+vlGWgXsA=",
            "dtype": "f8"
           },
           "marker": {
            "color": "red",
            "size": {
             "bdata": "AAAAAAAA/T8=",
             "dtype": "f8"
            },
            "sizemode": "area",
            "sizeref": 0.0425
           },
           "mode": "markers+text",
           "name": "True",
           "showlegend": true,
           "subplot": "mapbox",
           "text": [
            "Bennett Ave"
           ],
           "type": "scattermapbox"
          },
          {
           "hovertemplate": "is_exceedence=False<br>Month=2022-03<br>scale=%{marker.size}<br>Site ID=%{text}<br>Latitude=%{lat}<br>Longitude=%{lon}<extra></extra>",
           "lat": {
            "bdata": "KcsQx7pgSECOdXEbDWBIQFdbsb/sXkhAyXa+nxpfSEDJdr6fGl9IQD0s1JrmXUhAKH6MuWthSEDjx5i7lmBIQA==",
            "dtype": "f8"
           },
           "legendgroup": "False",
           "lon": {
            "bdata": "iPTb14GfXsDek4eFWp9ewKyt2F92n17AHThnRGmfXsAdOGdEaZ9ewIcW2c73n17ABoGVQ4ugXsAJih9j7p5ewA==",
            "dtype": "f8"
           },
           "marker": {
            "color": "green",
            "size": {
             "bdata": "AAAAAABA8T8AAAAAAIDwPwAAAAAAQPA/AAAAAABA8z8AAAAAAMDyPwAAAAAAAPI/AAAAAACA8D8AAAAAAEDwPw==",
             "dtype": "f8"
            },
            "sizemode": "area",
            "sizeref": 0.0425
           },
           "mode": "markers+text",
           "name": "False",
           "showlegend": true,
           "subplot": "mapbox",
           "text": [
            "Broadway St",
            "C St",
            "Cedar St",
            "Cornwall St",
            "Cornwall St",
            "Olive St",
            "Squalicum Creek",
            "Whatcom Creek"
           ],
           "type": "scattermapbox"
          }
         ],
         "name": "2022-03"
        },
        {
         "data": [
          {
           "hovertemplate": "is_exceedence=True<br>Month=2022-04<br>scale=%{marker.size}<br>Site ID=%{text}<br>Latitude=%{lat}<br>Longitude=%{lon}<extra></extra>",
           "lat": {
            "bdata": "jnVxGw1gSEBXW7G/7F5IQA==",
            "dtype": "f8"
           },
           "legendgroup": "True",
           "lon": {
            "bdata": "3pOHhVqfXsCsrdhfdp9ewA==",
            "dtype": "f8"
           },
           "marker": {
            "color": "red",
            "size": {
             "bdata": "AAAAAACA+T8AAAAAAED2Pw==",
             "dtype": "f8"
            },
            "sizemode": "area",
            "sizeref": 0.0425
           },
           "mode": "markers+text",
           "name": "True",
           "showlegend": true,
           "subplot": "mapbox",
           "text": [
            "C St",
            "Cedar St"
           ],
           "type": "scattermapbox"
          },
          {
           "hovertemplate": "is_exceedence=False<br>Month=2022-04<br>scale=%{marker.size}<br>Site ID=%{text}<br>Latitude=%{lat}<br>Longitude=%{lon}<extra></extra>",
           "lat": {
            "bdata": "PujZrPpcSEApyxDHumBIQMl2vp8aX0hAyXa+nxpfSEAnoImw4WFIQD0s1JrmXUhAwOyePCxcSEAofoy5a2FIQOPHmLuWYEhA",
            "dtype": "f8"
           },
           "legendgroup": "False",
           "lon": {
            "bdata": "Dk+vlGWgXsCI9NvXgZ9ewB04Z0Rpn17AHThnRGmfXsAijnVxG6FewIcW2c73n17A/yH99nWgXsAGgZVDi6BewAmKH2Punl7A",
            "dtype": "f8"
           },
           "marker": {
            "color": "green",
            "size": {
             "bdata": "AAAAAADA8j8AAAAAAEDwPwAAAAAAQPI/AAAAAABA8T8AAAAAAIDwPwAAAAAAAPE/AAAAAACA8j8AAAAAAMDwPwAAAAAAAPE/",
             "dtype": "f8"
            },
            "sizemode": "area",
            "sizeref": 0.0425
           },
           "mode": "markers+text",
           "name": "False",
           "showlegend": true,
           "subplot": "mapbox",
           "text": [
            "Bennett Ave",
            "Broadway St",
            "Cornwall St",
            "Cornwall St",
            "Little Squalicum Creek",
            "Olive St",
            "Padden Creek",
            "Squalicum Creek",
            "Whatcom Creek"
           ],
           "type": "scattermapbox"
          }
         ],
         "name": "2022-04"
        },
        {
         "data": [
          {
           "hovertemplate": "is_exceedence=True<br>Month=2022-05<br>scale=%{marker.size}<br>Site ID=%{text}<br>Latitude=%{lat}<br>Longitude=%{lon}<extra></extra>",
           "lat": {
            "bdata": "PujZrPpcSEApyxDHumBIQI51cRsNYEhAV1uxv+xeSEDJdr6fGl9IQMDsnjwsXEhAKH6MuWthSEA=",
            "dtype": "f8"
           },
           "legendgroup": "True",
           "lon": {
            "bdata": "Dk+vlGWgXsCI9NvXgZ9ewN6Th4Van17ArK3YX3afXsAdOGdEaZ9ewP8h/fZ1oF7ABoGVQ4ugXsA=",
            "dtype": "f8"
           },
           "marker": {
            "color": "red",
            "size": {
             "bdata": "AAAAAAAA9j8AAAAAAAD2PwAAAAAAwPU/AAAAAAAA+D8AAAAAAED3PwAAAAAAgPY/AAAAAABA9z8=",
             "dtype": "f8"
            },
            "sizemode": "area",
            "sizeref": 0.0425
           },
           "mode": "markers+text",
           "name": "True",
           "showlegend": true,
           "subplot": "mapbox",
           "text": [
            "Bennett Ave",
            "Broadway St",
            "C St",
            "Cedar St",
            "Cornwall St",
            "Padden Creek",
            "Squalicum Creek"
           ],
           "type": "scattermapbox"
          },
          {
           "hovertemplate": "is_exceedence=False<br>Month=2022-05<br>scale=%{marker.size}<br>Site ID=%{text}<br>Latitude=%{lat}<br>Longitude=%{lon}<extra></extra>",
           "lat": {
            "bdata": "J6CJsOFhSEA9LNSa5l1IQOPHmLuWYEhA48eYu5ZgSEA=",
            "dtype": "f8"
           },
           "legendgroup": "False",
           "lon": {
            "bdata": "Io51cRuhXsCHFtnO959ewAmKH2Punl7ACYofY+6eXsA=",
            "dtype": "f8"
           },
           "marker": {
            "color": "green",
            "size": {
             "bdata": "AAAAAABA8j8AAAAAAIDxPwAAAAAAAPI/mpmZmZk58D8=",
             "dtype": "f8"
            },
            "sizemode": "area",
            "sizeref": 0.0425
           },
           "mode": "markers+text",
           "name": "False",
           "showlegend": true,
           "subplot": "mapbox",
           "text": [
            "Little Squalicum Creek",
            "Olive St",
            "Whatcom Creek",
            "Whatcom Creek"
           ],
           "type": "scattermapbox"
          }
         ],
         "name": "2022-05"
        },
        {
         "data": [
          {
           "hovertemplate": "is_exceedence=True<br>Month=2022-06<br>scale=%{marker.size}<br>Site ID=%{text}<br>Latitude=%{lat}<br>Longitude=%{lon}<extra></extra>",
           "lat": {
            "bdata": "jnVxGw1gSECOdXEbDWBIQD0s1JrmXUhAwOyePCxcSEAofoy5a2FIQOPHmLuWYEhA",
            "dtype": "f8"
           },
           "legendgroup": "True",
           "lon": {
            "bdata": "3pOHhVqfXsDek4eFWp9ewIcW2c73n17A/yH99nWgXsAGgZVDi6BewAmKH2Punl7A",
            "dtype": "f8"
           },
           "marker": {
            "color": "red",
            "size": {
             "bdata": "AAAAAACA9D8AAAAAAMD0PwAAAAAAQPc/AAAAAAAAAEAAAAAAAMD/PwAAAAAAgPQ/",
             "dtype": "f8"
            },
            "sizemode": "area",
            "sizeref": 0.0425
           },
           "mode": "markers+text",
           "name": "True",
           "showlegend": true,
           "subplot": "mapbox",
           "text": [
            "C St",
            "C St",
            "Olive St",
            "Padden Creek",
            "Squalicum Creek",
            "Whatcom Creek"
           ],
           "type": "scattermapbox"
          },
          {
           "hovertemplate": "is_exceedence=False<br>Month=2022-06<br>scale=%{marker.size}<br>Site ID=%{text}<br>Latitude=%{lat}<br>Longitude=%{lon}<extra></extra>",
           "lat": {
            "bdata": "PujZrPpcSEApyxDHumBIQFdbsb/sXkhAyXa+nxpfSEAnoImw4WFIQEI+6NmsWkhA",
            "dtype": "f8"
           },
           "legendgroup": "False",
           "lon": {
            "bdata": "Dk+vlGWgXsCI9NvXgZ9ewKyt2F92n17AHThnRGmfXsAijnVxG6FewKJFtvP9oF7A",
            "dtype": "f8"
           },
           "marker": {
            "color": "green",
            "size": {
             "bdata": "AAAAAADA8j8AAAAAAADzPwAAAAAAQPE/AAAAAACA8T8AAAAAAIDyPwAAAAAAwPE/",
             "dtype": "f8"
            },
            "sizemode": "area",
            "sizeref": 0.0425
           },
           "mode": "markers+text",
           "name": "False",
           "showlegend": true,
           "subplot": "mapbox",
           "text": [
            "Bennett Ave",
            "Broadway St",
            "Cedar St",
            "Cornwall St",
            "Little Squalicum Creek",
            "Willow St"
           ],
           "type": "scattermapbox"
          }
         ],
         "name": "2022-06"
        },
        {
         "data": [
          {
           "hovertemplate": "is_exceedence=True<br>Month=2022-07<br>scale=%{marker.size}<br>Site ID=%{text}<br>Latitude=%{lat}<br>Longitude=%{lon}<extra></extra>",
           "lat": {
            "bdata": "PujZrPpcSECOdXEbDWBIQFdbsb/sXkhAJ6CJsOFhSEA9LNSa5l1IQCh+jLlrYUhA48eYu5ZgSEBCPujZrFpIQA==",
            "dtype": "f8"
           },
           "legendgroup": "True",
           "lon": {
            "bdata": "Dk+vlGWgXsDek4eFWp9ewKyt2F92n17AIo51cRuhXsCHFtnO959ewAaBlUOLoF7ACYofY+6eXsCiRbbz/aBewA==",
            "dtype": "f8"
           },
           "marker": {
            "color": "red",
            "size": {
             "bdata": "AAAAAAAAMUAAAAAAAID6PwAAAAAAgAdAAAAAAAAADEAAAAAAAED4PwAAAAAAABBAAAAAAACgA0AAAAAAAED0Pw==",
             "dtype": "f8"
            },
            "sizemode": "area",
            "sizeref": 0.0425
           },
           "mode": "markers+text",
           "name": "True",
           "showlegend": true,
           "subplot": "mapbox",
           "text": [
            "Bennett Ave",
            "C St",
            "Cedar St",
            "Little Squalicum Creek",
            "Olive St",
            "Squalicum Creek",
            "Whatcom Creek",
            "Willow St"
           ],
           "type": "scattermapbox"
          },
          {
           "hovertemplate": "is_exceedence=False<br>Month=2022-07<br>scale=%{marker.size}<br>Site ID=%{text}<br>Latitude=%{lat}<br>Longitude=%{lon}<extra></extra>",
           "lat": {
            "bdata": "KcsQx7pgSEApyxDHumBIQMl2vp8aX0hAwOyePCxcSEA=",
            "dtype": "f8"
           },
           "legendgroup": "False",
           "lon": {
            "bdata": "iPTb14GfXsCI9NvXgZ9ewB04Z0Rpn17A/yH99nWgXsA=",
            "dtype": "f8"
           },
           "marker": {
            "color": "green",
            "size": {
             "bdata": "AAAAAAAA8D8AAAAAAMDwPwAAAAAAAPA/AAAAAABA8z8=",
             "dtype": "f8"
            },
            "sizemode": "area",
            "sizeref": 0.0425
           },
           "mode": "markers+text",
           "name": "False",
           "showlegend": true,
           "subplot": "mapbox",
           "text": [
            "Broadway St",
            "Broadway St",
            "Cornwall St",
            "Padden Creek"
           ],
           "type": "scattermapbox"
          }
         ],
         "name": "2022-07"
        },
        {
         "data": [
          {
           "hovertemplate": "is_exceedence=True<br>Month=2022-08<br>scale=%{marker.size}<br>Site ID=%{text}<br>Latitude=%{lat}<br>Longitude=%{lon}<extra></extra>",
           "lat": {
            "bdata": "PujZrPpcSEApyxDHumBIQFdbsb/sXkhAwOyePCxcSEAofoy5a2FIQA==",
            "dtype": "f8"
           },
           "legendgroup": "True",
           "lon": {
            "bdata": "Dk+vlGWgXsCI9NvXgZ9ewKyt2F92n17A/yH99nWgXsAGgZVDi6BewA==",
            "dtype": "f8"
           },
           "marker": {
            "color": "red",
            "size": {
             "bdata": "AAAAAAAAB0AAAAAAAKAAQAAAAAAAQPs/AAAAAACA9j8AAAAAAED3Pw==",
             "dtype": "f8"
            },
            "sizemode": "area",
            "sizeref": 0.0425
           },
           "mode": "markers+text",
           "name": "True",
           "showlegend": true,
           "subplot": "mapbox",
           "text": [
            "Bennett Ave",
            "Broadway St",
            "Cedar St",
            "Padden Creek",
            "Squalicum Creek"
           ],
           "type": "scattermapbox"
          },
          {
           "hovertemplate": "is_exceedence=False<br>Month=2022-08<br>scale=%{marker.size}<br>Site ID=%{text}<br>Latitude=%{lat}<br>Longitude=%{lon}<extra></extra>",
           "lat": {
            "bdata": "jnVxGw1gSECOdXEbDWBIQMl2vp8aX0hAPSzUmuZdSEDjx5i7lmBIQEI+6NmsWkhA",
            "dtype": "f8"
           },
           "legendgroup": "False",
           "lon": {
            "bdata": "3pOHhVqfXsDek4eFWp9ewB04Z0Rpn17AhxbZzvefXsAJih9j7p5ewKJFtvP9oF7A",
            "dtype": "f8"
           },
           "marker": {
            "color": "green",
            "size": {
             "bdata": "AAAAAAAA8j8AAAAAAIDxPwAAAAAAQPA/AAAAAADA8T8AAAAAAEDyPwAAAAAAQPM/",
             "dtype": "f8"
            },
            "sizemode": "area",
            "sizeref": 0.0425
           },
           "mode": "markers+text",
           "name": "False",
           "showlegend": true,
           "subplot": "mapbox",
           "text": [
            "C St",
            "C St",
            "Cornwall St",
            "Olive St",
            "Whatcom Creek",
            "Willow St"
           ],
           "type": "scattermapbox"
          }
         ],
         "name": "2022-08"
        },
        {
         "data": [
          {
           "hovertemplate": "is_exceedence=True<br>Month=2022-09<br>scale=%{marker.size}<br>Site ID=%{text}<br>Latitude=%{lat}<br>Longitude=%{lon}<extra></extra>",
           "lat": {
            "bdata": "V1uxv+xeSEBXW7G/7F5IQA==",
            "dtype": "f8"
           },
           "legendgroup": "True",
           "lon": {
            "bdata": "rK3YX3afXsCsrdhfdp9ewA==",
            "dtype": "f8"
           },
           "marker": {
            "color": "red",
            "size": {
             "bdata": "AAAAAAAA9T8AAAAAAMD9Pw==",
             "dtype": "f8"
            },
            "sizemode": "area",
            "sizeref": 0.0425
           },
           "mode": "markers+text",
           "name": "True",
           "showlegend": true,
           "subplot": "mapbox",
           "text": [
            "Cedar St",
            "Cedar St"
           ],
           "type": "scattermapbox"
          },
          {
           "hovertemplate": "is_exceedence=False<br>Month=2022-09<br>scale=%{marker.size}<br>Site ID=%{text}<br>Latitude=%{lat}<br>Longitude=%{lon}<extra></extra>",
           "lat": {
            "bdata": "PujZrPpcSEApyxDHumBIQI51cRsNYEhAyXa+nxpfSEA9LNSa5l1IQMDsnjwsXEhAKH6MuWthSEDjx5i7lmBIQA==",
            "dtype": "f8"
           },
           "legendgroup": "False",
           "lon": {
            "bdata": "Dk+vlGWgXsCI9NvXgZ9ewN6Th4Van17AHThnRGmfXsCHFtnO959ewP8h/fZ1oF7ABoGVQ4ugXsAJih9j7p5ewA==",
            "dtype": "f8"
           },
           "marker": {
            "color": "green",
            "size": {
             "bdata": "AAAAAAAA8D8AAAAAAADwPwAAAAAAQPE/AAAAAABA8T8AAAAAAADwPwAAAAAAgPI/AAAAAABA8T8AAAAAAIDyPw==",
             "dtype": "f8"
            },
            "sizemode": "area",
            "sizeref": 0.0425
           },
           "mode": "markers+text",
           "name": "False",
           "showlegend": true,
           "subplot": "mapbox",
           "text": [
            "Bennett Ave",
            "Broadway St",
            "C St",
            "Cornwall St",
            "Olive St",
            "Padden Creek",
            "Squalicum Creek",
            "Whatcom Creek"
           ],
           "type": "scattermapbox"
          }
         ],
         "name": "2022-09"
        },
        {
         "data": [
          {
           "hovertemplate": "is_exceedence=True<br>Month=2022-10<br>scale=%{marker.size}<br>Site ID=%{text}<br>Latitude=%{lat}<br>Longitude=%{lon}<extra></extra>",
           "lat": {
            "bdata": "PujZrPpcSEBXW7G/7F5IQD0s1JrmXUhA",
            "dtype": "f8"
           },
           "legendgroup": "True",
           "lon": {
            "bdata": "Dk+vlGWgXsCsrdhfdp9ewIcW2c73n17A",
            "dtype": "f8"
           },
           "marker": {
            "color": "red",
            "size": {
             "bdata": "AAAAAAD4KEAAAAAAAED2PwAAAAAAAPU/",
             "dtype": "f8"
            },
            "sizemode": "area",
            "sizeref": 0.0425
           },
           "mode": "markers+text",
           "name": "True",
           "showlegend": true,
           "subplot": "mapbox",
           "text": [
            "Bennett Ave",
            "Cedar St",
            "Olive St"
           ],
           "type": "scattermapbox"
          },
          {
           "hovertemplate": "is_exceedence=False<br>Month=2022-10<br>scale=%{marker.size}<br>Site ID=%{text}<br>Latitude=%{lat}<br>Longitude=%{lon}<extra></extra>",
           "lat": {
            "bdata": "KcsQx7pgSECOdXEbDWBIQFdbsb/sXkhAyXa+nxpfSEDA7J48LFxIQCh+jLlrYUhA48eYu5ZgSEA=",
            "dtype": "f8"
           },
           "legendgroup": "False",
           "lon": {
            "bdata": "iPTb14GfXsDek4eFWp9ewKyt2F92n17AHThnRGmfXsD/If32daBewAaBlUOLoF7ACYofY+6eXsA=",
            "dtype": "f8"
           },
           "marker": {
            "color": "green",
            "size": {
             "bdata": "AAAAAABA8T8AAAAAAADwPwAAAAAAQPE/AAAAAAAA8D8AAAAAAEDxPwAAAAAAAPA/AAAAAAAA8D8=",
             "dtype": "f8"
            },
            "sizemode": "area",
            "sizeref": 0.0425
           },
           "mode": "markers+text",
           "name": "False",
           "showlegend": true,
           "subplot": "mapbox",
           "text": [
            "Broadway St",
            "C St",
            "Cedar St",
            "Cornwall St",
            "Padden Creek",
            "Squalicum Creek",
            "Whatcom Creek"
           ],
           "type": "scattermapbox"
          }
         ],
         "name": "2022-10"
        },
        {
         "data": [
          {
           "hovertemplate": "is_exceedence=True<br>Month=2022-11<br>scale=%{marker.size}<br>Site ID=%{text}<br>Latitude=%{lat}<br>Longitude=%{lon}<extra></extra>",
           "lat": {
            "bdata": "PujZrPpcSEApyxDHumBIQI51cRsNYEhAV1uxv+xeSEDJdr6fGl9IQMl2vp8aX0hAPSzUmuZdSEDA7J48LFxIQCh+jLlrYUhA48eYu5ZgSEA=",
            "dtype": "f8"
           },
           "legendgroup": "True",
           "lon": {
            "bdata": "Dk+vlGWgXsCI9NvXgZ9ewN6Th4Van17ArK3YX3afXsAdOGdEaZ9ewB04Z0Rpn17AhxbZzvefXsD/If32daBewAaBlUOLoF7ACYofY+6eXsA=",
            "dtype": "f8"
           },
           "marker": {
            "color": "red",
            "size": {
             "bdata": "AAAAAACA9z8AAAAAAOADQAAAAAAAAAdAAAAAAABwEUAAAAAAAED7PwAAAAAAQPs/AAAAAADA+D8AAAAAAID8PwAAAAAAoAJAAAAAAABA9j8=",
             "dtype": "f8"
            },
            "sizemode": "area",
            "sizeref": 0.0425
           },
           "mode": "markers+text",
           "name": "True",
           "showlegend": true,
           "subplot": "mapbox",
           "text": [
            "Bennett Ave",
            "Broadway St",
            "C St",
            "Cedar St",
            "Cornwall St",
            "Cornwall St",
            "Olive St",
            "Padden Creek",
            "Squalicum Creek",
            "Whatcom Creek"
           ],
           "type": "scattermapbox"
          },
          {
           "hovertemplate": "is_exceedence=False<br>Month=2022-11<br>scale=%{marker.size}<br>Site ID=%{text}<br>Latitude=%{lat}<br>Longitude=%{lon}<extra></extra>",
           "lat": {
            "bdata": "Qj7o2axaSEA=",
            "dtype": "f8"
           },
           "legendgroup": "False",
           "lon": {
            "bdata": "okW28/2gXsA=",
            "dtype": "f8"
           },
           "marker": {
            "color": "green",
            "size": {
             "bdata": "AAAAAACA8j8=",
             "dtype": "f8"
            },
            "sizemode": "area",
            "sizeref": 0.0425
           },
           "mode": "markers+text",
           "name": "False",
           "showlegend": true,
           "subplot": "mapbox",
           "text": [
            "Willow St"
           ],
           "type": "scattermapbox"
          }
         ],
         "name": "2022-11"
        },
        {
         "data": [
          {
           "hovertemplate": "is_exceedence=True<br>Month=2022-12<br>scale=%{marker.size}<br>Site ID=%{text}<br>Latitude=%{lat}<br>Longitude=%{lon}<extra></extra>",
           "lat": {
            "bdata": "PujZrPpcSEDjx5i7lmBIQA==",
            "dtype": "f8"
           },
           "legendgroup": "True",
           "lon": {
            "bdata": "Dk+vlGWgXsAJih9j7p5ewA==",
            "dtype": "f8"
           },
           "marker": {
            "color": "red",
            "size": {
             "bdata": "AAAAAABA9j+amZmZmTn0Pw==",
             "dtype": "f8"
            },
            "sizemode": "area",
            "sizeref": 0.0425
           },
           "mode": "markers+text",
           "name": "True",
           "showlegend": true,
           "subplot": "mapbox",
           "text": [
            "Bennett Ave",
            "Whatcom Creek"
           ],
           "type": "scattermapbox"
          },
          {
           "hovertemplate": "is_exceedence=False<br>Month=2022-12<br>scale=%{marker.size}<br>Site ID=%{text}<br>Latitude=%{lat}<br>Longitude=%{lon}<extra></extra>",
           "lat": {
            "bdata": "KcsQx7pgSECOdXEbDWBIQFdbsb/sXkhAV1uxv+xeSEDJdr6fGl9IQD0s1JrmXUhAwOyePCxcSEAofoy5a2FIQEI+6NmsWkhA",
            "dtype": "f8"
           },
           "legendgroup": "False",
           "lon": {
            "bdata": "iPTb14GfXsDek4eFWp9ewKyt2F92n17ArK3YX3afXsAdOGdEaZ9ewIcW2c73n17A/yH99nWgXsAGgZVDi6BewKJFtvP9oF7A",
            "dtype": "f8"
           },
           "marker": {
            "color": "green",
            "size": {
             "bdata": "mpmZmZnZ8D9mZmZmZvbxP83MzMzMbPA/mpmZmZl58D+amZmZmTnwPwAAAAAAAPA/AAAAAACA8T+amZmZmdnxPzMzMzMzk/A/",
             "dtype": "f8"
            },
            "sizemode": "area",
            "sizeref": 0.0425
           },
           "mode": "markers+text",
           "name": "False",
           "showlegend": true,
           "subplot": "mapbox",
           "text": [
            "Broadway St",
            "C St",
            "Cedar St",
            "Cedar St",
            "Cornwall St",
            "Olive St",
            "Padden Creek",
            "Squalicum Creek",
            "Willow St"
           ],
           "type": "scattermapbox"
          }
         ],
         "name": "2022-12"
        },
        {
         "data": [
          {
           "hovertemplate": "is_exceedence=True<br>Month=2023-01<br>scale=%{marker.size}<br>Site ID=%{text}<br>Latitude=%{lat}<br>Longitude=%{lon}<extra></extra>",
           "lat": {
            "bdata": "PujZrPpcSEA=",
            "dtype": "f8"
           },
           "legendgroup": "True",
           "lon": {
            "bdata": "Dk+vlGWgXsA=",
            "dtype": "f8"
           },
           "marker": {
            "color": "red",
            "size": {
             "bdata": "AAAAAACgE0A=",
             "dtype": "f8"
            },
            "sizemode": "area",
            "sizeref": 0.0425
           },
           "mode": "markers+text",
           "name": "True",
           "showlegend": true,
           "subplot": "mapbox",
           "text": [
            "Bennett Ave"
           ],
           "type": "scattermapbox"
          },
          {
           "hovertemplate": "is_exceedence=False<br>Month=2023-01<br>scale=%{marker.size}<br>Site ID=%{text}<br>Latitude=%{lat}<br>Longitude=%{lon}<extra></extra>",
           "lat": {
            "bdata": "KcsQx7pgSECOdXEbDWBIQFdbsb/sXkhAyXa+nxpfSEA9LNSa5l1IQMDsnjwsXEhAwOyePCxcSEAofoy5a2FIQOPHmLuWYEhAQj7o2axaSEA=",
            "dtype": "f8"
           },
           "legendgroup": "False",
           "lon": {
            "bdata": "iPTb14GfXsDek4eFWp9ewKyt2F92n17AHThnRGmfXsCHFtnO959ewP8h/fZ1oF7A/yH99nWgXsAGgZVDi6BewAmKH2Punl7AokW28/2gXsA=",
            "dtype": "f8"
           },
           "marker": {
            "color": "green",
            "size": {
             "bdata": "AAAAAACg8D8AAAAAAEDwPwAAAAAA4PA/AAAAAABg8D8AAAAAAADxPwAAAAAAYPI/AAAAAACA8T8AAAAAAODwPwAAAAAA4PA/AAAAAADA8D8=",
             "dtype": "f8"
            },
            "sizemode": "area",
            "sizeref": 0.0425
           },
           "mode": "markers+text",
           "name": "False",
           "showlegend": true,
           "subplot": "mapbox",
           "text": [
            "Broadway St",
            "C St",
            "Cedar St",
            "Cornwall St",
            "Olive St",
            "Padden Creek",
            "Padden Creek",
            "Squalicum Creek",
            "Whatcom Creek",
            "Willow St"
           ],
           "type": "scattermapbox"
          }
         ],
         "name": "2023-01"
        },
        {
         "data": [
          {
           "hovertemplate": "is_exceedence=False<br>Month=2023-02<br>scale=%{marker.size}<br>Site ID=%{text}<br>Latitude=%{lat}<br>Longitude=%{lon}<extra></extra>",
           "lat": {
            "bdata": "PujZrPpcSEApyxDHumBIQI51cRsNYEhAV1uxv+xeSEDJdr6fGl9IQD0s1JrmXUhAwOyePCxcSEDjx5i7lmBIQEI+6NmsWkhAQj7o2axaSEA=",
            "dtype": "f8"
           },
           "legendgroup": "False",
           "lon": {
            "bdata": "Dk+vlGWgXsCI9NvXgZ9ewN6Th4Van17ArK3YX3afXsAdOGdEaZ9ewIcW2c73n17A/yH99nWgXsAJih9j7p5ewKJFtvP9oF7AokW28/2gXsA=",
            "dtype": "f8"
           },
           "marker": {
            "color": "green",
            "size": {
             "bdata": "mpmZmZk58j8zMzMzMxPwPwAAAAAAgPA/mpmZmZkp8D8zMzMzM0PwP5qZmZmZ6fE/MzMzMzND8D/NzMzMzGzwPzMzMzMzA/A/MzMzMzMD8D8=",
             "dtype": "f8"
            },
            "sizemode": "area",
            "sizeref": 0.0425
           },
           "mode": "markers+text",
           "name": "False",
           "showlegend": true,
           "subplot": "mapbox",
           "text": [
            "Bennett Ave",
            "Broadway St",
            "C St",
            "Cedar St",
            "Cornwall St",
            "Olive St",
            "Padden Creek",
            "Whatcom Creek",
            "Willow St",
            "Willow St"
           ],
           "type": "scattermapbox"
          }
         ],
         "name": "2023-02"
        },
        {
         "data": [
          {
           "hovertemplate": "is_exceedence=True<br>Month=2023-03<br>scale=%{marker.size}<br>Site ID=%{text}<br>Latitude=%{lat}<br>Longitude=%{lon}<extra></extra>",
           "lat": {
            "bdata": "PujZrPpcSECOdXEbDWBIQA==",
            "dtype": "f8"
           },
           "legendgroup": "True",
           "lon": {
            "bdata": "Dk+vlGWgXsDek4eFWp9ewA==",
            "dtype": "f8"
           },
           "marker": {
            "color": "red",
            "size": {
             "bdata": "AAAAAADA+D8AAAAAAED2Pw==",
             "dtype": "f8"
            },
            "sizemode": "area",
            "sizeref": 0.0425
           },
           "mode": "markers+text",
           "name": "True",
           "showlegend": true,
           "subplot": "mapbox",
           "text": [
            "Bennett Ave",
            "C St"
           ],
           "type": "scattermapbox"
          },
          {
           "hovertemplate": "is_exceedence=False<br>Month=2023-03<br>scale=%{marker.size}<br>Site ID=%{text}<br>Latitude=%{lat}<br>Longitude=%{lon}<extra></extra>",
           "lat": {
            "bdata": "KcsQx7pgSEBXW7G/7F5IQMl2vp8aX0hAJ6CJsOFhSEA9LNSa5l1IQMDsnjwsXEhAKH6MuWthSEDjx5i7lmBIQEI+6NmsWkhAQj7o2axaSEA=",
            "dtype": "f8"
           },
           "legendgroup": "False",
           "lon": {
            "bdata": "iPTb14GfXsCsrdhfdp9ewB04Z0Rpn17AIo51cRuhXsCHFtnO959ewP8h/fZ1oF7ABoGVQ4ugXsAJih9j7p5ewKJFtvP9oF7AokW28/2gXsA=",
            "dtype": "f8"
           },
           "marker": {
            "color": "green",
            "size": {
             "bdata": "AAAAAACA8j8AAAAAAEDxPwAAAAAAQPE/AAAAAABA8T8AAAAAAMDzPwAAAAAAQPE/AAAAAABA8T8AAAAAAEDxPwAAAAAAQPE/AAAAAABA8T8=",
             "dtype": "f8"
            },
            "sizemode": "area",
            "sizeref": 0.0425
           },
           "mode": "markers+text",
           "name": "False",
           "showlegend": true,
           "subplot": "mapbox",
           "text": [
            "Broadway St",
            "Cedar St",
            "Cornwall St",
            "Little Squalicum Creek",
            "Olive St",
            "Padden Creek",
            "Squalicum Creek",
            "Whatcom Creek",
            "Willow St",
            "Willow St"
           ],
           "type": "scattermapbox"
          }
         ],
         "name": "2023-03"
        },
        {
         "data": [
          {
           "hovertemplate": "is_exceedence=True<br>Month=2023-04<br>scale=%{marker.size}<br>Site ID=%{text}<br>Latitude=%{lat}<br>Longitude=%{lon}<extra></extra>",
           "lat": {
            "bdata": "PujZrPpcSECOdXEbDWBIQD0s1JrmXUhA",
            "dtype": "f8"
           },
           "legendgroup": "True",
           "lon": {
            "bdata": "Dk+vlGWgXsDek4eFWp9ewIcW2c73n17A",
            "dtype": "f8"
           },
           "marker": {
            "color": "red",
            "size": {
             "bdata": "AAAAAADg9T8AAAAAAKAHQAAAAAAAQPc/",
             "dtype": "f8"
            },
            "sizemode": "area",
            "sizeref": 0.0425
           },
           "mode": "markers+text",
           "name": "True",
           "showlegend": true,
           "subplot": "mapbox",
           "text": [
            "Bennett Ave",
            "C St",
            "Olive St"
           ],
           "type": "scattermapbox"
          },
          {
           "hovertemplate": "is_exceedence=False<br>Month=2023-04<br>scale=%{marker.size}<br>Site ID=%{text}<br>Latitude=%{lat}<br>Longitude=%{lon}<extra></extra>",
           "lat": {
            "bdata": "KcsQx7pgSEBXW7G/7F5IQMl2vp8aX0hAJ6CJsOFhSEDA7J48LFxIQCh+jLlrYUhA48eYu5ZgSEDjx5i7lmBIQEI+6NmsWkhA",
            "dtype": "f8"
           },
           "legendgroup": "False",
           "lon": {
            "bdata": "iPTb14GfXsCsrdhfdp9ewB04Z0Rpn17AIo51cRuhXsD/If32daBewAaBlUOLoF7ACYofY+6eXsAJih9j7p5ewKJFtvP9oF7A",
            "dtype": "f8"
           },
           "marker": {
            "color": "green",
            "size": {
             "bdata": "AAAAAABQ8D8AAAAAADDwPwAAAAAAQPA/AAAAAAAg8D8AAAAAAIDxPwAAAAAA0PA/AAAAAAAg8D8AAAAAAKDwPwAAAAAAsPA/",
             "dtype": "f8"
            },
            "sizemode": "area",
            "sizeref": 0.0425
           },
           "mode": "markers+text",
           "name": "False",
           "showlegend": true,
           "subplot": "mapbox",
           "text": [
            "Broadway St",
            "Cedar St",
            "Cornwall St",
            "Little Squalicum Creek",
            "Padden Creek",
            "Squalicum Creek",
            "Whatcom Creek",
            "Whatcom Creek",
            "Willow St"
           ],
           "type": "scattermapbox"
          }
         ],
         "name": "2023-04"
        },
        {
         "data": [
          {
           "hovertemplate": "is_exceedence=False<br>Month=2023-05<br>scale=%{marker.size}<br>Site ID=%{text}<br>Latitude=%{lat}<br>Longitude=%{lon}<extra></extra>",
           "lat": {
            "bdata": "PujZrPpcSEApyxDHumBIQI51cRsNYEhAV1uxv+xeSEDJdr6fGl9IQCegibDhYUhAJ6CJsOFhSEA9LNSa5l1IQMDsnjwsXEhAKH6MuWthSEDjx5i7lmBIQEI+6NmsWkhA",
            "dtype": "f8"
           },
           "legendgroup": "False",
           "lon": {
            "bdata": "Dk+vlGWgXsCI9NvXgZ9ewN6Th4Van17ArK3YX3afXsAdOGdEaZ9ewCKOdXEboV7AIo51cRuhXsCHFtnO959ewP8h/fZ1oF7ABoGVQ4ugXsAJih9j7p5ewKJFtvP9oF7A",
            "dtype": "f8"
           },
           "marker": {
            "color": "green",
            "size": {
             "bdata": "AAAAAACw8D8AAAAAAIDwPwAAAAAA8PA/AAAAAAAQ8D8AAAAAAFDwPwAAAAAAQPA/AAAAAACQ8D8AAAAAAEDxPwAAAAAAYPE/AAAAAACw8D8AAAAAAODwPwAAAAAAQPA/",
             "dtype": "f8"
            },
            "sizemode": "area",
            "sizeref": 0.0425
           },
           "mode": "markers+text",
           "name": "False",
           "showlegend": true,
           "subplot": "mapbox",
           "text": [
            "Bennett Ave",
            "Broadway St",
            "C St",
            "Cedar St",
            "Cornwall St",
            "Little Squalicum Creek",
            "Little Squalicum Creek",
            "Olive St",
            "Padden Creek",
            "Squalicum Creek",
            "Whatcom Creek",
            "Willow St"
           ],
           "type": "scattermapbox"
          }
         ],
         "name": "2023-05"
        },
        {
         "data": [
          {
           "hovertemplate": "is_exceedence=True<br>Month=2023-06<br>scale=%{marker.size}<br>Site ID=%{text}<br>Latitude=%{lat}<br>Longitude=%{lon}<extra></extra>",
           "lat": {
            "bdata": "PujZrPpcSEDA7J48LFxIQA==",
            "dtype": "f8"
           },
           "legendgroup": "True",
           "lon": {
            "bdata": "Dk+vlGWgXsD/If32daBewA==",
            "dtype": "f8"
           },
           "marker": {
            "color": "red",
            "size": {
             "bdata": "AAAAAADw8z8AAAAAAMD3Pw==",
             "dtype": "f8"
            },
            "sizemode": "area",
            "sizeref": 0.0425
           },
           "mode": "markers+text",
           "name": "True",
           "showlegend": true,
           "subplot": "mapbox",
           "text": [
            "Bennett Ave",
            "Padden Creek"
           ],
           "type": "scattermapbox"
          },
          {
           "hovertemplate": "is_exceedence=False<br>Month=2023-06<br>scale=%{marker.size}<br>Site ID=%{text}<br>Latitude=%{lat}<br>Longitude=%{lon}<extra></extra>",
           "lat": {
            "bdata": "KcsQx7pgSECOdXEbDWBIQFdbsb/sXkhAyXa+nxpfSEDJdr6fGl9IQCegibDhYUhAPSzUmuZdSEAofoy5a2FIQOPHmLuWYEhAQj7o2axaSEA=",
            "dtype": "f8"
           },
           "legendgroup": "False",
           "lon": {
            "bdata": "iPTb14GfXsDek4eFWp9ewKyt2F92n17AHThnRGmfXsAdOGdEaZ9ewCKOdXEboV7AhxbZzvefXsAGgZVDi6BewAmKH2Punl7AokW28/2gXsA=",
            "dtype": "f8"
           },
           "marker": {
            "color": "green",
            "size": {
             "bdata": "AAAAAABA8D8AAAAAAJDwPwAAAAAAkPA/AAAAAAAg8D8AAAAAACDwPwAAAAAAgPE/AAAAAADA8z8AAAAAAHDyPwAAAAAAUPM/AAAAAAAQ8T8=",
             "dtype": "f8"
            },
            "sizemode": "area",
            "sizeref": 0.0425
           },
           "mode": "markers+text",
           "name": "False",
           "showlegend": true,
           "subplot": "mapbox",
           "text": [
            "Broadway St",
            "C St",
            "Cedar St",
            "Cornwall St",
            "Cornwall St",
            "Little Squalicum Creek",
            "Olive St",
            "Squalicum Creek",
            "Whatcom Creek",
            "Willow St"
           ],
           "type": "scattermapbox"
          }
         ],
         "name": "2023-06"
        },
        {
         "data": [
          {
           "hovertemplate": "is_exceedence=True<br>Month=2023-07<br>scale=%{marker.size}<br>Site ID=%{text}<br>Latitude=%{lat}<br>Longitude=%{lon}<extra></extra>",
           "lat": {
            "bdata": "wOyePCxcSEA=",
            "dtype": "f8"
           },
           "legendgroup": "True",
           "lon": {
            "bdata": "/yH99nWgXsA=",
            "dtype": "f8"
           },
           "marker": {
            "color": "red",
            "size": {
             "bdata": "AAAAAABw9j8=",
             "dtype": "f8"
            },
            "sizemode": "area",
            "sizeref": 0.0425
           },
           "mode": "markers+text",
           "name": "True",
           "showlegend": true,
           "subplot": "mapbox",
           "text": [
            "Padden Creek"
           ],
           "type": "scattermapbox"
          },
          {
           "hovertemplate": "is_exceedence=False<br>Month=2023-07<br>scale=%{marker.size}<br>Site ID=%{text}<br>Latitude=%{lat}<br>Longitude=%{lon}<extra></extra>",
           "lat": {
            "bdata": "PujZrPpcSEApyxDHumBIQCnLEMe6YEhAjnVxGw1gSEBXW7G/7F5IQMl2vp8aX0hAPSzUmuZdSEAofoy5a2FIQOPHmLuWYEhA",
            "dtype": "f8"
           },
           "legendgroup": "False",
           "lon": {
            "bdata": "Dk+vlGWgXsCI9NvXgZ9ewIj029eBn17A3pOHhVqfXsCsrdhfdp9ewB04Z0Rpn17AhxbZzvefXsAGgZVDi6BewAmKH2Punl7A",
            "dtype": "f8"
           },
           "marker": {
            "color": "green",
            "size": {
             "bdata": "AAAAAACg8T8AAAAAAEDxPwAAAAAAEPI/AAAAAADA8T8AAAAAAFDwPwAAAAAAoPA/AAAAAAAg8z8AAAAAAJDwPwAAAAAAgPI/",
             "dtype": "f8"
            },
            "sizemode": "area",
            "sizeref": 0.0425
           },
           "mode": "markers+text",
           "name": "False",
           "showlegend": true,
           "subplot": "mapbox",
           "text": [
            "Bennett Ave",
            "Broadway St",
            "Broadway St",
            "C St",
            "Cedar St",
            "Cornwall St",
            "Olive St",
            "Squalicum Creek",
            "Whatcom Creek"
           ],
           "type": "scattermapbox"
          }
         ],
         "name": "2023-07"
        },
        {
         "data": [
          {
           "hovertemplate": "is_exceedence=True<br>Month=2023-08<br>scale=%{marker.size}<br>Site ID=%{text}<br>Latitude=%{lat}<br>Longitude=%{lon}<extra></extra>",
           "lat": {
            "bdata": "wOyePCxcSEA=",
            "dtype": "f8"
           },
           "legendgroup": "True",
           "lon": {
            "bdata": "/yH99nWgXsA=",
            "dtype": "f8"
           },
           "marker": {
            "color": "red",
            "size": {
             "bdata": "AAAAAADg9T8=",
             "dtype": "f8"
            },
            "sizemode": "area",
            "sizeref": 0.0425
           },
           "mode": "markers+text",
           "name": "True",
           "showlegend": true,
           "subplot": "mapbox",
           "text": [
            "Padden Creek"
           ],
           "type": "scattermapbox"
          },
          {
           "hovertemplate": "is_exceedence=False<br>Month=2023-08<br>scale=%{marker.size}<br>Site ID=%{text}<br>Latitude=%{lat}<br>Longitude=%{lon}<extra></extra>",
           "lat": {
            "bdata": "PujZrPpcSEApyxDHumBIQI51cRsNYEhAV1uxv+xeSEBXW7G/7F5IQMl2vp8aX0hAPSzUmuZdSEAofoy5a2FIQOPHmLuWYEhA",
            "dtype": "f8"
           },
           "legendgroup": "False",
           "lon": {
            "bdata": "Dk+vlGWgXsCI9NvXgZ9ewN6Th4Van17ArK3YX3afXsCsrdhfdp9ewB04Z0Rpn17AhxbZzvefXsAGgZVDi6BewAmKH2Punl7A",
            "dtype": "f8"
           },
           "marker": {
            "color": "green",
            "size": {
             "bdata": "AAAAAABg8D8AAAAAAEDzPwAAAAAAYPE/AAAAAABQ8D8AAAAAAODwPwAAAAAAsPA/MzMzMzMz8D8AAAAAAEDxPwAAAAAAkPM/",
             "dtype": "f8"
            },
            "sizemode": "area",
            "sizeref": 0.0425
           },
           "mode": "markers+text",
           "name": "False",
           "showlegend": true,
           "subplot": "mapbox",
           "text": [
            "Bennett Ave",
            "Broadway St",
            "C St",
            "Cedar St",
            "Cedar St",
            "Cornwall St",
            "Olive St",
            "Squalicum Creek",
            "Whatcom Creek"
           ],
           "type": "scattermapbox"
          }
         ],
         "name": "2023-08"
        },
        {
         "data": [
          {
           "hovertemplate": "is_exceedence=True<br>Month=2023-11<br>scale=%{marker.size}<br>Site ID=%{text}<br>Latitude=%{lat}<br>Longitude=%{lon}<extra></extra>",
           "lat": {
            "bdata": "KcsQx7pgSEAnoImw4WFIQCh+jLlrYUhA",
            "dtype": "f8"
           },
           "legendgroup": "True",
           "lon": {
            "bdata": "iPTb14GfXsAijnVxG6FewAaBlUOLoF7A",
            "dtype": "f8"
           },
           "marker": {
            "color": "red",
            "size": {
             "bdata": "AAAAAAAA9D8AAAAAALD1PwAAAAAAkPU/",
             "dtype": "f8"
            },
            "sizemode": "area",
            "sizeref": 0.0425
           },
           "mode": "markers+text",
           "name": "True",
           "showlegend": true,
           "subplot": "mapbox",
           "text": [
            "Broadway St",
            "Little Squalicum Creek",
            "Squalicum Creek"
           ],
           "type": "scattermapbox"
          },
          {
           "hovertemplate": "is_exceedence=False<br>Month=2023-11<br>scale=%{marker.size}<br>Site ID=%{text}<br>Latitude=%{lat}<br>Longitude=%{lon}<extra></extra>",
           "lat": {
            "bdata": "PujZrPpcSECOdXEbDWBIQFdbsb/sXkhAyXa+nxpfSEA9LNSa5l1IQMDsnjwsXEhA48eYu5ZgSEA=",
            "dtype": "f8"
           },
           "legendgroup": "False",
           "lon": {
            "bdata": "Dk+vlGWgXsDek4eFWp9ewKyt2F92n17AHThnRGmfXsCHFtnO959ewP8h/fZ1oF7ACYofY+6eXsA=",
            "dtype": "f8"
           },
           "marker": {
            "color": "green",
            "size": {
             "bdata": "AAAAAADw8T8AAAAAAADyPwAAAAAAQPA/AAAAAABA8T8AAAAAADDzPwAAAAAAcPE/AAAAAABg8j8=",
             "dtype": "f8"
            },
            "sizemode": "area",
            "sizeref": 0.0425
           },
           "mode": "markers+text",
           "name": "False",
           "showlegend": true,
           "subplot": "mapbox",
           "text": [
            "Bennett Ave",
            "C St",
            "Cedar St",
            "Cornwall St",
            "Olive St",
            "Padden Creek",
            "Whatcom Creek"
           ],
           "type": "scattermapbox"
          }
         ],
         "name": "2023-11"
        },
        {
         "data": [
          {
           "hovertemplate": "is_exceedence=True<br>Month=2023-12<br>scale=%{marker.size}<br>Site ID=%{text}<br>Latitude=%{lat}<br>Longitude=%{lon}<extra></extra>",
           "lat": {
            "bdata": "PujZrPpcSEA9LNSa5l1IQA==",
            "dtype": "f8"
           },
           "legendgroup": "True",
           "lon": {
            "bdata": "Dk+vlGWgXsCHFtnO959ewA==",
            "dtype": "f8"
           },
           "marker": {
            "color": "red",
            "size": {
             "bdata": "AAAAAABA/T8AAAAAAGD5Pw==",
             "dtype": "f8"
            },
            "sizemode": "area",
            "sizeref": 0.0425
           },
           "mode": "markers+text",
           "name": "True",
           "showlegend": true,
           "subplot": "mapbox",
           "text": [
            "Bennett Ave",
            "Olive St"
           ],
           "type": "scattermapbox"
          },
          {
           "hovertemplate": "is_exceedence=False<br>Month=2023-12<br>scale=%{marker.size}<br>Site ID=%{text}<br>Latitude=%{lat}<br>Longitude=%{lon}<extra></extra>",
           "lat": {
            "bdata": "KcsQx7pgSECOdXEbDWBIQFdbsb/sXkhAV1uxv+xeSEDJdr6fGl9IQCegibDhYUhAwOyePCxcSEAofoy5a2FIQCh+jLlrYUhA48eYu5ZgSEA=",
            "dtype": "f8"
           },
           "legendgroup": "False",
           "lon": {
            "bdata": "iPTb14GfXsDek4eFWp9ewKyt2F92n17ArK3YX3afXsAdOGdEaZ9ewCKOdXEboV7A/yH99nWgXsAGgZVDi6BewAaBlUOLoF7ACYofY+6eXsA=",
            "dtype": "f8"
           },
           "marker": {
            "color": "green",
            "size": {
             "bdata": "AAAAAABw8T8AAAAAAKDwPwAAAAAAsPA/AAAAAACg8D8AAAAAABDwPwAAAAAA4PA/AAAAAABA8D8AAAAAAIDxPwAAAAAAIPE/AAAAAACg8D8=",
             "dtype": "f8"
            },
            "sizemode": "area",
            "sizeref": 0.0425
           },
           "mode": "markers+text",
           "name": "False",
           "showlegend": true,
           "subplot": "mapbox",
           "text": [
            "Broadway St",
            "C St",
            "Cedar St",
            "Cedar St",
            "Cornwall St",
            "Little Squalicum Creek",
            "Padden Creek",
            "Squalicum Creek",
            "Squalicum Creek",
            "Whatcom Creek"
           ],
           "type": "scattermapbox"
          }
         ],
         "name": "2023-12"
        },
        {
         "data": [
          {
           "hovertemplate": "is_exceedence=True<br>Month=2024-01<br>scale=%{marker.size}<br>Site ID=%{text}<br>Latitude=%{lat}<br>Longitude=%{lon}<extra></extra>",
           "lat": {
            "bdata": "PujZrPpcSECOdXEbDWBIQD0s1JrmXUhA",
            "dtype": "f8"
           },
           "legendgroup": "True",
           "lon": {
            "bdata": "Dk+vlGWgXsDek4eFWp9ewIcW2c73n17A",
            "dtype": "f8"
           },
           "marker": {
            "color": "red",
            "size": {
             "bdata": "AAAAAADw8z8AAAAAAAD1PwAAAAAAQPc/",
             "dtype": "f8"
            },
            "sizemode": "area",
            "sizeref": 0.0425
           },
           "mode": "markers+text",
           "name": "True",
           "showlegend": true,
           "subplot": "mapbox",
           "text": [
            "Bennett Ave",
            "C St",
            "Olive St"
           ],
           "type": "scattermapbox"
          },
          {
           "hovertemplate": "is_exceedence=False<br>Month=2024-01<br>scale=%{marker.size}<br>Site ID=%{text}<br>Latitude=%{lat}<br>Longitude=%{lon}<extra></extra>",
           "lat": {
            "bdata": "KcsQx7pgSEApyxDHumBIQFdbsb/sXkhAV1uxv+xeSEDJdr6fGl9IQCegibDhYUhAwOyePCxcSEDA7J48LFxIQCh+jLlrYUhA48eYu5ZgSEA=",
            "dtype": "f8"
           },
           "legendgroup": "False",
           "lon": {
            "bdata": "iPTb14GfXsCI9NvXgZ9ewKyt2F92n17ArK3YX3afXsAdOGdEaZ9ewCKOdXEboV7A/yH99nWgXsD/If32daBewAaBlUOLoF7ACYofY+6eXsA=",
            "dtype": "f8"
           },
           "marker": {
            "color": "green",
            "size": {
             "bdata": "AAAAAAAw8j8AAAAAALDxPwAAAAAA8PA/AAAAAADQ8D8AAAAAABDwPwAAAAAAkPA/AAAAAADg8T8AAAAAAKDyPwAAAAAAgPA/AAAAAAAQ8D8=",
             "dtype": "f8"
            },
            "sizemode": "area",
            "sizeref": 0.0425
           },
           "mode": "markers+text",
           "name": "False",
           "showlegend": true,
           "subplot": "mapbox",
           "text": [
            "Broadway St",
            "Broadway St",
            "Cedar St",
            "Cedar St",
            "Cornwall St",
            "Little Squalicum Creek",
            "Padden Creek",
            "Padden Creek",
            "Squalicum Creek",
            "Whatcom Creek"
           ],
           "type": "scattermapbox"
          }
         ],
         "name": "2024-01"
        },
        {
         "data": [
          {
           "hovertemplate": "is_exceedence=True<br>Month=2024-02<br>scale=%{marker.size}<br>Site ID=%{text}<br>Latitude=%{lat}<br>Longitude=%{lon}<extra></extra>",
           "lat": {
            "bdata": "yXa+nxpfSEA9LNSa5l1IQA==",
            "dtype": "f8"
           },
           "legendgroup": "True",
           "lon": {
            "bdata": "HThnRGmfXsCHFtnO959ewA==",
            "dtype": "f8"
           },
           "marker": {
            "color": "red",
            "size": {
             "bdata": "AAAAAAAQBkAAAAAAAGD0Pw==",
             "dtype": "f8"
            },
            "sizemode": "area",
            "sizeref": 0.0425
           },
           "mode": "markers+text",
           "name": "True",
           "showlegend": true,
           "subplot": "mapbox",
           "text": [
            "Cornwall St",
            "Olive St"
           ],
           "type": "scattermapbox"
          },
          {
           "hovertemplate": "is_exceedence=False<br>Month=2024-02<br>scale=%{marker.size}<br>Site ID=%{text}<br>Latitude=%{lat}<br>Longitude=%{lon}<extra></extra>",
           "lat": {
            "bdata": "PujZrPpcSEA+6Nms+lxIQCnLEMe6YEhAjnVxGw1gSECOdXEbDWBIQFdbsb/sXkhAwOyePCxcSEA=",
            "dtype": "f8"
           },
           "legendgroup": "False",
           "lon": {
            "bdata": "Dk+vlGWgXsAOT6+UZaBewIj029eBn17A3pOHhVqfXsDek4eFWp9ewKyt2F92n17A/yH99nWgXsA=",
            "dtype": "f8"
           },
           "marker": {
            "color": "green",
            "size": {
             "bdata": "AAAAAAAw8j8AAAAAAFDyPwAAAAAAkPE/AAAAAABw8D8AAAAAACDwPwAAAAAAgPI/AAAAAACA8D8=",
             "dtype": "f8"
            },
            "sizemode": "area",
            "sizeref": 0.0425
           },
           "mode": "markers+text",
           "name": "False",
           "showlegend": true,
           "subplot": "mapbox",
           "text": [
            "Bennett Ave",
            "Bennett Ave",
            "Broadway St",
            "C St",
            "C St",
            "Cedar St",
            "Padden Creek"
           ],
           "type": "scattermapbox"
          }
         ],
         "name": "2024-02"
        },
        {
         "data": [
          {
           "hovertemplate": "is_exceedence=True<br>Month=2024-03<br>scale=%{marker.size}<br>Site ID=%{text}<br>Latitude=%{lat}<br>Longitude=%{lon}<extra></extra>",
           "lat": {
            "bdata": "PujZrPpcSECOdXEbDWBIQA==",
            "dtype": "f8"
           },
           "legendgroup": "True",
           "lon": {
            "bdata": "Dk+vlGWgXsDek4eFWp9ewA==",
            "dtype": "f8"
           },
           "marker": {
            "color": "red",
            "size": {
             "bdata": "AAAAAADACkAAAAAAAAD6Pw==",
             "dtype": "f8"
            },
            "sizemode": "area",
            "sizeref": 0.0425
           },
           "mode": "markers+text",
           "name": "True",
           "showlegend": true,
           "subplot": "mapbox",
           "text": [
            "Bennett Ave",
            "C St"
           ],
           "type": "scattermapbox"
          },
          {
           "hovertemplate": "is_exceedence=False<br>Month=2024-03<br>scale=%{marker.size}<br>Site ID=%{text}<br>Latitude=%{lat}<br>Longitude=%{lon}<extra></extra>",
           "lat": {
            "bdata": "KcsQx7pgSEBXW7G/7F5IQMl2vp8aX0hAJ6CJsOFhSEAnoImw4WFIQD0s1JrmXUhAwOyePCxcSEAofoy5a2FIQCh+jLlrYUhA48eYu5ZgSEDjx5i7lmBIQA==",
            "dtype": "f8"
           },
           "legendgroup": "False",
           "lon": {
            "bdata": "iPTb14GfXsCsrdhfdp9ewB04Z0Rpn17AIo51cRuhXsAijnVxG6FewIcW2c73n17A/yH99nWgXsAGgZVDi6BewAaBlUOLoF7ACYofY+6eXsAJih9j7p5ewA==",
            "dtype": "f8"
           },
           "marker": {
            "color": "green",
            "size": {
             "bdata": "AAAAAAAA8D8AAAAAAADwPwAAAAAAAPA/AAAAAAAA8D8AAAAAAADwPwAAAAAAIPM/AAAAAAAA8D8AAAAAAADwPwAAAAAAoPA/AAAAAAAA8D8AAAAAAADwPw==",
             "dtype": "f8"
            },
            "sizemode": "area",
            "sizeref": 0.0425
           },
           "mode": "markers+text",
           "name": "False",
           "showlegend": true,
           "subplot": "mapbox",
           "text": [
            "Broadway St",
            "Cedar St",
            "Cornwall St",
            "Little Squalicum Creek",
            "Little Squalicum Creek",
            "Olive St",
            "Padden Creek",
            "Squalicum Creek",
            "Squalicum Creek",
            "Whatcom Creek",
            "Whatcom Creek"
           ],
           "type": "scattermapbox"
          }
         ],
         "name": "2024-03"
        },
        {
         "data": [
          {
           "hovertemplate": "is_exceedence=True<br>Month=2024-04<br>scale=%{marker.size}<br>Site ID=%{text}<br>Latitude=%{lat}<br>Longitude=%{lon}<extra></extra>",
           "lat": {
            "bdata": "PujZrPpcSEDJdr6fGl9IQMl2vp8aX0hAPSzUmuZdSEA=",
            "dtype": "f8"
           },
           "legendgroup": "True",
           "lon": {
            "bdata": "Dk+vlGWgXsAdOGdEaZ9ewB04Z0Rpn17AhxbZzvefXsA=",
            "dtype": "f8"
           },
           "marker": {
            "color": "red",
            "size": {
             "bdata": "AAAAAABg9D+amZmZmbEEQGZmZmZmpvs/ZmZmZmYm/j8=",
             "dtype": "f8"
            },
            "sizemode": "area",
            "sizeref": 0.0425
           },
           "mode": "markers+text",
           "name": "True",
           "showlegend": true,
           "subplot": "mapbox",
           "text": [
            "Bennett Ave",
            "Cornwall St",
            "Cornwall St",
            "Olive St"
           ],
           "type": "scattermapbox"
          },
          {
           "hovertemplate": "is_exceedence=False<br>Month=2024-04<br>scale=%{marker.size}<br>Site ID=%{text}<br>Latitude=%{lat}<br>Longitude=%{lon}<extra></extra>",
           "lat": {
            "bdata": "KcsQx7pgSECOdXEbDWBIQFdbsb/sXkhAJ6CJsOFhSEDA7J48LFxIQCh+jLlrYUhA48eYu5ZgSEDjx5i7lmBIQOPHmLuWYEhA48eYu5ZgSEA=",
            "dtype": "f8"
           },
           "legendgroup": "False",
           "lon": {
            "bdata": "iPTb14GfXsDek4eFWp9ewKyt2F92n17AIo51cRuhXsD/If32daBewAaBlUOLoF7ACYofY+6eXsAJih9j7p5ewAmKH2Punl7ACYofY+6eXsA=",
            "dtype": "f8"
           },
           "marker": {
            "color": "green",
            "size": {
             "bdata": "AAAAAADg8T8AAAAAAKDwP2ZmZmZmFvI/AAAAAACg8D8AAAAAAKDwPwAAAAAAoPA/AAAAAABA8T8AAAAAAADwPwAAAAAAQPE/AAAAAAAA8D8=",
             "dtype": "f8"
            },
            "sizemode": "area",
            "sizeref": 0.0425
           },
           "mode": "markers+text",
           "name": "False",
           "showlegend": true,
           "subplot": "mapbox",
           "text": [
            "Broadway St",
            "C St",
            "Cedar St",
            "Little Squalicum Creek",
            "Padden Creek",
            "Squalicum Creek",
            "Whatcom Creek",
            "Whatcom Creek",
            "Whatcom Creek",
            "Whatcom Creek"
           ],
           "type": "scattermapbox"
          }
         ],
         "name": "2024-04"
        },
        {
         "data": [
          {
           "hovertemplate": "is_exceedence=True<br>Month=2024-05<br>scale=%{marker.size}<br>Site ID=%{text}<br>Latitude=%{lat}<br>Longitude=%{lon}<extra></extra>",
           "lat": {
            "bdata": "PujZrPpcSEApyxDHumBIQI51cRsNYEhAV1uxv+xeSEBXW7G/7F5IQD0s1JrmXUhAwOyePCxcSEA=",
            "dtype": "f8"
           },
           "legendgroup": "True",
           "lon": {
            "bdata": "Dk+vlGWgXsCI9NvXgZ9ewN6Th4Van17ArK3YX3afXsCsrdhfdp9ewIcW2c73n17A/yH99nWgXsA=",
            "dtype": "f8"
           },
           "marker": {
            "color": "red",
            "size": {
             "bdata": "ZmZmZmbwJEAzMzMzMxP8P83MzMzMzP8/zczMzMz8+T8zMzMzM9P1PwAAAAAACANAzczMzMz8+T8=",
             "dtype": "f8"
            },
            "sizemode": "area",
            "sizeref": 0.0425
           },
           "mode": "markers+text",
           "name": "True",
           "showlegend": true,
           "subplot": "mapbox",
           "text": [
            "Bennett Ave",
            "Broadway St",
            "C St",
            "Cedar St",
            "Cedar St",
            "Olive St",
            "Padden Creek"
           ],
           "type": "scattermapbox"
          },
          {
           "hovertemplate": "is_exceedence=False<br>Month=2024-05<br>scale=%{marker.size}<br>Site ID=%{text}<br>Latitude=%{lat}<br>Longitude=%{lon}<extra></extra>",
           "lat": {
            "bdata": "yXa+nxpfSEAnoImw4WFIQCh+jLlrYUhA48eYu5ZgSEDjx5i7lmBIQA==",
            "dtype": "f8"
           },
           "legendgroup": "False",
           "lon": {
            "bdata": "HThnRGmfXsAijnVxG6FewAaBlUOLoF7ACYofY+6eXsAJih9j7p5ewA==",
            "dtype": "f8"
           },
           "marker": {
            "color": "green",
            "size": {
             "bdata": "AAAAAADA8z+amZmZmWnwPwAAAAAAQPE/ZmZmZmbW8D8AAAAAAADwPw==",
             "dtype": "f8"
            },
            "sizemode": "area",
            "sizeref": 0.0425
           },
           "mode": "markers+text",
           "name": "False",
           "showlegend": true,
           "subplot": "mapbox",
           "text": [
            "Cornwall St",
            "Little Squalicum Creek",
            "Squalicum Creek",
            "Whatcom Creek",
            "Whatcom Creek"
           ],
           "type": "scattermapbox"
          }
         ],
         "name": "2024-05"
        },
        {
         "data": [
          {
           "hovertemplate": "is_exceedence=True<br>Month=2024-06<br>scale=%{marker.size}<br>Site ID=%{text}<br>Latitude=%{lat}<br>Longitude=%{lon}<extra></extra>",
           "lat": {
            "bdata": "PujZrPpcSEDA7J48LFxIQA==",
            "dtype": "f8"
           },
           "legendgroup": "True",
           "lon": {
            "bdata": "Dk+vlGWgXsD/If32daBewA==",
            "dtype": "f8"
           },
           "marker": {
            "color": "red",
            "size": {
             "bdata": "AAAAAADwCkAAAAAAAID3Pw==",
             "dtype": "f8"
            },
            "sizemode": "area",
            "sizeref": 0.0425
           },
           "mode": "markers+text",
           "name": "True",
           "showlegend": true,
           "subplot": "mapbox",
           "text": [
            "Bennett Ave",
            "Padden Creek"
           ],
           "type": "scattermapbox"
          },
          {
           "hovertemplate": "is_exceedence=False<br>Month=2024-06<br>scale=%{marker.size}<br>Site ID=%{text}<br>Latitude=%{lat}<br>Longitude=%{lon}<extra></extra>",
           "lat": {
            "bdata": "V1uxv+xeSEDJdr6fGl9IQCegibDhYUhAJ6CJsOFhSEA9LNSa5l1IQD0s1JrmXUhAKH6MuWthSEDjx5i7lmBIQA==",
            "dtype": "f8"
           },
           "legendgroup": "False",
           "lon": {
            "bdata": "rK3YX3afXsAdOGdEaZ9ewCKOdXEboV7AIo51cRuhXsCHFtnO959ewIcW2c73n17ABoGVQ4ugXsAJih9j7p5ewA==",
            "dtype": "f8"
           },
           "marker": {
            "color": "green",
            "size": {
             "bdata": "ZmZmZmbW8D9mZmZmZtbwP5qZmZmZafA/MzMzMzNj8T8zMzMzM1PzPwAAAAAAQPE/mpmZmZlp8D8AAAAAAHDwPw==",
             "dtype": "f8"
            },
            "sizemode": "area",
            "sizeref": 0.0425
           },
           "mode": "markers+text",
           "name": "False",
           "showlegend": true,
           "subplot": "mapbox",
           "text": [
            "Cedar St",
            "Cornwall St",
            "Little Squalicum Creek",
            "Little Squalicum Creek",
            "Olive St",
            "Olive St",
            "Squalicum Creek",
            "Whatcom Creek"
           ],
           "type": "scattermapbox"
          }
         ],
         "name": "2024-06"
        },
        {
         "data": [
          {
           "hovertemplate": "is_exceedence=True<br>Month=2024-07<br>scale=%{marker.size}<br>Site ID=%{text}<br>Latitude=%{lat}<br>Longitude=%{lon}<extra></extra>",
           "lat": {
            "bdata": "PujZrPpcSEApyxDHumBIQI51cRsNYEhAjnVxGw1gSECOdXEbDWBIQD0s1JrmXUhAwOyePCxcSEAofoy5a2FIQCh+jLlrYUhA",
            "dtype": "f8"
           },
           "legendgroup": "True",
           "lon": {
            "bdata": "Dk+vlGWgXsCI9NvXgZ9ewN6Th4Van17A3pOHhVqfXsDek4eFWp9ewIcW2c73n17A/yH99nWgXsAGgZVDi6BewAaBlUOLoF7A",
            "dtype": "f8"
           },
           "marker": {
            "color": "red",
            "size": {
             "bdata": "AAAAAADoBEBmZmZmZkYJQDMzMzMzk/4/mpmZmZmfIUCamZmZmZ8hQJqZmZmZafU/mpmZmZnp9z8zMzMzM9P1PwAAAAAAAPU/",
             "dtype": "f8"
            },
            "sizemode": "area",
            "sizeref": 0.0425
           },
           "mode": "markers+text",
           "name": "True",
           "showlegend": true,
           "subplot": "mapbox",
           "text": [
            "Bennett Ave",
            "Broadway St",
            "C St",
            "C St",
            "C St",
            "Olive St",
            "Padden Creek",
            "Squalicum Creek",
            "Squalicum Creek"
           ],
           "type": "scattermapbox"
          },
          {
           "hovertemplate": "is_exceedence=False<br>Month=2024-07<br>scale=%{marker.size}<br>Site ID=%{text}<br>Latitude=%{lat}<br>Longitude=%{lon}<extra></extra>",
           "lat": {
            "bdata": "KcsQx7pgSEBXW7G/7F5IQMl2vp8aX0hAyXa+nxpfSEAnoImw4WFIQOPHmLuWYEhA",
            "dtype": "f8"
           },
           "legendgroup": "False",
           "lon": {
            "bdata": "iPTb14GfXsCsrdhfdp9ewB04Z0Rpn17AHThnRGmfXsAijnVxG6FewAmKH2Punl7A",
            "dtype": "f8"
           },
           "marker": {
            "color": "green",
            "size": {
             "bdata": "AAAAAABA8T9mZmZmZtbwPwAAAAAAgPI/mpmZmZlp8D9mZmZmZhbyP2ZmZmZm1vA/",
             "dtype": "f8"
            },
            "sizemode": "area",
            "sizeref": 0.0425
           },
           "mode": "markers+text",
           "name": "False",
           "showlegend": true,
           "subplot": "mapbox",
           "text": [
            "Broadway St",
            "Cedar St",
            "Cornwall St",
            "Cornwall St",
            "Little Squalicum Creek",
            "Whatcom Creek"
           ],
           "type": "scattermapbox"
          }
         ],
         "name": "2024-07"
        },
        {
         "data": [
          {
           "hovertemplate": "is_exceedence=True<br>Month=2024-08<br>scale=%{marker.size}<br>Site ID=%{text}<br>Latitude=%{lat}<br>Longitude=%{lon}<extra></extra>",
           "lat": {
            "bdata": "PujZrPpcSEA+6Nms+lxIQI51cRsNYEhAjnVxGw1gSEDA7J48LFxIQCh+jLlrYUhA",
            "dtype": "f8"
           },
           "legendgroup": "True",
           "lon": {
            "bdata": "Dk+vlGWgXsAOT6+UZaBewN6Th4Van17A3pOHhVqfXsD/If32daBewAaBlUOLoF7A",
            "dtype": "f8"
           },
           "marker": {
            "color": "red",
            "size": {
             "bdata": "AAAAAADQ/z8AAAAAAID3P5qZmZmZKfQ/mpmZmZlp9T+amZmZman2PzMzMzMzM/Y/",
             "dtype": "f8"
            },
            "sizemode": "area",
            "sizeref": 0.0425
           },
           "mode": "markers+text",
           "name": "True",
           "showlegend": true,
           "subplot": "mapbox",
           "text": [
            "Bennett Ave",
            "Bennett Ave",
            "C St",
            "C St",
            "Padden Creek",
            "Squalicum Creek"
           ],
           "type": "scattermapbox"
          },
          {
           "hovertemplate": "is_exceedence=False<br>Month=2024-08<br>scale=%{marker.size}<br>Site ID=%{text}<br>Latitude=%{lat}<br>Longitude=%{lon}<extra></extra>",
           "lat": {
            "bdata": "KcsQx7pgSEBXW7G/7F5IQFdbsb/sXkhAyXa+nxpfSEAnoImw4WFIQCegibDhYUhAPSzUmuZdSEDjx5i7lmBIQA==",
            "dtype": "f8"
           },
           "legendgroup": "False",
           "lon": {
            "bdata": "iPTb14GfXsCsrdhfdp9ewKyt2F92n17AHThnRGmfXsAijnVxG6FewCKOdXEboV7AhxbZzvefXsAJih9j7p5ewA==",
            "dtype": "f8"
           },
           "marker": {
            "color": "green",
            "size": {
             "bdata": "MzMzMzNT8z8AAAAAAADwPwAAAAAAAPA/ZmZmZmbW8D+amZmZmanxPwAAAAAAgPI/MzMzMzNT8z9mZmZmZhbyPw==",
             "dtype": "f8"
            },
            "sizemode": "area",
            "sizeref": 0.0425
           },
           "mode": "markers+text",
           "name": "False",
           "showlegend": true,
           "subplot": "mapbox",
           "text": [
            "Broadway St",
            "Cedar St",
            "Cedar St",
            "Cornwall St",
            "Little Squalicum Creek",
            "Little Squalicum Creek",
            "Olive St",
            "Whatcom Creek"
           ],
           "type": "scattermapbox"
          }
         ],
         "name": "2024-08"
        },
        {
         "data": [
          {
           "hovertemplate": "is_exceedence=True<br>Month=2024-09<br>scale=%{marker.size}<br>Site ID=%{text}<br>Latitude=%{lat}<br>Longitude=%{lon}<extra></extra>",
           "lat": {
            "bdata": "PSzUmuZdSEA=",
            "dtype": "f8"
           },
           "legendgroup": "True",
           "lon": {
            "bdata": "hxbZzvefXsA=",
            "dtype": "f8"
           },
           "marker": {
            "color": "red",
            "size": {
             "bdata": "MzMzMzPT9T8=",
             "dtype": "f8"
            },
            "sizemode": "area",
            "sizeref": 0.0425
           },
           "mode": "markers+text",
           "name": "True",
           "showlegend": true,
           "subplot": "mapbox",
           "text": [
            "Olive St"
           ],
           "type": "scattermapbox"
          },
          {
           "hovertemplate": "is_exceedence=False<br>Month=2024-09<br>scale=%{marker.size}<br>Site ID=%{text}<br>Latitude=%{lat}<br>Longitude=%{lon}<extra></extra>",
           "lat": {
            "bdata": "PujZrPpcSEApyxDHumBIQI51cRsNYEhAV1uxv+xeSEDJdr6fGl9IQCegibDhYUhAPSzUmuZdSEDA7J48LFxIQCh+jLlrYUhA48eYu5ZgSEDjx5i7lmBIQA==",
            "dtype": "f8"
           },
           "legendgroup": "False",
           "lon": {
            "bdata": "Dk+vlGWgXsCI9NvXgZ9ewN6Th4Van17ArK3YX3afXsAdOGdEaZ9ewCKOdXEboV7AhxbZzvefXsD/If32daBewAaBlUOLoF7ACYofY+6eXsAJih9j7p5ewA==",
            "dtype": "f8"
           },
           "marker": {
            "color": "green",
            "size": {
             "bdata": "AAAAAADA8z+amZmZmWnwP2ZmZmZm1vA/mpmZmZlp8D8AAAAAAADwPwAAAAAAgPI/MzMzMzNT8z8AAAAAAIDyP5qZmZmZqfE/AAAAAACA8j8AAAAAAIDyPw==",
             "dtype": "f8"
            },
            "sizemode": "area",
            "sizeref": 0.0425
           },
           "mode": "markers+text",
           "name": "False",
           "showlegend": true,
           "subplot": "mapbox",
           "text": [
            "Bennett Ave",
            "Broadway St",
            "C St",
            "Cedar St",
            "Cornwall St",
            "Little Squalicum Creek",
            "Olive St",
            "Padden Creek",
            "Squalicum Creek",
            "Whatcom Creek",
            "Whatcom Creek"
           ],
           "type": "scattermapbox"
          }
         ],
         "name": "2024-09"
        },
        {
         "data": [
          {
           "hovertemplate": "is_exceedence=True<br>Month=2024-10<br>scale=%{marker.size}<br>Site ID=%{text}<br>Latitude=%{lat}<br>Longitude=%{lon}<extra></extra>",
           "lat": {
            "bdata": "PujZrPpcSEA9LNSa5l1IQA==",
            "dtype": "f8"
           },
           "legendgroup": "True",
           "lon": {
            "bdata": "Dk+vlGWgXsCHFtnO959ewA==",
            "dtype": "f8"
           },
           "marker": {
            "color": "red",
            "size": {
             "bdata": "ZmZmZmaW9D8zMzMzM9P1Pw==",
             "dtype": "f8"
            },
            "sizemode": "area",
            "sizeref": 0.0425
           },
           "mode": "markers+text",
           "name": "True",
           "showlegend": true,
           "subplot": "mapbox",
           "text": [
            "Bennett Ave",
            "Olive St"
           ],
           "type": "scattermapbox"
          },
          {
           "hovertemplate": "is_exceedence=False<br>Month=2024-10<br>scale=%{marker.size}<br>Site ID=%{text}<br>Latitude=%{lat}<br>Longitude=%{lon}<extra></extra>",
           "lat": {
            "bdata": "PujZrPpcSEApyxDHumBIQI51cRsNYEhAjnVxGw1gSEBXW7G/7F5IQFdbsb/sXkhAyXa+nxpfSEAnoImw4WFIQMDsnjwsXEhAKH6MuWthSEDjx5i7lmBIQOPHmLuWYEhA",
            "dtype": "f8"
           },
           "legendgroup": "False",
           "lon": {
            "bdata": "Dk+vlGWgXsCI9NvXgZ9ewN6Th4Van17A3pOHhVqfXsCsrdhfdp9ewKyt2F92n17AHThnRGmfXsAijnVxG6FewP8h/fZ1oF7ABoGVQ4ugXsAJih9j7p5ewAmKH2Punl7A",
            "dtype": "f8"
           },
           "marker": {
            "color": "green",
            "size": {
             "bdata": "ZmZmZmbW8D+amZmZmWnwPwAAAAAAQPE/ZmZmZmbW8D9mZmZmZtbwPwAAAAAAAPA/AAAAAAAA8D+amZmZmWnwPwAAAAAAQPE/AAAAAAAA8D8AAAAAAADwPwAAAAAAAPA/",
             "dtype": "f8"
            },
            "sizemode": "area",
            "sizeref": 0.0425
           },
           "mode": "markers+text",
           "name": "False",
           "showlegend": true,
           "subplot": "mapbox",
           "text": [
            "Bennett Ave",
            "Broadway St",
            "C St",
            "C St",
            "Cedar St",
            "Cedar St",
            "Cornwall St",
            "Little Squalicum Creek",
            "Padden Creek",
            "Squalicum Creek",
            "Whatcom Creek",
            "Whatcom Creek"
           ],
           "type": "scattermapbox"
          }
         ],
         "name": "2024-10"
        },
        {
         "data": [
          {
           "hovertemplate": "is_exceedence=True<br>Month=2024-11<br>scale=%{marker.size}<br>Site ID=%{text}<br>Latitude=%{lat}<br>Longitude=%{lon}<extra></extra>",
           "lat": {
            "bdata": "PujZrPpcSEA+6Nms+lxIQA==",
            "dtype": "f8"
           },
           "legendgroup": "True",
           "lon": {
            "bdata": "Dk+vlGWgXsAOT6+UZaBewA==",
            "dtype": "f8"
           },
           "marker": {
            "color": "red",
            "size": {
             "bdata": "zczMzMx89z8zMzMzM9P1Pw==",
             "dtype": "f8"
            },
            "sizemode": "area",
            "sizeref": 0.0425
           },
           "mode": "markers+text",
           "name": "True",
           "showlegend": true,
           "subplot": "mapbox",
           "text": [
            "Bennett Ave",
            "Bennett Ave"
           ],
           "type": "scattermapbox"
          },
          {
           "hovertemplate": "is_exceedence=False<br>Month=2024-11<br>scale=%{marker.size}<br>Site ID=%{text}<br>Latitude=%{lat}<br>Longitude=%{lon}<extra></extra>",
           "lat": {
            "bdata": "KcsQx7pgSECOdXEbDWBIQFdbsb/sXkhAyXa+nxpfSEAnoImw4WFIQD0s1JrmXUhAwOyePCxcSEAofoy5a2FIQOPHmLuWYEhA",
            "dtype": "f8"
           },
           "legendgroup": "False",
           "lon": {
            "bdata": "iPTb14GfXsDek4eFWp9ewKyt2F92n17AHThnRGmfXsAijnVxG6FewIcW2c73n17A/yH99nWgXsAGgZVDi6BewAmKH2Punl7A",
            "dtype": "f8"
           },
           "marker": {
            "color": "green",
            "size": {
             "bdata": "ZmZmZmbW8D9mZmZmZtbwPwAAAAAAgPI/AAAAAAAA8D8AAAAAAEDxPwAAAAAAAPA/AAAAAABA8T+amZmZmWnwPwAAAAAAAPA/",
             "dtype": "f8"
            },
            "sizemode": "area",
            "sizeref": 0.0425
           },
           "mode": "markers+text",
           "name": "False",
           "showlegend": true,
           "subplot": "mapbox",
           "text": [
            "Broadway St",
            "C St",
            "Cedar St",
            "Cornwall St",
            "Little Squalicum Creek",
            "Olive St",
            "Padden Creek",
            "Squalicum Creek",
            "Whatcom Creek"
           ],
           "type": "scattermapbox"
          }
         ],
         "name": "2024-11"
        },
        {
         "data": [
          {
           "hovertemplate": "is_exceedence=True<br>Month=2024-12<br>scale=%{marker.size}<br>Site ID=%{text}<br>Latitude=%{lat}<br>Longitude=%{lon}<extra></extra>",
           "lat": {
            "bdata": "PujZrPpcSECOdXEbDWBIQD0s1JrmXUhA",
            "dtype": "f8"
           },
           "legendgroup": "True",
           "lon": {
            "bdata": "Dk+vlGWgXsDek4eFWp9ewIcW2c73n17A",
            "dtype": "f8"
           },
           "marker": {
            "color": "red",
            "size": {
             "bdata": "ZmZmZmaWFUAAAAAAAED2P+F6FK5HafU/",
             "dtype": "f8"
            },
            "sizemode": "area",
            "sizeref": 0.0425
           },
           "mode": "markers+text",
           "name": "True",
           "showlegend": true,
           "subplot": "mapbox",
           "text": [
            "Bennett Ave",
            "C St",
            "Olive St"
           ],
           "type": "scattermapbox"
          },
          {
           "hovertemplate": "is_exceedence=False<br>Month=2024-12<br>scale=%{marker.size}<br>Site ID=%{text}<br>Latitude=%{lat}<br>Longitude=%{lon}<extra></extra>",
           "lat": {
            "bdata": "KcsQx7pgSEBXW7G/7F5IQMl2vp8aX0hAyXa+nxpfSEAnoImw4WFIQMDsnjwsXEhAKH6MuWthSEDjx5i7lmBIQA==",
            "dtype": "f8"
           },
           "legendgroup": "False",
           "lon": {
            "bdata": "iPTb14GfXsCsrdhfdp9ewB04Z0Rpn17AHThnRGmfXsAijnVxG6FewP8h/fZ1oF7ABoGVQ4ugXsAJih9j7p5ewA==",
            "dtype": "f8"
           },
           "marker": {
            "color": "green",
            "size": {
             "bdata": "AAAAAAAA8D+F61G4HtXwPwAAAAAAAPA/AAAAAAAA8D8AAAAAAADwP2ZmZmZm1vA/AAAAAAAA8D8AAAAAAADwPw==",
             "dtype": "f8"
            },
            "sizemode": "area",
            "sizeref": 0.0425
           },
           "mode": "markers+text",
           "name": "False",
           "showlegend": true,
           "subplot": "mapbox",
           "text": [
            "Broadway St",
            "Cedar St",
            "Cornwall St",
            "Cornwall St",
            "Little Squalicum Creek",
            "Padden Creek",
            "Squalicum Creek",
            "Whatcom Creek"
           ],
           "type": "scattermapbox"
          }
         ],
         "name": "2024-12"
        },
        {
         "data": [
          {
           "hovertemplate": "is_exceedence=True<br>Month=2023-09<br>scale=%{marker.size}<br>Site ID=%{text}<br>Latitude=%{lat}<br>Longitude=%{lon}<extra></extra>",
           "lat": {
            "bdata": "jnVxGw1gSECOdXEbDWBIQCegibDhYUhA",
            "dtype": "f8"
           },
           "legendgroup": "True",
           "lon": {
            "bdata": "3pOHhVqfXsDek4eFWp9ewCKOdXEboV7A",
            "dtype": "f8"
           },
           "marker": {
            "color": "red",
            "size": {
             "bdata": "AAAAAAAQ9T8AAAAAAMD1P5qZmZmZnyFA",
             "dtype": "f8"
            },
            "sizemode": "area",
            "sizeref": 0.0425
           },
           "mode": "markers+text",
           "name": "True",
           "showlegend": true,
           "subplot": "mapbox",
           "text": [
            "C St",
            "C St",
            "Little Squalicum Creek"
           ],
           "type": "scattermapbox"
          },
          {
           "hovertemplate": "is_exceedence=False<br>Month=2023-09<br>scale=%{marker.size}<br>Site ID=%{text}<br>Latitude=%{lat}<br>Longitude=%{lon}<extra></extra>",
           "lat": {
            "bdata": "KcsQx7pgSEAofoy5a2FIQOPHmLuWYEhA",
            "dtype": "f8"
           },
           "legendgroup": "False",
           "lon": {
            "bdata": "iPTb14GfXsAGgZVDi6BewAmKH2Punl7A",
            "dtype": "f8"
           },
           "marker": {
            "color": "green",
            "size": {
             "bdata": "AAAAAABg8T8AAAAAAKDyPwAAAAAA4PM/",
             "dtype": "f8"
            },
            "sizemode": "area",
            "sizeref": 0.0425
           },
           "mode": "markers+text",
           "name": "False",
           "showlegend": true,
           "subplot": "mapbox",
           "text": [
            "Broadway St",
            "Squalicum Creek",
            "Whatcom Creek"
           ],
           "type": "scattermapbox"
          }
         ],
         "name": "2023-09"
        }
       ],
       "layout": {
        "height": 800,
        "legend": {
         "itemsizing": "constant",
         "title": {
          "text": "is_exceedence"
         },
         "tracegroupgap": 0
        },
        "mapbox": {
         "center": {
          "lat": 48.75,
          "lon": -122.47
         },
         "domain": {
          "x": [
           0,
           1
          ],
          "y": [
           0,
           1
          ]
         },
         "style": "carto-positron",
         "zoom": 12
        },
        "sliders": [
         {
          "active": 0,
          "currentvalue": {
           "prefix": "Month="
          },
          "len": 0.9,
          "pad": {
           "b": 10,
           "t": 60
          },
          "steps": [
           {
            "args": [
             [
              "2021-02"
             ],
             {
              "frame": {
               "duration": 0,
               "redraw": true
              },
              "fromcurrent": true,
              "mode": "immediate",
              "transition": {
               "duration": 0,
               "easing": "linear"
              }
             }
            ],
            "label": "2021-02",
            "method": "animate"
           },
           {
            "args": [
             [
              "2021-03"
             ],
             {
              "frame": {
               "duration": 0,
               "redraw": true
              },
              "fromcurrent": true,
              "mode": "immediate",
              "transition": {
               "duration": 0,
               "easing": "linear"
              }
             }
            ],
            "label": "2021-03",
            "method": "animate"
           },
           {
            "args": [
             [
              "2021-04"
             ],
             {
              "frame": {
               "duration": 0,
               "redraw": true
              },
              "fromcurrent": true,
              "mode": "immediate",
              "transition": {
               "duration": 0,
               "easing": "linear"
              }
             }
            ],
            "label": "2021-04",
            "method": "animate"
           },
           {
            "args": [
             [
              "2021-05"
             ],
             {
              "frame": {
               "duration": 0,
               "redraw": true
              },
              "fromcurrent": true,
              "mode": "immediate",
              "transition": {
               "duration": 0,
               "easing": "linear"
              }
             }
            ],
            "label": "2021-05",
            "method": "animate"
           },
           {
            "args": [
             [
              "2021-06"
             ],
             {
              "frame": {
               "duration": 0,
               "redraw": true
              },
              "fromcurrent": true,
              "mode": "immediate",
              "transition": {
               "duration": 0,
               "easing": "linear"
              }
             }
            ],
            "label": "2021-06",
            "method": "animate"
           },
           {
            "args": [
             [
              "2021-07"
             ],
             {
              "frame": {
               "duration": 0,
               "redraw": true
              },
              "fromcurrent": true,
              "mode": "immediate",
              "transition": {
               "duration": 0,
               "easing": "linear"
              }
             }
            ],
            "label": "2021-07",
            "method": "animate"
           },
           {
            "args": [
             [
              "2021-08"
             ],
             {
              "frame": {
               "duration": 0,
               "redraw": true
              },
              "fromcurrent": true,
              "mode": "immediate",
              "transition": {
               "duration": 0,
               "easing": "linear"
              }
             }
            ],
            "label": "2021-08",
            "method": "animate"
           },
           {
            "args": [
             [
              "2021-09"
             ],
             {
              "frame": {
               "duration": 0,
               "redraw": true
              },
              "fromcurrent": true,
              "mode": "immediate",
              "transition": {
               "duration": 0,
               "easing": "linear"
              }
             }
            ],
            "label": "2021-09",
            "method": "animate"
           },
           {
            "args": [
             [
              "2021-10"
             ],
             {
              "frame": {
               "duration": 0,
               "redraw": true
              },
              "fromcurrent": true,
              "mode": "immediate",
              "transition": {
               "duration": 0,
               "easing": "linear"
              }
             }
            ],
            "label": "2021-10",
            "method": "animate"
           },
           {
            "args": [
             [
              "2021-11"
             ],
             {
              "frame": {
               "duration": 0,
               "redraw": true
              },
              "fromcurrent": true,
              "mode": "immediate",
              "transition": {
               "duration": 0,
               "easing": "linear"
              }
             }
            ],
            "label": "2021-11",
            "method": "animate"
           },
           {
            "args": [
             [
              "2021-12"
             ],
             {
              "frame": {
               "duration": 0,
               "redraw": true
              },
              "fromcurrent": true,
              "mode": "immediate",
              "transition": {
               "duration": 0,
               "easing": "linear"
              }
             }
            ],
            "label": "2021-12",
            "method": "animate"
           },
           {
            "args": [
             [
              "2022-01"
             ],
             {
              "frame": {
               "duration": 0,
               "redraw": true
              },
              "fromcurrent": true,
              "mode": "immediate",
              "transition": {
               "duration": 0,
               "easing": "linear"
              }
             }
            ],
            "label": "2022-01",
            "method": "animate"
           },
           {
            "args": [
             [
              "2022-02"
             ],
             {
              "frame": {
               "duration": 0,
               "redraw": true
              },
              "fromcurrent": true,
              "mode": "immediate",
              "transition": {
               "duration": 0,
               "easing": "linear"
              }
             }
            ],
            "label": "2022-02",
            "method": "animate"
           },
           {
            "args": [
             [
              "2022-03"
             ],
             {
              "frame": {
               "duration": 0,
               "redraw": true
              },
              "fromcurrent": true,
              "mode": "immediate",
              "transition": {
               "duration": 0,
               "easing": "linear"
              }
             }
            ],
            "label": "2022-03",
            "method": "animate"
           },
           {
            "args": [
             [
              "2022-04"
             ],
             {
              "frame": {
               "duration": 0,
               "redraw": true
              },
              "fromcurrent": true,
              "mode": "immediate",
              "transition": {
               "duration": 0,
               "easing": "linear"
              }
             }
            ],
            "label": "2022-04",
            "method": "animate"
           },
           {
            "args": [
             [
              "2022-05"
             ],
             {
              "frame": {
               "duration": 0,
               "redraw": true
              },
              "fromcurrent": true,
              "mode": "immediate",
              "transition": {
               "duration": 0,
               "easing": "linear"
              }
             }
            ],
            "label": "2022-05",
            "method": "animate"
           },
           {
            "args": [
             [
              "2022-06"
             ],
             {
              "frame": {
               "duration": 0,
               "redraw": true
              },
              "fromcurrent": true,
              "mode": "immediate",
              "transition": {
               "duration": 0,
               "easing": "linear"
              }
             }
            ],
            "label": "2022-06",
            "method": "animate"
           },
           {
            "args": [
             [
              "2022-07"
             ],
             {
              "frame": {
               "duration": 0,
               "redraw": true
              },
              "fromcurrent": true,
              "mode": "immediate",
              "transition": {
               "duration": 0,
               "easing": "linear"
              }
             }
            ],
            "label": "2022-07",
            "method": "animate"
           },
           {
            "args": [
             [
              "2022-08"
             ],
             {
              "frame": {
               "duration": 0,
               "redraw": true
              },
              "fromcurrent": true,
              "mode": "immediate",
              "transition": {
               "duration": 0,
               "easing": "linear"
              }
             }
            ],
            "label": "2022-08",
            "method": "animate"
           },
           {
            "args": [
             [
              "2022-09"
             ],
             {
              "frame": {
               "duration": 0,
               "redraw": true
              },
              "fromcurrent": true,
              "mode": "immediate",
              "transition": {
               "duration": 0,
               "easing": "linear"
              }
             }
            ],
            "label": "2022-09",
            "method": "animate"
           },
           {
            "args": [
             [
              "2022-10"
             ],
             {
              "frame": {
               "duration": 0,
               "redraw": true
              },
              "fromcurrent": true,
              "mode": "immediate",
              "transition": {
               "duration": 0,
               "easing": "linear"
              }
             }
            ],
            "label": "2022-10",
            "method": "animate"
           },
           {
            "args": [
             [
              "2022-11"
             ],
             {
              "frame": {
               "duration": 0,
               "redraw": true
              },
              "fromcurrent": true,
              "mode": "immediate",
              "transition": {
               "duration": 0,
               "easing": "linear"
              }
             }
            ],
            "label": "2022-11",
            "method": "animate"
           },
           {
            "args": [
             [
              "2022-12"
             ],
             {
              "frame": {
               "duration": 0,
               "redraw": true
              },
              "fromcurrent": true,
              "mode": "immediate",
              "transition": {
               "duration": 0,
               "easing": "linear"
              }
             }
            ],
            "label": "2022-12",
            "method": "animate"
           },
           {
            "args": [
             [
              "2023-01"
             ],
             {
              "frame": {
               "duration": 0,
               "redraw": true
              },
              "fromcurrent": true,
              "mode": "immediate",
              "transition": {
               "duration": 0,
               "easing": "linear"
              }
             }
            ],
            "label": "2023-01",
            "method": "animate"
           },
           {
            "args": [
             [
              "2023-02"
             ],
             {
              "frame": {
               "duration": 0,
               "redraw": true
              },
              "fromcurrent": true,
              "mode": "immediate",
              "transition": {
               "duration": 0,
               "easing": "linear"
              }
             }
            ],
            "label": "2023-02",
            "method": "animate"
           },
           {
            "args": [
             [
              "2023-03"
             ],
             {
              "frame": {
               "duration": 0,
               "redraw": true
              },
              "fromcurrent": true,
              "mode": "immediate",
              "transition": {
               "duration": 0,
               "easing": "linear"
              }
             }
            ],
            "label": "2023-03",
            "method": "animate"
           },
           {
            "args": [
             [
              "2023-04"
             ],
             {
              "frame": {
               "duration": 0,
               "redraw": true
              },
              "fromcurrent": true,
              "mode": "immediate",
              "transition": {
               "duration": 0,
               "easing": "linear"
              }
             }
            ],
            "label": "2023-04",
            "method": "animate"
           },
           {
            "args": [
             [
              "2023-05"
             ],
             {
              "frame": {
               "duration": 0,
               "redraw": true
              },
              "fromcurrent": true,
              "mode": "immediate",
              "transition": {
               "duration": 0,
               "easing": "linear"
              }
             }
            ],
            "label": "2023-05",
            "method": "animate"
           },
           {
            "args": [
             [
              "2023-06"
             ],
             {
              "frame": {
               "duration": 0,
               "redraw": true
              },
              "fromcurrent": true,
              "mode": "immediate",
              "transition": {
               "duration": 0,
               "easing": "linear"
              }
             }
            ],
            "label": "2023-06",
            "method": "animate"
           },
           {
            "args": [
             [
              "2023-07"
             ],
             {
              "frame": {
               "duration": 0,
               "redraw": true
              },
              "fromcurrent": true,
              "mode": "immediate",
              "transition": {
               "duration": 0,
               "easing": "linear"
              }
             }
            ],
            "label": "2023-07",
            "method": "animate"
           },
           {
            "args": [
             [
              "2023-08"
             ],
             {
              "frame": {
               "duration": 0,
               "redraw": true
              },
              "fromcurrent": true,
              "mode": "immediate",
              "transition": {
               "duration": 0,
               "easing": "linear"
              }
             }
            ],
            "label": "2023-08",
            "method": "animate"
           },
           {
            "args": [
             [
              "2023-11"
             ],
             {
              "frame": {
               "duration": 0,
               "redraw": true
              },
              "fromcurrent": true,
              "mode": "immediate",
              "transition": {
               "duration": 0,
               "easing": "linear"
              }
             }
            ],
            "label": "2023-11",
            "method": "animate"
           },
           {
            "args": [
             [
              "2023-12"
             ],
             {
              "frame": {
               "duration": 0,
               "redraw": true
              },
              "fromcurrent": true,
              "mode": "immediate",
              "transition": {
               "duration": 0,
               "easing": "linear"
              }
             }
            ],
            "label": "2023-12",
            "method": "animate"
           },
           {
            "args": [
             [
              "2024-01"
             ],
             {
              "frame": {
               "duration": 0,
               "redraw": true
              },
              "fromcurrent": true,
              "mode": "immediate",
              "transition": {
               "duration": 0,
               "easing": "linear"
              }
             }
            ],
            "label": "2024-01",
            "method": "animate"
           },
           {
            "args": [
             [
              "2024-02"
             ],
             {
              "frame": {
               "duration": 0,
               "redraw": true
              },
              "fromcurrent": true,
              "mode": "immediate",
              "transition": {
               "duration": 0,
               "easing": "linear"
              }
             }
            ],
            "label": "2024-02",
            "method": "animate"
           },
           {
            "args": [
             [
              "2024-03"
             ],
             {
              "frame": {
               "duration": 0,
               "redraw": true
              },
              "fromcurrent": true,
              "mode": "immediate",
              "transition": {
               "duration": 0,
               "easing": "linear"
              }
             }
            ],
            "label": "2024-03",
            "method": "animate"
           },
           {
            "args": [
             [
              "2024-04"
             ],
             {
              "frame": {
               "duration": 0,
               "redraw": true
              },
              "fromcurrent": true,
              "mode": "immediate",
              "transition": {
               "duration": 0,
               "easing": "linear"
              }
             }
            ],
            "label": "2024-04",
            "method": "animate"
           },
           {
            "args": [
             [
              "2024-05"
             ],
             {
              "frame": {
               "duration": 0,
               "redraw": true
              },
              "fromcurrent": true,
              "mode": "immediate",
              "transition": {
               "duration": 0,
               "easing": "linear"
              }
             }
            ],
            "label": "2024-05",
            "method": "animate"
           },
           {
            "args": [
             [
              "2024-06"
             ],
             {
              "frame": {
               "duration": 0,
               "redraw": true
              },
              "fromcurrent": true,
              "mode": "immediate",
              "transition": {
               "duration": 0,
               "easing": "linear"
              }
             }
            ],
            "label": "2024-06",
            "method": "animate"
           },
           {
            "args": [
             [
              "2024-07"
             ],
             {
              "frame": {
               "duration": 0,
               "redraw": true
              },
              "fromcurrent": true,
              "mode": "immediate",
              "transition": {
               "duration": 0,
               "easing": "linear"
              }
             }
            ],
            "label": "2024-07",
            "method": "animate"
           },
           {
            "args": [
             [
              "2024-08"
             ],
             {
              "frame": {
               "duration": 0,
               "redraw": true
              },
              "fromcurrent": true,
              "mode": "immediate",
              "transition": {
               "duration": 0,
               "easing": "linear"
              }
             }
            ],
            "label": "2024-08",
            "method": "animate"
           },
           {
            "args": [
             [
              "2024-09"
             ],
             {
              "frame": {
               "duration": 0,
               "redraw": true
              },
              "fromcurrent": true,
              "mode": "immediate",
              "transition": {
               "duration": 0,
               "easing": "linear"
              }
             }
            ],
            "label": "2024-09",
            "method": "animate"
           },
           {
            "args": [
             [
              "2024-10"
             ],
             {
              "frame": {
               "duration": 0,
               "redraw": true
              },
              "fromcurrent": true,
              "mode": "immediate",
              "transition": {
               "duration": 0,
               "easing": "linear"
              }
             }
            ],
            "label": "2024-10",
            "method": "animate"
           },
           {
            "args": [
             [
              "2024-11"
             ],
             {
              "frame": {
               "duration": 0,
               "redraw": true
              },
              "fromcurrent": true,
              "mode": "immediate",
              "transition": {
               "duration": 0,
               "easing": "linear"
              }
             }
            ],
            "label": "2024-11",
            "method": "animate"
           },
           {
            "args": [
             [
              "2024-12"
             ],
             {
              "frame": {
               "duration": 0,
               "redraw": true
              },
              "fromcurrent": true,
              "mode": "immediate",
              "transition": {
               "duration": 0,
               "easing": "linear"
              }
             }
            ],
            "label": "2024-12",
            "method": "animate"
           },
           {
            "args": [
             [
              "2023-09"
             ],
             {
              "frame": {
               "duration": 0,
               "redraw": true
              },
              "fromcurrent": true,
              "mode": "immediate",
              "transition": {
               "duration": 0,
               "easing": "linear"
              }
             }
            ],
            "label": "2023-09",
            "method": "animate"
           }
          ],
          "x": 0.1,
          "xanchor": "left",
          "y": 0,
          "yanchor": "top"
         }
        ],
        "template": {
         "data": {
          "bar": [
           {
            "error_x": {
             "color": "#2a3f5f"
            },
            "error_y": {
             "color": "#2a3f5f"
            },
            "marker": {
             "line": {
              "color": "#E5ECF6",
              "width": 0.5
             },
             "pattern": {
              "fillmode": "overlay",
              "size": 10,
              "solidity": 0.2
             }
            },
            "type": "bar"
           }
          ],
          "barpolar": [
           {
            "marker": {
             "line": {
              "color": "#E5ECF6",
              "width": 0.5
             },
             "pattern": {
              "fillmode": "overlay",
              "size": 10,
              "solidity": 0.2
             }
            },
            "type": "barpolar"
           }
          ],
          "carpet": [
           {
            "aaxis": {
             "endlinecolor": "#2a3f5f",
             "gridcolor": "white",
             "linecolor": "white",
             "minorgridcolor": "white",
             "startlinecolor": "#2a3f5f"
            },
            "baxis": {
             "endlinecolor": "#2a3f5f",
             "gridcolor": "white",
             "linecolor": "white",
             "minorgridcolor": "white",
             "startlinecolor": "#2a3f5f"
            },
            "type": "carpet"
           }
          ],
          "choropleth": [
           {
            "colorbar": {
             "outlinewidth": 0,
             "ticks": ""
            },
            "type": "choropleth"
           }
          ],
          "contour": [
           {
            "colorbar": {
             "outlinewidth": 0,
             "ticks": ""
            },
            "colorscale": [
             [
              0,
              "#0d0887"
             ],
             [
              0.1111111111111111,
              "#46039f"
             ],
             [
              0.2222222222222222,
              "#7201a8"
             ],
             [
              0.3333333333333333,
              "#9c179e"
             ],
             [
              0.4444444444444444,
              "#bd3786"
             ],
             [
              0.5555555555555556,
              "#d8576b"
             ],
             [
              0.6666666666666666,
              "#ed7953"
             ],
             [
              0.7777777777777778,
              "#fb9f3a"
             ],
             [
              0.8888888888888888,
              "#fdca26"
             ],
             [
              1,
              "#f0f921"
             ]
            ],
            "type": "contour"
           }
          ],
          "contourcarpet": [
           {
            "colorbar": {
             "outlinewidth": 0,
             "ticks": ""
            },
            "type": "contourcarpet"
           }
          ],
          "heatmap": [
           {
            "colorbar": {
             "outlinewidth": 0,
             "ticks": ""
            },
            "colorscale": [
             [
              0,
              "#0d0887"
             ],
             [
              0.1111111111111111,
              "#46039f"
             ],
             [
              0.2222222222222222,
              "#7201a8"
             ],
             [
              0.3333333333333333,
              "#9c179e"
             ],
             [
              0.4444444444444444,
              "#bd3786"
             ],
             [
              0.5555555555555556,
              "#d8576b"
             ],
             [
              0.6666666666666666,
              "#ed7953"
             ],
             [
              0.7777777777777778,
              "#fb9f3a"
             ],
             [
              0.8888888888888888,
              "#fdca26"
             ],
             [
              1,
              "#f0f921"
             ]
            ],
            "type": "heatmap"
           }
          ],
          "histogram": [
           {
            "marker": {
             "pattern": {
              "fillmode": "overlay",
              "size": 10,
              "solidity": 0.2
             }
            },
            "type": "histogram"
           }
          ],
          "histogram2d": [
           {
            "colorbar": {
             "outlinewidth": 0,
             "ticks": ""
            },
            "colorscale": [
             [
              0,
              "#0d0887"
             ],
             [
              0.1111111111111111,
              "#46039f"
             ],
             [
              0.2222222222222222,
              "#7201a8"
             ],
             [
              0.3333333333333333,
              "#9c179e"
             ],
             [
              0.4444444444444444,
              "#bd3786"
             ],
             [
              0.5555555555555556,
              "#d8576b"
             ],
             [
              0.6666666666666666,
              "#ed7953"
             ],
             [
              0.7777777777777778,
              "#fb9f3a"
             ],
             [
              0.8888888888888888,
              "#fdca26"
             ],
             [
              1,
              "#f0f921"
             ]
            ],
            "type": "histogram2d"
           }
          ],
          "histogram2dcontour": [
           {
            "colorbar": {
             "outlinewidth": 0,
             "ticks": ""
            },
            "colorscale": [
             [
              0,
              "#0d0887"
             ],
             [
              0.1111111111111111,
              "#46039f"
             ],
             [
              0.2222222222222222,
              "#7201a8"
             ],
             [
              0.3333333333333333,
              "#9c179e"
             ],
             [
              0.4444444444444444,
              "#bd3786"
             ],
             [
              0.5555555555555556,
              "#d8576b"
             ],
             [
              0.6666666666666666,
              "#ed7953"
             ],
             [
              0.7777777777777778,
              "#fb9f3a"
             ],
             [
              0.8888888888888888,
              "#fdca26"
             ],
             [
              1,
              "#f0f921"
             ]
            ],
            "type": "histogram2dcontour"
           }
          ],
          "mesh3d": [
           {
            "colorbar": {
             "outlinewidth": 0,
             "ticks": ""
            },
            "type": "mesh3d"
           }
          ],
          "parcoords": [
           {
            "line": {
             "colorbar": {
              "outlinewidth": 0,
              "ticks": ""
             }
            },
            "type": "parcoords"
           }
          ],
          "pie": [
           {
            "automargin": true,
            "type": "pie"
           }
          ],
          "scatter": [
           {
            "fillpattern": {
             "fillmode": "overlay",
             "size": 10,
             "solidity": 0.2
            },
            "type": "scatter"
           }
          ],
          "scatter3d": [
           {
            "line": {
             "colorbar": {
              "outlinewidth": 0,
              "ticks": ""
             }
            },
            "marker": {
             "colorbar": {
              "outlinewidth": 0,
              "ticks": ""
             }
            },
            "type": "scatter3d"
           }
          ],
          "scattercarpet": [
           {
            "marker": {
             "colorbar": {
              "outlinewidth": 0,
              "ticks": ""
             }
            },
            "type": "scattercarpet"
           }
          ],
          "scattergeo": [
           {
            "marker": {
             "colorbar": {
              "outlinewidth": 0,
              "ticks": ""
             }
            },
            "type": "scattergeo"
           }
          ],
          "scattergl": [
           {
            "marker": {
             "colorbar": {
              "outlinewidth": 0,
              "ticks": ""
             }
            },
            "type": "scattergl"
           }
          ],
          "scattermap": [
           {
            "marker": {
             "colorbar": {
              "outlinewidth": 0,
              "ticks": ""
             }
            },
            "type": "scattermap"
           }
          ],
          "scattermapbox": [
           {
            "marker": {
             "colorbar": {
              "outlinewidth": 0,
              "ticks": ""
             }
            },
            "type": "scattermapbox"
           }
          ],
          "scatterpolar": [
           {
            "marker": {
             "colorbar": {
              "outlinewidth": 0,
              "ticks": ""
             }
            },
            "type": "scatterpolar"
           }
          ],
          "scatterpolargl": [
           {
            "marker": {
             "colorbar": {
              "outlinewidth": 0,
              "ticks": ""
             }
            },
            "type": "scatterpolargl"
           }
          ],
          "scatterternary": [
           {
            "marker": {
             "colorbar": {
              "outlinewidth": 0,
              "ticks": ""
             }
            },
            "type": "scatterternary"
           }
          ],
          "surface": [
           {
            "colorbar": {
             "outlinewidth": 0,
             "ticks": ""
            },
            "colorscale": [
             [
              0,
              "#0d0887"
             ],
             [
              0.1111111111111111,
              "#46039f"
             ],
             [
              0.2222222222222222,
              "#7201a8"
             ],
             [
              0.3333333333333333,
              "#9c179e"
             ],
             [
              0.4444444444444444,
              "#bd3786"
             ],
             [
              0.5555555555555556,
              "#d8576b"
             ],
             [
              0.6666666666666666,
              "#ed7953"
             ],
             [
              0.7777777777777778,
              "#fb9f3a"
             ],
             [
              0.8888888888888888,
              "#fdca26"
             ],
             [
              1,
              "#f0f921"
             ]
            ],
            "type": "surface"
           }
          ],
          "table": [
           {
            "cells": {
             "fill": {
              "color": "#EBF0F8"
             },
             "line": {
              "color": "white"
             }
            },
            "header": {
             "fill": {
              "color": "#C8D4E3"
             },
             "line": {
              "color": "white"
             }
            },
            "type": "table"
           }
          ]
         },
         "layout": {
          "annotationdefaults": {
           "arrowcolor": "#2a3f5f",
           "arrowhead": 0,
           "arrowwidth": 1
          },
          "autotypenumbers": "strict",
          "coloraxis": {
           "colorbar": {
            "outlinewidth": 0,
            "ticks": ""
           }
          },
          "colorscale": {
           "diverging": [
            [
             0,
             "#8e0152"
            ],
            [
             0.1,
             "#c51b7d"
            ],
            [
             0.2,
             "#de77ae"
            ],
            [
             0.3,
             "#f1b6da"
            ],
            [
             0.4,
             "#fde0ef"
            ],
            [
             0.5,
             "#f7f7f7"
            ],
            [
             0.6,
             "#e6f5d0"
            ],
            [
             0.7,
             "#b8e186"
            ],
            [
             0.8,
             "#7fbc41"
            ],
            [
             0.9,
             "#4d9221"
            ],
            [
             1,
             "#276419"
            ]
           ],
           "sequential": [
            [
             0,
             "#0d0887"
            ],
            [
             0.1111111111111111,
             "#46039f"
            ],
            [
             0.2222222222222222,
             "#7201a8"
            ],
            [
             0.3333333333333333,
             "#9c179e"
            ],
            [
             0.4444444444444444,
             "#bd3786"
            ],
            [
             0.5555555555555556,
             "#d8576b"
            ],
            [
             0.6666666666666666,
             "#ed7953"
            ],
            [
             0.7777777777777778,
             "#fb9f3a"
            ],
            [
             0.8888888888888888,
             "#fdca26"
            ],
            [
             1,
             "#f0f921"
            ]
           ],
           "sequentialminus": [
            [
             0,
             "#0d0887"
            ],
            [
             0.1111111111111111,
             "#46039f"
            ],
            [
             0.2222222222222222,
             "#7201a8"
            ],
            [
             0.3333333333333333,
             "#9c179e"
            ],
            [
             0.4444444444444444,
             "#bd3786"
            ],
            [
             0.5555555555555556,
             "#d8576b"
            ],
            [
             0.6666666666666666,
             "#ed7953"
            ],
            [
             0.7777777777777778,
             "#fb9f3a"
            ],
            [
             0.8888888888888888,
             "#fdca26"
            ],
            [
             1,
             "#f0f921"
            ]
           ]
          },
          "colorway": [
           "#636efa",
           "#EF553B",
           "#00cc96",
           "#ab63fa",
           "#FFA15A",
           "#19d3f3",
           "#FF6692",
           "#B6E880",
           "#FF97FF",
           "#FECB52"
          ],
          "font": {
           "color": "#2a3f5f"
          },
          "geo": {
           "bgcolor": "white",
           "lakecolor": "white",
           "landcolor": "#E5ECF6",
           "showlakes": true,
           "showland": true,
           "subunitcolor": "white"
          },
          "hoverlabel": {
           "align": "left"
          },
          "hovermode": "closest",
          "mapbox": {
           "style": "light"
          },
          "paper_bgcolor": "white",
          "plot_bgcolor": "#E5ECF6",
          "polar": {
           "angularaxis": {
            "gridcolor": "white",
            "linecolor": "white",
            "ticks": ""
           },
           "bgcolor": "#E5ECF6",
           "radialaxis": {
            "gridcolor": "white",
            "linecolor": "white",
            "ticks": ""
           }
          },
          "scene": {
           "xaxis": {
            "backgroundcolor": "#E5ECF6",
            "gridcolor": "white",
            "gridwidth": 2,
            "linecolor": "white",
            "showbackground": true,
            "ticks": "",
            "zerolinecolor": "white"
           },
           "yaxis": {
            "backgroundcolor": "#E5ECF6",
            "gridcolor": "white",
            "gridwidth": 2,
            "linecolor": "white",
            "showbackground": true,
            "ticks": "",
            "zerolinecolor": "white"
           },
           "zaxis": {
            "backgroundcolor": "#E5ECF6",
            "gridcolor": "white",
            "gridwidth": 2,
            "linecolor": "white",
            "showbackground": true,
            "ticks": "",
            "zerolinecolor": "white"
           }
          },
          "shapedefaults": {
           "line": {
            "color": "#2a3f5f"
           }
          },
          "ternary": {
           "aaxis": {
            "gridcolor": "white",
            "linecolor": "white",
            "ticks": ""
           },
           "baxis": {
            "gridcolor": "white",
            "linecolor": "white",
            "ticks": ""
           },
           "bgcolor": "#E5ECF6",
           "caxis": {
            "gridcolor": "white",
            "linecolor": "white",
            "ticks": ""
           }
          },
          "title": {
           "x": 0.05
          },
          "xaxis": {
           "automargin": true,
           "gridcolor": "white",
           "linecolor": "white",
           "ticks": "",
           "title": {
            "standoff": 15
           },
           "zerolinecolor": "white",
           "zerolinewidth": 2
          },
          "yaxis": {
           "automargin": true,
           "gridcolor": "white",
           "linecolor": "white",
           "ticks": "",
           "title": {
            "standoff": 15
           },
           "zerolinecolor": "white",
           "zerolinewidth": 2
          }
         }
        },
        "title": {
         "text": "Stormwater Bacteria Levels at Outfalls and Creeks in Bellingham"
        },
        "updatemenus": [
         {
          "buttons": [
           {
            "args": [
             null,
             {
              "frame": {
               "duration": 500,
               "redraw": true
              },
              "fromcurrent": true,
              "mode": "immediate",
              "transition": {
               "duration": 500,
               "easing": "linear"
              }
             }
            ],
            "label": "&#9654;",
            "method": "animate"
           },
           {
            "args": [
             [
              null
             ],
             {
              "frame": {
               "duration": 0,
               "redraw": true
              },
              "fromcurrent": true,
              "mode": "immediate",
              "transition": {
               "duration": 0,
               "easing": "linear"
              }
             }
            ],
            "label": "&#9724;",
            "method": "animate"
           }
          ],
          "direction": "left",
          "pad": {
           "r": 10,
           "t": 70
          },
          "showactive": false,
          "type": "buttons",
          "x": 0.1,
          "xanchor": "right",
          "y": 0,
          "yanchor": "top"
         }
        ],
        "width": 900
       }
      },
      "text/html": [
       "<div>            <script src=\"https://cdnjs.cloudflare.com/ajax/libs/mathjax/2.7.5/MathJax.js?config=TeX-AMS-MML_SVG\"></script><script type=\"text/javascript\">if (window.MathJax && window.MathJax.Hub && window.MathJax.Hub.Config) {window.MathJax.Hub.Config({SVG: {font: \"STIX-Web\"}});}</script>                <script type=\"text/javascript\">window.PlotlyConfig = {MathJaxConfig: 'local'};</script>\n",
       "        <script charset=\"utf-8\" src=\"https://cdn.plot.ly/plotly-3.0.0.min.js\"></script>                <div id=\"c17ac8ba-eadd-45ee-82f7-e542cfa52650\" class=\"plotly-graph-div\" style=\"height:800px; width:900px;\"></div>            <script type=\"text/javascript\">                window.PLOTLYENV=window.PLOTLYENV || {};                                if (document.getElementById(\"c17ac8ba-eadd-45ee-82f7-e542cfa52650\")) {                    Plotly.newPlot(                        \"c17ac8ba-eadd-45ee-82f7-e542cfa52650\",                        [{\"hovertemplate\":\"is_exceedence=True\\u003cbr\\u003eMonth=2021-02\\u003cbr\\u003escale=%{marker.size}\\u003cbr\\u003eSite ID=%{text}\\u003cbr\\u003eLatitude=%{lat}\\u003cbr\\u003eLongitude=%{lon}\\u003cextra\\u003e\\u003c\\u002fextra\\u003e\",\"lat\":{\"dtype\":\"f8\",\"bdata\":\"PujZrPpcSEA9LNSa5l1IQA==\"},\"legendgroup\":\"True\",\"lon\":{\"dtype\":\"f8\",\"bdata\":\"Dk+vlGWgXsCHFtnO959ewA==\"},\"marker\":{\"color\":\"red\",\"size\":{\"dtype\":\"f8\",\"bdata\":\"AAAAAABA9D8AAAAAAMD7Pw==\"},\"sizemode\":\"area\",\"sizeref\":0.0425},\"mode\":\"markers+text\",\"name\":\"True\",\"showlegend\":true,\"subplot\":\"mapbox\",\"text\":[\"Bennett Ave\",\"Olive St\"],\"type\":\"scattermapbox\"},{\"hovertemplate\":\"is_exceedence=False\\u003cbr\\u003eMonth=2021-02\\u003cbr\\u003escale=%{marker.size}\\u003cbr\\u003eSite ID=%{text}\\u003cbr\\u003eLatitude=%{lat}\\u003cbr\\u003eLongitude=%{lon}\\u003cextra\\u003e\\u003c\\u002fextra\\u003e\",\"lat\":{\"dtype\":\"f8\",\"bdata\":\"KcsQx7pgSEApyxDHumBIQI51cRsNYEhAV1uxv+xeSEDJdr6fGl9IQCh+jLlrYUhA48eYu5ZgSEA=\"},\"legendgroup\":\"False\",\"lon\":{\"dtype\":\"f8\",\"bdata\":\"iPTb14GfXsCI9NvXgZ9ewN6Th4Van17ArK3YX3afXsAdOGdEaZ9ewAaBlUOLoF7ACYofY+6eXsA=\"},\"marker\":{\"color\":\"green\",\"size\":{\"dtype\":\"f8\",\"bdata\":\"AAAAAABA8z8AAAAAAMDzPwAAAAAAAPE\\u002fAAAAAABA8D8AAAAAAEDwPwAAAAAAQPA\\u002fAAAAAABA8D8=\"},\"sizemode\":\"area\",\"sizeref\":0.0425},\"mode\":\"markers+text\",\"name\":\"False\",\"showlegend\":true,\"subplot\":\"mapbox\",\"text\":[\"Broadway St\",\"Broadway St\",\"C St\",\"Cedar St\",\"Cornwall St\",\"Squalicum Creek\",\"Whatcom Creek\"],\"type\":\"scattermapbox\"}],                        {\"template\":{\"data\":{\"histogram2dcontour\":[{\"type\":\"histogram2dcontour\",\"colorbar\":{\"outlinewidth\":0,\"ticks\":\"\"},\"colorscale\":[[0.0,\"#0d0887\"],[0.1111111111111111,\"#46039f\"],[0.2222222222222222,\"#7201a8\"],[0.3333333333333333,\"#9c179e\"],[0.4444444444444444,\"#bd3786\"],[0.5555555555555556,\"#d8576b\"],[0.6666666666666666,\"#ed7953\"],[0.7777777777777778,\"#fb9f3a\"],[0.8888888888888888,\"#fdca26\"],[1.0,\"#f0f921\"]]}],\"choropleth\":[{\"type\":\"choropleth\",\"colorbar\":{\"outlinewidth\":0,\"ticks\":\"\"}}],\"histogram2d\":[{\"type\":\"histogram2d\",\"colorbar\":{\"outlinewidth\":0,\"ticks\":\"\"},\"colorscale\":[[0.0,\"#0d0887\"],[0.1111111111111111,\"#46039f\"],[0.2222222222222222,\"#7201a8\"],[0.3333333333333333,\"#9c179e\"],[0.4444444444444444,\"#bd3786\"],[0.5555555555555556,\"#d8576b\"],[0.6666666666666666,\"#ed7953\"],[0.7777777777777778,\"#fb9f3a\"],[0.8888888888888888,\"#fdca26\"],[1.0,\"#f0f921\"]]}],\"heatmap\":[{\"type\":\"heatmap\",\"colorbar\":{\"outlinewidth\":0,\"ticks\":\"\"},\"colorscale\":[[0.0,\"#0d0887\"],[0.1111111111111111,\"#46039f\"],[0.2222222222222222,\"#7201a8\"],[0.3333333333333333,\"#9c179e\"],[0.4444444444444444,\"#bd3786\"],[0.5555555555555556,\"#d8576b\"],[0.6666666666666666,\"#ed7953\"],[0.7777777777777778,\"#fb9f3a\"],[0.8888888888888888,\"#fdca26\"],[1.0,\"#f0f921\"]]}],\"contourcarpet\":[{\"type\":\"contourcarpet\",\"colorbar\":{\"outlinewidth\":0,\"ticks\":\"\"}}],\"contour\":[{\"type\":\"contour\",\"colorbar\":{\"outlinewidth\":0,\"ticks\":\"\"},\"colorscale\":[[0.0,\"#0d0887\"],[0.1111111111111111,\"#46039f\"],[0.2222222222222222,\"#7201a8\"],[0.3333333333333333,\"#9c179e\"],[0.4444444444444444,\"#bd3786\"],[0.5555555555555556,\"#d8576b\"],[0.6666666666666666,\"#ed7953\"],[0.7777777777777778,\"#fb9f3a\"],[0.8888888888888888,\"#fdca26\"],[1.0,\"#f0f921\"]]}],\"surface\":[{\"type\":\"surface\",\"colorbar\":{\"outlinewidth\":0,\"ticks\":\"\"},\"colorscale\":[[0.0,\"#0d0887\"],[0.1111111111111111,\"#46039f\"],[0.2222222222222222,\"#7201a8\"],[0.3333333333333333,\"#9c179e\"],[0.4444444444444444,\"#bd3786\"],[0.5555555555555556,\"#d8576b\"],[0.6666666666666666,\"#ed7953\"],[0.7777777777777778,\"#fb9f3a\"],[0.8888888888888888,\"#fdca26\"],[1.0,\"#f0f921\"]]}],\"mesh3d\":[{\"type\":\"mesh3d\",\"colorbar\":{\"outlinewidth\":0,\"ticks\":\"\"}}],\"scatter\":[{\"fillpattern\":{\"fillmode\":\"overlay\",\"size\":10,\"solidity\":0.2},\"type\":\"scatter\"}],\"parcoords\":[{\"type\":\"parcoords\",\"line\":{\"colorbar\":{\"outlinewidth\":0,\"ticks\":\"\"}}}],\"scatterpolargl\":[{\"type\":\"scatterpolargl\",\"marker\":{\"colorbar\":{\"outlinewidth\":0,\"ticks\":\"\"}}}],\"bar\":[{\"error_x\":{\"color\":\"#2a3f5f\"},\"error_y\":{\"color\":\"#2a3f5f\"},\"marker\":{\"line\":{\"color\":\"#E5ECF6\",\"width\":0.5},\"pattern\":{\"fillmode\":\"overlay\",\"size\":10,\"solidity\":0.2}},\"type\":\"bar\"}],\"scattergeo\":[{\"type\":\"scattergeo\",\"marker\":{\"colorbar\":{\"outlinewidth\":0,\"ticks\":\"\"}}}],\"scatterpolar\":[{\"type\":\"scatterpolar\",\"marker\":{\"colorbar\":{\"outlinewidth\":0,\"ticks\":\"\"}}}],\"histogram\":[{\"marker\":{\"pattern\":{\"fillmode\":\"overlay\",\"size\":10,\"solidity\":0.2}},\"type\":\"histogram\"}],\"scattergl\":[{\"type\":\"scattergl\",\"marker\":{\"colorbar\":{\"outlinewidth\":0,\"ticks\":\"\"}}}],\"scatter3d\":[{\"type\":\"scatter3d\",\"line\":{\"colorbar\":{\"outlinewidth\":0,\"ticks\":\"\"}},\"marker\":{\"colorbar\":{\"outlinewidth\":0,\"ticks\":\"\"}}}],\"scattermap\":[{\"type\":\"scattermap\",\"marker\":{\"colorbar\":{\"outlinewidth\":0,\"ticks\":\"\"}}}],\"scattermapbox\":[{\"type\":\"scattermapbox\",\"marker\":{\"colorbar\":{\"outlinewidth\":0,\"ticks\":\"\"}}}],\"scatterternary\":[{\"type\":\"scatterternary\",\"marker\":{\"colorbar\":{\"outlinewidth\":0,\"ticks\":\"\"}}}],\"scattercarpet\":[{\"type\":\"scattercarpet\",\"marker\":{\"colorbar\":{\"outlinewidth\":0,\"ticks\":\"\"}}}],\"carpet\":[{\"aaxis\":{\"endlinecolor\":\"#2a3f5f\",\"gridcolor\":\"white\",\"linecolor\":\"white\",\"minorgridcolor\":\"white\",\"startlinecolor\":\"#2a3f5f\"},\"baxis\":{\"endlinecolor\":\"#2a3f5f\",\"gridcolor\":\"white\",\"linecolor\":\"white\",\"minorgridcolor\":\"white\",\"startlinecolor\":\"#2a3f5f\"},\"type\":\"carpet\"}],\"table\":[{\"cells\":{\"fill\":{\"color\":\"#EBF0F8\"},\"line\":{\"color\":\"white\"}},\"header\":{\"fill\":{\"color\":\"#C8D4E3\"},\"line\":{\"color\":\"white\"}},\"type\":\"table\"}],\"barpolar\":[{\"marker\":{\"line\":{\"color\":\"#E5ECF6\",\"width\":0.5},\"pattern\":{\"fillmode\":\"overlay\",\"size\":10,\"solidity\":0.2}},\"type\":\"barpolar\"}],\"pie\":[{\"automargin\":true,\"type\":\"pie\"}]},\"layout\":{\"autotypenumbers\":\"strict\",\"colorway\":[\"#636efa\",\"#EF553B\",\"#00cc96\",\"#ab63fa\",\"#FFA15A\",\"#19d3f3\",\"#FF6692\",\"#B6E880\",\"#FF97FF\",\"#FECB52\"],\"font\":{\"color\":\"#2a3f5f\"},\"hovermode\":\"closest\",\"hoverlabel\":{\"align\":\"left\"},\"paper_bgcolor\":\"white\",\"plot_bgcolor\":\"#E5ECF6\",\"polar\":{\"bgcolor\":\"#E5ECF6\",\"angularaxis\":{\"gridcolor\":\"white\",\"linecolor\":\"white\",\"ticks\":\"\"},\"radialaxis\":{\"gridcolor\":\"white\",\"linecolor\":\"white\",\"ticks\":\"\"}},\"ternary\":{\"bgcolor\":\"#E5ECF6\",\"aaxis\":{\"gridcolor\":\"white\",\"linecolor\":\"white\",\"ticks\":\"\"},\"baxis\":{\"gridcolor\":\"white\",\"linecolor\":\"white\",\"ticks\":\"\"},\"caxis\":{\"gridcolor\":\"white\",\"linecolor\":\"white\",\"ticks\":\"\"}},\"coloraxis\":{\"colorbar\":{\"outlinewidth\":0,\"ticks\":\"\"}},\"colorscale\":{\"sequential\":[[0.0,\"#0d0887\"],[0.1111111111111111,\"#46039f\"],[0.2222222222222222,\"#7201a8\"],[0.3333333333333333,\"#9c179e\"],[0.4444444444444444,\"#bd3786\"],[0.5555555555555556,\"#d8576b\"],[0.6666666666666666,\"#ed7953\"],[0.7777777777777778,\"#fb9f3a\"],[0.8888888888888888,\"#fdca26\"],[1.0,\"#f0f921\"]],\"sequentialminus\":[[0.0,\"#0d0887\"],[0.1111111111111111,\"#46039f\"],[0.2222222222222222,\"#7201a8\"],[0.3333333333333333,\"#9c179e\"],[0.4444444444444444,\"#bd3786\"],[0.5555555555555556,\"#d8576b\"],[0.6666666666666666,\"#ed7953\"],[0.7777777777777778,\"#fb9f3a\"],[0.8888888888888888,\"#fdca26\"],[1.0,\"#f0f921\"]],\"diverging\":[[0,\"#8e0152\"],[0.1,\"#c51b7d\"],[0.2,\"#de77ae\"],[0.3,\"#f1b6da\"],[0.4,\"#fde0ef\"],[0.5,\"#f7f7f7\"],[0.6,\"#e6f5d0\"],[0.7,\"#b8e186\"],[0.8,\"#7fbc41\"],[0.9,\"#4d9221\"],[1,\"#276419\"]]},\"xaxis\":{\"gridcolor\":\"white\",\"linecolor\":\"white\",\"ticks\":\"\",\"title\":{\"standoff\":15},\"zerolinecolor\":\"white\",\"automargin\":true,\"zerolinewidth\":2},\"yaxis\":{\"gridcolor\":\"white\",\"linecolor\":\"white\",\"ticks\":\"\",\"title\":{\"standoff\":15},\"zerolinecolor\":\"white\",\"automargin\":true,\"zerolinewidth\":2},\"scene\":{\"xaxis\":{\"backgroundcolor\":\"#E5ECF6\",\"gridcolor\":\"white\",\"linecolor\":\"white\",\"showbackground\":true,\"ticks\":\"\",\"zerolinecolor\":\"white\",\"gridwidth\":2},\"yaxis\":{\"backgroundcolor\":\"#E5ECF6\",\"gridcolor\":\"white\",\"linecolor\":\"white\",\"showbackground\":true,\"ticks\":\"\",\"zerolinecolor\":\"white\",\"gridwidth\":2},\"zaxis\":{\"backgroundcolor\":\"#E5ECF6\",\"gridcolor\":\"white\",\"linecolor\":\"white\",\"showbackground\":true,\"ticks\":\"\",\"zerolinecolor\":\"white\",\"gridwidth\":2}},\"shapedefaults\":{\"line\":{\"color\":\"#2a3f5f\"}},\"annotationdefaults\":{\"arrowcolor\":\"#2a3f5f\",\"arrowhead\":0,\"arrowwidth\":1},\"geo\":{\"bgcolor\":\"white\",\"landcolor\":\"#E5ECF6\",\"subunitcolor\":\"white\",\"showland\":true,\"showlakes\":true,\"lakecolor\":\"white\"},\"title\":{\"x\":0.05},\"mapbox\":{\"style\":\"light\"}}},\"mapbox\":{\"domain\":{\"x\":[0.0,1.0],\"y\":[0.0,1.0]},\"center\":{\"lat\":48.75,\"lon\":-122.47},\"zoom\":12,\"style\":\"carto-positron\"},\"legend\":{\"title\":{\"text\":\"is_exceedence\"},\"tracegroupgap\":0,\"itemsizing\":\"constant\"},\"title\":{\"text\":\"Stormwater Bacteria Levels at Outfalls and Creeks in Bellingham\"},\"updatemenus\":[{\"buttons\":[{\"args\":[null,{\"frame\":{\"duration\":500,\"redraw\":true},\"mode\":\"immediate\",\"fromcurrent\":true,\"transition\":{\"duration\":500,\"easing\":\"linear\"}}],\"label\":\"&#9654;\",\"method\":\"animate\"},{\"args\":[[null],{\"frame\":{\"duration\":0,\"redraw\":true},\"mode\":\"immediate\",\"fromcurrent\":true,\"transition\":{\"duration\":0,\"easing\":\"linear\"}}],\"label\":\"&#9724;\",\"method\":\"animate\"}],\"direction\":\"left\",\"pad\":{\"r\":10,\"t\":70},\"showactive\":false,\"type\":\"buttons\",\"x\":0.1,\"xanchor\":\"right\",\"y\":0,\"yanchor\":\"top\"}],\"sliders\":[{\"active\":0,\"currentvalue\":{\"prefix\":\"Month=\"},\"len\":0.9,\"pad\":{\"b\":10,\"t\":60},\"steps\":[{\"args\":[[\"2021-02\"],{\"frame\":{\"duration\":0,\"redraw\":true},\"mode\":\"immediate\",\"fromcurrent\":true,\"transition\":{\"duration\":0,\"easing\":\"linear\"}}],\"label\":\"2021-02\",\"method\":\"animate\"},{\"args\":[[\"2021-03\"],{\"frame\":{\"duration\":0,\"redraw\":true},\"mode\":\"immediate\",\"fromcurrent\":true,\"transition\":{\"duration\":0,\"easing\":\"linear\"}}],\"label\":\"2021-03\",\"method\":\"animate\"},{\"args\":[[\"2021-04\"],{\"frame\":{\"duration\":0,\"redraw\":true},\"mode\":\"immediate\",\"fromcurrent\":true,\"transition\":{\"duration\":0,\"easing\":\"linear\"}}],\"label\":\"2021-04\",\"method\":\"animate\"},{\"args\":[[\"2021-05\"],{\"frame\":{\"duration\":0,\"redraw\":true},\"mode\":\"immediate\",\"fromcurrent\":true,\"transition\":{\"duration\":0,\"easing\":\"linear\"}}],\"label\":\"2021-05\",\"method\":\"animate\"},{\"args\":[[\"2021-06\"],{\"frame\":{\"duration\":0,\"redraw\":true},\"mode\":\"immediate\",\"fromcurrent\":true,\"transition\":{\"duration\":0,\"easing\":\"linear\"}}],\"label\":\"2021-06\",\"method\":\"animate\"},{\"args\":[[\"2021-07\"],{\"frame\":{\"duration\":0,\"redraw\":true},\"mode\":\"immediate\",\"fromcurrent\":true,\"transition\":{\"duration\":0,\"easing\":\"linear\"}}],\"label\":\"2021-07\",\"method\":\"animate\"},{\"args\":[[\"2021-08\"],{\"frame\":{\"duration\":0,\"redraw\":true},\"mode\":\"immediate\",\"fromcurrent\":true,\"transition\":{\"duration\":0,\"easing\":\"linear\"}}],\"label\":\"2021-08\",\"method\":\"animate\"},{\"args\":[[\"2021-09\"],{\"frame\":{\"duration\":0,\"redraw\":true},\"mode\":\"immediate\",\"fromcurrent\":true,\"transition\":{\"duration\":0,\"easing\":\"linear\"}}],\"label\":\"2021-09\",\"method\":\"animate\"},{\"args\":[[\"2021-10\"],{\"frame\":{\"duration\":0,\"redraw\":true},\"mode\":\"immediate\",\"fromcurrent\":true,\"transition\":{\"duration\":0,\"easing\":\"linear\"}}],\"label\":\"2021-10\",\"method\":\"animate\"},{\"args\":[[\"2021-11\"],{\"frame\":{\"duration\":0,\"redraw\":true},\"mode\":\"immediate\",\"fromcurrent\":true,\"transition\":{\"duration\":0,\"easing\":\"linear\"}}],\"label\":\"2021-11\",\"method\":\"animate\"},{\"args\":[[\"2021-12\"],{\"frame\":{\"duration\":0,\"redraw\":true},\"mode\":\"immediate\",\"fromcurrent\":true,\"transition\":{\"duration\":0,\"easing\":\"linear\"}}],\"label\":\"2021-12\",\"method\":\"animate\"},{\"args\":[[\"2022-01\"],{\"frame\":{\"duration\":0,\"redraw\":true},\"mode\":\"immediate\",\"fromcurrent\":true,\"transition\":{\"duration\":0,\"easing\":\"linear\"}}],\"label\":\"2022-01\",\"method\":\"animate\"},{\"args\":[[\"2022-02\"],{\"frame\":{\"duration\":0,\"redraw\":true},\"mode\":\"immediate\",\"fromcurrent\":true,\"transition\":{\"duration\":0,\"easing\":\"linear\"}}],\"label\":\"2022-02\",\"method\":\"animate\"},{\"args\":[[\"2022-03\"],{\"frame\":{\"duration\":0,\"redraw\":true},\"mode\":\"immediate\",\"fromcurrent\":true,\"transition\":{\"duration\":0,\"easing\":\"linear\"}}],\"label\":\"2022-03\",\"method\":\"animate\"},{\"args\":[[\"2022-04\"],{\"frame\":{\"duration\":0,\"redraw\":true},\"mode\":\"immediate\",\"fromcurrent\":true,\"transition\":{\"duration\":0,\"easing\":\"linear\"}}],\"label\":\"2022-04\",\"method\":\"animate\"},{\"args\":[[\"2022-05\"],{\"frame\":{\"duration\":0,\"redraw\":true},\"mode\":\"immediate\",\"fromcurrent\":true,\"transition\":{\"duration\":0,\"easing\":\"linear\"}}],\"label\":\"2022-05\",\"method\":\"animate\"},{\"args\":[[\"2022-06\"],{\"frame\":{\"duration\":0,\"redraw\":true},\"mode\":\"immediate\",\"fromcurrent\":true,\"transition\":{\"duration\":0,\"easing\":\"linear\"}}],\"label\":\"2022-06\",\"method\":\"animate\"},{\"args\":[[\"2022-07\"],{\"frame\":{\"duration\":0,\"redraw\":true},\"mode\":\"immediate\",\"fromcurrent\":true,\"transition\":{\"duration\":0,\"easing\":\"linear\"}}],\"label\":\"2022-07\",\"method\":\"animate\"},{\"args\":[[\"2022-08\"],{\"frame\":{\"duration\":0,\"redraw\":true},\"mode\":\"immediate\",\"fromcurrent\":true,\"transition\":{\"duration\":0,\"easing\":\"linear\"}}],\"label\":\"2022-08\",\"method\":\"animate\"},{\"args\":[[\"2022-09\"],{\"frame\":{\"duration\":0,\"redraw\":true},\"mode\":\"immediate\",\"fromcurrent\":true,\"transition\":{\"duration\":0,\"easing\":\"linear\"}}],\"label\":\"2022-09\",\"method\":\"animate\"},{\"args\":[[\"2022-10\"],{\"frame\":{\"duration\":0,\"redraw\":true},\"mode\":\"immediate\",\"fromcurrent\":true,\"transition\":{\"duration\":0,\"easing\":\"linear\"}}],\"label\":\"2022-10\",\"method\":\"animate\"},{\"args\":[[\"2022-11\"],{\"frame\":{\"duration\":0,\"redraw\":true},\"mode\":\"immediate\",\"fromcurrent\":true,\"transition\":{\"duration\":0,\"easing\":\"linear\"}}],\"label\":\"2022-11\",\"method\":\"animate\"},{\"args\":[[\"2022-12\"],{\"frame\":{\"duration\":0,\"redraw\":true},\"mode\":\"immediate\",\"fromcurrent\":true,\"transition\":{\"duration\":0,\"easing\":\"linear\"}}],\"label\":\"2022-12\",\"method\":\"animate\"},{\"args\":[[\"2023-01\"],{\"frame\":{\"duration\":0,\"redraw\":true},\"mode\":\"immediate\",\"fromcurrent\":true,\"transition\":{\"duration\":0,\"easing\":\"linear\"}}],\"label\":\"2023-01\",\"method\":\"animate\"},{\"args\":[[\"2023-02\"],{\"frame\":{\"duration\":0,\"redraw\":true},\"mode\":\"immediate\",\"fromcurrent\":true,\"transition\":{\"duration\":0,\"easing\":\"linear\"}}],\"label\":\"2023-02\",\"method\":\"animate\"},{\"args\":[[\"2023-03\"],{\"frame\":{\"duration\":0,\"redraw\":true},\"mode\":\"immediate\",\"fromcurrent\":true,\"transition\":{\"duration\":0,\"easing\":\"linear\"}}],\"label\":\"2023-03\",\"method\":\"animate\"},{\"args\":[[\"2023-04\"],{\"frame\":{\"duration\":0,\"redraw\":true},\"mode\":\"immediate\",\"fromcurrent\":true,\"transition\":{\"duration\":0,\"easing\":\"linear\"}}],\"label\":\"2023-04\",\"method\":\"animate\"},{\"args\":[[\"2023-05\"],{\"frame\":{\"duration\":0,\"redraw\":true},\"mode\":\"immediate\",\"fromcurrent\":true,\"transition\":{\"duration\":0,\"easing\":\"linear\"}}],\"label\":\"2023-05\",\"method\":\"animate\"},{\"args\":[[\"2023-06\"],{\"frame\":{\"duration\":0,\"redraw\":true},\"mode\":\"immediate\",\"fromcurrent\":true,\"transition\":{\"duration\":0,\"easing\":\"linear\"}}],\"label\":\"2023-06\",\"method\":\"animate\"},{\"args\":[[\"2023-07\"],{\"frame\":{\"duration\":0,\"redraw\":true},\"mode\":\"immediate\",\"fromcurrent\":true,\"transition\":{\"duration\":0,\"easing\":\"linear\"}}],\"label\":\"2023-07\",\"method\":\"animate\"},{\"args\":[[\"2023-08\"],{\"frame\":{\"duration\":0,\"redraw\":true},\"mode\":\"immediate\",\"fromcurrent\":true,\"transition\":{\"duration\":0,\"easing\":\"linear\"}}],\"label\":\"2023-08\",\"method\":\"animate\"},{\"args\":[[\"2023-11\"],{\"frame\":{\"duration\":0,\"redraw\":true},\"mode\":\"immediate\",\"fromcurrent\":true,\"transition\":{\"duration\":0,\"easing\":\"linear\"}}],\"label\":\"2023-11\",\"method\":\"animate\"},{\"args\":[[\"2023-12\"],{\"frame\":{\"duration\":0,\"redraw\":true},\"mode\":\"immediate\",\"fromcurrent\":true,\"transition\":{\"duration\":0,\"easing\":\"linear\"}}],\"label\":\"2023-12\",\"method\":\"animate\"},{\"args\":[[\"2024-01\"],{\"frame\":{\"duration\":0,\"redraw\":true},\"mode\":\"immediate\",\"fromcurrent\":true,\"transition\":{\"duration\":0,\"easing\":\"linear\"}}],\"label\":\"2024-01\",\"method\":\"animate\"},{\"args\":[[\"2024-02\"],{\"frame\":{\"duration\":0,\"redraw\":true},\"mode\":\"immediate\",\"fromcurrent\":true,\"transition\":{\"duration\":0,\"easing\":\"linear\"}}],\"label\":\"2024-02\",\"method\":\"animate\"},{\"args\":[[\"2024-03\"],{\"frame\":{\"duration\":0,\"redraw\":true},\"mode\":\"immediate\",\"fromcurrent\":true,\"transition\":{\"duration\":0,\"easing\":\"linear\"}}],\"label\":\"2024-03\",\"method\":\"animate\"},{\"args\":[[\"2024-04\"],{\"frame\":{\"duration\":0,\"redraw\":true},\"mode\":\"immediate\",\"fromcurrent\":true,\"transition\":{\"duration\":0,\"easing\":\"linear\"}}],\"label\":\"2024-04\",\"method\":\"animate\"},{\"args\":[[\"2024-05\"],{\"frame\":{\"duration\":0,\"redraw\":true},\"mode\":\"immediate\",\"fromcurrent\":true,\"transition\":{\"duration\":0,\"easing\":\"linear\"}}],\"label\":\"2024-05\",\"method\":\"animate\"},{\"args\":[[\"2024-06\"],{\"frame\":{\"duration\":0,\"redraw\":true},\"mode\":\"immediate\",\"fromcurrent\":true,\"transition\":{\"duration\":0,\"easing\":\"linear\"}}],\"label\":\"2024-06\",\"method\":\"animate\"},{\"args\":[[\"2024-07\"],{\"frame\":{\"duration\":0,\"redraw\":true},\"mode\":\"immediate\",\"fromcurrent\":true,\"transition\":{\"duration\":0,\"easing\":\"linear\"}}],\"label\":\"2024-07\",\"method\":\"animate\"},{\"args\":[[\"2024-08\"],{\"frame\":{\"duration\":0,\"redraw\":true},\"mode\":\"immediate\",\"fromcurrent\":true,\"transition\":{\"duration\":0,\"easing\":\"linear\"}}],\"label\":\"2024-08\",\"method\":\"animate\"},{\"args\":[[\"2024-09\"],{\"frame\":{\"duration\":0,\"redraw\":true},\"mode\":\"immediate\",\"fromcurrent\":true,\"transition\":{\"duration\":0,\"easing\":\"linear\"}}],\"label\":\"2024-09\",\"method\":\"animate\"},{\"args\":[[\"2024-10\"],{\"frame\":{\"duration\":0,\"redraw\":true},\"mode\":\"immediate\",\"fromcurrent\":true,\"transition\":{\"duration\":0,\"easing\":\"linear\"}}],\"label\":\"2024-10\",\"method\":\"animate\"},{\"args\":[[\"2024-11\"],{\"frame\":{\"duration\":0,\"redraw\":true},\"mode\":\"immediate\",\"fromcurrent\":true,\"transition\":{\"duration\":0,\"easing\":\"linear\"}}],\"label\":\"2024-11\",\"method\":\"animate\"},{\"args\":[[\"2024-12\"],{\"frame\":{\"duration\":0,\"redraw\":true},\"mode\":\"immediate\",\"fromcurrent\":true,\"transition\":{\"duration\":0,\"easing\":\"linear\"}}],\"label\":\"2024-12\",\"method\":\"animate\"},{\"args\":[[\"2023-09\"],{\"frame\":{\"duration\":0,\"redraw\":true},\"mode\":\"immediate\",\"fromcurrent\":true,\"transition\":{\"duration\":0,\"easing\":\"linear\"}}],\"label\":\"2023-09\",\"method\":\"animate\"}],\"x\":0.1,\"xanchor\":\"left\",\"y\":0,\"yanchor\":\"top\"}],\"height\":800,\"width\":900},                        {\"responsive\": true}                    ).then(function(){\n",
       "                            Plotly.addFrames('c17ac8ba-eadd-45ee-82f7-e542cfa52650', [{\"data\":[{\"hovertemplate\":\"is_exceedence=True\\u003cbr\\u003eMonth=2021-02\\u003cbr\\u003escale=%{marker.size}\\u003cbr\\u003eSite ID=%{text}\\u003cbr\\u003eLatitude=%{lat}\\u003cbr\\u003eLongitude=%{lon}\\u003cextra\\u003e\\u003c\\u002fextra\\u003e\",\"lat\":{\"dtype\":\"f8\",\"bdata\":\"PujZrPpcSEA9LNSa5l1IQA==\"},\"legendgroup\":\"True\",\"lon\":{\"dtype\":\"f8\",\"bdata\":\"Dk+vlGWgXsCHFtnO959ewA==\"},\"marker\":{\"color\":\"red\",\"size\":{\"dtype\":\"f8\",\"bdata\":\"AAAAAABA9D8AAAAAAMD7Pw==\"},\"sizemode\":\"area\",\"sizeref\":0.0425},\"mode\":\"markers+text\",\"name\":\"True\",\"showlegend\":true,\"subplot\":\"mapbox\",\"text\":[\"Bennett Ave\",\"Olive St\"],\"type\":\"scattermapbox\"},{\"hovertemplate\":\"is_exceedence=False\\u003cbr\\u003eMonth=2021-02\\u003cbr\\u003escale=%{marker.size}\\u003cbr\\u003eSite ID=%{text}\\u003cbr\\u003eLatitude=%{lat}\\u003cbr\\u003eLongitude=%{lon}\\u003cextra\\u003e\\u003c\\u002fextra\\u003e\",\"lat\":{\"dtype\":\"f8\",\"bdata\":\"KcsQx7pgSEApyxDHumBIQI51cRsNYEhAV1uxv+xeSEDJdr6fGl9IQCh+jLlrYUhA48eYu5ZgSEA=\"},\"legendgroup\":\"False\",\"lon\":{\"dtype\":\"f8\",\"bdata\":\"iPTb14GfXsCI9NvXgZ9ewN6Th4Van17ArK3YX3afXsAdOGdEaZ9ewAaBlUOLoF7ACYofY+6eXsA=\"},\"marker\":{\"color\":\"green\",\"size\":{\"dtype\":\"f8\",\"bdata\":\"AAAAAABA8z8AAAAAAMDzPwAAAAAAAPE\\u002fAAAAAABA8D8AAAAAAEDwPwAAAAAAQPA\\u002fAAAAAABA8D8=\"},\"sizemode\":\"area\",\"sizeref\":0.0425},\"mode\":\"markers+text\",\"name\":\"False\",\"showlegend\":true,\"subplot\":\"mapbox\",\"text\":[\"Broadway St\",\"Broadway St\",\"C St\",\"Cedar St\",\"Cornwall St\",\"Squalicum Creek\",\"Whatcom Creek\"],\"type\":\"scattermapbox\"}],\"name\":\"2021-02\"},{\"data\":[{\"hovertemplate\":\"is_exceedence=True\\u003cbr\\u003eMonth=2021-03\\u003cbr\\u003escale=%{marker.size}\\u003cbr\\u003eSite ID=%{text}\\u003cbr\\u003eLatitude=%{lat}\\u003cbr\\u003eLongitude=%{lon}\\u003cextra\\u003e\\u003c\\u002fextra\\u003e\",\"lat\":{\"dtype\":\"f8\",\"bdata\":\"PujZrPpcSEA9LNSa5l1IQD0s1JrmXUhA\"},\"legendgroup\":\"True\",\"lon\":{\"dtype\":\"f8\",\"bdata\":\"Dk+vlGWgXsCHFtnO959ewIcW2c73n17A\"},\"marker\":{\"color\":\"red\",\"size\":{\"dtype\":\"f8\",\"bdata\":\"AAAAAAAAGkAAAAAAAMD1PwAAAAAAQPQ\\u002f\"},\"sizemode\":\"area\",\"sizeref\":0.0425},\"mode\":\"markers+text\",\"name\":\"True\",\"showlegend\":true,\"subplot\":\"mapbox\",\"text\":[\"Bennett Ave\",\"Olive St\",\"Olive St\"],\"type\":\"scattermapbox\"},{\"hovertemplate\":\"is_exceedence=False\\u003cbr\\u003eMonth=2021-03\\u003cbr\\u003escale=%{marker.size}\\u003cbr\\u003eSite ID=%{text}\\u003cbr\\u003eLatitude=%{lat}\\u003cbr\\u003eLongitude=%{lon}\\u003cextra\\u003e\\u003c\\u002fextra\\u003e\",\"lat\":{\"dtype\":\"f8\",\"bdata\":\"KcsQx7pgSECOdXEbDWBIQFdbsb\\u002fsXkhAyXa+nxpfSEAofoy5a2FIQOPHmLuWYEhA\"},\"legendgroup\":\"False\",\"lon\":{\"dtype\":\"f8\",\"bdata\":\"iPTb14GfXsDek4eFWp9ewKyt2F92n17AHThnRGmfXsAGgZVDi6BewAmKH2Punl7A\"},\"marker\":{\"color\":\"green\",\"size\":{\"dtype\":\"f8\",\"bdata\":\"AAAAAADA8D8AAAAAAEDxPwAAAAAAQPA\\u002fAAAAAABA8D8AAAAAAEDwPwAAAAAAQPA\\u002f\"},\"sizemode\":\"area\",\"sizeref\":0.0425},\"mode\":\"markers+text\",\"name\":\"False\",\"showlegend\":true,\"subplot\":\"mapbox\",\"text\":[\"Broadway St\",\"C St\",\"Cedar St\",\"Cornwall St\",\"Squalicum Creek\",\"Whatcom Creek\"],\"type\":\"scattermapbox\"}],\"name\":\"2021-03\"},{\"data\":[{\"hovertemplate\":\"is_exceedence=True\\u003cbr\\u003eMonth=2021-04\\u003cbr\\u003escale=%{marker.size}\\u003cbr\\u003eSite ID=%{text}\\u003cbr\\u003eLatitude=%{lat}\\u003cbr\\u003eLongitude=%{lon}\\u003cextra\\u003e\\u003c\\u002fextra\\u003e\",\"lat\":{\"dtype\":\"f8\",\"bdata\":\"PujZrPpcSEA9LNSa5l1IQA==\"},\"legendgroup\":\"True\",\"lon\":{\"dtype\":\"f8\",\"bdata\":\"Dk+vlGWgXsCHFtnO959ewA==\"},\"marker\":{\"color\":\"red\",\"size\":{\"dtype\":\"f8\",\"bdata\":\"AAAAAACA+T8AAAAAAIAEQA==\"},\"sizemode\":\"area\",\"sizeref\":0.0425},\"mode\":\"markers+text\",\"name\":\"True\",\"showlegend\":true,\"subplot\":\"mapbox\",\"text\":[\"Bennett Ave\",\"Olive St\"],\"type\":\"scattermapbox\"},{\"hovertemplate\":\"is_exceedence=False\\u003cbr\\u003eMonth=2021-04\\u003cbr\\u003escale=%{marker.size}\\u003cbr\\u003eSite ID=%{text}\\u003cbr\\u003eLatitude=%{lat}\\u003cbr\\u003eLongitude=%{lon}\\u003cextra\\u003e\\u003c\\u002fextra\\u003e\",\"lat\":{\"dtype\":\"f8\",\"bdata\":\"KcsQx7pgSEApyxDHumBIQI51cRsNYEhAV1uxv+xeSEDJdr6fGl9IQCh+jLlrYUhA48eYu5ZgSEA=\"},\"legendgroup\":\"False\",\"lon\":{\"dtype\":\"f8\",\"bdata\":\"iPTb14GfXsCI9NvXgZ9ewN6Th4Van17ArK3YX3afXsAdOGdEaZ9ewAaBlUOLoF7ACYofY+6eXsA=\"},\"marker\":{\"color\":\"green\",\"size\":{\"dtype\":\"f8\",\"bdata\":\"AAAAAABA8D8AAAAAAEDwPwAAAAAAwPA\\u002fAAAAAACA8T8AAAAAAEDwPwAAAAAAQPA\\u002fAAAAAABA8D8=\"},\"sizemode\":\"area\",\"sizeref\":0.0425},\"mode\":\"markers+text\",\"name\":\"False\",\"showlegend\":true,\"subplot\":\"mapbox\",\"text\":[\"Broadway St\",\"Broadway St\",\"C St\",\"Cedar St\",\"Cornwall St\",\"Squalicum Creek\",\"Whatcom Creek\"],\"type\":\"scattermapbox\"}],\"name\":\"2021-04\"},{\"data\":[{\"hovertemplate\":\"is_exceedence=True\\u003cbr\\u003eMonth=2021-05\\u003cbr\\u003escale=%{marker.size}\\u003cbr\\u003eSite ID=%{text}\\u003cbr\\u003eLatitude=%{lat}\\u003cbr\\u003eLongitude=%{lon}\\u003cextra\\u003e\\u003c\\u002fextra\\u003e\",\"lat\":{\"dtype\":\"f8\",\"bdata\":\"PujZrPpcSEA=\"},\"legendgroup\":\"True\",\"lon\":{\"dtype\":\"f8\",\"bdata\":\"Dk+vlGWgXsA=\"},\"marker\":{\"color\":\"red\",\"size\":{\"dtype\":\"f8\",\"bdata\":\"AAAAAADA9T8=\"},\"sizemode\":\"area\",\"sizeref\":0.0425},\"mode\":\"markers+text\",\"name\":\"True\",\"showlegend\":true,\"subplot\":\"mapbox\",\"text\":[\"Bennett Ave\"],\"type\":\"scattermapbox\"},{\"hovertemplate\":\"is_exceedence=False\\u003cbr\\u003eMonth=2021-05\\u003cbr\\u003escale=%{marker.size}\\u003cbr\\u003eSite ID=%{text}\\u003cbr\\u003eLatitude=%{lat}\\u003cbr\\u003eLongitude=%{lon}\\u003cextra\\u003e\\u003c\\u002fextra\\u003e\",\"lat\":{\"dtype\":\"f8\",\"bdata\":\"KcsQx7pgSECOdXEbDWBIQI51cRsNYEhAV1uxv+xeSEDJdr6fGl9IQD0s1JrmXUhAKH6MuWthSEDjx5i7lmBIQA==\"},\"legendgroup\":\"False\",\"lon\":{\"dtype\":\"f8\",\"bdata\":\"iPTb14GfXsDek4eFWp9ewN6Th4Van17ArK3YX3afXsAdOGdEaZ9ewIcW2c73n17ABoGVQ4ugXsAJih9j7p5ewA==\"},\"marker\":{\"color\":\"green\",\"size\":{\"dtype\":\"f8\",\"bdata\":\"AAAAAACA8D8AAAAAAIDxPwAAAAAAgPA\\u002fAAAAAABA8D8AAAAAAEDwPwAAAAAAgPE\\u002fAAAAAABA8D8AAAAAAEDwPw==\"},\"sizemode\":\"area\",\"sizeref\":0.0425},\"mode\":\"markers+text\",\"name\":\"False\",\"showlegend\":true,\"subplot\":\"mapbox\",\"text\":[\"Broadway St\",\"C St\",\"C St\",\"Cedar St\",\"Cornwall St\",\"Olive St\",\"Squalicum Creek\",\"Whatcom Creek\"],\"type\":\"scattermapbox\"}],\"name\":\"2021-05\"},{\"data\":[{\"hovertemplate\":\"is_exceedence=False\\u003cbr\\u003eMonth=2021-06\\u003cbr\\u003escale=%{marker.size}\\u003cbr\\u003eSite ID=%{text}\\u003cbr\\u003eLatitude=%{lat}\\u003cbr\\u003eLongitude=%{lon}\\u003cextra\\u003e\\u003c\\u002fextra\\u003e\",\"lat\":{\"dtype\":\"f8\",\"bdata\":\"PujZrPpcSEApyxDHumBIQI51cRsNYEhAjnVxGw1gSEBXW7G\\u002f7F5IQMl2vp8aX0hAPSzUmuZdSEAofoy5a2FIQOPHmLuWYEhA\"},\"legendgroup\":\"False\",\"lon\":{\"dtype\":\"f8\",\"bdata\":\"Dk+vlGWgXsCI9NvXgZ9ewN6Th4Van17A3pOHhVqfXsCsrdhfdp9ewB04Z0Rpn17AhxbZzvefXsAGgZVDi6BewAmKH2Punl7A\"},\"marker\":{\"color\":\"green\",\"size\":{\"dtype\":\"f8\",\"bdata\":\"AAAAAACA8z8AAAAAAMDwPwAAAAAAgPA\\u002fAAAAAACA8D8AAAAAAEDwPwAAAAAAQPA\\u002fAAAAAADA8D8AAAAAAIDzPwAAAAAAgPA\\u002f\"},\"sizemode\":\"area\",\"sizeref\":0.0425},\"mode\":\"markers+text\",\"name\":\"False\",\"showlegend\":true,\"subplot\":\"mapbox\",\"text\":[\"Bennett Ave\",\"Broadway St\",\"C St\",\"C St\",\"Cedar St\",\"Cornwall St\",\"Olive St\",\"Squalicum Creek\",\"Whatcom Creek\"],\"type\":\"scattermapbox\"}],\"name\":\"2021-06\"},{\"data\":[{\"hovertemplate\":\"is_exceedence=True\\u003cbr\\u003eMonth=2021-07\\u003cbr\\u003escale=%{marker.size}\\u003cbr\\u003eSite ID=%{text}\\u003cbr\\u003eLatitude=%{lat}\\u003cbr\\u003eLongitude=%{lon}\\u003cextra\\u003e\\u003c\\u002fextra\\u003e\",\"lat\":{\"dtype\":\"f8\",\"bdata\":\"PujZrPpcSEA=\"},\"legendgroup\":\"True\",\"lon\":{\"dtype\":\"f8\",\"bdata\":\"Dk+vlGWgXsA=\"},\"marker\":{\"color\":\"red\",\"size\":{\"dtype\":\"f8\",\"bdata\":\"AAAAAACgAUA=\"},\"sizemode\":\"area\",\"sizeref\":0.0425},\"mode\":\"markers+text\",\"name\":\"True\",\"showlegend\":true,\"subplot\":\"mapbox\",\"text\":[\"Bennett Ave\"],\"type\":\"scattermapbox\"},{\"hovertemplate\":\"is_exceedence=False\\u003cbr\\u003eMonth=2021-07\\u003cbr\\u003escale=%{marker.size}\\u003cbr\\u003eSite ID=%{text}\\u003cbr\\u003eLatitude=%{lat}\\u003cbr\\u003eLongitude=%{lon}\\u003cextra\\u003e\\u003c\\u002fextra\\u003e\",\"lat\":{\"dtype\":\"f8\",\"bdata\":\"KcsQx7pgSECOdXEbDWBIQFdbsb\\u002fsXkhAyXa+nxpfSEA9LNSa5l1IQCh+jLlrYUhA48eYu5ZgSEDjx5i7lmBIQA==\"},\"legendgroup\":\"False\",\"lon\":{\"dtype\":\"f8\",\"bdata\":\"iPTb14GfXsDek4eFWp9ewKyt2F92n17AHThnRGmfXsCHFtnO959ewAaBlUOLoF7ACYofY+6eXsAJih9j7p5ewA==\"},\"marker\":{\"color\":\"green\",\"size\":{\"dtype\":\"f8\",\"bdata\":\"AAAAAACA8D8AAAAAAADzPwAAAAAAQPA\\u002fAAAAAABA8D8AAAAAAEDwPwAAAAAAgPM\\u002fAAAAAACA8j8AAAAAAMDxPw==\"},\"sizemode\":\"area\",\"sizeref\":0.0425},\"mode\":\"markers+text\",\"name\":\"False\",\"showlegend\":true,\"subplot\":\"mapbox\",\"text\":[\"Broadway St\",\"C St\",\"Cedar St\",\"Cornwall St\",\"Olive St\",\"Squalicum Creek\",\"Whatcom Creek\",\"Whatcom Creek\"],\"type\":\"scattermapbox\"}],\"name\":\"2021-07\"},{\"data\":[{\"hovertemplate\":\"is_exceedence=True\\u003cbr\\u003eMonth=2021-08\\u003cbr\\u003escale=%{marker.size}\\u003cbr\\u003eSite ID=%{text}\\u003cbr\\u003eLatitude=%{lat}\\u003cbr\\u003eLongitude=%{lon}\\u003cextra\\u003e\\u003c\\u002fextra\\u003e\",\"lat\":{\"dtype\":\"f8\",\"bdata\":\"PujZrPpcSEDjx5i7lmBIQA==\"},\"legendgroup\":\"True\",\"lon\":{\"dtype\":\"f8\",\"bdata\":\"Dk+vlGWgXsAJih9j7p5ewA==\"},\"marker\":{\"color\":\"red\",\"size\":{\"dtype\":\"f8\",\"bdata\":\"AAAAAAAACEAAAAAAAID2Pw==\"},\"sizemode\":\"area\",\"sizeref\":0.0425},\"mode\":\"markers+text\",\"name\":\"True\",\"showlegend\":true,\"subplot\":\"mapbox\",\"text\":[\"Bennett Ave\",\"Whatcom Creek\"],\"type\":\"scattermapbox\"},{\"hovertemplate\":\"is_exceedence=False\\u003cbr\\u003eMonth=2021-08\\u003cbr\\u003escale=%{marker.size}\\u003cbr\\u003eSite ID=%{text}\\u003cbr\\u003eLatitude=%{lat}\\u003cbr\\u003eLongitude=%{lon}\\u003cextra\\u003e\\u003c\\u002fextra\\u003e\",\"lat\":{\"dtype\":\"f8\",\"bdata\":\"KcsQx7pgSECOdXEbDWBIQFdbsb\\u002fsXkhAyXa+nxpfSEDJdr6fGl9IQD0s1JrmXUhAKH6MuWthSEA=\"},\"legendgroup\":\"False\",\"lon\":{\"dtype\":\"f8\",\"bdata\":\"iPTb14GfXsDek4eFWp9ewKyt2F92n17AHThnRGmfXsAdOGdEaZ9ewIcW2c73n17ABoGVQ4ugXsA=\"},\"marker\":{\"color\":\"green\",\"size\":{\"dtype\":\"f8\",\"bdata\":\"AAAAAABA8D8AAAAAAEDzPwAAAAAAgPA\\u002fAAAAAABA8T8AAAAAAIDwPwAAAAAAQPE\\u002fAAAAAAAA8j8=\"},\"sizemode\":\"area\",\"sizeref\":0.0425},\"mode\":\"markers+text\",\"name\":\"False\",\"showlegend\":true,\"subplot\":\"mapbox\",\"text\":[\"Broadway St\",\"C St\",\"Cedar St\",\"Cornwall St\",\"Cornwall St\",\"Olive St\",\"Squalicum Creek\"],\"type\":\"scattermapbox\"}],\"name\":\"2021-08\"},{\"data\":[{\"hovertemplate\":\"is_exceedence=True\\u003cbr\\u003eMonth=2021-09\\u003cbr\\u003escale=%{marker.size}\\u003cbr\\u003eSite ID=%{text}\\u003cbr\\u003eLatitude=%{lat}\\u003cbr\\u003eLongitude=%{lon}\\u003cextra\\u003e\\u003c\\u002fextra\\u003e\",\"lat\":{\"dtype\":\"f8\",\"bdata\":\"48eYu5ZgSEA=\"},\"legendgroup\":\"True\",\"lon\":{\"dtype\":\"f8\",\"bdata\":\"CYofY+6eXsA=\"},\"marker\":{\"color\":\"red\",\"size\":{\"dtype\":\"f8\",\"bdata\":\"AAAAAACAD0A=\"},\"sizemode\":\"area\",\"sizeref\":0.0425},\"mode\":\"markers+text\",\"name\":\"True\",\"showlegend\":true,\"subplot\":\"mapbox\",\"text\":[\"Whatcom Creek\"],\"type\":\"scattermapbox\"},{\"hovertemplate\":\"is_exceedence=False\\u003cbr\\u003eMonth=2021-09\\u003cbr\\u003escale=%{marker.size}\\u003cbr\\u003eSite ID=%{text}\\u003cbr\\u003eLatitude=%{lat}\\u003cbr\\u003eLongitude=%{lon}\\u003cextra\\u003e\\u003c\\u002fextra\\u003e\",\"lat\":{\"dtype\":\"f8\",\"bdata\":\"PujZrPpcSEApyxDHumBIQI51cRsNYEhAjnVxGw1gSEBXW7G\\u002f7F5IQMl2vp8aX0hAPSzUmuZdSEAofoy5a2FIQA==\"},\"legendgroup\":\"False\",\"lon\":{\"dtype\":\"f8\",\"bdata\":\"Dk+vlGWgXsCI9NvXgZ9ewN6Th4Van17A3pOHhVqfXsCsrdhfdp9ewB04Z0Rpn17AhxbZzvefXsAGgZVDi6BewA==\"},\"marker\":{\"color\":\"green\",\"size\":{\"dtype\":\"f8\",\"bdata\":\"AAAAAABA8j8AAAAAAMDwPwAAAAAAAPI\\u002fAAAAAABA8j8AAAAAAMDwPwAAAAAAAPI\\u002fAAAAAAAA8z8AAAAAAEDyPw==\"},\"sizemode\":\"area\",\"sizeref\":0.0425},\"mode\":\"markers+text\",\"name\":\"False\",\"showlegend\":true,\"subplot\":\"mapbox\",\"text\":[\"Bennett Ave\",\"Broadway St\",\"C St\",\"C St\",\"Cedar St\",\"Cornwall St\",\"Olive St\",\"Squalicum Creek\"],\"type\":\"scattermapbox\"}],\"name\":\"2021-09\"},{\"data\":[{\"hovertemplate\":\"is_exceedence=True\\u003cbr\\u003eMonth=2021-10\\u003cbr\\u003escale=%{marker.size}\\u003cbr\\u003eSite ID=%{text}\\u003cbr\\u003eLatitude=%{lat}\\u003cbr\\u003eLongitude=%{lon}\\u003cextra\\u003e\\u003c\\u002fextra\\u003e\",\"lat\":{\"dtype\":\"f8\",\"bdata\":\"PujZrPpcSEA=\"},\"legendgroup\":\"True\",\"lon\":{\"dtype\":\"f8\",\"bdata\":\"Dk+vlGWgXsA=\"},\"marker\":{\"color\":\"red\",\"size\":{\"dtype\":\"f8\",\"bdata\":\"AAAAAADA9j8=\"},\"sizemode\":\"area\",\"sizeref\":0.0425},\"mode\":\"markers+text\",\"name\":\"True\",\"showlegend\":true,\"subplot\":\"mapbox\",\"text\":[\"Bennett Ave\"],\"type\":\"scattermapbox\"},{\"hovertemplate\":\"is_exceedence=False\\u003cbr\\u003eMonth=2021-10\\u003cbr\\u003escale=%{marker.size}\\u003cbr\\u003eSite ID=%{text}\\u003cbr\\u003eLatitude=%{lat}\\u003cbr\\u003eLongitude=%{lon}\\u003cextra\\u003e\\u003c\\u002fextra\\u003e\",\"lat\":{\"dtype\":\"f8\",\"bdata\":\"KcsQx7pgSEApyxDHumBIQI51cRsNYEhAV1uxv+xeSEDJdr6fGl9IQD0s1JrmXUhAKH6MuWthSEDjx5i7lmBIQA==\"},\"legendgroup\":\"False\",\"lon\":{\"dtype\":\"f8\",\"bdata\":\"iPTb14GfXsCI9NvXgZ9ewN6Th4Van17ArK3YX3afXsAdOGdEaZ9ewIcW2c73n17ABoGVQ4ugXsAJih9j7p5ewA==\"},\"marker\":{\"color\":\"green\",\"size\":{\"dtype\":\"f8\",\"bdata\":\"AAAAAABA8D8AAAAAAEDwPwAAAAAAwPM\\u002fAAAAAAAA8j8AAAAAAEDwPwAAAAAAwPM\\u002fAAAAAACA8D8AAAAAAEDzPw==\"},\"sizemode\":\"area\",\"sizeref\":0.0425},\"mode\":\"markers+text\",\"name\":\"False\",\"showlegend\":true,\"subplot\":\"mapbox\",\"text\":[\"Broadway St\",\"Broadway St\",\"C St\",\"Cedar St\",\"Cornwall St\",\"Olive St\",\"Squalicum Creek\",\"Whatcom Creek\"],\"type\":\"scattermapbox\"}],\"name\":\"2021-10\"},{\"data\":[{\"hovertemplate\":\"is_exceedence=True\\u003cbr\\u003eMonth=2021-11\\u003cbr\\u003escale=%{marker.size}\\u003cbr\\u003eSite ID=%{text}\\u003cbr\\u003eLatitude=%{lat}\\u003cbr\\u003eLongitude=%{lon}\\u003cextra\\u003e\\u003c\\u002fextra\\u003e\",\"lat\":{\"dtype\":\"f8\",\"bdata\":\"PujZrPpcSEA=\"},\"legendgroup\":\"True\",\"lon\":{\"dtype\":\"f8\",\"bdata\":\"Dk+vlGWgXsA=\"},\"marker\":{\"color\":\"red\",\"size\":{\"dtype\":\"f8\",\"bdata\":\"AAAAAABA9T8=\"},\"sizemode\":\"area\",\"sizeref\":0.0425},\"mode\":\"markers+text\",\"name\":\"True\",\"showlegend\":true,\"subplot\":\"mapbox\",\"text\":[\"Bennett Ave\"],\"type\":\"scattermapbox\"},{\"hovertemplate\":\"is_exceedence=False\\u003cbr\\u003eMonth=2021-11\\u003cbr\\u003escale=%{marker.size}\\u003cbr\\u003eSite ID=%{text}\\u003cbr\\u003eLatitude=%{lat}\\u003cbr\\u003eLongitude=%{lon}\\u003cextra\\u003e\\u003c\\u002fextra\\u003e\",\"lat\":{\"dtype\":\"f8\",\"bdata\":\"KcsQx7pgSECOdXEbDWBIQFdbsb\\u002fsXkhAV1uxv+xeSEDJdr6fGl9IQD0s1JrmXUhAKH6MuWthSEDjx5i7lmBIQA==\"},\"legendgroup\":\"False\",\"lon\":{\"dtype\":\"f8\",\"bdata\":\"iPTb14GfXsDek4eFWp9ewKyt2F92n17ArK3YX3afXsAdOGdEaZ9ewIcW2c73n17ABoGVQ4ugXsAJih9j7p5ewA==\"},\"marker\":{\"color\":\"green\",\"size\":{\"dtype\":\"f8\",\"bdata\":\"AAAAAACA8T8AAAAAAMDxPwAAAAAAQPA\\u002fAAAAAADA8D8AAAAAAMDwPwAAAAAAgPE\\u002fAAAAAADA8z8AAAAAAEDyPw==\"},\"sizemode\":\"area\",\"sizeref\":0.0425},\"mode\":\"markers+text\",\"name\":\"False\",\"showlegend\":true,\"subplot\":\"mapbox\",\"text\":[\"Broadway St\",\"C St\",\"Cedar St\",\"Cedar St\",\"Cornwall St\",\"Olive St\",\"Squalicum Creek\",\"Whatcom Creek\"],\"type\":\"scattermapbox\"}],\"name\":\"2021-11\"},{\"data\":[{\"hovertemplate\":\"is_exceedence=True\\u003cbr\\u003eMonth=2021-12\\u003cbr\\u003escale=%{marker.size}\\u003cbr\\u003eSite ID=%{text}\\u003cbr\\u003eLatitude=%{lat}\\u003cbr\\u003eLongitude=%{lon}\\u003cextra\\u003e\\u003c\\u002fextra\\u003e\",\"lat\":{\"dtype\":\"f8\",\"bdata\":\"KcsQx7pgSECOdXEbDWBIQFdbsb\\u002fsXkhAyXa+nxpfSEA9LNSa5l1IQCh+jLlrYUhA48eYu5ZgSEA=\"},\"legendgroup\":\"True\",\"lon\":{\"dtype\":\"f8\",\"bdata\":\"iPTb14GfXsDek4eFWp9ewKyt2F92n17AHThnRGmfXsCHFtnO959ewAaBlUOLoF7ACYofY+6eXsA=\"},\"marker\":{\"color\":\"red\",\"size\":{\"dtype\":\"f8\",\"bdata\":\"AAAAAACA9z8AAAAAAOADQAAAAAAAgPU\\u002fAAAAAABA+D8AAAAAAAD6PwAAAAAAgPw\\u002fAAAAAABA9D8=\"},\"sizemode\":\"area\",\"sizeref\":0.0425},\"mode\":\"markers+text\",\"name\":\"True\",\"showlegend\":true,\"subplot\":\"mapbox\",\"text\":[\"Broadway St\",\"C St\",\"Cedar St\",\"Cornwall St\",\"Olive St\",\"Squalicum Creek\",\"Whatcom Creek\"],\"type\":\"scattermapbox\"},{\"hovertemplate\":\"is_exceedence=False\\u003cbr\\u003eMonth=2021-12\\u003cbr\\u003escale=%{marker.size}\\u003cbr\\u003eSite ID=%{text}\\u003cbr\\u003eLatitude=%{lat}\\u003cbr\\u003eLongitude=%{lon}\\u003cextra\\u003e\\u003c\\u002fextra\\u003e\",\"lat\":{\"dtype\":\"f8\",\"bdata\":\"PujZrPpcSEApyxDHumBIQA==\"},\"legendgroup\":\"False\",\"lon\":{\"dtype\":\"f8\",\"bdata\":\"Dk+vlGWgXsCI9NvXgZ9ewA==\"},\"marker\":{\"color\":\"green\",\"size\":{\"dtype\":\"f8\",\"bdata\":\"AAAAAABA8z8AAAAAAIDzPw==\"},\"sizemode\":\"area\",\"sizeref\":0.0425},\"mode\":\"markers+text\",\"name\":\"False\",\"showlegend\":true,\"subplot\":\"mapbox\",\"text\":[\"Bennett Ave\",\"Broadway St\"],\"type\":\"scattermapbox\"}],\"name\":\"2021-12\"},{\"data\":[{\"hovertemplate\":\"is_exceedence=True\\u003cbr\\u003eMonth=2022-01\\u003cbr\\u003escale=%{marker.size}\\u003cbr\\u003eSite ID=%{text}\\u003cbr\\u003eLatitude=%{lat}\\u003cbr\\u003eLongitude=%{lon}\\u003cextra\\u003e\\u003c\\u002fextra\\u003e\",\"lat\":{\"dtype\":\"f8\",\"bdata\":\"PujZrPpcSEA+6Nms+lxIQI51cRsNYEhAV1uxv+xeSEA=\"},\"legendgroup\":\"True\",\"lon\":{\"dtype\":\"f8\",\"bdata\":\"Dk+vlGWgXsAOT6+UZaBewN6Th4Van17ArK3YX3afXsA=\"},\"marker\":{\"color\":\"red\",\"size\":{\"dtype\":\"f8\",\"bdata\":\"AAAAAACA\\u002fD8AAAAAAAAAQAAAAAAAAPc\\u002fAAAAAAAA9T8=\"},\"sizemode\":\"area\",\"sizeref\":0.0425},\"mode\":\"markers+text\",\"name\":\"True\",\"showlegend\":true,\"subplot\":\"mapbox\",\"text\":[\"Bennett Ave\",\"Bennett Ave\",\"C St\",\"Cedar St\"],\"type\":\"scattermapbox\"},{\"hovertemplate\":\"is_exceedence=False\\u003cbr\\u003eMonth=2022-01\\u003cbr\\u003escale=%{marker.size}\\u003cbr\\u003eSite ID=%{text}\\u003cbr\\u003eLatitude=%{lat}\\u003cbr\\u003eLongitude=%{lon}\\u003cextra\\u003e\\u003c\\u002fextra\\u003e\",\"lat\":{\"dtype\":\"f8\",\"bdata\":\"KcsQx7pgSEDJdr6fGl9IQD0s1JrmXUhAKH6MuWthSEDjx5i7lmBIQA==\"},\"legendgroup\":\"False\",\"lon\":{\"dtype\":\"f8\",\"bdata\":\"iPTb14GfXsAdOGdEaZ9ewIcW2c73n17ABoGVQ4ugXsAJih9j7p5ewA==\"},\"marker\":{\"color\":\"green\",\"size\":{\"dtype\":\"f8\",\"bdata\":\"AAAAAACA8z8AAAAAAIDyPwAAAAAAAPE\\u002fAAAAAADA8j8AAAAAAIDxPw==\"},\"sizemode\":\"area\",\"sizeref\":0.0425},\"mode\":\"markers+text\",\"name\":\"False\",\"showlegend\":true,\"subplot\":\"mapbox\",\"text\":[\"Broadway St\",\"Cornwall St\",\"Olive St\",\"Squalicum Creek\",\"Whatcom Creek\"],\"type\":\"scattermapbox\"}],\"name\":\"2022-01\"},{\"data\":[{\"hovertemplate\":\"is_exceedence=True\\u003cbr\\u003eMonth=2022-02\\u003cbr\\u003escale=%{marker.size}\\u003cbr\\u003eSite ID=%{text}\\u003cbr\\u003eLatitude=%{lat}\\u003cbr\\u003eLongitude=%{lon}\\u003cextra\\u003e\\u003c\\u002fextra\\u003e\",\"lat\":{\"dtype\":\"f8\",\"bdata\":\"PujZrPpcSEA+6Nms+lxIQI51cRsNYEhAyXa+nxpfSEA=\"},\"legendgroup\":\"True\",\"lon\":{\"dtype\":\"f8\",\"bdata\":\"Dk+vlGWgXsAOT6+UZaBewN6Th4Van17AHThnRGmfXsA=\"},\"marker\":{\"color\":\"red\",\"size\":{\"dtype\":\"f8\",\"bdata\":\"AAAAAABA9T8AAAAAAID0PwAAAAAAAAZAAAAAAACA+D8=\"},\"sizemode\":\"area\",\"sizeref\":0.0425},\"mode\":\"markers+text\",\"name\":\"True\",\"showlegend\":true,\"subplot\":\"mapbox\",\"text\":[\"Bennett Ave\",\"Bennett Ave\",\"C St\",\"Cornwall St\"],\"type\":\"scattermapbox\"},{\"hovertemplate\":\"is_exceedence=False\\u003cbr\\u003eMonth=2022-02\\u003cbr\\u003escale=%{marker.size}\\u003cbr\\u003eSite ID=%{text}\\u003cbr\\u003eLatitude=%{lat}\\u003cbr\\u003eLongitude=%{lon}\\u003cextra\\u003e\\u003c\\u002fextra\\u003e\",\"lat\":{\"dtype\":\"f8\",\"bdata\":\"KcsQx7pgSEBXW7G\\u002f7F5IQD0s1JrmXUhAKH6MuWthSEDjx5i7lmBIQA==\"},\"legendgroup\":\"False\",\"lon\":{\"dtype\":\"f8\",\"bdata\":\"iPTb14GfXsCsrdhfdp9ewIcW2c73n17ABoGVQ4ugXsAJih9j7p5ewA==\"},\"marker\":{\"color\":\"green\",\"size\":{\"dtype\":\"f8\",\"bdata\":\"AAAAAACA8D8AAAAAAEDzPwAAAAAAQPI\\u002fAAAAAABA8D8AAAAAAADzPw==\"},\"sizemode\":\"area\",\"sizeref\":0.0425},\"mode\":\"markers+text\",\"name\":\"False\",\"showlegend\":true,\"subplot\":\"mapbox\",\"text\":[\"Broadway St\",\"Cedar St\",\"Olive St\",\"Squalicum Creek\",\"Whatcom Creek\"],\"type\":\"scattermapbox\"}],\"name\":\"2022-02\"},{\"data\":[{\"hovertemplate\":\"is_exceedence=True\\u003cbr\\u003eMonth=2022-03\\u003cbr\\u003escale=%{marker.size}\\u003cbr\\u003eSite ID=%{text}\\u003cbr\\u003eLatitude=%{lat}\\u003cbr\\u003eLongitude=%{lon}\\u003cextra\\u003e\\u003c\\u002fextra\\u003e\",\"lat\":{\"dtype\":\"f8\",\"bdata\":\"PujZrPpcSEA=\"},\"legendgroup\":\"True\",\"lon\":{\"dtype\":\"f8\",\"bdata\":\"Dk+vlGWgXsA=\"},\"marker\":{\"color\":\"red\",\"size\":{\"dtype\":\"f8\",\"bdata\":\"AAAAAAAA\\u002fT8=\"},\"sizemode\":\"area\",\"sizeref\":0.0425},\"mode\":\"markers+text\",\"name\":\"True\",\"showlegend\":true,\"subplot\":\"mapbox\",\"text\":[\"Bennett Ave\"],\"type\":\"scattermapbox\"},{\"hovertemplate\":\"is_exceedence=False\\u003cbr\\u003eMonth=2022-03\\u003cbr\\u003escale=%{marker.size}\\u003cbr\\u003eSite ID=%{text}\\u003cbr\\u003eLatitude=%{lat}\\u003cbr\\u003eLongitude=%{lon}\\u003cextra\\u003e\\u003c\\u002fextra\\u003e\",\"lat\":{\"dtype\":\"f8\",\"bdata\":\"KcsQx7pgSECOdXEbDWBIQFdbsb\\u002fsXkhAyXa+nxpfSEDJdr6fGl9IQD0s1JrmXUhAKH6MuWthSEDjx5i7lmBIQA==\"},\"legendgroup\":\"False\",\"lon\":{\"dtype\":\"f8\",\"bdata\":\"iPTb14GfXsDek4eFWp9ewKyt2F92n17AHThnRGmfXsAdOGdEaZ9ewIcW2c73n17ABoGVQ4ugXsAJih9j7p5ewA==\"},\"marker\":{\"color\":\"green\",\"size\":{\"dtype\":\"f8\",\"bdata\":\"AAAAAABA8T8AAAAAAIDwPwAAAAAAQPA\\u002fAAAAAABA8z8AAAAAAMDyPwAAAAAAAPI\\u002fAAAAAACA8D8AAAAAAEDwPw==\"},\"sizemode\":\"area\",\"sizeref\":0.0425},\"mode\":\"markers+text\",\"name\":\"False\",\"showlegend\":true,\"subplot\":\"mapbox\",\"text\":[\"Broadway St\",\"C St\",\"Cedar St\",\"Cornwall St\",\"Cornwall St\",\"Olive St\",\"Squalicum Creek\",\"Whatcom Creek\"],\"type\":\"scattermapbox\"}],\"name\":\"2022-03\"},{\"data\":[{\"hovertemplate\":\"is_exceedence=True\\u003cbr\\u003eMonth=2022-04\\u003cbr\\u003escale=%{marker.size}\\u003cbr\\u003eSite ID=%{text}\\u003cbr\\u003eLatitude=%{lat}\\u003cbr\\u003eLongitude=%{lon}\\u003cextra\\u003e\\u003c\\u002fextra\\u003e\",\"lat\":{\"dtype\":\"f8\",\"bdata\":\"jnVxGw1gSEBXW7G\\u002f7F5IQA==\"},\"legendgroup\":\"True\",\"lon\":{\"dtype\":\"f8\",\"bdata\":\"3pOHhVqfXsCsrdhfdp9ewA==\"},\"marker\":{\"color\":\"red\",\"size\":{\"dtype\":\"f8\",\"bdata\":\"AAAAAACA+T8AAAAAAED2Pw==\"},\"sizemode\":\"area\",\"sizeref\":0.0425},\"mode\":\"markers+text\",\"name\":\"True\",\"showlegend\":true,\"subplot\":\"mapbox\",\"text\":[\"C St\",\"Cedar St\"],\"type\":\"scattermapbox\"},{\"hovertemplate\":\"is_exceedence=False\\u003cbr\\u003eMonth=2022-04\\u003cbr\\u003escale=%{marker.size}\\u003cbr\\u003eSite ID=%{text}\\u003cbr\\u003eLatitude=%{lat}\\u003cbr\\u003eLongitude=%{lon}\\u003cextra\\u003e\\u003c\\u002fextra\\u003e\",\"lat\":{\"dtype\":\"f8\",\"bdata\":\"PujZrPpcSEApyxDHumBIQMl2vp8aX0hAyXa+nxpfSEAnoImw4WFIQD0s1JrmXUhAwOyePCxcSEAofoy5a2FIQOPHmLuWYEhA\"},\"legendgroup\":\"False\",\"lon\":{\"dtype\":\"f8\",\"bdata\":\"Dk+vlGWgXsCI9NvXgZ9ewB04Z0Rpn17AHThnRGmfXsAijnVxG6FewIcW2c73n17A\\u002fyH99nWgXsAGgZVDi6BewAmKH2Punl7A\"},\"marker\":{\"color\":\"green\",\"size\":{\"dtype\":\"f8\",\"bdata\":\"AAAAAADA8j8AAAAAAEDwPwAAAAAAQPI\\u002fAAAAAABA8T8AAAAAAIDwPwAAAAAAAPE\\u002fAAAAAACA8j8AAAAAAMDwPwAAAAAAAPE\\u002f\"},\"sizemode\":\"area\",\"sizeref\":0.0425},\"mode\":\"markers+text\",\"name\":\"False\",\"showlegend\":true,\"subplot\":\"mapbox\",\"text\":[\"Bennett Ave\",\"Broadway St\",\"Cornwall St\",\"Cornwall St\",\"Little Squalicum Creek\",\"Olive St\",\"Padden Creek\",\"Squalicum Creek\",\"Whatcom Creek\"],\"type\":\"scattermapbox\"}],\"name\":\"2022-04\"},{\"data\":[{\"hovertemplate\":\"is_exceedence=True\\u003cbr\\u003eMonth=2022-05\\u003cbr\\u003escale=%{marker.size}\\u003cbr\\u003eSite ID=%{text}\\u003cbr\\u003eLatitude=%{lat}\\u003cbr\\u003eLongitude=%{lon}\\u003cextra\\u003e\\u003c\\u002fextra\\u003e\",\"lat\":{\"dtype\":\"f8\",\"bdata\":\"PujZrPpcSEApyxDHumBIQI51cRsNYEhAV1uxv+xeSEDJdr6fGl9IQMDsnjwsXEhAKH6MuWthSEA=\"},\"legendgroup\":\"True\",\"lon\":{\"dtype\":\"f8\",\"bdata\":\"Dk+vlGWgXsCI9NvXgZ9ewN6Th4Van17ArK3YX3afXsAdOGdEaZ9ewP8h\\u002ffZ1oF7ABoGVQ4ugXsA=\"},\"marker\":{\"color\":\"red\",\"size\":{\"dtype\":\"f8\",\"bdata\":\"AAAAAAAA9j8AAAAAAAD2PwAAAAAAwPU\\u002fAAAAAAAA+D8AAAAAAED3PwAAAAAAgPY\\u002fAAAAAABA9z8=\"},\"sizemode\":\"area\",\"sizeref\":0.0425},\"mode\":\"markers+text\",\"name\":\"True\",\"showlegend\":true,\"subplot\":\"mapbox\",\"text\":[\"Bennett Ave\",\"Broadway St\",\"C St\",\"Cedar St\",\"Cornwall St\",\"Padden Creek\",\"Squalicum Creek\"],\"type\":\"scattermapbox\"},{\"hovertemplate\":\"is_exceedence=False\\u003cbr\\u003eMonth=2022-05\\u003cbr\\u003escale=%{marker.size}\\u003cbr\\u003eSite ID=%{text}\\u003cbr\\u003eLatitude=%{lat}\\u003cbr\\u003eLongitude=%{lon}\\u003cextra\\u003e\\u003c\\u002fextra\\u003e\",\"lat\":{\"dtype\":\"f8\",\"bdata\":\"J6CJsOFhSEA9LNSa5l1IQOPHmLuWYEhA48eYu5ZgSEA=\"},\"legendgroup\":\"False\",\"lon\":{\"dtype\":\"f8\",\"bdata\":\"Io51cRuhXsCHFtnO959ewAmKH2Punl7ACYofY+6eXsA=\"},\"marker\":{\"color\":\"green\",\"size\":{\"dtype\":\"f8\",\"bdata\":\"AAAAAABA8j8AAAAAAIDxPwAAAAAAAPI\\u002fmpmZmZk58D8=\"},\"sizemode\":\"area\",\"sizeref\":0.0425},\"mode\":\"markers+text\",\"name\":\"False\",\"showlegend\":true,\"subplot\":\"mapbox\",\"text\":[\"Little Squalicum Creek\",\"Olive St\",\"Whatcom Creek\",\"Whatcom Creek\"],\"type\":\"scattermapbox\"}],\"name\":\"2022-05\"},{\"data\":[{\"hovertemplate\":\"is_exceedence=True\\u003cbr\\u003eMonth=2022-06\\u003cbr\\u003escale=%{marker.size}\\u003cbr\\u003eSite ID=%{text}\\u003cbr\\u003eLatitude=%{lat}\\u003cbr\\u003eLongitude=%{lon}\\u003cextra\\u003e\\u003c\\u002fextra\\u003e\",\"lat\":{\"dtype\":\"f8\",\"bdata\":\"jnVxGw1gSECOdXEbDWBIQD0s1JrmXUhAwOyePCxcSEAofoy5a2FIQOPHmLuWYEhA\"},\"legendgroup\":\"True\",\"lon\":{\"dtype\":\"f8\",\"bdata\":\"3pOHhVqfXsDek4eFWp9ewIcW2c73n17A\\u002fyH99nWgXsAGgZVDi6BewAmKH2Punl7A\"},\"marker\":{\"color\":\"red\",\"size\":{\"dtype\":\"f8\",\"bdata\":\"AAAAAACA9D8AAAAAAMD0PwAAAAAAQPc\\u002fAAAAAAAAAEAAAAAAAMD\\u002fPwAAAAAAgPQ\\u002f\"},\"sizemode\":\"area\",\"sizeref\":0.0425},\"mode\":\"markers+text\",\"name\":\"True\",\"showlegend\":true,\"subplot\":\"mapbox\",\"text\":[\"C St\",\"C St\",\"Olive St\",\"Padden Creek\",\"Squalicum Creek\",\"Whatcom Creek\"],\"type\":\"scattermapbox\"},{\"hovertemplate\":\"is_exceedence=False\\u003cbr\\u003eMonth=2022-06\\u003cbr\\u003escale=%{marker.size}\\u003cbr\\u003eSite ID=%{text}\\u003cbr\\u003eLatitude=%{lat}\\u003cbr\\u003eLongitude=%{lon}\\u003cextra\\u003e\\u003c\\u002fextra\\u003e\",\"lat\":{\"dtype\":\"f8\",\"bdata\":\"PujZrPpcSEApyxDHumBIQFdbsb\\u002fsXkhAyXa+nxpfSEAnoImw4WFIQEI+6NmsWkhA\"},\"legendgroup\":\"False\",\"lon\":{\"dtype\":\"f8\",\"bdata\":\"Dk+vlGWgXsCI9NvXgZ9ewKyt2F92n17AHThnRGmfXsAijnVxG6FewKJFtvP9oF7A\"},\"marker\":{\"color\":\"green\",\"size\":{\"dtype\":\"f8\",\"bdata\":\"AAAAAADA8j8AAAAAAADzPwAAAAAAQPE\\u002fAAAAAACA8T8AAAAAAIDyPwAAAAAAwPE\\u002f\"},\"sizemode\":\"area\",\"sizeref\":0.0425},\"mode\":\"markers+text\",\"name\":\"False\",\"showlegend\":true,\"subplot\":\"mapbox\",\"text\":[\"Bennett Ave\",\"Broadway St\",\"Cedar St\",\"Cornwall St\",\"Little Squalicum Creek\",\"Willow St\"],\"type\":\"scattermapbox\"}],\"name\":\"2022-06\"},{\"data\":[{\"hovertemplate\":\"is_exceedence=True\\u003cbr\\u003eMonth=2022-07\\u003cbr\\u003escale=%{marker.size}\\u003cbr\\u003eSite ID=%{text}\\u003cbr\\u003eLatitude=%{lat}\\u003cbr\\u003eLongitude=%{lon}\\u003cextra\\u003e\\u003c\\u002fextra\\u003e\",\"lat\":{\"dtype\":\"f8\",\"bdata\":\"PujZrPpcSECOdXEbDWBIQFdbsb\\u002fsXkhAJ6CJsOFhSEA9LNSa5l1IQCh+jLlrYUhA48eYu5ZgSEBCPujZrFpIQA==\"},\"legendgroup\":\"True\",\"lon\":{\"dtype\":\"f8\",\"bdata\":\"Dk+vlGWgXsDek4eFWp9ewKyt2F92n17AIo51cRuhXsCHFtnO959ewAaBlUOLoF7ACYofY+6eXsCiRbbz\\u002faBewA==\"},\"marker\":{\"color\":\"red\",\"size\":{\"dtype\":\"f8\",\"bdata\":\"AAAAAAAAMUAAAAAAAID6PwAAAAAAgAdAAAAAAAAADEAAAAAAAED4PwAAAAAAABBAAAAAAACgA0AAAAAAAED0Pw==\"},\"sizemode\":\"area\",\"sizeref\":0.0425},\"mode\":\"markers+text\",\"name\":\"True\",\"showlegend\":true,\"subplot\":\"mapbox\",\"text\":[\"Bennett Ave\",\"C St\",\"Cedar St\",\"Little Squalicum Creek\",\"Olive St\",\"Squalicum Creek\",\"Whatcom Creek\",\"Willow St\"],\"type\":\"scattermapbox\"},{\"hovertemplate\":\"is_exceedence=False\\u003cbr\\u003eMonth=2022-07\\u003cbr\\u003escale=%{marker.size}\\u003cbr\\u003eSite ID=%{text}\\u003cbr\\u003eLatitude=%{lat}\\u003cbr\\u003eLongitude=%{lon}\\u003cextra\\u003e\\u003c\\u002fextra\\u003e\",\"lat\":{\"dtype\":\"f8\",\"bdata\":\"KcsQx7pgSEApyxDHumBIQMl2vp8aX0hAwOyePCxcSEA=\"},\"legendgroup\":\"False\",\"lon\":{\"dtype\":\"f8\",\"bdata\":\"iPTb14GfXsCI9NvXgZ9ewB04Z0Rpn17A\\u002fyH99nWgXsA=\"},\"marker\":{\"color\":\"green\",\"size\":{\"dtype\":\"f8\",\"bdata\":\"AAAAAAAA8D8AAAAAAMDwPwAAAAAAAPA\\u002fAAAAAABA8z8=\"},\"sizemode\":\"area\",\"sizeref\":0.0425},\"mode\":\"markers+text\",\"name\":\"False\",\"showlegend\":true,\"subplot\":\"mapbox\",\"text\":[\"Broadway St\",\"Broadway St\",\"Cornwall St\",\"Padden Creek\"],\"type\":\"scattermapbox\"}],\"name\":\"2022-07\"},{\"data\":[{\"hovertemplate\":\"is_exceedence=True\\u003cbr\\u003eMonth=2022-08\\u003cbr\\u003escale=%{marker.size}\\u003cbr\\u003eSite ID=%{text}\\u003cbr\\u003eLatitude=%{lat}\\u003cbr\\u003eLongitude=%{lon}\\u003cextra\\u003e\\u003c\\u002fextra\\u003e\",\"lat\":{\"dtype\":\"f8\",\"bdata\":\"PujZrPpcSEApyxDHumBIQFdbsb\\u002fsXkhAwOyePCxcSEAofoy5a2FIQA==\"},\"legendgroup\":\"True\",\"lon\":{\"dtype\":\"f8\",\"bdata\":\"Dk+vlGWgXsCI9NvXgZ9ewKyt2F92n17A\\u002fyH99nWgXsAGgZVDi6BewA==\"},\"marker\":{\"color\":\"red\",\"size\":{\"dtype\":\"f8\",\"bdata\":\"AAAAAAAAB0AAAAAAAKAAQAAAAAAAQPs\\u002fAAAAAACA9j8AAAAAAED3Pw==\"},\"sizemode\":\"area\",\"sizeref\":0.0425},\"mode\":\"markers+text\",\"name\":\"True\",\"showlegend\":true,\"subplot\":\"mapbox\",\"text\":[\"Bennett Ave\",\"Broadway St\",\"Cedar St\",\"Padden Creek\",\"Squalicum Creek\"],\"type\":\"scattermapbox\"},{\"hovertemplate\":\"is_exceedence=False\\u003cbr\\u003eMonth=2022-08\\u003cbr\\u003escale=%{marker.size}\\u003cbr\\u003eSite ID=%{text}\\u003cbr\\u003eLatitude=%{lat}\\u003cbr\\u003eLongitude=%{lon}\\u003cextra\\u003e\\u003c\\u002fextra\\u003e\",\"lat\":{\"dtype\":\"f8\",\"bdata\":\"jnVxGw1gSECOdXEbDWBIQMl2vp8aX0hAPSzUmuZdSEDjx5i7lmBIQEI+6NmsWkhA\"},\"legendgroup\":\"False\",\"lon\":{\"dtype\":\"f8\",\"bdata\":\"3pOHhVqfXsDek4eFWp9ewB04Z0Rpn17AhxbZzvefXsAJih9j7p5ewKJFtvP9oF7A\"},\"marker\":{\"color\":\"green\",\"size\":{\"dtype\":\"f8\",\"bdata\":\"AAAAAAAA8j8AAAAAAIDxPwAAAAAAQPA\\u002fAAAAAADA8T8AAAAAAEDyPwAAAAAAQPM\\u002f\"},\"sizemode\":\"area\",\"sizeref\":0.0425},\"mode\":\"markers+text\",\"name\":\"False\",\"showlegend\":true,\"subplot\":\"mapbox\",\"text\":[\"C St\",\"C St\",\"Cornwall St\",\"Olive St\",\"Whatcom Creek\",\"Willow St\"],\"type\":\"scattermapbox\"}],\"name\":\"2022-08\"},{\"data\":[{\"hovertemplate\":\"is_exceedence=True\\u003cbr\\u003eMonth=2022-09\\u003cbr\\u003escale=%{marker.size}\\u003cbr\\u003eSite ID=%{text}\\u003cbr\\u003eLatitude=%{lat}\\u003cbr\\u003eLongitude=%{lon}\\u003cextra\\u003e\\u003c\\u002fextra\\u003e\",\"lat\":{\"dtype\":\"f8\",\"bdata\":\"V1uxv+xeSEBXW7G\\u002f7F5IQA==\"},\"legendgroup\":\"True\",\"lon\":{\"dtype\":\"f8\",\"bdata\":\"rK3YX3afXsCsrdhfdp9ewA==\"},\"marker\":{\"color\":\"red\",\"size\":{\"dtype\":\"f8\",\"bdata\":\"AAAAAAAA9T8AAAAAAMD9Pw==\"},\"sizemode\":\"area\",\"sizeref\":0.0425},\"mode\":\"markers+text\",\"name\":\"True\",\"showlegend\":true,\"subplot\":\"mapbox\",\"text\":[\"Cedar St\",\"Cedar St\"],\"type\":\"scattermapbox\"},{\"hovertemplate\":\"is_exceedence=False\\u003cbr\\u003eMonth=2022-09\\u003cbr\\u003escale=%{marker.size}\\u003cbr\\u003eSite ID=%{text}\\u003cbr\\u003eLatitude=%{lat}\\u003cbr\\u003eLongitude=%{lon}\\u003cextra\\u003e\\u003c\\u002fextra\\u003e\",\"lat\":{\"dtype\":\"f8\",\"bdata\":\"PujZrPpcSEApyxDHumBIQI51cRsNYEhAyXa+nxpfSEA9LNSa5l1IQMDsnjwsXEhAKH6MuWthSEDjx5i7lmBIQA==\"},\"legendgroup\":\"False\",\"lon\":{\"dtype\":\"f8\",\"bdata\":\"Dk+vlGWgXsCI9NvXgZ9ewN6Th4Van17AHThnRGmfXsCHFtnO959ewP8h\\u002ffZ1oF7ABoGVQ4ugXsAJih9j7p5ewA==\"},\"marker\":{\"color\":\"green\",\"size\":{\"dtype\":\"f8\",\"bdata\":\"AAAAAAAA8D8AAAAAAADwPwAAAAAAQPE\\u002fAAAAAABA8T8AAAAAAADwPwAAAAAAgPI\\u002fAAAAAABA8T8AAAAAAIDyPw==\"},\"sizemode\":\"area\",\"sizeref\":0.0425},\"mode\":\"markers+text\",\"name\":\"False\",\"showlegend\":true,\"subplot\":\"mapbox\",\"text\":[\"Bennett Ave\",\"Broadway St\",\"C St\",\"Cornwall St\",\"Olive St\",\"Padden Creek\",\"Squalicum Creek\",\"Whatcom Creek\"],\"type\":\"scattermapbox\"}],\"name\":\"2022-09\"},{\"data\":[{\"hovertemplate\":\"is_exceedence=True\\u003cbr\\u003eMonth=2022-10\\u003cbr\\u003escale=%{marker.size}\\u003cbr\\u003eSite ID=%{text}\\u003cbr\\u003eLatitude=%{lat}\\u003cbr\\u003eLongitude=%{lon}\\u003cextra\\u003e\\u003c\\u002fextra\\u003e\",\"lat\":{\"dtype\":\"f8\",\"bdata\":\"PujZrPpcSEBXW7G\\u002f7F5IQD0s1JrmXUhA\"},\"legendgroup\":\"True\",\"lon\":{\"dtype\":\"f8\",\"bdata\":\"Dk+vlGWgXsCsrdhfdp9ewIcW2c73n17A\"},\"marker\":{\"color\":\"red\",\"size\":{\"dtype\":\"f8\",\"bdata\":\"AAAAAAD4KEAAAAAAAED2PwAAAAAAAPU\\u002f\"},\"sizemode\":\"area\",\"sizeref\":0.0425},\"mode\":\"markers+text\",\"name\":\"True\",\"showlegend\":true,\"subplot\":\"mapbox\",\"text\":[\"Bennett Ave\",\"Cedar St\",\"Olive St\"],\"type\":\"scattermapbox\"},{\"hovertemplate\":\"is_exceedence=False\\u003cbr\\u003eMonth=2022-10\\u003cbr\\u003escale=%{marker.size}\\u003cbr\\u003eSite ID=%{text}\\u003cbr\\u003eLatitude=%{lat}\\u003cbr\\u003eLongitude=%{lon}\\u003cextra\\u003e\\u003c\\u002fextra\\u003e\",\"lat\":{\"dtype\":\"f8\",\"bdata\":\"KcsQx7pgSECOdXEbDWBIQFdbsb\\u002fsXkhAyXa+nxpfSEDA7J48LFxIQCh+jLlrYUhA48eYu5ZgSEA=\"},\"legendgroup\":\"False\",\"lon\":{\"dtype\":\"f8\",\"bdata\":\"iPTb14GfXsDek4eFWp9ewKyt2F92n17AHThnRGmfXsD\\u002fIf32daBewAaBlUOLoF7ACYofY+6eXsA=\"},\"marker\":{\"color\":\"green\",\"size\":{\"dtype\":\"f8\",\"bdata\":\"AAAAAABA8T8AAAAAAADwPwAAAAAAQPE\\u002fAAAAAAAA8D8AAAAAAEDxPwAAAAAAAPA\\u002fAAAAAAAA8D8=\"},\"sizemode\":\"area\",\"sizeref\":0.0425},\"mode\":\"markers+text\",\"name\":\"False\",\"showlegend\":true,\"subplot\":\"mapbox\",\"text\":[\"Broadway St\",\"C St\",\"Cedar St\",\"Cornwall St\",\"Padden Creek\",\"Squalicum Creek\",\"Whatcom Creek\"],\"type\":\"scattermapbox\"}],\"name\":\"2022-10\"},{\"data\":[{\"hovertemplate\":\"is_exceedence=True\\u003cbr\\u003eMonth=2022-11\\u003cbr\\u003escale=%{marker.size}\\u003cbr\\u003eSite ID=%{text}\\u003cbr\\u003eLatitude=%{lat}\\u003cbr\\u003eLongitude=%{lon}\\u003cextra\\u003e\\u003c\\u002fextra\\u003e\",\"lat\":{\"dtype\":\"f8\",\"bdata\":\"PujZrPpcSEApyxDHumBIQI51cRsNYEhAV1uxv+xeSEDJdr6fGl9IQMl2vp8aX0hAPSzUmuZdSEDA7J48LFxIQCh+jLlrYUhA48eYu5ZgSEA=\"},\"legendgroup\":\"True\",\"lon\":{\"dtype\":\"f8\",\"bdata\":\"Dk+vlGWgXsCI9NvXgZ9ewN6Th4Van17ArK3YX3afXsAdOGdEaZ9ewB04Z0Rpn17AhxbZzvefXsD\\u002fIf32daBewAaBlUOLoF7ACYofY+6eXsA=\"},\"marker\":{\"color\":\"red\",\"size\":{\"dtype\":\"f8\",\"bdata\":\"AAAAAACA9z8AAAAAAOADQAAAAAAAAAdAAAAAAABwEUAAAAAAAED7PwAAAAAAQPs\\u002fAAAAAADA+D8AAAAAAID8PwAAAAAAoAJAAAAAAABA9j8=\"},\"sizemode\":\"area\",\"sizeref\":0.0425},\"mode\":\"markers+text\",\"name\":\"True\",\"showlegend\":true,\"subplot\":\"mapbox\",\"text\":[\"Bennett Ave\",\"Broadway St\",\"C St\",\"Cedar St\",\"Cornwall St\",\"Cornwall St\",\"Olive St\",\"Padden Creek\",\"Squalicum Creek\",\"Whatcom Creek\"],\"type\":\"scattermapbox\"},{\"hovertemplate\":\"is_exceedence=False\\u003cbr\\u003eMonth=2022-11\\u003cbr\\u003escale=%{marker.size}\\u003cbr\\u003eSite ID=%{text}\\u003cbr\\u003eLatitude=%{lat}\\u003cbr\\u003eLongitude=%{lon}\\u003cextra\\u003e\\u003c\\u002fextra\\u003e\",\"lat\":{\"dtype\":\"f8\",\"bdata\":\"Qj7o2axaSEA=\"},\"legendgroup\":\"False\",\"lon\":{\"dtype\":\"f8\",\"bdata\":\"okW28\\u002f2gXsA=\"},\"marker\":{\"color\":\"green\",\"size\":{\"dtype\":\"f8\",\"bdata\":\"AAAAAACA8j8=\"},\"sizemode\":\"area\",\"sizeref\":0.0425},\"mode\":\"markers+text\",\"name\":\"False\",\"showlegend\":true,\"subplot\":\"mapbox\",\"text\":[\"Willow St\"],\"type\":\"scattermapbox\"}],\"name\":\"2022-11\"},{\"data\":[{\"hovertemplate\":\"is_exceedence=True\\u003cbr\\u003eMonth=2022-12\\u003cbr\\u003escale=%{marker.size}\\u003cbr\\u003eSite ID=%{text}\\u003cbr\\u003eLatitude=%{lat}\\u003cbr\\u003eLongitude=%{lon}\\u003cextra\\u003e\\u003c\\u002fextra\\u003e\",\"lat\":{\"dtype\":\"f8\",\"bdata\":\"PujZrPpcSEDjx5i7lmBIQA==\"},\"legendgroup\":\"True\",\"lon\":{\"dtype\":\"f8\",\"bdata\":\"Dk+vlGWgXsAJih9j7p5ewA==\"},\"marker\":{\"color\":\"red\",\"size\":{\"dtype\":\"f8\",\"bdata\":\"AAAAAABA9j+amZmZmTn0Pw==\"},\"sizemode\":\"area\",\"sizeref\":0.0425},\"mode\":\"markers+text\",\"name\":\"True\",\"showlegend\":true,\"subplot\":\"mapbox\",\"text\":[\"Bennett Ave\",\"Whatcom Creek\"],\"type\":\"scattermapbox\"},{\"hovertemplate\":\"is_exceedence=False\\u003cbr\\u003eMonth=2022-12\\u003cbr\\u003escale=%{marker.size}\\u003cbr\\u003eSite ID=%{text}\\u003cbr\\u003eLatitude=%{lat}\\u003cbr\\u003eLongitude=%{lon}\\u003cextra\\u003e\\u003c\\u002fextra\\u003e\",\"lat\":{\"dtype\":\"f8\",\"bdata\":\"KcsQx7pgSECOdXEbDWBIQFdbsb\\u002fsXkhAV1uxv+xeSEDJdr6fGl9IQD0s1JrmXUhAwOyePCxcSEAofoy5a2FIQEI+6NmsWkhA\"},\"legendgroup\":\"False\",\"lon\":{\"dtype\":\"f8\",\"bdata\":\"iPTb14GfXsDek4eFWp9ewKyt2F92n17ArK3YX3afXsAdOGdEaZ9ewIcW2c73n17A\\u002fyH99nWgXsAGgZVDi6BewKJFtvP9oF7A\"},\"marker\":{\"color\":\"green\",\"size\":{\"dtype\":\"f8\",\"bdata\":\"mpmZmZnZ8D9mZmZmZvbxP83MzMzMbPA\\u002fmpmZmZl58D+amZmZmTnwPwAAAAAAAPA\\u002fAAAAAACA8T+amZmZmdnxPzMzMzMzk\\u002fA\\u002f\"},\"sizemode\":\"area\",\"sizeref\":0.0425},\"mode\":\"markers+text\",\"name\":\"False\",\"showlegend\":true,\"subplot\":\"mapbox\",\"text\":[\"Broadway St\",\"C St\",\"Cedar St\",\"Cedar St\",\"Cornwall St\",\"Olive St\",\"Padden Creek\",\"Squalicum Creek\",\"Willow St\"],\"type\":\"scattermapbox\"}],\"name\":\"2022-12\"},{\"data\":[{\"hovertemplate\":\"is_exceedence=True\\u003cbr\\u003eMonth=2023-01\\u003cbr\\u003escale=%{marker.size}\\u003cbr\\u003eSite ID=%{text}\\u003cbr\\u003eLatitude=%{lat}\\u003cbr\\u003eLongitude=%{lon}\\u003cextra\\u003e\\u003c\\u002fextra\\u003e\",\"lat\":{\"dtype\":\"f8\",\"bdata\":\"PujZrPpcSEA=\"},\"legendgroup\":\"True\",\"lon\":{\"dtype\":\"f8\",\"bdata\":\"Dk+vlGWgXsA=\"},\"marker\":{\"color\":\"red\",\"size\":{\"dtype\":\"f8\",\"bdata\":\"AAAAAACgE0A=\"},\"sizemode\":\"area\",\"sizeref\":0.0425},\"mode\":\"markers+text\",\"name\":\"True\",\"showlegend\":true,\"subplot\":\"mapbox\",\"text\":[\"Bennett Ave\"],\"type\":\"scattermapbox\"},{\"hovertemplate\":\"is_exceedence=False\\u003cbr\\u003eMonth=2023-01\\u003cbr\\u003escale=%{marker.size}\\u003cbr\\u003eSite ID=%{text}\\u003cbr\\u003eLatitude=%{lat}\\u003cbr\\u003eLongitude=%{lon}\\u003cextra\\u003e\\u003c\\u002fextra\\u003e\",\"lat\":{\"dtype\":\"f8\",\"bdata\":\"KcsQx7pgSECOdXEbDWBIQFdbsb\\u002fsXkhAyXa+nxpfSEA9LNSa5l1IQMDsnjwsXEhAwOyePCxcSEAofoy5a2FIQOPHmLuWYEhAQj7o2axaSEA=\"},\"legendgroup\":\"False\",\"lon\":{\"dtype\":\"f8\",\"bdata\":\"iPTb14GfXsDek4eFWp9ewKyt2F92n17AHThnRGmfXsCHFtnO959ewP8h\\u002ffZ1oF7A\\u002fyH99nWgXsAGgZVDi6BewAmKH2Punl7AokW28\\u002f2gXsA=\"},\"marker\":{\"color\":\"green\",\"size\":{\"dtype\":\"f8\",\"bdata\":\"AAAAAACg8D8AAAAAAEDwPwAAAAAA4PA\\u002fAAAAAABg8D8AAAAAAADxPwAAAAAAYPI\\u002fAAAAAACA8T8AAAAAAODwPwAAAAAA4PA\\u002fAAAAAADA8D8=\"},\"sizemode\":\"area\",\"sizeref\":0.0425},\"mode\":\"markers+text\",\"name\":\"False\",\"showlegend\":true,\"subplot\":\"mapbox\",\"text\":[\"Broadway St\",\"C St\",\"Cedar St\",\"Cornwall St\",\"Olive St\",\"Padden Creek\",\"Padden Creek\",\"Squalicum Creek\",\"Whatcom Creek\",\"Willow St\"],\"type\":\"scattermapbox\"}],\"name\":\"2023-01\"},{\"data\":[{\"hovertemplate\":\"is_exceedence=False\\u003cbr\\u003eMonth=2023-02\\u003cbr\\u003escale=%{marker.size}\\u003cbr\\u003eSite ID=%{text}\\u003cbr\\u003eLatitude=%{lat}\\u003cbr\\u003eLongitude=%{lon}\\u003cextra\\u003e\\u003c\\u002fextra\\u003e\",\"lat\":{\"dtype\":\"f8\",\"bdata\":\"PujZrPpcSEApyxDHumBIQI51cRsNYEhAV1uxv+xeSEDJdr6fGl9IQD0s1JrmXUhAwOyePCxcSEDjx5i7lmBIQEI+6NmsWkhAQj7o2axaSEA=\"},\"legendgroup\":\"False\",\"lon\":{\"dtype\":\"f8\",\"bdata\":\"Dk+vlGWgXsCI9NvXgZ9ewN6Th4Van17ArK3YX3afXsAdOGdEaZ9ewIcW2c73n17A\\u002fyH99nWgXsAJih9j7p5ewKJFtvP9oF7AokW28\\u002f2gXsA=\"},\"marker\":{\"color\":\"green\",\"size\":{\"dtype\":\"f8\",\"bdata\":\"mpmZmZk58j8zMzMzMxPwPwAAAAAAgPA\\u002fmpmZmZkp8D8zMzMzM0PwP5qZmZmZ6fE\\u002fMzMzMzND8D\\u002fNzMzMzGzwPzMzMzMzA\\u002fA\\u002fMzMzMzMD8D8=\"},\"sizemode\":\"area\",\"sizeref\":0.0425},\"mode\":\"markers+text\",\"name\":\"False\",\"showlegend\":true,\"subplot\":\"mapbox\",\"text\":[\"Bennett Ave\",\"Broadway St\",\"C St\",\"Cedar St\",\"Cornwall St\",\"Olive St\",\"Padden Creek\",\"Whatcom Creek\",\"Willow St\",\"Willow St\"],\"type\":\"scattermapbox\"}],\"name\":\"2023-02\"},{\"data\":[{\"hovertemplate\":\"is_exceedence=True\\u003cbr\\u003eMonth=2023-03\\u003cbr\\u003escale=%{marker.size}\\u003cbr\\u003eSite ID=%{text}\\u003cbr\\u003eLatitude=%{lat}\\u003cbr\\u003eLongitude=%{lon}\\u003cextra\\u003e\\u003c\\u002fextra\\u003e\",\"lat\":{\"dtype\":\"f8\",\"bdata\":\"PujZrPpcSECOdXEbDWBIQA==\"},\"legendgroup\":\"True\",\"lon\":{\"dtype\":\"f8\",\"bdata\":\"Dk+vlGWgXsDek4eFWp9ewA==\"},\"marker\":{\"color\":\"red\",\"size\":{\"dtype\":\"f8\",\"bdata\":\"AAAAAADA+D8AAAAAAED2Pw==\"},\"sizemode\":\"area\",\"sizeref\":0.0425},\"mode\":\"markers+text\",\"name\":\"True\",\"showlegend\":true,\"subplot\":\"mapbox\",\"text\":[\"Bennett Ave\",\"C St\"],\"type\":\"scattermapbox\"},{\"hovertemplate\":\"is_exceedence=False\\u003cbr\\u003eMonth=2023-03\\u003cbr\\u003escale=%{marker.size}\\u003cbr\\u003eSite ID=%{text}\\u003cbr\\u003eLatitude=%{lat}\\u003cbr\\u003eLongitude=%{lon}\\u003cextra\\u003e\\u003c\\u002fextra\\u003e\",\"lat\":{\"dtype\":\"f8\",\"bdata\":\"KcsQx7pgSEBXW7G\\u002f7F5IQMl2vp8aX0hAJ6CJsOFhSEA9LNSa5l1IQMDsnjwsXEhAKH6MuWthSEDjx5i7lmBIQEI+6NmsWkhAQj7o2axaSEA=\"},\"legendgroup\":\"False\",\"lon\":{\"dtype\":\"f8\",\"bdata\":\"iPTb14GfXsCsrdhfdp9ewB04Z0Rpn17AIo51cRuhXsCHFtnO959ewP8h\\u002ffZ1oF7ABoGVQ4ugXsAJih9j7p5ewKJFtvP9oF7AokW28\\u002f2gXsA=\"},\"marker\":{\"color\":\"green\",\"size\":{\"dtype\":\"f8\",\"bdata\":\"AAAAAACA8j8AAAAAAEDxPwAAAAAAQPE\\u002fAAAAAABA8T8AAAAAAMDzPwAAAAAAQPE\\u002fAAAAAABA8T8AAAAAAEDxPwAAAAAAQPE\\u002fAAAAAABA8T8=\"},\"sizemode\":\"area\",\"sizeref\":0.0425},\"mode\":\"markers+text\",\"name\":\"False\",\"showlegend\":true,\"subplot\":\"mapbox\",\"text\":[\"Broadway St\",\"Cedar St\",\"Cornwall St\",\"Little Squalicum Creek\",\"Olive St\",\"Padden Creek\",\"Squalicum Creek\",\"Whatcom Creek\",\"Willow St\",\"Willow St\"],\"type\":\"scattermapbox\"}],\"name\":\"2023-03\"},{\"data\":[{\"hovertemplate\":\"is_exceedence=True\\u003cbr\\u003eMonth=2023-04\\u003cbr\\u003escale=%{marker.size}\\u003cbr\\u003eSite ID=%{text}\\u003cbr\\u003eLatitude=%{lat}\\u003cbr\\u003eLongitude=%{lon}\\u003cextra\\u003e\\u003c\\u002fextra\\u003e\",\"lat\":{\"dtype\":\"f8\",\"bdata\":\"PujZrPpcSECOdXEbDWBIQD0s1JrmXUhA\"},\"legendgroup\":\"True\",\"lon\":{\"dtype\":\"f8\",\"bdata\":\"Dk+vlGWgXsDek4eFWp9ewIcW2c73n17A\"},\"marker\":{\"color\":\"red\",\"size\":{\"dtype\":\"f8\",\"bdata\":\"AAAAAADg9T8AAAAAAKAHQAAAAAAAQPc\\u002f\"},\"sizemode\":\"area\",\"sizeref\":0.0425},\"mode\":\"markers+text\",\"name\":\"True\",\"showlegend\":true,\"subplot\":\"mapbox\",\"text\":[\"Bennett Ave\",\"C St\",\"Olive St\"],\"type\":\"scattermapbox\"},{\"hovertemplate\":\"is_exceedence=False\\u003cbr\\u003eMonth=2023-04\\u003cbr\\u003escale=%{marker.size}\\u003cbr\\u003eSite ID=%{text}\\u003cbr\\u003eLatitude=%{lat}\\u003cbr\\u003eLongitude=%{lon}\\u003cextra\\u003e\\u003c\\u002fextra\\u003e\",\"lat\":{\"dtype\":\"f8\",\"bdata\":\"KcsQx7pgSEBXW7G\\u002f7F5IQMl2vp8aX0hAJ6CJsOFhSEDA7J48LFxIQCh+jLlrYUhA48eYu5ZgSEDjx5i7lmBIQEI+6NmsWkhA\"},\"legendgroup\":\"False\",\"lon\":{\"dtype\":\"f8\",\"bdata\":\"iPTb14GfXsCsrdhfdp9ewB04Z0Rpn17AIo51cRuhXsD\\u002fIf32daBewAaBlUOLoF7ACYofY+6eXsAJih9j7p5ewKJFtvP9oF7A\"},\"marker\":{\"color\":\"green\",\"size\":{\"dtype\":\"f8\",\"bdata\":\"AAAAAABQ8D8AAAAAADDwPwAAAAAAQPA\\u002fAAAAAAAg8D8AAAAAAIDxPwAAAAAA0PA\\u002fAAAAAAAg8D8AAAAAAKDwPwAAAAAAsPA\\u002f\"},\"sizemode\":\"area\",\"sizeref\":0.0425},\"mode\":\"markers+text\",\"name\":\"False\",\"showlegend\":true,\"subplot\":\"mapbox\",\"text\":[\"Broadway St\",\"Cedar St\",\"Cornwall St\",\"Little Squalicum Creek\",\"Padden Creek\",\"Squalicum Creek\",\"Whatcom Creek\",\"Whatcom Creek\",\"Willow St\"],\"type\":\"scattermapbox\"}],\"name\":\"2023-04\"},{\"data\":[{\"hovertemplate\":\"is_exceedence=False\\u003cbr\\u003eMonth=2023-05\\u003cbr\\u003escale=%{marker.size}\\u003cbr\\u003eSite ID=%{text}\\u003cbr\\u003eLatitude=%{lat}\\u003cbr\\u003eLongitude=%{lon}\\u003cextra\\u003e\\u003c\\u002fextra\\u003e\",\"lat\":{\"dtype\":\"f8\",\"bdata\":\"PujZrPpcSEApyxDHumBIQI51cRsNYEhAV1uxv+xeSEDJdr6fGl9IQCegibDhYUhAJ6CJsOFhSEA9LNSa5l1IQMDsnjwsXEhAKH6MuWthSEDjx5i7lmBIQEI+6NmsWkhA\"},\"legendgroup\":\"False\",\"lon\":{\"dtype\":\"f8\",\"bdata\":\"Dk+vlGWgXsCI9NvXgZ9ewN6Th4Van17ArK3YX3afXsAdOGdEaZ9ewCKOdXEboV7AIo51cRuhXsCHFtnO959ewP8h\\u002ffZ1oF7ABoGVQ4ugXsAJih9j7p5ewKJFtvP9oF7A\"},\"marker\":{\"color\":\"green\",\"size\":{\"dtype\":\"f8\",\"bdata\":\"AAAAAACw8D8AAAAAAIDwPwAAAAAA8PA\\u002fAAAAAAAQ8D8AAAAAAFDwPwAAAAAAQPA\\u002fAAAAAACQ8D8AAAAAAEDxPwAAAAAAYPE\\u002fAAAAAACw8D8AAAAAAODwPwAAAAAAQPA\\u002f\"},\"sizemode\":\"area\",\"sizeref\":0.0425},\"mode\":\"markers+text\",\"name\":\"False\",\"showlegend\":true,\"subplot\":\"mapbox\",\"text\":[\"Bennett Ave\",\"Broadway St\",\"C St\",\"Cedar St\",\"Cornwall St\",\"Little Squalicum Creek\",\"Little Squalicum Creek\",\"Olive St\",\"Padden Creek\",\"Squalicum Creek\",\"Whatcom Creek\",\"Willow St\"],\"type\":\"scattermapbox\"}],\"name\":\"2023-05\"},{\"data\":[{\"hovertemplate\":\"is_exceedence=True\\u003cbr\\u003eMonth=2023-06\\u003cbr\\u003escale=%{marker.size}\\u003cbr\\u003eSite ID=%{text}\\u003cbr\\u003eLatitude=%{lat}\\u003cbr\\u003eLongitude=%{lon}\\u003cextra\\u003e\\u003c\\u002fextra\\u003e\",\"lat\":{\"dtype\":\"f8\",\"bdata\":\"PujZrPpcSEDA7J48LFxIQA==\"},\"legendgroup\":\"True\",\"lon\":{\"dtype\":\"f8\",\"bdata\":\"Dk+vlGWgXsD\\u002fIf32daBewA==\"},\"marker\":{\"color\":\"red\",\"size\":{\"dtype\":\"f8\",\"bdata\":\"AAAAAADw8z8AAAAAAMD3Pw==\"},\"sizemode\":\"area\",\"sizeref\":0.0425},\"mode\":\"markers+text\",\"name\":\"True\",\"showlegend\":true,\"subplot\":\"mapbox\",\"text\":[\"Bennett Ave\",\"Padden Creek\"],\"type\":\"scattermapbox\"},{\"hovertemplate\":\"is_exceedence=False\\u003cbr\\u003eMonth=2023-06\\u003cbr\\u003escale=%{marker.size}\\u003cbr\\u003eSite ID=%{text}\\u003cbr\\u003eLatitude=%{lat}\\u003cbr\\u003eLongitude=%{lon}\\u003cextra\\u003e\\u003c\\u002fextra\\u003e\",\"lat\":{\"dtype\":\"f8\",\"bdata\":\"KcsQx7pgSECOdXEbDWBIQFdbsb\\u002fsXkhAyXa+nxpfSEDJdr6fGl9IQCegibDhYUhAPSzUmuZdSEAofoy5a2FIQOPHmLuWYEhAQj7o2axaSEA=\"},\"legendgroup\":\"False\",\"lon\":{\"dtype\":\"f8\",\"bdata\":\"iPTb14GfXsDek4eFWp9ewKyt2F92n17AHThnRGmfXsAdOGdEaZ9ewCKOdXEboV7AhxbZzvefXsAGgZVDi6BewAmKH2Punl7AokW28\\u002f2gXsA=\"},\"marker\":{\"color\":\"green\",\"size\":{\"dtype\":\"f8\",\"bdata\":\"AAAAAABA8D8AAAAAAJDwPwAAAAAAkPA\\u002fAAAAAAAg8D8AAAAAACDwPwAAAAAAgPE\\u002fAAAAAADA8z8AAAAAAHDyPwAAAAAAUPM\\u002fAAAAAAAQ8T8=\"},\"sizemode\":\"area\",\"sizeref\":0.0425},\"mode\":\"markers+text\",\"name\":\"False\",\"showlegend\":true,\"subplot\":\"mapbox\",\"text\":[\"Broadway St\",\"C St\",\"Cedar St\",\"Cornwall St\",\"Cornwall St\",\"Little Squalicum Creek\",\"Olive St\",\"Squalicum Creek\",\"Whatcom Creek\",\"Willow St\"],\"type\":\"scattermapbox\"}],\"name\":\"2023-06\"},{\"data\":[{\"hovertemplate\":\"is_exceedence=True\\u003cbr\\u003eMonth=2023-07\\u003cbr\\u003escale=%{marker.size}\\u003cbr\\u003eSite ID=%{text}\\u003cbr\\u003eLatitude=%{lat}\\u003cbr\\u003eLongitude=%{lon}\\u003cextra\\u003e\\u003c\\u002fextra\\u003e\",\"lat\":{\"dtype\":\"f8\",\"bdata\":\"wOyePCxcSEA=\"},\"legendgroup\":\"True\",\"lon\":{\"dtype\":\"f8\",\"bdata\":\"\\u002fyH99nWgXsA=\"},\"marker\":{\"color\":\"red\",\"size\":{\"dtype\":\"f8\",\"bdata\":\"AAAAAABw9j8=\"},\"sizemode\":\"area\",\"sizeref\":0.0425},\"mode\":\"markers+text\",\"name\":\"True\",\"showlegend\":true,\"subplot\":\"mapbox\",\"text\":[\"Padden Creek\"],\"type\":\"scattermapbox\"},{\"hovertemplate\":\"is_exceedence=False\\u003cbr\\u003eMonth=2023-07\\u003cbr\\u003escale=%{marker.size}\\u003cbr\\u003eSite ID=%{text}\\u003cbr\\u003eLatitude=%{lat}\\u003cbr\\u003eLongitude=%{lon}\\u003cextra\\u003e\\u003c\\u002fextra\\u003e\",\"lat\":{\"dtype\":\"f8\",\"bdata\":\"PujZrPpcSEApyxDHumBIQCnLEMe6YEhAjnVxGw1gSEBXW7G\\u002f7F5IQMl2vp8aX0hAPSzUmuZdSEAofoy5a2FIQOPHmLuWYEhA\"},\"legendgroup\":\"False\",\"lon\":{\"dtype\":\"f8\",\"bdata\":\"Dk+vlGWgXsCI9NvXgZ9ewIj029eBn17A3pOHhVqfXsCsrdhfdp9ewB04Z0Rpn17AhxbZzvefXsAGgZVDi6BewAmKH2Punl7A\"},\"marker\":{\"color\":\"green\",\"size\":{\"dtype\":\"f8\",\"bdata\":\"AAAAAACg8T8AAAAAAEDxPwAAAAAAEPI\\u002fAAAAAADA8T8AAAAAAFDwPwAAAAAAoPA\\u002fAAAAAAAg8z8AAAAAAJDwPwAAAAAAgPI\\u002f\"},\"sizemode\":\"area\",\"sizeref\":0.0425},\"mode\":\"markers+text\",\"name\":\"False\",\"showlegend\":true,\"subplot\":\"mapbox\",\"text\":[\"Bennett Ave\",\"Broadway St\",\"Broadway St\",\"C St\",\"Cedar St\",\"Cornwall St\",\"Olive St\",\"Squalicum Creek\",\"Whatcom Creek\"],\"type\":\"scattermapbox\"}],\"name\":\"2023-07\"},{\"data\":[{\"hovertemplate\":\"is_exceedence=True\\u003cbr\\u003eMonth=2023-08\\u003cbr\\u003escale=%{marker.size}\\u003cbr\\u003eSite ID=%{text}\\u003cbr\\u003eLatitude=%{lat}\\u003cbr\\u003eLongitude=%{lon}\\u003cextra\\u003e\\u003c\\u002fextra\\u003e\",\"lat\":{\"dtype\":\"f8\",\"bdata\":\"wOyePCxcSEA=\"},\"legendgroup\":\"True\",\"lon\":{\"dtype\":\"f8\",\"bdata\":\"\\u002fyH99nWgXsA=\"},\"marker\":{\"color\":\"red\",\"size\":{\"dtype\":\"f8\",\"bdata\":\"AAAAAADg9T8=\"},\"sizemode\":\"area\",\"sizeref\":0.0425},\"mode\":\"markers+text\",\"name\":\"True\",\"showlegend\":true,\"subplot\":\"mapbox\",\"text\":[\"Padden Creek\"],\"type\":\"scattermapbox\"},{\"hovertemplate\":\"is_exceedence=False\\u003cbr\\u003eMonth=2023-08\\u003cbr\\u003escale=%{marker.size}\\u003cbr\\u003eSite ID=%{text}\\u003cbr\\u003eLatitude=%{lat}\\u003cbr\\u003eLongitude=%{lon}\\u003cextra\\u003e\\u003c\\u002fextra\\u003e\",\"lat\":{\"dtype\":\"f8\",\"bdata\":\"PujZrPpcSEApyxDHumBIQI51cRsNYEhAV1uxv+xeSEBXW7G\\u002f7F5IQMl2vp8aX0hAPSzUmuZdSEAofoy5a2FIQOPHmLuWYEhA\"},\"legendgroup\":\"False\",\"lon\":{\"dtype\":\"f8\",\"bdata\":\"Dk+vlGWgXsCI9NvXgZ9ewN6Th4Van17ArK3YX3afXsCsrdhfdp9ewB04Z0Rpn17AhxbZzvefXsAGgZVDi6BewAmKH2Punl7A\"},\"marker\":{\"color\":\"green\",\"size\":{\"dtype\":\"f8\",\"bdata\":\"AAAAAABg8D8AAAAAAEDzPwAAAAAAYPE\\u002fAAAAAABQ8D8AAAAAAODwPwAAAAAAsPA\\u002fMzMzMzMz8D8AAAAAAEDxPwAAAAAAkPM\\u002f\"},\"sizemode\":\"area\",\"sizeref\":0.0425},\"mode\":\"markers+text\",\"name\":\"False\",\"showlegend\":true,\"subplot\":\"mapbox\",\"text\":[\"Bennett Ave\",\"Broadway St\",\"C St\",\"Cedar St\",\"Cedar St\",\"Cornwall St\",\"Olive St\",\"Squalicum Creek\",\"Whatcom Creek\"],\"type\":\"scattermapbox\"}],\"name\":\"2023-08\"},{\"data\":[{\"hovertemplate\":\"is_exceedence=True\\u003cbr\\u003eMonth=2023-11\\u003cbr\\u003escale=%{marker.size}\\u003cbr\\u003eSite ID=%{text}\\u003cbr\\u003eLatitude=%{lat}\\u003cbr\\u003eLongitude=%{lon}\\u003cextra\\u003e\\u003c\\u002fextra\\u003e\",\"lat\":{\"dtype\":\"f8\",\"bdata\":\"KcsQx7pgSEAnoImw4WFIQCh+jLlrYUhA\"},\"legendgroup\":\"True\",\"lon\":{\"dtype\":\"f8\",\"bdata\":\"iPTb14GfXsAijnVxG6FewAaBlUOLoF7A\"},\"marker\":{\"color\":\"red\",\"size\":{\"dtype\":\"f8\",\"bdata\":\"AAAAAAAA9D8AAAAAALD1PwAAAAAAkPU\\u002f\"},\"sizemode\":\"area\",\"sizeref\":0.0425},\"mode\":\"markers+text\",\"name\":\"True\",\"showlegend\":true,\"subplot\":\"mapbox\",\"text\":[\"Broadway St\",\"Little Squalicum Creek\",\"Squalicum Creek\"],\"type\":\"scattermapbox\"},{\"hovertemplate\":\"is_exceedence=False\\u003cbr\\u003eMonth=2023-11\\u003cbr\\u003escale=%{marker.size}\\u003cbr\\u003eSite ID=%{text}\\u003cbr\\u003eLatitude=%{lat}\\u003cbr\\u003eLongitude=%{lon}\\u003cextra\\u003e\\u003c\\u002fextra\\u003e\",\"lat\":{\"dtype\":\"f8\",\"bdata\":\"PujZrPpcSECOdXEbDWBIQFdbsb\\u002fsXkhAyXa+nxpfSEA9LNSa5l1IQMDsnjwsXEhA48eYu5ZgSEA=\"},\"legendgroup\":\"False\",\"lon\":{\"dtype\":\"f8\",\"bdata\":\"Dk+vlGWgXsDek4eFWp9ewKyt2F92n17AHThnRGmfXsCHFtnO959ewP8h\\u002ffZ1oF7ACYofY+6eXsA=\"},\"marker\":{\"color\":\"green\",\"size\":{\"dtype\":\"f8\",\"bdata\":\"AAAAAADw8T8AAAAAAADyPwAAAAAAQPA\\u002fAAAAAABA8T8AAAAAADDzPwAAAAAAcPE\\u002fAAAAAABg8j8=\"},\"sizemode\":\"area\",\"sizeref\":0.0425},\"mode\":\"markers+text\",\"name\":\"False\",\"showlegend\":true,\"subplot\":\"mapbox\",\"text\":[\"Bennett Ave\",\"C St\",\"Cedar St\",\"Cornwall St\",\"Olive St\",\"Padden Creek\",\"Whatcom Creek\"],\"type\":\"scattermapbox\"}],\"name\":\"2023-11\"},{\"data\":[{\"hovertemplate\":\"is_exceedence=True\\u003cbr\\u003eMonth=2023-12\\u003cbr\\u003escale=%{marker.size}\\u003cbr\\u003eSite ID=%{text}\\u003cbr\\u003eLatitude=%{lat}\\u003cbr\\u003eLongitude=%{lon}\\u003cextra\\u003e\\u003c\\u002fextra\\u003e\",\"lat\":{\"dtype\":\"f8\",\"bdata\":\"PujZrPpcSEA9LNSa5l1IQA==\"},\"legendgroup\":\"True\",\"lon\":{\"dtype\":\"f8\",\"bdata\":\"Dk+vlGWgXsCHFtnO959ewA==\"},\"marker\":{\"color\":\"red\",\"size\":{\"dtype\":\"f8\",\"bdata\":\"AAAAAABA\\u002fT8AAAAAAGD5Pw==\"},\"sizemode\":\"area\",\"sizeref\":0.0425},\"mode\":\"markers+text\",\"name\":\"True\",\"showlegend\":true,\"subplot\":\"mapbox\",\"text\":[\"Bennett Ave\",\"Olive St\"],\"type\":\"scattermapbox\"},{\"hovertemplate\":\"is_exceedence=False\\u003cbr\\u003eMonth=2023-12\\u003cbr\\u003escale=%{marker.size}\\u003cbr\\u003eSite ID=%{text}\\u003cbr\\u003eLatitude=%{lat}\\u003cbr\\u003eLongitude=%{lon}\\u003cextra\\u003e\\u003c\\u002fextra\\u003e\",\"lat\":{\"dtype\":\"f8\",\"bdata\":\"KcsQx7pgSECOdXEbDWBIQFdbsb\\u002fsXkhAV1uxv+xeSEDJdr6fGl9IQCegibDhYUhAwOyePCxcSEAofoy5a2FIQCh+jLlrYUhA48eYu5ZgSEA=\"},\"legendgroup\":\"False\",\"lon\":{\"dtype\":\"f8\",\"bdata\":\"iPTb14GfXsDek4eFWp9ewKyt2F92n17ArK3YX3afXsAdOGdEaZ9ewCKOdXEboV7A\\u002fyH99nWgXsAGgZVDi6BewAaBlUOLoF7ACYofY+6eXsA=\"},\"marker\":{\"color\":\"green\",\"size\":{\"dtype\":\"f8\",\"bdata\":\"AAAAAABw8T8AAAAAAKDwPwAAAAAAsPA\\u002fAAAAAACg8D8AAAAAABDwPwAAAAAA4PA\\u002fAAAAAABA8D8AAAAAAIDxPwAAAAAAIPE\\u002fAAAAAACg8D8=\"},\"sizemode\":\"area\",\"sizeref\":0.0425},\"mode\":\"markers+text\",\"name\":\"False\",\"showlegend\":true,\"subplot\":\"mapbox\",\"text\":[\"Broadway St\",\"C St\",\"Cedar St\",\"Cedar St\",\"Cornwall St\",\"Little Squalicum Creek\",\"Padden Creek\",\"Squalicum Creek\",\"Squalicum Creek\",\"Whatcom Creek\"],\"type\":\"scattermapbox\"}],\"name\":\"2023-12\"},{\"data\":[{\"hovertemplate\":\"is_exceedence=True\\u003cbr\\u003eMonth=2024-01\\u003cbr\\u003escale=%{marker.size}\\u003cbr\\u003eSite ID=%{text}\\u003cbr\\u003eLatitude=%{lat}\\u003cbr\\u003eLongitude=%{lon}\\u003cextra\\u003e\\u003c\\u002fextra\\u003e\",\"lat\":{\"dtype\":\"f8\",\"bdata\":\"PujZrPpcSECOdXEbDWBIQD0s1JrmXUhA\"},\"legendgroup\":\"True\",\"lon\":{\"dtype\":\"f8\",\"bdata\":\"Dk+vlGWgXsDek4eFWp9ewIcW2c73n17A\"},\"marker\":{\"color\":\"red\",\"size\":{\"dtype\":\"f8\",\"bdata\":\"AAAAAADw8z8AAAAAAAD1PwAAAAAAQPc\\u002f\"},\"sizemode\":\"area\",\"sizeref\":0.0425},\"mode\":\"markers+text\",\"name\":\"True\",\"showlegend\":true,\"subplot\":\"mapbox\",\"text\":[\"Bennett Ave\",\"C St\",\"Olive St\"],\"type\":\"scattermapbox\"},{\"hovertemplate\":\"is_exceedence=False\\u003cbr\\u003eMonth=2024-01\\u003cbr\\u003escale=%{marker.size}\\u003cbr\\u003eSite ID=%{text}\\u003cbr\\u003eLatitude=%{lat}\\u003cbr\\u003eLongitude=%{lon}\\u003cextra\\u003e\\u003c\\u002fextra\\u003e\",\"lat\":{\"dtype\":\"f8\",\"bdata\":\"KcsQx7pgSEApyxDHumBIQFdbsb\\u002fsXkhAV1uxv+xeSEDJdr6fGl9IQCegibDhYUhAwOyePCxcSEDA7J48LFxIQCh+jLlrYUhA48eYu5ZgSEA=\"},\"legendgroup\":\"False\",\"lon\":{\"dtype\":\"f8\",\"bdata\":\"iPTb14GfXsCI9NvXgZ9ewKyt2F92n17ArK3YX3afXsAdOGdEaZ9ewCKOdXEboV7A\\u002fyH99nWgXsD\\u002fIf32daBewAaBlUOLoF7ACYofY+6eXsA=\"},\"marker\":{\"color\":\"green\",\"size\":{\"dtype\":\"f8\",\"bdata\":\"AAAAAAAw8j8AAAAAALDxPwAAAAAA8PA\\u002fAAAAAADQ8D8AAAAAABDwPwAAAAAAkPA\\u002fAAAAAADg8T8AAAAAAKDyPwAAAAAAgPA\\u002fAAAAAAAQ8D8=\"},\"sizemode\":\"area\",\"sizeref\":0.0425},\"mode\":\"markers+text\",\"name\":\"False\",\"showlegend\":true,\"subplot\":\"mapbox\",\"text\":[\"Broadway St\",\"Broadway St\",\"Cedar St\",\"Cedar St\",\"Cornwall St\",\"Little Squalicum Creek\",\"Padden Creek\",\"Padden Creek\",\"Squalicum Creek\",\"Whatcom Creek\"],\"type\":\"scattermapbox\"}],\"name\":\"2024-01\"},{\"data\":[{\"hovertemplate\":\"is_exceedence=True\\u003cbr\\u003eMonth=2024-02\\u003cbr\\u003escale=%{marker.size}\\u003cbr\\u003eSite ID=%{text}\\u003cbr\\u003eLatitude=%{lat}\\u003cbr\\u003eLongitude=%{lon}\\u003cextra\\u003e\\u003c\\u002fextra\\u003e\",\"lat\":{\"dtype\":\"f8\",\"bdata\":\"yXa+nxpfSEA9LNSa5l1IQA==\"},\"legendgroup\":\"True\",\"lon\":{\"dtype\":\"f8\",\"bdata\":\"HThnRGmfXsCHFtnO959ewA==\"},\"marker\":{\"color\":\"red\",\"size\":{\"dtype\":\"f8\",\"bdata\":\"AAAAAAAQBkAAAAAAAGD0Pw==\"},\"sizemode\":\"area\",\"sizeref\":0.0425},\"mode\":\"markers+text\",\"name\":\"True\",\"showlegend\":true,\"subplot\":\"mapbox\",\"text\":[\"Cornwall St\",\"Olive St\"],\"type\":\"scattermapbox\"},{\"hovertemplate\":\"is_exceedence=False\\u003cbr\\u003eMonth=2024-02\\u003cbr\\u003escale=%{marker.size}\\u003cbr\\u003eSite ID=%{text}\\u003cbr\\u003eLatitude=%{lat}\\u003cbr\\u003eLongitude=%{lon}\\u003cextra\\u003e\\u003c\\u002fextra\\u003e\",\"lat\":{\"dtype\":\"f8\",\"bdata\":\"PujZrPpcSEA+6Nms+lxIQCnLEMe6YEhAjnVxGw1gSECOdXEbDWBIQFdbsb\\u002fsXkhAwOyePCxcSEA=\"},\"legendgroup\":\"False\",\"lon\":{\"dtype\":\"f8\",\"bdata\":\"Dk+vlGWgXsAOT6+UZaBewIj029eBn17A3pOHhVqfXsDek4eFWp9ewKyt2F92n17A\\u002fyH99nWgXsA=\"},\"marker\":{\"color\":\"green\",\"size\":{\"dtype\":\"f8\",\"bdata\":\"AAAAAAAw8j8AAAAAAFDyPwAAAAAAkPE\\u002fAAAAAABw8D8AAAAAACDwPwAAAAAAgPI\\u002fAAAAAACA8D8=\"},\"sizemode\":\"area\",\"sizeref\":0.0425},\"mode\":\"markers+text\",\"name\":\"False\",\"showlegend\":true,\"subplot\":\"mapbox\",\"text\":[\"Bennett Ave\",\"Bennett Ave\",\"Broadway St\",\"C St\",\"C St\",\"Cedar St\",\"Padden Creek\"],\"type\":\"scattermapbox\"}],\"name\":\"2024-02\"},{\"data\":[{\"hovertemplate\":\"is_exceedence=True\\u003cbr\\u003eMonth=2024-03\\u003cbr\\u003escale=%{marker.size}\\u003cbr\\u003eSite ID=%{text}\\u003cbr\\u003eLatitude=%{lat}\\u003cbr\\u003eLongitude=%{lon}\\u003cextra\\u003e\\u003c\\u002fextra\\u003e\",\"lat\":{\"dtype\":\"f8\",\"bdata\":\"PujZrPpcSECOdXEbDWBIQA==\"},\"legendgroup\":\"True\",\"lon\":{\"dtype\":\"f8\",\"bdata\":\"Dk+vlGWgXsDek4eFWp9ewA==\"},\"marker\":{\"color\":\"red\",\"size\":{\"dtype\":\"f8\",\"bdata\":\"AAAAAADACkAAAAAAAAD6Pw==\"},\"sizemode\":\"area\",\"sizeref\":0.0425},\"mode\":\"markers+text\",\"name\":\"True\",\"showlegend\":true,\"subplot\":\"mapbox\",\"text\":[\"Bennett Ave\",\"C St\"],\"type\":\"scattermapbox\"},{\"hovertemplate\":\"is_exceedence=False\\u003cbr\\u003eMonth=2024-03\\u003cbr\\u003escale=%{marker.size}\\u003cbr\\u003eSite ID=%{text}\\u003cbr\\u003eLatitude=%{lat}\\u003cbr\\u003eLongitude=%{lon}\\u003cextra\\u003e\\u003c\\u002fextra\\u003e\",\"lat\":{\"dtype\":\"f8\",\"bdata\":\"KcsQx7pgSEBXW7G\\u002f7F5IQMl2vp8aX0hAJ6CJsOFhSEAnoImw4WFIQD0s1JrmXUhAwOyePCxcSEAofoy5a2FIQCh+jLlrYUhA48eYu5ZgSEDjx5i7lmBIQA==\"},\"legendgroup\":\"False\",\"lon\":{\"dtype\":\"f8\",\"bdata\":\"iPTb14GfXsCsrdhfdp9ewB04Z0Rpn17AIo51cRuhXsAijnVxG6FewIcW2c73n17A\\u002fyH99nWgXsAGgZVDi6BewAaBlUOLoF7ACYofY+6eXsAJih9j7p5ewA==\"},\"marker\":{\"color\":\"green\",\"size\":{\"dtype\":\"f8\",\"bdata\":\"AAAAAAAA8D8AAAAAAADwPwAAAAAAAPA\\u002fAAAAAAAA8D8AAAAAAADwPwAAAAAAIPM\\u002fAAAAAAAA8D8AAAAAAADwPwAAAAAAoPA\\u002fAAAAAAAA8D8AAAAAAADwPw==\"},\"sizemode\":\"area\",\"sizeref\":0.0425},\"mode\":\"markers+text\",\"name\":\"False\",\"showlegend\":true,\"subplot\":\"mapbox\",\"text\":[\"Broadway St\",\"Cedar St\",\"Cornwall St\",\"Little Squalicum Creek\",\"Little Squalicum Creek\",\"Olive St\",\"Padden Creek\",\"Squalicum Creek\",\"Squalicum Creek\",\"Whatcom Creek\",\"Whatcom Creek\"],\"type\":\"scattermapbox\"}],\"name\":\"2024-03\"},{\"data\":[{\"hovertemplate\":\"is_exceedence=True\\u003cbr\\u003eMonth=2024-04\\u003cbr\\u003escale=%{marker.size}\\u003cbr\\u003eSite ID=%{text}\\u003cbr\\u003eLatitude=%{lat}\\u003cbr\\u003eLongitude=%{lon}\\u003cextra\\u003e\\u003c\\u002fextra\\u003e\",\"lat\":{\"dtype\":\"f8\",\"bdata\":\"PujZrPpcSEDJdr6fGl9IQMl2vp8aX0hAPSzUmuZdSEA=\"},\"legendgroup\":\"True\",\"lon\":{\"dtype\":\"f8\",\"bdata\":\"Dk+vlGWgXsAdOGdEaZ9ewB04Z0Rpn17AhxbZzvefXsA=\"},\"marker\":{\"color\":\"red\",\"size\":{\"dtype\":\"f8\",\"bdata\":\"AAAAAABg9D+amZmZmbEEQGZmZmZmpvs\\u002fZmZmZmYm\\u002fj8=\"},\"sizemode\":\"area\",\"sizeref\":0.0425},\"mode\":\"markers+text\",\"name\":\"True\",\"showlegend\":true,\"subplot\":\"mapbox\",\"text\":[\"Bennett Ave\",\"Cornwall St\",\"Cornwall St\",\"Olive St\"],\"type\":\"scattermapbox\"},{\"hovertemplate\":\"is_exceedence=False\\u003cbr\\u003eMonth=2024-04\\u003cbr\\u003escale=%{marker.size}\\u003cbr\\u003eSite ID=%{text}\\u003cbr\\u003eLatitude=%{lat}\\u003cbr\\u003eLongitude=%{lon}\\u003cextra\\u003e\\u003c\\u002fextra\\u003e\",\"lat\":{\"dtype\":\"f8\",\"bdata\":\"KcsQx7pgSECOdXEbDWBIQFdbsb\\u002fsXkhAJ6CJsOFhSEDA7J48LFxIQCh+jLlrYUhA48eYu5ZgSEDjx5i7lmBIQOPHmLuWYEhA48eYu5ZgSEA=\"},\"legendgroup\":\"False\",\"lon\":{\"dtype\":\"f8\",\"bdata\":\"iPTb14GfXsDek4eFWp9ewKyt2F92n17AIo51cRuhXsD\\u002fIf32daBewAaBlUOLoF7ACYofY+6eXsAJih9j7p5ewAmKH2Punl7ACYofY+6eXsA=\"},\"marker\":{\"color\":\"green\",\"size\":{\"dtype\":\"f8\",\"bdata\":\"AAAAAADg8T8AAAAAAKDwP2ZmZmZmFvI\\u002fAAAAAACg8D8AAAAAAKDwPwAAAAAAoPA\\u002fAAAAAABA8T8AAAAAAADwPwAAAAAAQPE\\u002fAAAAAAAA8D8=\"},\"sizemode\":\"area\",\"sizeref\":0.0425},\"mode\":\"markers+text\",\"name\":\"False\",\"showlegend\":true,\"subplot\":\"mapbox\",\"text\":[\"Broadway St\",\"C St\",\"Cedar St\",\"Little Squalicum Creek\",\"Padden Creek\",\"Squalicum Creek\",\"Whatcom Creek\",\"Whatcom Creek\",\"Whatcom Creek\",\"Whatcom Creek\"],\"type\":\"scattermapbox\"}],\"name\":\"2024-04\"},{\"data\":[{\"hovertemplate\":\"is_exceedence=True\\u003cbr\\u003eMonth=2024-05\\u003cbr\\u003escale=%{marker.size}\\u003cbr\\u003eSite ID=%{text}\\u003cbr\\u003eLatitude=%{lat}\\u003cbr\\u003eLongitude=%{lon}\\u003cextra\\u003e\\u003c\\u002fextra\\u003e\",\"lat\":{\"dtype\":\"f8\",\"bdata\":\"PujZrPpcSEApyxDHumBIQI51cRsNYEhAV1uxv+xeSEBXW7G\\u002f7F5IQD0s1JrmXUhAwOyePCxcSEA=\"},\"legendgroup\":\"True\",\"lon\":{\"dtype\":\"f8\",\"bdata\":\"Dk+vlGWgXsCI9NvXgZ9ewN6Th4Van17ArK3YX3afXsCsrdhfdp9ewIcW2c73n17A\\u002fyH99nWgXsA=\"},\"marker\":{\"color\":\"red\",\"size\":{\"dtype\":\"f8\",\"bdata\":\"ZmZmZmbwJEAzMzMzMxP8P83MzMzMzP8\\u002fzczMzMz8+T8zMzMzM9P1PwAAAAAACANAzczMzMz8+T8=\"},\"sizemode\":\"area\",\"sizeref\":0.0425},\"mode\":\"markers+text\",\"name\":\"True\",\"showlegend\":true,\"subplot\":\"mapbox\",\"text\":[\"Bennett Ave\",\"Broadway St\",\"C St\",\"Cedar St\",\"Cedar St\",\"Olive St\",\"Padden Creek\"],\"type\":\"scattermapbox\"},{\"hovertemplate\":\"is_exceedence=False\\u003cbr\\u003eMonth=2024-05\\u003cbr\\u003escale=%{marker.size}\\u003cbr\\u003eSite ID=%{text}\\u003cbr\\u003eLatitude=%{lat}\\u003cbr\\u003eLongitude=%{lon}\\u003cextra\\u003e\\u003c\\u002fextra\\u003e\",\"lat\":{\"dtype\":\"f8\",\"bdata\":\"yXa+nxpfSEAnoImw4WFIQCh+jLlrYUhA48eYu5ZgSEDjx5i7lmBIQA==\"},\"legendgroup\":\"False\",\"lon\":{\"dtype\":\"f8\",\"bdata\":\"HThnRGmfXsAijnVxG6FewAaBlUOLoF7ACYofY+6eXsAJih9j7p5ewA==\"},\"marker\":{\"color\":\"green\",\"size\":{\"dtype\":\"f8\",\"bdata\":\"AAAAAADA8z+amZmZmWnwPwAAAAAAQPE\\u002fZmZmZmbW8D8AAAAAAADwPw==\"},\"sizemode\":\"area\",\"sizeref\":0.0425},\"mode\":\"markers+text\",\"name\":\"False\",\"showlegend\":true,\"subplot\":\"mapbox\",\"text\":[\"Cornwall St\",\"Little Squalicum Creek\",\"Squalicum Creek\",\"Whatcom Creek\",\"Whatcom Creek\"],\"type\":\"scattermapbox\"}],\"name\":\"2024-05\"},{\"data\":[{\"hovertemplate\":\"is_exceedence=True\\u003cbr\\u003eMonth=2024-06\\u003cbr\\u003escale=%{marker.size}\\u003cbr\\u003eSite ID=%{text}\\u003cbr\\u003eLatitude=%{lat}\\u003cbr\\u003eLongitude=%{lon}\\u003cextra\\u003e\\u003c\\u002fextra\\u003e\",\"lat\":{\"dtype\":\"f8\",\"bdata\":\"PujZrPpcSEDA7J48LFxIQA==\"},\"legendgroup\":\"True\",\"lon\":{\"dtype\":\"f8\",\"bdata\":\"Dk+vlGWgXsD\\u002fIf32daBewA==\"},\"marker\":{\"color\":\"red\",\"size\":{\"dtype\":\"f8\",\"bdata\":\"AAAAAADwCkAAAAAAAID3Pw==\"},\"sizemode\":\"area\",\"sizeref\":0.0425},\"mode\":\"markers+text\",\"name\":\"True\",\"showlegend\":true,\"subplot\":\"mapbox\",\"text\":[\"Bennett Ave\",\"Padden Creek\"],\"type\":\"scattermapbox\"},{\"hovertemplate\":\"is_exceedence=False\\u003cbr\\u003eMonth=2024-06\\u003cbr\\u003escale=%{marker.size}\\u003cbr\\u003eSite ID=%{text}\\u003cbr\\u003eLatitude=%{lat}\\u003cbr\\u003eLongitude=%{lon}\\u003cextra\\u003e\\u003c\\u002fextra\\u003e\",\"lat\":{\"dtype\":\"f8\",\"bdata\":\"V1uxv+xeSEDJdr6fGl9IQCegibDhYUhAJ6CJsOFhSEA9LNSa5l1IQD0s1JrmXUhAKH6MuWthSEDjx5i7lmBIQA==\"},\"legendgroup\":\"False\",\"lon\":{\"dtype\":\"f8\",\"bdata\":\"rK3YX3afXsAdOGdEaZ9ewCKOdXEboV7AIo51cRuhXsCHFtnO959ewIcW2c73n17ABoGVQ4ugXsAJih9j7p5ewA==\"},\"marker\":{\"color\":\"green\",\"size\":{\"dtype\":\"f8\",\"bdata\":\"ZmZmZmbW8D9mZmZmZtbwP5qZmZmZafA\\u002fMzMzMzNj8T8zMzMzM1PzPwAAAAAAQPE\\u002fmpmZmZlp8D8AAAAAAHDwPw==\"},\"sizemode\":\"area\",\"sizeref\":0.0425},\"mode\":\"markers+text\",\"name\":\"False\",\"showlegend\":true,\"subplot\":\"mapbox\",\"text\":[\"Cedar St\",\"Cornwall St\",\"Little Squalicum Creek\",\"Little Squalicum Creek\",\"Olive St\",\"Olive St\",\"Squalicum Creek\",\"Whatcom Creek\"],\"type\":\"scattermapbox\"}],\"name\":\"2024-06\"},{\"data\":[{\"hovertemplate\":\"is_exceedence=True\\u003cbr\\u003eMonth=2024-07\\u003cbr\\u003escale=%{marker.size}\\u003cbr\\u003eSite ID=%{text}\\u003cbr\\u003eLatitude=%{lat}\\u003cbr\\u003eLongitude=%{lon}\\u003cextra\\u003e\\u003c\\u002fextra\\u003e\",\"lat\":{\"dtype\":\"f8\",\"bdata\":\"PujZrPpcSEApyxDHumBIQI51cRsNYEhAjnVxGw1gSECOdXEbDWBIQD0s1JrmXUhAwOyePCxcSEAofoy5a2FIQCh+jLlrYUhA\"},\"legendgroup\":\"True\",\"lon\":{\"dtype\":\"f8\",\"bdata\":\"Dk+vlGWgXsCI9NvXgZ9ewN6Th4Van17A3pOHhVqfXsDek4eFWp9ewIcW2c73n17A\\u002fyH99nWgXsAGgZVDi6BewAaBlUOLoF7A\"},\"marker\":{\"color\":\"red\",\"size\":{\"dtype\":\"f8\",\"bdata\":\"AAAAAADoBEBmZmZmZkYJQDMzMzMzk\\u002f4\\u002fmpmZmZmfIUCamZmZmZ8hQJqZmZmZafU\\u002fmpmZmZnp9z8zMzMzM9P1PwAAAAAAAPU\\u002f\"},\"sizemode\":\"area\",\"sizeref\":0.0425},\"mode\":\"markers+text\",\"name\":\"True\",\"showlegend\":true,\"subplot\":\"mapbox\",\"text\":[\"Bennett Ave\",\"Broadway St\",\"C St\",\"C St\",\"C St\",\"Olive St\",\"Padden Creek\",\"Squalicum Creek\",\"Squalicum Creek\"],\"type\":\"scattermapbox\"},{\"hovertemplate\":\"is_exceedence=False\\u003cbr\\u003eMonth=2024-07\\u003cbr\\u003escale=%{marker.size}\\u003cbr\\u003eSite ID=%{text}\\u003cbr\\u003eLatitude=%{lat}\\u003cbr\\u003eLongitude=%{lon}\\u003cextra\\u003e\\u003c\\u002fextra\\u003e\",\"lat\":{\"dtype\":\"f8\",\"bdata\":\"KcsQx7pgSEBXW7G\\u002f7F5IQMl2vp8aX0hAyXa+nxpfSEAnoImw4WFIQOPHmLuWYEhA\"},\"legendgroup\":\"False\",\"lon\":{\"dtype\":\"f8\",\"bdata\":\"iPTb14GfXsCsrdhfdp9ewB04Z0Rpn17AHThnRGmfXsAijnVxG6FewAmKH2Punl7A\"},\"marker\":{\"color\":\"green\",\"size\":{\"dtype\":\"f8\",\"bdata\":\"AAAAAABA8T9mZmZmZtbwPwAAAAAAgPI\\u002fmpmZmZlp8D9mZmZmZhbyP2ZmZmZm1vA\\u002f\"},\"sizemode\":\"area\",\"sizeref\":0.0425},\"mode\":\"markers+text\",\"name\":\"False\",\"showlegend\":true,\"subplot\":\"mapbox\",\"text\":[\"Broadway St\",\"Cedar St\",\"Cornwall St\",\"Cornwall St\",\"Little Squalicum Creek\",\"Whatcom Creek\"],\"type\":\"scattermapbox\"}],\"name\":\"2024-07\"},{\"data\":[{\"hovertemplate\":\"is_exceedence=True\\u003cbr\\u003eMonth=2024-08\\u003cbr\\u003escale=%{marker.size}\\u003cbr\\u003eSite ID=%{text}\\u003cbr\\u003eLatitude=%{lat}\\u003cbr\\u003eLongitude=%{lon}\\u003cextra\\u003e\\u003c\\u002fextra\\u003e\",\"lat\":{\"dtype\":\"f8\",\"bdata\":\"PujZrPpcSEA+6Nms+lxIQI51cRsNYEhAjnVxGw1gSEDA7J48LFxIQCh+jLlrYUhA\"},\"legendgroup\":\"True\",\"lon\":{\"dtype\":\"f8\",\"bdata\":\"Dk+vlGWgXsAOT6+UZaBewN6Th4Van17A3pOHhVqfXsD\\u002fIf32daBewAaBlUOLoF7A\"},\"marker\":{\"color\":\"red\",\"size\":{\"dtype\":\"f8\",\"bdata\":\"AAAAAADQ\\u002fz8AAAAAAID3P5qZmZmZKfQ\\u002fmpmZmZlp9T+amZmZman2PzMzMzMzM\\u002fY\\u002f\"},\"sizemode\":\"area\",\"sizeref\":0.0425},\"mode\":\"markers+text\",\"name\":\"True\",\"showlegend\":true,\"subplot\":\"mapbox\",\"text\":[\"Bennett Ave\",\"Bennett Ave\",\"C St\",\"C St\",\"Padden Creek\",\"Squalicum Creek\"],\"type\":\"scattermapbox\"},{\"hovertemplate\":\"is_exceedence=False\\u003cbr\\u003eMonth=2024-08\\u003cbr\\u003escale=%{marker.size}\\u003cbr\\u003eSite ID=%{text}\\u003cbr\\u003eLatitude=%{lat}\\u003cbr\\u003eLongitude=%{lon}\\u003cextra\\u003e\\u003c\\u002fextra\\u003e\",\"lat\":{\"dtype\":\"f8\",\"bdata\":\"KcsQx7pgSEBXW7G\\u002f7F5IQFdbsb\\u002fsXkhAyXa+nxpfSEAnoImw4WFIQCegibDhYUhAPSzUmuZdSEDjx5i7lmBIQA==\"},\"legendgroup\":\"False\",\"lon\":{\"dtype\":\"f8\",\"bdata\":\"iPTb14GfXsCsrdhfdp9ewKyt2F92n17AHThnRGmfXsAijnVxG6FewCKOdXEboV7AhxbZzvefXsAJih9j7p5ewA==\"},\"marker\":{\"color\":\"green\",\"size\":{\"dtype\":\"f8\",\"bdata\":\"MzMzMzNT8z8AAAAAAADwPwAAAAAAAPA\\u002fZmZmZmbW8D+amZmZmanxPwAAAAAAgPI\\u002fMzMzMzNT8z9mZmZmZhbyPw==\"},\"sizemode\":\"area\",\"sizeref\":0.0425},\"mode\":\"markers+text\",\"name\":\"False\",\"showlegend\":true,\"subplot\":\"mapbox\",\"text\":[\"Broadway St\",\"Cedar St\",\"Cedar St\",\"Cornwall St\",\"Little Squalicum Creek\",\"Little Squalicum Creek\",\"Olive St\",\"Whatcom Creek\"],\"type\":\"scattermapbox\"}],\"name\":\"2024-08\"},{\"data\":[{\"hovertemplate\":\"is_exceedence=True\\u003cbr\\u003eMonth=2024-09\\u003cbr\\u003escale=%{marker.size}\\u003cbr\\u003eSite ID=%{text}\\u003cbr\\u003eLatitude=%{lat}\\u003cbr\\u003eLongitude=%{lon}\\u003cextra\\u003e\\u003c\\u002fextra\\u003e\",\"lat\":{\"dtype\":\"f8\",\"bdata\":\"PSzUmuZdSEA=\"},\"legendgroup\":\"True\",\"lon\":{\"dtype\":\"f8\",\"bdata\":\"hxbZzvefXsA=\"},\"marker\":{\"color\":\"red\",\"size\":{\"dtype\":\"f8\",\"bdata\":\"MzMzMzPT9T8=\"},\"sizemode\":\"area\",\"sizeref\":0.0425},\"mode\":\"markers+text\",\"name\":\"True\",\"showlegend\":true,\"subplot\":\"mapbox\",\"text\":[\"Olive St\"],\"type\":\"scattermapbox\"},{\"hovertemplate\":\"is_exceedence=False\\u003cbr\\u003eMonth=2024-09\\u003cbr\\u003escale=%{marker.size}\\u003cbr\\u003eSite ID=%{text}\\u003cbr\\u003eLatitude=%{lat}\\u003cbr\\u003eLongitude=%{lon}\\u003cextra\\u003e\\u003c\\u002fextra\\u003e\",\"lat\":{\"dtype\":\"f8\",\"bdata\":\"PujZrPpcSEApyxDHumBIQI51cRsNYEhAV1uxv+xeSEDJdr6fGl9IQCegibDhYUhAPSzUmuZdSEDA7J48LFxIQCh+jLlrYUhA48eYu5ZgSEDjx5i7lmBIQA==\"},\"legendgroup\":\"False\",\"lon\":{\"dtype\":\"f8\",\"bdata\":\"Dk+vlGWgXsCI9NvXgZ9ewN6Th4Van17ArK3YX3afXsAdOGdEaZ9ewCKOdXEboV7AhxbZzvefXsD\\u002fIf32daBewAaBlUOLoF7ACYofY+6eXsAJih9j7p5ewA==\"},\"marker\":{\"color\":\"green\",\"size\":{\"dtype\":\"f8\",\"bdata\":\"AAAAAADA8z+amZmZmWnwP2ZmZmZm1vA\\u002fmpmZmZlp8D8AAAAAAADwPwAAAAAAgPI\\u002fMzMzMzNT8z8AAAAAAIDyP5qZmZmZqfE\\u002fAAAAAACA8j8AAAAAAIDyPw==\"},\"sizemode\":\"area\",\"sizeref\":0.0425},\"mode\":\"markers+text\",\"name\":\"False\",\"showlegend\":true,\"subplot\":\"mapbox\",\"text\":[\"Bennett Ave\",\"Broadway St\",\"C St\",\"Cedar St\",\"Cornwall St\",\"Little Squalicum Creek\",\"Olive St\",\"Padden Creek\",\"Squalicum Creek\",\"Whatcom Creek\",\"Whatcom Creek\"],\"type\":\"scattermapbox\"}],\"name\":\"2024-09\"},{\"data\":[{\"hovertemplate\":\"is_exceedence=True\\u003cbr\\u003eMonth=2024-10\\u003cbr\\u003escale=%{marker.size}\\u003cbr\\u003eSite ID=%{text}\\u003cbr\\u003eLatitude=%{lat}\\u003cbr\\u003eLongitude=%{lon}\\u003cextra\\u003e\\u003c\\u002fextra\\u003e\",\"lat\":{\"dtype\":\"f8\",\"bdata\":\"PujZrPpcSEA9LNSa5l1IQA==\"},\"legendgroup\":\"True\",\"lon\":{\"dtype\":\"f8\",\"bdata\":\"Dk+vlGWgXsCHFtnO959ewA==\"},\"marker\":{\"color\":\"red\",\"size\":{\"dtype\":\"f8\",\"bdata\":\"ZmZmZmaW9D8zMzMzM9P1Pw==\"},\"sizemode\":\"area\",\"sizeref\":0.0425},\"mode\":\"markers+text\",\"name\":\"True\",\"showlegend\":true,\"subplot\":\"mapbox\",\"text\":[\"Bennett Ave\",\"Olive St\"],\"type\":\"scattermapbox\"},{\"hovertemplate\":\"is_exceedence=False\\u003cbr\\u003eMonth=2024-10\\u003cbr\\u003escale=%{marker.size}\\u003cbr\\u003eSite ID=%{text}\\u003cbr\\u003eLatitude=%{lat}\\u003cbr\\u003eLongitude=%{lon}\\u003cextra\\u003e\\u003c\\u002fextra\\u003e\",\"lat\":{\"dtype\":\"f8\",\"bdata\":\"PujZrPpcSEApyxDHumBIQI51cRsNYEhAjnVxGw1gSEBXW7G\\u002f7F5IQFdbsb\\u002fsXkhAyXa+nxpfSEAnoImw4WFIQMDsnjwsXEhAKH6MuWthSEDjx5i7lmBIQOPHmLuWYEhA\"},\"legendgroup\":\"False\",\"lon\":{\"dtype\":\"f8\",\"bdata\":\"Dk+vlGWgXsCI9NvXgZ9ewN6Th4Van17A3pOHhVqfXsCsrdhfdp9ewKyt2F92n17AHThnRGmfXsAijnVxG6FewP8h\\u002ffZ1oF7ABoGVQ4ugXsAJih9j7p5ewAmKH2Punl7A\"},\"marker\":{\"color\":\"green\",\"size\":{\"dtype\":\"f8\",\"bdata\":\"ZmZmZmbW8D+amZmZmWnwPwAAAAAAQPE\\u002fZmZmZmbW8D9mZmZmZtbwPwAAAAAAAPA\\u002fAAAAAAAA8D+amZmZmWnwPwAAAAAAQPE\\u002fAAAAAAAA8D8AAAAAAADwPwAAAAAAAPA\\u002f\"},\"sizemode\":\"area\",\"sizeref\":0.0425},\"mode\":\"markers+text\",\"name\":\"False\",\"showlegend\":true,\"subplot\":\"mapbox\",\"text\":[\"Bennett Ave\",\"Broadway St\",\"C St\",\"C St\",\"Cedar St\",\"Cedar St\",\"Cornwall St\",\"Little Squalicum Creek\",\"Padden Creek\",\"Squalicum Creek\",\"Whatcom Creek\",\"Whatcom Creek\"],\"type\":\"scattermapbox\"}],\"name\":\"2024-10\"},{\"data\":[{\"hovertemplate\":\"is_exceedence=True\\u003cbr\\u003eMonth=2024-11\\u003cbr\\u003escale=%{marker.size}\\u003cbr\\u003eSite ID=%{text}\\u003cbr\\u003eLatitude=%{lat}\\u003cbr\\u003eLongitude=%{lon}\\u003cextra\\u003e\\u003c\\u002fextra\\u003e\",\"lat\":{\"dtype\":\"f8\",\"bdata\":\"PujZrPpcSEA+6Nms+lxIQA==\"},\"legendgroup\":\"True\",\"lon\":{\"dtype\":\"f8\",\"bdata\":\"Dk+vlGWgXsAOT6+UZaBewA==\"},\"marker\":{\"color\":\"red\",\"size\":{\"dtype\":\"f8\",\"bdata\":\"zczMzMx89z8zMzMzM9P1Pw==\"},\"sizemode\":\"area\",\"sizeref\":0.0425},\"mode\":\"markers+text\",\"name\":\"True\",\"showlegend\":true,\"subplot\":\"mapbox\",\"text\":[\"Bennett Ave\",\"Bennett Ave\"],\"type\":\"scattermapbox\"},{\"hovertemplate\":\"is_exceedence=False\\u003cbr\\u003eMonth=2024-11\\u003cbr\\u003escale=%{marker.size}\\u003cbr\\u003eSite ID=%{text}\\u003cbr\\u003eLatitude=%{lat}\\u003cbr\\u003eLongitude=%{lon}\\u003cextra\\u003e\\u003c\\u002fextra\\u003e\",\"lat\":{\"dtype\":\"f8\",\"bdata\":\"KcsQx7pgSECOdXEbDWBIQFdbsb\\u002fsXkhAyXa+nxpfSEAnoImw4WFIQD0s1JrmXUhAwOyePCxcSEAofoy5a2FIQOPHmLuWYEhA\"},\"legendgroup\":\"False\",\"lon\":{\"dtype\":\"f8\",\"bdata\":\"iPTb14GfXsDek4eFWp9ewKyt2F92n17AHThnRGmfXsAijnVxG6FewIcW2c73n17A\\u002fyH99nWgXsAGgZVDi6BewAmKH2Punl7A\"},\"marker\":{\"color\":\"green\",\"size\":{\"dtype\":\"f8\",\"bdata\":\"ZmZmZmbW8D9mZmZmZtbwPwAAAAAAgPI\\u002fAAAAAAAA8D8AAAAAAEDxPwAAAAAAAPA\\u002fAAAAAABA8T+amZmZmWnwPwAAAAAAAPA\\u002f\"},\"sizemode\":\"area\",\"sizeref\":0.0425},\"mode\":\"markers+text\",\"name\":\"False\",\"showlegend\":true,\"subplot\":\"mapbox\",\"text\":[\"Broadway St\",\"C St\",\"Cedar St\",\"Cornwall St\",\"Little Squalicum Creek\",\"Olive St\",\"Padden Creek\",\"Squalicum Creek\",\"Whatcom Creek\"],\"type\":\"scattermapbox\"}],\"name\":\"2024-11\"},{\"data\":[{\"hovertemplate\":\"is_exceedence=True\\u003cbr\\u003eMonth=2024-12\\u003cbr\\u003escale=%{marker.size}\\u003cbr\\u003eSite ID=%{text}\\u003cbr\\u003eLatitude=%{lat}\\u003cbr\\u003eLongitude=%{lon}\\u003cextra\\u003e\\u003c\\u002fextra\\u003e\",\"lat\":{\"dtype\":\"f8\",\"bdata\":\"PujZrPpcSECOdXEbDWBIQD0s1JrmXUhA\"},\"legendgroup\":\"True\",\"lon\":{\"dtype\":\"f8\",\"bdata\":\"Dk+vlGWgXsDek4eFWp9ewIcW2c73n17A\"},\"marker\":{\"color\":\"red\",\"size\":{\"dtype\":\"f8\",\"bdata\":\"ZmZmZmaWFUAAAAAAAED2P+F6FK5HafU\\u002f\"},\"sizemode\":\"area\",\"sizeref\":0.0425},\"mode\":\"markers+text\",\"name\":\"True\",\"showlegend\":true,\"subplot\":\"mapbox\",\"text\":[\"Bennett Ave\",\"C St\",\"Olive St\"],\"type\":\"scattermapbox\"},{\"hovertemplate\":\"is_exceedence=False\\u003cbr\\u003eMonth=2024-12\\u003cbr\\u003escale=%{marker.size}\\u003cbr\\u003eSite ID=%{text}\\u003cbr\\u003eLatitude=%{lat}\\u003cbr\\u003eLongitude=%{lon}\\u003cextra\\u003e\\u003c\\u002fextra\\u003e\",\"lat\":{\"dtype\":\"f8\",\"bdata\":\"KcsQx7pgSEBXW7G\\u002f7F5IQMl2vp8aX0hAyXa+nxpfSEAnoImw4WFIQMDsnjwsXEhAKH6MuWthSEDjx5i7lmBIQA==\"},\"legendgroup\":\"False\",\"lon\":{\"dtype\":\"f8\",\"bdata\":\"iPTb14GfXsCsrdhfdp9ewB04Z0Rpn17AHThnRGmfXsAijnVxG6FewP8h\\u002ffZ1oF7ABoGVQ4ugXsAJih9j7p5ewA==\"},\"marker\":{\"color\":\"green\",\"size\":{\"dtype\":\"f8\",\"bdata\":\"AAAAAAAA8D+F61G4HtXwPwAAAAAAAPA\\u002fAAAAAAAA8D8AAAAAAADwP2ZmZmZm1vA\\u002fAAAAAAAA8D8AAAAAAADwPw==\"},\"sizemode\":\"area\",\"sizeref\":0.0425},\"mode\":\"markers+text\",\"name\":\"False\",\"showlegend\":true,\"subplot\":\"mapbox\",\"text\":[\"Broadway St\",\"Cedar St\",\"Cornwall St\",\"Cornwall St\",\"Little Squalicum Creek\",\"Padden Creek\",\"Squalicum Creek\",\"Whatcom Creek\"],\"type\":\"scattermapbox\"}],\"name\":\"2024-12\"},{\"data\":[{\"hovertemplate\":\"is_exceedence=True\\u003cbr\\u003eMonth=2023-09\\u003cbr\\u003escale=%{marker.size}\\u003cbr\\u003eSite ID=%{text}\\u003cbr\\u003eLatitude=%{lat}\\u003cbr\\u003eLongitude=%{lon}\\u003cextra\\u003e\\u003c\\u002fextra\\u003e\",\"lat\":{\"dtype\":\"f8\",\"bdata\":\"jnVxGw1gSECOdXEbDWBIQCegibDhYUhA\"},\"legendgroup\":\"True\",\"lon\":{\"dtype\":\"f8\",\"bdata\":\"3pOHhVqfXsDek4eFWp9ewCKOdXEboV7A\"},\"marker\":{\"color\":\"red\",\"size\":{\"dtype\":\"f8\",\"bdata\":\"AAAAAAAQ9T8AAAAAAMD1P5qZmZmZnyFA\"},\"sizemode\":\"area\",\"sizeref\":0.0425},\"mode\":\"markers+text\",\"name\":\"True\",\"showlegend\":true,\"subplot\":\"mapbox\",\"text\":[\"C St\",\"C St\",\"Little Squalicum Creek\"],\"type\":\"scattermapbox\"},{\"hovertemplate\":\"is_exceedence=False\\u003cbr\\u003eMonth=2023-09\\u003cbr\\u003escale=%{marker.size}\\u003cbr\\u003eSite ID=%{text}\\u003cbr\\u003eLatitude=%{lat}\\u003cbr\\u003eLongitude=%{lon}\\u003cextra\\u003e\\u003c\\u002fextra\\u003e\",\"lat\":{\"dtype\":\"f8\",\"bdata\":\"KcsQx7pgSEAofoy5a2FIQOPHmLuWYEhA\"},\"legendgroup\":\"False\",\"lon\":{\"dtype\":\"f8\",\"bdata\":\"iPTb14GfXsAGgZVDi6BewAmKH2Punl7A\"},\"marker\":{\"color\":\"green\",\"size\":{\"dtype\":\"f8\",\"bdata\":\"AAAAAABg8T8AAAAAAKDyPwAAAAAA4PM\\u002f\"},\"sizemode\":\"area\",\"sizeref\":0.0425},\"mode\":\"markers+text\",\"name\":\"False\",\"showlegend\":true,\"subplot\":\"mapbox\",\"text\":[\"Broadway St\",\"Squalicum Creek\",\"Whatcom Creek\"],\"type\":\"scattermapbox\"}],\"name\":\"2023-09\"}]);\n",
       "                        }).then(function(){\n",
       "                            \n",
       "var gd = document.getElementById('c17ac8ba-eadd-45ee-82f7-e542cfa52650');\n",
       "var x = new MutationObserver(function (mutations, observer) {{\n",
       "        var display = window.getComputedStyle(gd).display;\n",
       "        if (!display || display === 'none') {{\n",
       "            console.log([gd, 'removed!']);\n",
       "            Plotly.purge(gd);\n",
       "            observer.disconnect();\n",
       "        }}\n",
       "}});\n",
       "\n",
       "// Listen for the removal of the full notebook cells\n",
       "var notebookContainer = gd.closest('#notebook-container');\n",
       "if (notebookContainer) {{\n",
       "    x.observe(notebookContainer, {childList: true});\n",
       "}}\n",
       "\n",
       "// Listen for the clearing of the current output cell\n",
       "var outputEl = gd.closest('.output');\n",
       "if (outputEl) {{\n",
       "    x.observe(outputEl, {childList: true});\n",
       "}}\n",
       "\n",
       "                        })                };            </script>        </div>"
      ]
     },
     "metadata": {},
     "output_type": "display_data"
    }
   ],
   "source": [
    "import plotly.express as px\n",
    "import pandas as pd\n",
    "\n",
    "#df = data_demo\n",
    "\n",
    "df = ecoli_data_clean\n",
    "\n",
    "# Filter to only show data from '2024-06-01'\n",
    "#df = df[df['Month'] == '2024-06-01']\n",
    "\n",
    "# first, calculate a ratio between max and min and divide it to have 16 steps\n",
    "\n",
    "data_diffq = (df[\"E-Coli\"].max() - df[\"E-Coli\"].min()) / 16\n",
    "\n",
    "df[\"scale\"] = (df[\"E-Coli\"] - df[\"E-Coli\"].min()) / data_diffq + 1\n",
    "\n",
    "# Create a Mapbox scatter plot with bacteria data\n",
    "fig = px.scatter_mapbox(\n",
    "    df,\n",
    "    lat=\"Latitude\",\n",
    "    lon=\"Longitude\",\n",
    "    text=\"Site ID\",\n",
    "    size=\"E-Coli\",\n",
    "    #size=\"scale\",\n",
    "    color=\"is_exceedence\",\n",
    "    title=\"Stormwater Bacteria Levels at Outfalls and Creeks in Bellingham\",\n",
    "    color_discrete_sequence=[\"red\", \"green\"],\n",
    "    mapbox_style=\"open-street-map\",\n",
    "    zoom=12,\n",
    "    center={\"lat\": 48.75, \"lon\": -122.47},\n",
    "    color_discrete_map={\"True\": \"red\", \"False\": \"green\"},  # Define custom colors\n",
    "    #animation_frame=\"Month\"  # Enable animation based on sample date\n",
    "    animation_frame=df['Month'].dt.strftime('%Y-%m')  # Format the date for animation\n",
    ")\n",
    "\n",
    "# increase the height of the figure\n",
    "fig.update_layout(height=800, width=900)\n",
    "\n",
    "fig.update_layout(mapbox_style=\"carto-positron\")\n",
    "\n",
    "# Show the figure\n",
    "fig.show()\n",
    "\n",
    "\n"
   ]
  },
  {
   "cell_type": "code",
   "execution_count": null,
   "id": "896ed83a",
   "metadata": {},
   "outputs": [],
   "source": []
  }
 ],
 "metadata": {
  "kernelspec": {
   "display_name": "Python 3 (ipykernel)",
   "language": "python",
   "name": "python3"
  },
  "language_info": {
   "codemirror_mode": {
    "name": "ipython",
    "version": 3
   },
   "file_extension": ".py",
   "mimetype": "text/x-python",
   "name": "python",
   "nbconvert_exporter": "python",
   "pygments_lexer": "ipython3",
   "version": "3.13.2"
  }
 },
 "nbformat": 4,
 "nbformat_minor": 5
}
