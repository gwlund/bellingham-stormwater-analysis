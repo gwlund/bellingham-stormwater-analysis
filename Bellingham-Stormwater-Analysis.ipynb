{
 "cells": [
  {
   "cell_type": "markdown",
   "id": "d35e6a9f-a291-4224-9688-447615600b70",
   "metadata": {},
   "source": [
    "# Bellingham Stormwater Monitoring Analysis"
   ]
  },
  {
   "cell_type": "code",
   "execution_count": 359,
   "id": "2efaacb7-e7f5-416b-aba4-21472e9e4c4e",
   "metadata": {},
   "outputs": [],
   "source": [
    "import pandas as pd\n",
    "import numpy as np\n",
    "import matplotlib.pyplot as plt"
   ]
  },
  {
   "cell_type": "code",
   "execution_count": null,
   "id": "7c8ad8ce-233c-4526-80cc-e025ec0ae17d",
   "metadata": {},
   "outputs": [],
   "source": [
    "from IPython.display import display, HTML\n",
    "\n",
    "# Define the CSS to set the height of the output container\n",
    "css_style = \"\"\"\n",
    "<style>\n",
    "    div.output_area {\n",
    "        height: 800px; /* Adjust this value based on your needs */\n",
    "        overflow-y: auto; /* Vertical scroll */\n",
    "        overflow-x: auto; /* Horizontal scroll */\n",
    "    }\n",
    "</style>\n",
    "\"\"\"\n",
    "# Apply the CSS style to the notebook\n",
    "display(HTML(css_style))\n",
    "\n",
    "pd.set_option('display.max_rows', 1000) \n",
    "pd.set_option('display.max_columns', 1000) "
   ]
  },
  {
   "cell_type": "markdown",
   "id": "db7fe5d7-3847-4156-9d9f-2003faa72280",
   "metadata": {},
   "source": [
    "## TODO\n",
    "1. Review the other site data as well as Bellingham\n",
    "2. Determine treatment of duplicates\n",
    "3. Add F chart to show variability.  Review F-Chart calcs from stats book.  Not std\n",
    "4. Try altair plots (DONE)\n",
    "5. Research how e.coli data is collected\n",
    "6. What is variability with time and incubation?\n",
    "7. Verify that all these tests were taken with similar methods (R-Card, lab, ...).  Comments refer to counts on some measurements which allude to R-Card\n",
    "8. Convert to plots using Tidy dataset frame and not stack (plotly, or Altair) (DONE)\n",
    "9. Add column called is_exceedence and calculate counts (see below)\n"
   ]
  },
  {
   "cell_type": "markdown",
   "id": "70262b0e-7722-4cc6-8405-5c8ab594e330",
   "metadata": {},
   "source": [
    "\n",
    "![Bacteria](e.coli-sampling-protocol.png) "
   ]
  },
  {
   "cell_type": "code",
   "execution_count": 361,
   "id": "d3ab0f05-6247-4f52-bd14-998e42696618",
   "metadata": {},
   "outputs": [],
   "source": [
    "#Original dataset provided by Kirsten McDade on May 28th 2024\n",
    "dataset1 = 'Salish Sea Stormwater Monitoring Database-20240528.csv'\n",
    "\n",
    "#Updated dataset provided by Kirsten McDade on Oct 8th 2024\n",
    "dataset2 = 'Bellingham SW Data_ALL_20241008.csv'\n",
    "\n",
    "data = pd.read_csv(dataset2)"
   ]
  },
  {
   "cell_type": "markdown",
   "id": "6a2c7660-d0fc-44fb-9391-5a99ce929ffb",
   "metadata": {},
   "source": [
    "## Clean raw data"
   ]
  },
  {
   "cell_type": "markdown",
   "id": "1eced75c",
   "metadata": {},
   "source": [
    "### Clean Dataset1 specific"
   ]
  },
  {
   "cell_type": "markdown",
   "id": "df07599c-304a-4410-8578-4ebc9518cde8",
   "metadata": {},
   "source": [
    "# Remove 'Unnamed' columns\n",
    "data = data.loc[:, ~data.columns.str.contains('^Unnamed')].dropna(how='all')\n",
    "\n",
    "# Remove rows with Nan in 'Sample Date' column\n",
    "data = data.dropna(subset=['Sample Date'])\n",
    "data = data.rename(columns={'E. Coli': 'E-Coli'}) #This column name causes data plotting weirdness\n",
    "\n",
    "data.head()"
   ]
  },
  {
   "cell_type": "markdown",
   "id": "096aae39",
   "metadata": {},
   "source": [
    "## Clean Dataset2 Specific"
   ]
  },
  {
   "cell_type": "code",
   "execution_count": null,
   "id": "b2e83720",
   "metadata": {},
   "outputs": [],
   "source": [
    "data = data.rename(columns={'Survey::Survey_Date': 'Sample Date'})\n",
    "data = data.rename(columns={'Survey::City': 'City'})\n",
    "data = data.rename(columns={'Outfall_ID': 'Site ID'})\n",
    "data = data.rename(columns={'E. coli at 100ml': 'E-Coli'})\n",
    "data = data.rename(columns={'Enterococcus at 100ml': 'Enterococcus'})\n",
    "\n",
    "# Convert Sample Date to datetime\n",
    "data['Sample Date'] = pd.to_datetime(data['Sample Date'])\n",
    "#data['Sample Date'] = pd.to_datetime(data['Sample Date'], errors='coerce', format='%m-%d-%y')\n",
    "\n",
    "data.dtypes\n",
    "data.describe()\n",
    "\n",
    "#data"
   ]
  },
  {
   "cell_type": "code",
   "execution_count": 363,
   "id": "ced47e32-5dc8-46ef-84ba-98044e1d52aa",
   "metadata": {},
   "outputs": [],
   "source": [
    "# Identify duplicates\n",
    "duplicates = data[data.duplicated(keep=False)]\n",
    "\n",
    "data['is_duplicate'] = data.duplicated(subset=['Site ID', 'Sample Date'], keep=False)\n",
    "\n",
    "# Remove rows with Nan in 'Sample Date' column\n",
    "#data = data.dropna(subset=['Sample Date'])\n",
    "\n",
    "#data[data['is_duplicate'] == True].describe()\n",
    "#data[data['is_duplicate'] == True]"
   ]
  },
  {
   "cell_type": "code",
   "execution_count": 364,
   "id": "a09a1adb",
   "metadata": {},
   "outputs": [],
   "source": [
    "# Add a column called is_execeedence to identify if the E-Coli or Enterococcus values exceed the threshold\n",
    "bacteria_threshold = 310\n",
    "data['bacteria_threshold'] = bacteria_threshold\n",
    "\n",
    "data['is_exceedence'] = False\n",
    "data.loc[data['E-Coli'] > bacteria_threshold, 'is_exceedence'] = True\n",
    "data.loc[data['Enterococcus'] > bacteria_threshold, 'is_exceedence'] = True"
   ]
  },
  {
   "cell_type": "code",
   "execution_count": null,
   "id": "29e659d6-7ad3-4ccc-8859-e03b7628eb93",
   "metadata": {},
   "outputs": [],
   "source": [
    "data.columns"
   ]
  },
  {
   "cell_type": "code",
   "execution_count": 366,
   "id": "398ccda6-c3fb-4a95-b99e-df7a06e02f90",
   "metadata": {},
   "outputs": [],
   "source": [
    "\n",
    "#dataset1 specific\n",
    "#ecoli = data[['Sample Date', 'Site ID', 'E-Coli', 'Comments', 'is_duplicate', 'is_exceedence', 'bacteria_threshold']].copy()\n",
    "#dataset2 specific\n",
    "ecoli = data[['Sample Date', 'Site ID', 'E-Coli', 'is_duplicate', 'is_exceedence', 'bacteria_threshold']].copy()\n",
    "\n",
    "# Extract the month for aggregation in ecoli\n",
    "ecoli['Month'] = ecoli['Sample Date'].dt.to_period('M')  # Convert date to month period for grouping\n",
    "\n",
    "# Re-format the 'Month' column to a proper datetime format\n",
    "#ecoli['Month'] = pd.to_timestamp(ecoli['Month'])\n",
    "\n",
    "#dataset 1 specific\n",
    "#enterococcus = data[['Sample Date', 'Site ID', 'Enterococcus', 'Comments', 'is_duplicate', 'is_exceedence', 'bacteria_threshold']].copy()\n",
    "#dataset2 specific\n",
    "enterococcus = data[['Sample Date', 'Site ID', 'Enterococcus', 'is_duplicate', 'is_exceedence', 'bacteria_threshold']].copy()\n",
    "\n",
    "\n",
    "# Extract the month for aggregation in ecoli\n",
    "enterococcus['Month'] = enterococcus['Sample Date'].dt.to_period('M')  # Convert date to month period for grouping\n",
    "\n",
    "# Sort data by date\n",
    "ecoli = ecoli.sort_values('Sample Date')\n",
    "enterococcus = enterococcus.sort_values('Sample Date')\n",
    "\n",
    "#ecoli.dtypes\n",
    "#ecoli"
   ]
  },
  {
   "cell_type": "markdown",
   "id": "b053c894",
   "metadata": {},
   "source": []
  },
  {
   "cell_type": "markdown",
   "id": "35627f2c-8d80-454f-8f83-3961f75a34b4",
   "metadata": {},
   "source": [
    "Save Dataframe for use in GPT optimization"
   ]
  },
  {
   "cell_type": "code",
   "execution_count": 367,
   "id": "5d3c40d3-0aad-49d8-a0bf-28e97021be1a",
   "metadata": {},
   "outputs": [],
   "source": [
    "ecoli.to_csv(\"ecoli.csv\")"
   ]
  },
  {
   "cell_type": "code",
   "execution_count": 368,
   "id": "21dcad2e-202c-4e85-8f08-1ffc8c01b7a4",
   "metadata": {},
   "outputs": [],
   "source": [
    "ecoli.site_id = 'Bennett Ave'"
   ]
  },
  {
   "cell_type": "markdown",
   "id": "7fd5550f",
   "metadata": {},
   "source": [
    "## Clean Data"
   ]
  },
  {
   "cell_type": "code",
   "execution_count": 369,
   "id": "1bbc9d61-b8cc-4e64-832d-c4f44d3c3a0c",
   "metadata": {},
   "outputs": [],
   "source": [
    "\n",
    "ecoli_data_clean = ecoli.dropna(subset=['E-Coli']).copy()\n",
    "\n",
    "# Re-format the 'Month' column to a proper datetime format and then to string\n",
    "ecoli_data_clean['Month'] = ecoli_data_clean['Month'].dt.to_timestamp()\n",
    "\n",
    "#ecoli_data_clean[ecoli_data_clean['Month'] == '2021-09-01']\n",
    "#ecoli_data_clean"
   ]
  },
  {
   "cell_type": "code",
   "execution_count": null,
   "id": "3422fa00",
   "metadata": {},
   "outputs": [],
   "source": [
    "import scipy.stats as stats\n",
    "from matplotlib.ticker import MultipleLocator\n",
    "\n",
    "#plot a box and whisker plot of the e-coli collumn of the ecoli_data_clean dataframe\n",
    "plt.figure(figsize=(10, 6))\n",
    "plt.boxplot(ecoli_data_clean['E-Coli'].dropna(), vert=True, patch_artist=True)\n",
    "plt.title('Box and Whisker Plot of E-Coli Levels')\n",
    "plt.xlabel('E-Coli')\n",
    "plt.ylabel('cfu/100ml')\n",
    "plt.grid(True)\n",
    "plt.show()\n",
    "\n",
    "# Plot a cumulative probability plot of the 'E-Coli' column\n",
    "plt.figure(figsize=(10, 6))\n",
    "stats.probplot(ecoli_data_clean['E-Coli'].dropna(), dist=\"norm\", plot=plt)\n",
    "plt.title('Cumulative Probability Plot of E-Coli Levels')\n",
    "plt.xlabel('Theoretical Quantiles')\n",
    "plt.ylabel('Ordered Values')\n",
    "plt.grid(True)\n",
    "plt.show()\n",
    "\n",
    "# Plot a cumulative probability plot of the filtered 'E-Coli' column\n",
    "plt.figure(figsize=(10, 6))\n",
    "stats.probplot(ecoli_data_clean['E-Coli'][ecoli_data_clean['E-Coli'] < 1000].dropna(), dist=\"norm\", plot=plt)\n",
    "plt.title('Cumulative Probability Plot of E-Coli Levels (Values > 1000)')\n",
    "plt.xlabel('Theoretical Quantiles')\n",
    "plt.ylabel('Ordered Values')\n",
    "plt.grid(True)\n",
    "plt.gca().yaxis.set_major_locator(MultipleLocator(500))  # Set y-axis grid interval to 100\n",
    "plt.show()"
   ]
  },
  {
   "cell_type": "markdown",
   "id": "32cc2888",
   "metadata": {},
   "source": [
    "## Filter and Aggregate Data\n",
    "Concerntrate on recent data > 2021\n",
    "\n",
    "Remove outliers which skew the baseline"
   ]
  },
  {
   "cell_type": "markdown",
   "id": "4d267aeb",
   "metadata": {},
   "source": [
    "Aggregate data for the same month using geometric mean"
   ]
  },
  {
   "cell_type": "code",
   "execution_count": null,
   "id": "f139e662",
   "metadata": {},
   "outputs": [],
   "source": [
    "from scipy.stats import gmean\n",
    "\n",
    "#Aggregate data for the same month using geometric mean\n",
    "# Group by 'Site ID' and 'Month' and calculate geometric mean\n",
    "grouped_data = ecoli_data_clean.groupby(['Site ID', 'Month']).agg({\n",
    "    'E-Coli': lambda x: gmean(x[x > 0]),  # Geometric mean, ignoring non-positive values\n",
    "}).reset_index()\n",
    "\n",
    "#grouped_data[grouped_data['Month'] == '2021-09-01']\n",
    "#grouped_data.duplicated(subset=['Site ID', 'Month'])"
   ]
  },
  {
   "cell_type": "markdown",
   "id": "ea740bd4",
   "metadata": {},
   "source": [
    "Determine the appropriate range for CFU/ml.  Counts above 250 are considered Too Numerous To Count (TNTC) because it is impossible to tell whether colonies are separated (https://wic.oregonstate.edu/microbiology-writing-guide-presenting-data)"
   ]
  },
  {
   "cell_type": "code",
   "execution_count": null,
   "id": "fc42c0ec",
   "metadata": {},
   "outputs": [],
   "source": [
    "start_date = pd.Timestamp('2021-01-01')\n",
    "#filtered_data = ecoli_data_clean[ecoli_data_clean['Month'] >= start_date]\n",
    "filtered_data = grouped_data\n",
    "\n",
    "#Filter for site id = Bennett Ave  \n",
    "#filtered_data = filtered_data[filtered_data['Site ID'] == 'Bennett Ave']\n",
    "\n",
    "#Filter e-coli values greater than 5000\n",
    "#filtered_data = filtered_data[filtered_data['E-Coli'] <= 5000]\n",
    "\n",
    "#show unique site ids\n",
    "site_ids = ecoli_data_clean['Site ID'].unique()\n",
    "site_ids\n"
   ]
  },
  {
   "cell_type": "markdown",
   "id": "d19133e7",
   "metadata": {},
   "source": [
    "What's up with G06-1001, G05-1002, and G11-1011 site ids?"
   ]
  },
  {
   "cell_type": "markdown",
   "id": "473e014a",
   "metadata": {},
   "source": [
    "## Visualize"
   ]
  },
  {
   "cell_type": "code",
   "execution_count": null,
   "id": "81d45f35-6a17-40a9-9cdd-d785d5ef1456",
   "metadata": {},
   "outputs": [],
   "source": [
    "# Create a selection for the dropdown\n",
    "#site_id_dropdown = alt.binding_select(options=filtered_data['Site ID'].unique(), name='Site ID')\n",
    "#site_id_select = alt.selection_point(fields=['Site ID'], bind=site_id_dropdown, value={'Site ID': filtered_data['Site ID'].unique()[0]})\n",
    "\n",
    "# Base chart\n",
    "chart = alt.Chart(filtered_data).mark_line(point=True).encode(\n",
    "    x='Month:T',\n",
    "    y=alt.Y('E-Coli:Q', scale=alt.Scale(domain=[0, 20000])),  # Set y-axis limit\n",
    "    color='Site ID:N',\n",
    "    tooltip=['Month:T', 'Site ID:N', 'E-Coli:Q']\n",
    ").properties(\n",
    "    title='E. Coli Measurements by Month for Each Site ID',\n",
    "    width=800,\n",
    "    height=400\n",
    "#).add_selection(\n",
    "#    site_id_select\n",
    "#).transform_filter(\n",
    "#    site_id_select\n",
    ").interactive()\n",
    "\n",
    "# Horizontal line at y=320\n",
    "horizontal_line = alt.Chart(pd.DataFrame({'y': [320]})).mark_rule(\n",
    "    color='red',\n",
    "    strokeDash=[5, 5]\n",
    ").encode(\n",
    "    y='y:Q'\n",
    ")\n",
    "\n",
    "line_chart = chart + horizontal_line\n",
    "\n",
    "# Histogram of E-Coli\n",
    "histogram = alt.Chart(filtered_data).mark_bar().encode(\n",
    "    x=alt.X('E-Coli:Q', bin=alt.Bin(step=50)),\n",
    "    y='count()',\n",
    "    color='Site ID:N'\n",
    ").properties(\n",
    "    title='Histogram of E. Coli Measurements',\n",
    "    width=800,\n",
    "    height=200\n",
    ")\n",
    "\n",
    "# Combine the line chart and histogram\n",
    "final_chart = alt.vconcat(line_chart, histogram)\n",
    "\n",
    "final_chart.show()\n",
    "\n"
   ]
  },
  {
   "cell_type": "code",
   "execution_count": null,
   "id": "ecff2e67",
   "metadata": {},
   "outputs": [],
   "source": [
    "# Ensure the data is specified at the top level\n",
    "data = filtered_data\n",
    "\n",
    "# Base chart\n",
    "base_chart = alt.Chart().mark_line(point=True).encode(\n",
    "    x='Month:T',\n",
    "    y=alt.Y('E-Coli:Q', scale=alt.Scale(domain=[0, 2000])),  # Set y-axis limit\n",
    "    color='Site ID:N',\n",
    "    tooltip=['Month:T', 'Site ID:N', 'E-Coli:Q']\n",
    ").properties(\n",
    "    width=400,\n",
    "    height=200\n",
    ")\n",
    "\n",
    "# Horizontal line at y=320\n",
    "horizontal_line = alt.Chart(pd.DataFrame({'y': [bacteria_threshold]})).mark_rule(\n",
    "    color='red',\n",
    "    strokeDash=[5, 5]\n",
    ").encode(\n",
    "    y='y:Q'\n",
    ")\n",
    "\n",
    "# Layer the base chart and the horizontal line\n",
    "layered_chart = alt.layer(base_chart, horizontal_line, data=data)\n",
    "\n",
    "# Apply faceting after layering\n",
    "faceted_chart = layered_chart.facet(\n",
    "    column='Site ID:N'\n",
    ").properties(\n",
    "    title='E. Coli Measurements by Month for Each Site ID'\n",
    ").interactive()\n",
    "\n",
    "faceted_chart.show()"
   ]
  },
  {
   "cell_type": "code",
   "execution_count": null,
   "id": "b732a996",
   "metadata": {},
   "outputs": [],
   "source": [
    "#Second Filter e-coli values greater than 1000\n",
    "filtered_data = filtered_data[filtered_data['E-Coli'] <= 1000]\n",
    "\n",
    "# Histogram of E-Coli with bin size 50, faceted by Site ID\n",
    "histogram = alt.Chart(filtered_data).mark_bar().encode(\n",
    "    x=alt.X('E-Coli:Q', bin=alt.Bin(step=50)),\n",
    "    y='count()',\n",
    "    color='Site ID:N'\n",
    ").properties(\n",
    "    title='E. Coli Histogram',\n",
    "    width=200,\n",
    "    height=200\n",
    ").facet(\n",
    "    column='Site ID:N'\n",
    ")\n",
    "\n",
    "histogram.show()"
   ]
  },
  {
   "cell_type": "markdown",
   "id": "d43fdc06",
   "metadata": {},
   "source": [
    "### Matplotlib Visulazation"
   ]
  },
  {
   "cell_type": "code",
   "execution_count": null,
   "id": "e6c8661c-591d-4744-a300-afdfabc20245",
   "metadata": {},
   "outputs": [],
   "source": [
    "import matplotlib.dates as mdates\n",
    "\n",
    "site_data = filtered_data[filtered_data['Site ID'] == 'Bennett Ave']\n",
    "\n",
    "# Calculate the moving average (window size of 5 for example)\n",
    "site_data['E-Coli Moving Average'] = site_data['E-Coli'].rolling(window=4).mean()\n",
    "\n",
    "fig, ax = plt.subplots(figsize=(16, 8))\n",
    "for site_id, group in site_data.groupby('Site ID'):\n",
    "    ax.plot(group['Month'], group['E-Coli'], marker='o', linestyle='-', label=f'Site {site_id}')\n",
    "    ax.plot(group['Month'], group['E-Coli Moving Average'], marker='', linestyle='-', linewidth=3, color='orange', label=f'Moving Average {site_id}')\n",
    "\n",
    "# Set the major locator and formatter for the x-axis to show every month\n",
    "ax.xaxis.set_major_locator(mdates.MonthLocator())\n",
    "ax.xaxis.set_major_formatter(mdates.DateFormatter('%b %Y'))\n",
    "\n",
    "# Add vertical grid lines for each month\n",
    "ax.grid(which='major', axis='x', linestyle='--', linewidth=0.5)\n",
    "\n",
    "ax.set_title('Raw E. coli Readings by Site Over Time - Bennett Ave')\n",
    "ax.set_xlabel('Month')\n",
    "ax.set_ylabel('E. Coli (cfu/100ml)')\n",
    "ax.axhline(y=bacteria_threshold, color='red', linewidth=2, linestyle='--', label='Threshold (310 cfu/100ml)')\n",
    "ax.legend(title='Site ID')\n",
    "plt.xticks(rotation=45)  # Rotate x-axis labels for better visibility\n",
    "plt.tight_layout()\n",
    "plt.show()\n",
    "\n",
    "#site_data"
   ]
  },
  {
   "cell_type": "markdown",
   "id": "12409363-89f8-49bc-ba41-136231417d98",
   "metadata": {},
   "source": [
    "Bennett Ave Data has mnay outliers "
   ]
  },
  {
   "cell_type": "code",
   "execution_count": null,
   "id": "37ca19c0-9082-4a87-8c40-bc5dfa65aebe",
   "metadata": {},
   "outputs": [],
   "source": [
    "# Create a figure with two subplots (ax for raw readings and ax2 for variability F-chart)\n",
    "fig, (ax, ax2) = plt.subplots(nrows=2, ncols=1, figsize=(16, 16), sharex=True)\n",
    "\n",
    "# Plotting E. Coli readings by Site\n",
    "for site_id, group in ecoli.groupby('Site ID'):\n",
    "    ax.plot(group['Sample Date'], group['E-Coli'], marker='o', linestyle='-', label=f'Site {site_id}')\n",
    "\n",
    "ax.set_title('Raw E. coli Readings by Site Over Time')\n",
    "ax.set_ylabel('E. Coli (cfu/100ml)')\n",
    "ax.axhline(y=310, color='red', linestyle='--', label='Threshold (310 cfu/100ml)')\n",
    "ax.legend(title='Site ID')\n",
    "plt.xticks(rotation=45)  # Rotate x-axis labels for better visibility\n",
    "\n",
    "# Plotting F-chart of variability (Standard Deviation over time)\n",
    "# Calculating standard deviation for each date\n",
    "std_dev_by_date = ecoli.groupby('Sample Date')['E-Coli'].std()\n",
    "ax2.plot(std_dev_by_date.index, std_dev_by_date, marker='o', linestyle='-', color='green')\n",
    "\n",
    "# Plotting F-chart of variability (Standard Deviation over time) by Site ID\n",
    "\n",
    "#for site_id, group in ecoli.groupby('Site ID'):\n",
    "#    std_dev = group.groupby('Sample Date')['E. Coli'].std()\n",
    "#    ax2.plot(std_dev.index, std_dev, marker='o', linestyle='-', label=f'Site {site_id}')\n",
    "\n",
    "ax2.set_title('Standard Deviation of E. Coli Readings by Site Over Time')\n",
    "ax2.set_xlabel('Sample Date')\n",
    "ax2.set_ylabel('Standard Deviation (cfu/100ml)')\n",
    "ax2.legend(title='Site ID')\n",
    "\n",
    "plt.tight_layout()\n",
    "plt.show()"
   ]
  },
  {
   "cell_type": "code",
   "execution_count": null,
   "id": "0bc55e4d-7a92-41db-b781-379aedcb29c6",
   "metadata": {},
   "outputs": [],
   "source": [
    "ecoli[ecoli['Site ID'] == 'Bennett Ave']"
   ]
  },
  {
   "cell_type": "code",
   "execution_count": 379,
   "id": "2243ea39-740d-496c-acb3-a3238bcf5efd",
   "metadata": {},
   "outputs": [],
   "source": [
    "# Aggregate data for plotting\n",
    "ecoli_aggregated_mean = ecoli.groupby(['Month', 'Site ID'])['E-Coli'].mean().unstack()\n",
    "ecoli_aggregated_std = ecoli.groupby(['Month', 'Site ID'])['E-Coli'].std().unstack()\n",
    "enterococcus_aggregated = enterococcus.groupby(['Month', 'Site ID'])['Enterococcus'].mean().unstack()"
   ]
  },
  {
   "cell_type": "code",
   "execution_count": null,
   "id": "d9faa762-146f-491b-9cb4-0713cad8446a",
   "metadata": {},
   "outputs": [],
   "source": [
    "ecoli_aggregated_mean\n",
    "#ecoli_aggregated[ecoli_aggregated['Site ID'] == 'Bennett Ave']"
   ]
  },
  {
   "cell_type": "code",
   "execution_count": 381,
   "id": "3efb6d45-5ac6-4d6e-867c-38d39ea49952",
   "metadata": {},
   "outputs": [],
   "source": [
    "ecoli_threshold = 310\n",
    "enterococcus_threshold = 500"
   ]
  },
  {
   "cell_type": "code",
   "execution_count": null,
   "id": "c693d489-ccb4-4120-83f0-a55b2dcee23f",
   "metadata": {},
   "outputs": [],
   "source": [
    "fig, ax = plt.subplots(2, 1, figsize=(16, 12), sharex=True)\n",
    "ecoli_aggregated_mean.clip(upper=5000).plot(ax=ax[0], marker='o', linestyle='-', title='E. Coli Readings by Site Over Time with Clamped Values')\n",
    "ax[0].set_ylabel('E. Coli (cfu/100ml)')\n",
    "ax[0].axhline(y=ecoli_threshold, color='red', linestyle='--', label='E. Coli Threshold (cfu/100ml)')\n",
    "ecoli_aggregated_std.plot(ax=ax[1], marker='o', linestyle='-', title='Std Dev of E. Coli Readings')"
   ]
  },
  {
   "cell_type": "code",
   "execution_count": null,
   "id": "61b60216-ea7f-442c-98e8-60ad61c93c2f",
   "metadata": {},
   "outputs": [],
   "source": [
    "# Plotting the control charts\n",
    "fig, ax = plt.subplots(2, 1, figsize=(16, 12), sharex=True)\n",
    "ecoli_aggregated_mean.clip(upper=5000).plot(ax=ax[0], marker='o', linestyle='-', title='E. Coli Readings by Site Over Time with Clamped Values')\n",
    "ax[0].set_ylabel('E. Coli (cfu/100ml)')\n",
    "ax[0].axhline(y=ecoli_threshold, color='red', linestyle='--', label='E. Coli Threshold (cfu/100ml)')\n",
    "enterococcus_aggregated.plot(ax=ax[1], marker='o', linestyle='-', title='Enterococcus Readings by Site Over Time')\n",
    "ax[1].set_ylabel('Enterococcus (cfu/100ml)')\n",
    "ax[1].axhline(y=enterococcus_threshold, color='red', linestyle='--', label='Enterococcus Threshold (cfu/100ml)')\n",
    "plt.tight_layout()\n",
    "plt.show()"
   ]
  },
  {
   "cell_type": "code",
   "execution_count": null,
   "id": "e1cc6407-2b32-4d50-98f7-5b0c758e563e",
   "metadata": {},
   "outputs": [],
   "source": []
  },
  {
   "cell_type": "code",
   "execution_count": null,
   "id": "6a1d7536-8fc6-4f3e-ba08-b7a89f5da376",
   "metadata": {},
   "outputs": [],
   "source": [
    "ecoli_aggregated_mean = ecoli_aggregated_mean[ecoli_aggregated_mean.index >= '2023-01']\n",
    "enterococcus_aggregated_mean = enterococcus_aggregated[enterococcus_aggregated.index >= '2023-01']\n",
    "\n",
    "fig, ax = plt.subplots(2, 1, figsize=(16, 12), sharex=True)\n",
    "ecoli_aggregated_mean.clip(upper=5000).plot(ax=ax[0], marker='o', linestyle='-', title='E. Coli Readings by Site Over Time')\n",
    "ax[0].set_ylabel('E. Coli (cfu/100ml)')\n",
    "ax[0].axhline(y=ecoli_threshold, color='red', linestyle='--', label='E. Coli Threshold (cfu/100ml)')\n",
    "enterococcus_aggregated.plot(ax=ax[1], marker='o', linestyle='-', title='Enterococcus Readings by Site Over Time')\n",
    "ax[1].set_ylabel('Enterococcus (cfu/100ml)')\n",
    "ax[1].axhline(y=enterococcus_threshold, color='red', linestyle='--', label='Enterococcus Threshold (cfu/100ml)')\n",
    "\n",
    "plt.tight_layout()\n",
    "plt.show()"
   ]
  },
  {
   "cell_type": "code",
   "execution_count": null,
   "id": "96dacf1d-82b9-40ec-be7d-0e0004bfd82e",
   "metadata": {},
   "outputs": [],
   "source": []
  },
  {
   "cell_type": "code",
   "execution_count": null,
   "id": "a4f78aec-64b0-4ca8-8123-a849d028b572",
   "metadata": {},
   "outputs": [],
   "source": [
    "# Generate histograms\n",
    "fig, ax = plt.subplots(figsize=(12, 8))\n",
    "colors = plt.cm.viridis(np.linspace(0, 1, len(ecoli_aggregated_mean.columns)))\n",
    "\n",
    "for (site, values), color in zip(ecoli_aggregated_mean.items(), colors):\n",
    "    ax.hist(values.dropna(), bins=20, color=color, alpha=0.6, edgecolor='black', label=site)\n",
    "\n",
    "ax.axvline(x=ecoli_threshold, color='red', linestyle='--', label='Threshold (310 cfu/100ml)')\n",
    "ax.set_title('E. Coli Distribution Across Sites')\n",
    "ax.set_xlabel('E. Coli (cfu/100ml)')\n",
    "ax.set_ylabel('Frequency')\n",
    "ax.legend(title='Site ID')\n",
    "plt.show()"
   ]
  },
  {
   "cell_type": "code",
   "execution_count": null,
   "id": "affb6044-b044-4378-a956-151f61271684",
   "metadata": {},
   "outputs": [],
   "source": [
    "# Calculate exceedances for E. coli\n",
    "ecoli_exceedances = ecoli[ecoli['E-Coli'] > ecoli_threshold]\n",
    "ecoli_exceedances['Year'] = ecoli_exceedances['Sample Date'].dt.year\n",
    "exceedance_counts = ecoli_exceedances.groupby(['Year', 'Site ID']).size().reset_index(name='Exceedance Count')\n",
    "total_counts = ecoli.groupby([ecoli['Sample Date'].dt.year, 'Site ID']).size().reset_index(name='Total Readings')\n",
    "total_counts.rename(columns={'Sample Date': 'Year'}, inplace=True)\n",
    "exceedance_data = pd.merge(total_counts, exceedance_counts, on=['Year', 'Site ID'], how='left').fillna(0)\n",
    "exceedance_data['Exceedance Percentage'] = (exceedance_data['Exceedance Count'] / exceedance_data['Total Readings']) * 100\n",
    "\n",
    "print(exceedance_data)"
   ]
  },
  {
   "cell_type": "code",
   "execution_count": null,
   "id": "16f670d0-db9d-4677-9467-e1e1d25c45af",
   "metadata": {},
   "outputs": [],
   "source": []
  }
 ],
 "metadata": {
  "kernelspec": {
   "display_name": "Python 3 (ipykernel)",
   "language": "python",
   "name": "python3"
  },
  "language_info": {
   "codemirror_mode": {
    "name": "ipython",
    "version": 3
   },
   "file_extension": ".py",
   "mimetype": "text/x-python",
   "name": "python",
   "nbconvert_exporter": "python",
   "pygments_lexer": "ipython3",
   "version": "3.12.6"
  }
 },
 "nbformat": 4,
 "nbformat_minor": 5
}
